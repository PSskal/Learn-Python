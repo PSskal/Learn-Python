{
 "cells": [
  {
   "cell_type": "code",
   "execution_count": 1,
   "metadata": {},
   "outputs": [],
   "source": [
    "#Coloque aca el nombre completo de los integrantes:\n",
    "\n",
    "#1.-Richard Pascual Huallpa Yapo U20201C125\n",
    "#2.-Garcia Argumedo Wilmer Efrain U20201B406\n",
    "#3.-Jhean Brando Sánchez Del Aguila U20201B927"
   ]
  },
  {
   "cell_type": "markdown",
   "metadata": {},
   "source": [
    "## Objetivo\n",
    "Este proyecto tiene como objetivo que gane experiencia con los diccionarios, funciones, listas, cadenas y archivos. En particular, utiliza argumentos por defecto en las funciones."
   ]
  },
  {
   "cell_type": "markdown",
   "metadata": {},
   "source": [
    "## Descripción del proyecto\n",
    "Las manchas solares son tormentas que ocurren en la superficie del sol y son procesos cíclicos. Estas lanzan partículas cargadas que llegan a nuestro planeta y pueden alterar las redes eléctricas, los equipos de telecomunicaciones y causar desorientación en los satélites. Hay un número de agencias estatales que registran la actividad solar, por ejemplo la agencia atmosférica y maritima norteamericada (NOAA). \n",
    "\n",
    "Escribirá un código con el que manipulará los datos recolectados del sol.\n",
    "\n",
    "Revise al archivo MONTHLY.txt que contiene información sobre el número promedio de manchas solares observadas por mes en diferentes años. Por ningún motivo debe modificar el contenido el archivo.\n",
    "\n",
    "Debe escribir las siguientes dos funciones:\n",
    "\n",
    "**crea_diccionario(nombre_archivo)**. Esta función toma como argumento el nombre de un archivo y llena un diccionario creado inicialmente vacío, con elementos. Las llaves (keys) serán los años; los valores (value) serán listas con las manchas solares mes a mes en ese año.\n",
    "El diccionario formado será retornado por la función.\n",
    "\n",
    "**calcula_promedio(diccionario, año)**. Esta función recibe un diccionario como primer argumento y el valor de un año como segundo argumento, retornando el número promedio de manchas solares (entre todos los meses) en dicho año. \n",
    "\n",
    "**main()**. Esta función contendrá el programa principal encargado de llamar a las 2 funciones mencionadas líneas arriba."
   ]
  },
  {
   "cell_type": "markdown",
   "metadata": {},
   "source": [
    "## Solución\n",
    "Complete las funciones en las celdas especificadas. No resuelva las funciones en otras celdas ni genere una celda nueva para especificar parte de su programa. El programa de cada función deberá estar **documentado, osea con comentarios**, colocados con criterio.\n",
    "\n",
    "El programa de la función **crea_diccionario(nombre_archivo)** podrá realizarse utilizando cualquier técnica de las vistas en clase o de las que se encuentran en las carpetas blended (no utilice librerías ni herramientas distintas a las que se han visto en el curso). Tiene que ser óptimo y eficiente.\n",
    "\n",
    "El programa de la función **calcula_promedio(diccionario, año)** no deberá contener ninguna estructura repetitiva (for, while) ni selectiva (if, elif..else) y tampoco listas por comprehensión. Tiene que ser óptimo y eficiente."
   ]
  },
  {
   "cell_type": "code",
   "execution_count": 2,
   "metadata": {},
   "outputs": [],
   "source": [
    "def crea_diccionario(nombre_archivo):\n",
    "    data={}                                     # se crea un diccionario vacio\n",
    "    with open (nombre_archivo, mode ='r', encoding ='utf-8') as file_in: #abrimos el documento \"MONTHLY.txt\" en modo lectura\n",
    "    \n",
    "        for key, line in enumerate(file_in):    #hacer una iteracion dentro del file_in\n",
    "            if key >=3:                         #omitimos las 4 primeras lineas del archivo \"MONTHLY.txt\"\n",
    "                texto=file_in.readlines()       #el archivo file_in se lee linea por linea\n",
    "                for i in range(263):            #utulizamos un estrucctura repetitiva para indexar hasta el ultimo año \n",
    "                    #print(texto[i])\n",
    "                    data_line=texto[i].split()  #es un separador de cada linea en el archivo file_in en un data_line\n",
    "                    year= data_line[0]          #se le asigna el primer valor del data_line al year\n",
    "                    year=int(year)              #convierte el year en un entero\n",
    "                    dat_mes=data_line[1:]       #le le asigna los valores desde el indice 1 de una lista hasta el ultimo valor\n",
    "                    data[year]=dat_mes          #se le asigna los valores al diccionario mediante la llave data[year] y se le asigna un valor data_mes\n",
    "        #print(texto)\n",
    "        #print(data[2000])\n",
    "        #print(data)\n",
    "    return data                                 #se retorna el diccionario data\n",
    "\n"
   ]
  },
  {
   "cell_type": "code",
   "execution_count": 3,
   "metadata": {},
   "outputs": [],
   "source": [
    "def calcula_promedio(diccionario, año):\n",
    "    \n",
    "    a = diccionario[año]                       #agregamos a la variable a la el valor del diccionarion con la llave año\n",
    "    #for i in range(len(a)):\n",
    "    #    a[i] = float(a[i])\n",
    "    #print(type(a))\n",
    "\n",
    "    a = list(map(float, a))                   #se convierte una lista de cadenas a una lista de float\n",
    "    #print(a)\n",
    "\n",
    "    \n",
    "    #print(a)\n",
    "    promedio=sum(a)/len(a)                    #calculo de promedio para el cual se utiliza una funcion suma y se divide con la funcio len \n",
    "    float(promedio)                           #se convierte en float el promedio\n",
    "    #print(\"el promedio es: {:.2f}\".format(promedio))\n",
    "    return promedio                           #se retorna el promedio\n",
    "\n",
    "\n"
   ]
  },
  {
   "cell_type": "code",
   "execution_count": 4,
   "metadata": {},
   "outputs": [],
   "source": [
    "# NO MODIFIQUE ESTE CODIGO !!!\n",
    "def main():\n",
    "    \n",
    "    data = crea_diccionario(\"MONTHLY.txt\") \n",
    "    \n",
    "    while True:\n",
    "        try:\n",
    "            año_evaluar = int(input(\"Ingrese año a evaluar [1749,2011]: \"))\n",
    "            if 1749<=año_evaluar<=2011:\n",
    "                prom = calcula_promedio(data,año_evaluar)               \n",
    "                print(\"Valor promedio requerido: {:.3f}\".format(prom))\n",
    "                break\n",
    "            else:\n",
    "                print(\"El año debe estar en el intervalo [1749,2011]\")\n",
    "        except:\n",
    "            print(\"Valor incorrecto, debe ser entero\")"
   ]
  },
  {
   "cell_type": "code",
   "execution_count": 5,
   "metadata": {
    "scrolled": false
   },
   "outputs": [
    {
     "name": "stdout",
     "output_type": "stream",
     "text": [
      "Ingrese año a evaluar [1749,2011]: 2000\n",
      "Valor promedio requerido: 119.533\n"
     ]
    }
   ],
   "source": [
    "#invocación de la función main():\n",
    "main()\n"
   ]
  },
  {
   "cell_type": "code",
   "execution_count": null,
   "metadata": {},
   "outputs": [],
   "source": []
  },
  {
   "cell_type": "code",
   "execution_count": null,
   "metadata": {},
   "outputs": [],
   "source": []
  }
 ],
 "metadata": {
  "kernelspec": {
   "display_name": "Python 3 (ipykernel)",
   "language": "python",
   "name": "python3"
  },
  "language_info": {
   "codemirror_mode": {
    "name": "ipython",
    "version": 3
   },
   "file_extension": ".py",
   "mimetype": "text/x-python",
   "name": "python",
   "nbconvert_exporter": "python",
   "pygments_lexer": "ipython3",
   "version": "3.9.12"
  }
 },
 "nbformat": 4,
 "nbformat_minor": 4
}
