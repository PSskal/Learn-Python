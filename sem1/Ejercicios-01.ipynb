{
 "cells": [
  {
   "cell_type": "markdown",
   "metadata": {},
   "source": [
    "# Hoja de Ejercicios 1"
   ]
  },
  {
   "cell_type": "markdown",
   "metadata": {},
   "source": [
    "**Ejercicio 1**\n",
    "\n",
    "Si se pide un préstamo a una tasa *p* anual. El monto inicial *A* crece a un ritmo de\n",
    "\n",
    "$$A(1+\\frac{p}{100})^{n}$$\n",
    "\n",
    "luego de *n* años. \n",
    "\n",
    "Escriba un programa que calcule cuanto dinero se tendrá con un monto inicial, una tasa de interes anual y un periodo de tiempo dados. \n",
    "\n",
    "El resultado de su programa deberá respetar el formato del siguiente ejemplo:\n",
    "\n",
    "    Ingrese el monto inicial: 1000\n",
    "    Ingrese la tasa de interes (%): 5\n",
    "    Ingrese la duracion del prestamo (años): 3\n",
    "\n",
    "    Con un monto inicial de 1000 soles a una tasa anual de 1.3% durante 3 años, se tendra 1039.51 soles"
   ]
  },
  {
   "cell_type": "code",
   "execution_count": null,
   "metadata": {},
   "outputs": [],
   "source": [
    "# Se ingresa el monto inicial\n",
    "A = \n",
    "\n",
    "# Se ingresa la tasa de interes anual\n",
    "p = \n",
    "\n",
    "# Se ingresa la duracion del prestamo\n",
    "n = \n",
    "\n",
    "monto_final = "
   ]
  },
  {
   "cell_type": "markdown",
   "metadata": {},
   "source": [
    "**Ejercicio 2**\n",
    "\n",
    "Escriba un programa que pida al usuario un número binario de 4 bits y muestre su equivalente decimal. Cada bit debe ser ingresado linea por linea, empezando por el del extremo izquierdo.\n",
    "\n",
    "El resultado de su programa deberá respetar el formato del siguiente ejemplo:\n",
    "\n",
    "    Ingrese el bit b0: 1\n",
    "    Ingrese el bit b1: 0\n",
    "    Ingrese el bit b2: 0\n",
    "    Ingrese el bit b3: 1\n",
    "    El valor decimal es 9"
   ]
  },
  {
   "cell_type": "code",
   "execution_count": null,
   "metadata": {},
   "outputs": [],
   "source": [
    "# Escriba su programa aqui"
   ]
  },
  {
   "cell_type": "markdown",
   "metadata": {},
   "source": [
    "**Ejercicio 3**\n",
    "\n",
    "Se ha calculado que todos los años millones de usuarios suben 80PB (Petabytes, 10^15) de videos a YouTube. Las tasas de velocidad de Internet actualmente se miden en millones de bits por segundo (por ejemplo, 10Mbps). Recuerde que 1 Byte esta formado por 8 bits.\n",
    "\n",
    "Escriba un programa que pida la velocidad de conexion que posee y retorne la cantidad de tiempo que demoraría en descargar todos los videos de YouTube subidos en un año. ¿Que unidad de tiempo sera la mas adecuada? ¿Minutos? ¿Horas? ¿Dias? ¿Otros?"
   ]
  },
  {
   "cell_type": "code",
   "execution_count": null,
   "metadata": {},
   "outputs": [],
   "source": [
    "# Escriba su programa aqui"
   ]
  },
  {
   "cell_type": "markdown",
   "metadata": {},
   "source": [
    "**Ejercicio 4**\n",
    "\n",
    "Escriba un programa que pida sus datos personales (nombre y código) asi como las notas de sus 3 prácticas calificadas del curso que está llevando y luego de ello, calcule el promedio de las notas (pc1 + pc2 + pc3)/3\n",
    "\n",
    "El resultado de su programa deberá respetar el formato del siguiente ejemplo:\n",
    "\n",
    "    Ingrese su nombre: Armando Puertas\n",
    "    Ingrese su codigo: 201611132\n",
    " \n",
    "    Ingrese sus notas:\n",
    "       Practica 1: 12\n",
    "       Practica 2: 10\n",
    "       Practica 3: 13\n",
    "       \n",
    "    Alumno: Puerta, Juan (Codigo 201611132)\n",
    "    Promedio de practicas: 11.7"
   ]
  },
  {
   "cell_type": "code",
   "execution_count": null,
   "metadata": {},
   "outputs": [],
   "source": [
    "# Escriba su programa aqui\n"
   ]
  },
  {
   "cell_type": "markdown",
   "metadata": {},
   "source": [
    "**Ejercicio 5**\n",
    "\n",
    "Desarrolle y pruebe un programa que determine cuantas imagenes se pueden almacenar en una unidad USB. La capacidad de una unidad USB debe ser ingresada por el usuario en gigabytes (GB). El número de imagenes que pueden ser almacenadas debe ser calculado para formatos GIF, JPEG, PNG y TIFF. La salida del programa debe ser como se muestra en el siguiente ejemplo:\n",
    "\n",
    "    Ingrese la capacidad del USB (GB): 4\n",
    "    \n",
    "    Capacidad segun formato:\n",
    "    =======================\n",
    "    xxxxx imagenes en formato GIF\n",
    "    xxxxx imagenes en formato JPEG\n",
    "    xxxxx imagenes en formato PNG\n",
    "    xxxxx imagenes en formato TIFF\n",
    "    \n",
    "El tamaño final de una imagen dependerá no solo del formato de la imagen, sino también del tamaño de esta. Además, el formato JPEG, por ejemplo, permite escojer entre distintas tasas de compresión. Para este programa, se asumirá que la tasa de compresión de una imagen será segun la informacion indicada en la tabla. Así también asuma que todas las imágenes a almacenar tendrán una resolución de 800 x 600 pixeles.\n",
    "\n",
    "Asi, por ejemplo, una imagen de 800 x 600 de resolución con una profundidad de color de 16-bits (2 bytes), el numero total de bytes sera de 800 x 600 x 2 = 960,000. Para una tasa de compresión de 25:1, el numero total de bytes necesarios para almacenar una imagen sera de 960,000 / 25 = 38,400\n",
    "\n",
    "Finalmente, asuma que un GB (gigabyte) es igual a 1,000,000,000 byes.\n",
    "\n",
    "| Formato | Nombre Completo                  | Colores       | Profundidad | Compresion |\n",
    "|---------|----------------------------------|---------------|-------------|------------|\n",
    "| GIF     | Graphics Interchange Format      | 256           | 8 bits      | 5:1        |\n",
    "| JPEG    | Joint Photographic Experts Group | 16 millones   | 24 bits     | 25:1       |\n",
    "| PNG     | Portable Network Graphics        | 16 millones   | 24bits      | 8:1        |\n",
    "| TIFF    | Tagged Image File Format         | 280 trillones | 48 bits     | n/a        |"
   ]
  },
  {
   "cell_type": "code",
   "execution_count": null,
   "metadata": {},
   "outputs": [],
   "source": [
    "# Escriba su programa aqui\n"
   ]
  }
 ],
 "metadata": {
  "kernelspec": {
   "display_name": "Python 3 (ipykernel)",
   "language": "python",
   "name": "python3"
  },
  "language_info": {
   "codemirror_mode": {
    "name": "ipython",
    "version": 3
   },
   "file_extension": ".py",
   "mimetype": "text/x-python",
   "name": "python",
   "nbconvert_exporter": "python",
   "pygments_lexer": "ipython3",
   "version": "3.9.7"
  }
 },
 "nbformat": 4,
 "nbformat_minor": 2
}
