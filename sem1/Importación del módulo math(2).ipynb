{
 "cells": [
  {
   "cell_type": "markdown",
   "metadata": {},
   "source": [
    "# Importación del módulo math"
   ]
  },
  {
   "cell_type": "markdown",
   "metadata": {},
   "source": [
    "### Importante:  \n",
    "Conforme va revisando el material, vaya ejecutando cada celda de código para observar los resultados."
   ]
  },
  {
   "cell_type": "markdown",
   "metadata": {},
   "source": [
    "## Built-In Functions\n",
    "Pyhton tiene un conjunto de BIFs (Built-In Functions) que permiten operar sobre datos y retornar valores útiles.\n",
    "\n",
    "Los BIFs pueden ser consultados llamando al directorio del método privado \\_\\_builtins\\_\\_"
   ]
  },
  {
   "cell_type": "code",
   "execution_count": null,
   "metadata": {
    "scrolled": false
   },
   "outputs": [],
   "source": [
    "dir(__builtins__)"
   ]
  },
  {
   "cell_type": "markdown",
   "metadata": {},
   "source": [
    "Algunas funciones BIF se listan a continuación:\n",
    "\n",
    "    print()     Imprime argumentos en pantalla\n",
    "    input()     Permite leer datos enviados desde teclado\n",
    "    abs()       Retorna el valor absoluto de un número\n",
    "    all()       Retorna True si todos los valores de un iterable son diferentes de cero\n",
    "    any()       Retorna True si alguno de los valores de un iterable es cero\n",
    "    bin()       Retora la representacion binaria de un valor entero\n",
    "    hex()       Retorna la representacion hexadecimal de un valor entero\n",
    "    min()       Retorna el minimo valor de un iterable\n",
    "    max()       Retorna el máximo valor de un iterable\n",
    "    sum()       Retorna la suma de los elementos de un iterable numérico\n",
    "    sorted()    Ordena los elementos de un iterable\n",
    "    reversed()  Inverte el orden de los elementos de un iterable\n",
    "    \n",
    "La lista continua y utilizando la ayuda puede aprender todas las funciones pre-definidas de Python."
   ]
  },
  {
   "cell_type": "code",
   "execution_count": null,
   "metadata": {},
   "outputs": [],
   "source": [
    "help(bin)"
   ]
  },
  {
   "cell_type": "markdown",
   "metadata": {},
   "source": [
    "Sin embargo, no son suficientes para realizar ciertas tareas más complejas. Por ejemplo, en caso que se quieran aplicar funciones matemáticas, generar valores aleatorios, etc. "
   ]
  },
  {
   "cell_type": "markdown",
   "metadata": {},
   "source": [
    "## Importación de módulos:\n",
    "Para agregarle funcionalidades adicionales a Python es necesario incluír módulos que agregen nuevas funciones a Python. La importacion de módulos o librerías se realiza utilizando la instrucción *import*.\n",
    "\n",
    "Para esto hay que saber que módulos o librerías estan instalados en el sistema. La distibución Anaconda de Python incluye una gran cantidad de módulos, tantos los módulos estándar como ciertos especificos para el cálculo científico. \n",
    "Se puede importar un módulo con la instrucción *import*"
   ]
  },
  {
   "cell_type": "markdown",
   "metadata": {},
   "source": [
    "## Uso de funciones matemáticas\n",
    "Para usar funciones matemáticas, se requiere importar el módulo *math*"
   ]
  },
  {
   "cell_type": "code",
   "execution_count": null,
   "metadata": {},
   "outputs": [],
   "source": [
    "import math  "
   ]
  },
  {
   "cell_type": "markdown",
   "metadata": {},
   "source": [
    "Esta instrucción agrega la libreria o módulo *math* al sistema. Si quiere verificar esto puede verificar el directorio del sistema:"
   ]
  },
  {
   "cell_type": "code",
   "execution_count": null,
   "metadata": {
    "scrolled": false
   },
   "outputs": [],
   "source": [
    "dir()"
   ]
  },
  {
   "cell_type": "markdown",
   "metadata": {},
   "source": [
    "En la parte inferior, debe de haberse agregado la libreria 'math'. Verifique que métodos y/o funciones disponibles se cuentran en math:"
   ]
  },
  {
   "cell_type": "code",
   "execution_count": null,
   "metadata": {},
   "outputs": [],
   "source": [
    "dir(math)"
   ]
  },
  {
   "cell_type": "markdown",
   "metadata": {},
   "source": [
    "Las funciones a las que se pueden acceder son aquellas listadas luego de los métodos privados (es decir, aquellos cuyos nombres estan rodeados de __). Puede recurrir a la ayuda para conocer que hace cada función. La nomenclatura de las funciones de un módulo va a depender de la forma como este se ha importado. Si se ha importado de la forma simple \"import math\" las funciones son accesibles de la forma objeto.metodo, de forma que, por ejemplo, para calcular la raíz cuadrada de un número se accede a la función sqrt()"
   ]
  },
  {
   "cell_type": "code",
   "execution_count": null,
   "metadata": {},
   "outputs": [],
   "source": [
    "math.sqrt(8)"
   ]
  },
  {
   "cell_type": "markdown",
   "metadata": {},
   "source": [
    "Si se quiere calcular el seno de un ángulo (en radianes) y revisando el listado disponible hay una función prometedora llamada sin()"
   ]
  },
  {
   "cell_type": "code",
   "execution_count": null,
   "metadata": {},
   "outputs": [],
   "source": [
    "help(sin)"
   ]
  },
  {
   "cell_type": "markdown",
   "metadata": {},
   "source": [
    "¿Por qué el error? Porque *sin* no es un BIF (sino, estaria incluída en el directorio de __builtins__). Para conocer la ayuda de la función *sin* hay que especificar el módulo:"
   ]
  },
  {
   "cell_type": "code",
   "execution_count": null,
   "metadata": {},
   "outputs": [],
   "source": [
    "help(math.sin)"
   ]
  },
  {
   "cell_type": "markdown",
   "metadata": {},
   "source": [
    "Entonces, hagamos una prueba:"
   ]
  },
  {
   "cell_type": "code",
   "execution_count": null,
   "metadata": {},
   "outputs": [],
   "source": [
    "math.sin(30)  #ojo se calcula el seno de 30 radianes (como indica el help)"
   ]
  },
  {
   "cell_type": "markdown",
   "metadata": {},
   "source": [
    "### Otras formas de importación:"
   ]
  },
  {
   "cell_type": "code",
   "execution_count": null,
   "metadata": {},
   "outputs": [],
   "source": [
    "#del módulo math importa a la función cos y al valor de pi (se agregan cos y pi al sistema)\n",
    "from math import cos,pi\n",
    "\n",
    "#no se debe anteponer math.\n",
    "print(\"El coseno de pi/5 es:\",cos(pi/5))  "
   ]
  },
  {
   "cell_type": "code",
   "execution_count": null,
   "metadata": {},
   "outputs": [],
   "source": [
    "#del módulo math importa a todos sus métodos y funciones (todos los métodos y funciones se agregan\n",
    "#al sistema)\n",
    "from math import *\n",
    "\n",
    "#no se debe anteponer math.\n",
    "print(\"La tangente de pi/4 es:\",tan(pi/4))\n",
    "print(\"La exponencial de 10.45 es:\",exp(10.45))\n",
    "print(\"El factorial de 7 es:\",factorial(7))\n",
    "print(\"El valor de 3.003 redondeado a la derecha es:\",ceil(3.003))\n",
    "print(\"El valor de 7.993 redondeado a la izquierda es:\",floor(7.993))"
   ]
  }
 ],
 "metadata": {
  "kernelspec": {
   "display_name": "Python 3 (ipykernel)",
   "language": "python",
   "name": "python3"
  },
  "language_info": {
   "codemirror_mode": {
    "name": "ipython",
    "version": 3
   },
   "file_extension": ".py",
   "mimetype": "text/x-python",
   "name": "python",
   "nbconvert_exporter": "python",
   "pygments_lexer": "ipython3",
   "version": "3.9.7"
  }
 },
 "nbformat": 4,
 "nbformat_minor": 2
}
