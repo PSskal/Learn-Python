{
 "cells": [
  {
   "cell_type": "markdown",
   "metadata": {},
   "source": [
    "# <u>Conociendo aspectos importantes del manejo de Jupyter Notebooks</u>\n",
    "\n",
    "*El presente documento tiene información útil sobre el manejo de los Jupyter Notebooks*"
   ]
  },
  {
   "cell_type": "markdown",
   "metadata": {},
   "source": [
    "El Jupyter Notebook es un entorno interactivo web de ejecución de código en los que, por ejemplo, se puede incluir texto y gráficas que permitan facilitar la explicación y el estudio de las herramientas del lenguaje Python. \n",
    "\n",
    "Un Notebook se compone de bloques de texto (escritos en formato markdown) y bloques de código (que se procesan en el ambiente iPython). Esto bloques reciben el nombre de celdas.\n",
    "\n",
    "Cada vez que se selecciona una celda el borde izquierdo de la misma se pondrá de color azul (celda en modo comando)\n",
    "\n",
    "En el modo comando se puede especificar que la celda será una celda de código o una celda de texto markdown a traves de la barra de herramientas (parte de arriba), seleccionado las opciones *Code* o *Markdown* respectivamente\n",
    "\n",
    "Haciendo doble clic sobre cualquier celda de texto markdown se podrá ingresar a editarla (forma más práctica)\n",
    "\n",
    "Las celdas de código pueden editarse fácilmente con tan solo ingresar a cambiar el contenido de las mismas\n",
    "\n",
    "Cuando una celda está en modo edición el borde izquierdo de la misma se pondrá de color verde.\n",
    "\n",
    "Para ejecutar el contenido de una celda hay varias formas de proceder:\n",
    "\n",
    "* [Shift] + [Enter] : Ejecuta la celda y selecciona la celda inferior\n",
    "\n",
    "* [Ctrl] + [Enter] : Ejecuta la celda y se mantiene en la celda\n",
    "\n",
    "* [Alt] + [Enter] : Ejecuta la celda e inserta una nueva celda abajo\n",
    "\n",
    "Seleccione la celda inferior y pruebe las dos primeras combinaciones de teclas (no la tercera para no insertar una celda nueva!!!)"
   ]
  },
  {
   "cell_type": "code",
   "execution_count": null,
   "metadata": {},
   "outputs": [],
   "source": [
    "print(\"Hola mundo\")"
   ]
  },
  {
   "cell_type": "markdown",
   "metadata": {},
   "source": [
    "La celda anterior es una celda de código. Puede ver que se interpreta en el ambiente iPython (note la indicación del número de celda In [n]:). El numero *n* indica el orden de ejecución. Si ejecuta una celda repetidas veces, este número se incrementará."
   ]
  },
  {
   "cell_type": "markdown",
   "metadata": {},
   "source": [
    "Si desea eliminar una celda, seleccionela, verifique que está en modo comando (color azúl), si no es así ingrese a modo comando presionando [Esc] y elimínela presionando [D] dos veces. Practique eliminando la celda inferior"
   ]
  },
  {
   "cell_type": "code",
   "execution_count": null,
   "metadata": {},
   "outputs": [],
   "source": [
    "#elimine esta celda"
   ]
  },
  {
   "cell_type": "markdown",
   "metadata": {},
   "source": [
    "Existen otras funciones a las que se accede desde el menú superior. Para editar un notebook hay opciones en Edit, mientras que para controlar el estado de las celdas hay funciones agrupadas en la opcion Cell. Por ejemplo, si quiere reiniciar todas las celdas y dejar el documento sin que se haya ejecutado ningún bloque de código, seleccione Cell > All Outputs > Clear"
   ]
  },
  {
   "cell_type": "markdown",
   "metadata": {},
   "source": [
    "### Reinicio del Kernel\n",
    "Es posible que en algun momento el Notebook ya no ejecute ninguna instrucción, como resutado de un lazo infinito o una operación invalida o algun error general. Cuando esto sucede el Kernel se encontrará ocupado para atender un requerimiento.\n",
    "\n",
    "El *kernel* es el interprete de Python. Si este no responde no se podrán ejecutar las instrucciones. Una de las indicaciones de que se ha presentado este error es la indicación de un \\* en el número de la celda (In [\\*]).\n",
    "\n",
    "Para salir de este error es necesario *reiniciar* el kernel. Esta operacion esta disponible en la barra de menu Kernel > Restart"
   ]
  }
 ],
 "metadata": {
  "kernelspec": {
   "display_name": "Python 3 (ipykernel)",
   "language": "python",
   "name": "python3"
  },
  "language_info": {
   "codemirror_mode": {
    "name": "ipython",
    "version": 3
   },
   "file_extension": ".py",
   "mimetype": "text/x-python",
   "name": "python",
   "nbconvert_exporter": "python",
   "pygments_lexer": "ipython3",
   "version": "3.9.7"
  }
 },
 "nbformat": 4,
 "nbformat_minor": 2
}
