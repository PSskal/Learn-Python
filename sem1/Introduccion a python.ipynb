{
 "cells": [
  {
   "cell_type": "code",
   "execution_count": 3,
   "id": "2c91e88b",
   "metadata": {},
   "outputs": [
    {
     "name": "stdout",
     "output_type": "stream",
     "text": [
      "Hola Mundo\n",
      "Soy el lenguaje Python\n"
     ]
    }
   ],
   "source": [
    "#uso de la función print para imprimir un texto (un string):\n",
    "\n",
    "#por defecto print() imprime al final un salto de línea (\\n)\n",
    "print(\"Hola Mundo\")\n",
    "print('Soy el lenguaje Python')"
   ]
  },
  {
   "cell_type": "code",
   "execution_count": 5,
   "id": "f16503de",
   "metadata": {},
   "outputs": [
    {
     "name": "stdout",
     "output_type": "stream",
     "text": [
      "Bienvenido al mundo de Python\n",
      "\n",
      "Uno de los mejores lenguajes\n"
     ]
    }
   ],
   "source": [
    "#se puede usar el caracter \\n:\n",
    "print(\"Bienvenido al mundo de Python\\n\\nUno de los mejores lenguajes\")"
   ]
  },
  {
   "cell_type": "code",
   "execution_count": 2,
   "id": "567eda4d",
   "metadata": {},
   "outputs": [
    {
     "name": "stdout",
     "output_type": "stream",
     "text": [
      "Juan 43 1.65 Python\n"
     ]
    }
   ],
   "source": [
    "#print puede aceptar varios argumentos:\n",
    "#(los imprime en una sola línea con un espacio en blanco entre ellos)\n",
    "\n",
    "print(\"Juan\",43,1.65,'Python')"
   ]
  },
  {
   "cell_type": "code",
   "execution_count": 3,
   "id": "fa7a2125",
   "metadata": {},
   "outputs": [
    {
     "name": "stdout",
     "output_type": "stream",
     "text": [
      "\n"
     ]
    }
   ],
   "source": [
    "#se puede usar la función print() sin argumentos: (solo imprimiría un salto de línea)\n",
    "print()"
   ]
  },
  {
   "cell_type": "code",
   "execution_count": 9,
   "id": "5578cda4",
   "metadata": {},
   "outputs": [
    {
     "name": "stdout",
     "output_type": "stream",
     "text": [
      "Resolviendo una ecuación cuadrática\n",
      "===================================\n"
     ]
    }
   ],
   "source": [
    "#parte 1:\n",
    "print(\"Resolviendo una ecuación cuadrática\")\n",
    "print(\"===================================\")"
   ]
  },
  {
   "cell_type": "code",
   "execution_count": 10,
   "id": "e05c1058",
   "metadata": {},
   "outputs": [
    {
     "name": "stdout",
     "output_type": "stream",
     "text": [
      "Ingrese un dato: Perú\n"
     ]
    },
    {
     "data": {
      "text/plain": [
       "'Perú'"
      ]
     },
     "execution_count": 10,
     "metadata": {},
     "output_type": "execute_result"
    }
   ],
   "source": [
    "#uso de la función input() para lectura de datos:\n",
    "\n",
    "input(\"Ingrese un dato: \")\n",
    "\n",
    "#input() retorna el valor capturado, en formato texto"
   ]
  },
  {
   "cell_type": "code",
   "execution_count": 11,
   "id": "e6f5b6ae",
   "metadata": {},
   "outputs": [
    {
     "name": "stdout",
     "output_type": "stream",
     "text": [
      "Ingrese un dato: 2022\n"
     ]
    },
    {
     "data": {
      "text/plain": [
       "'2022'"
      ]
     },
     "execution_count": 11,
     "metadata": {},
     "output_type": "execute_result"
    }
   ],
   "source": [
    "input(\"Ingrese un dato: \")"
   ]
  },
  {
   "cell_type": "code",
   "execution_count": 12,
   "id": "e5b20aee",
   "metadata": {},
   "outputs": [
    {
     "name": "stdout",
     "output_type": "stream",
     "text": [
      "Ingrese un dato: 3.1416\n"
     ]
    },
    {
     "data": {
      "text/plain": [
       "'3.1416'"
      ]
     },
     "execution_count": 12,
     "metadata": {},
     "output_type": "execute_result"
    }
   ],
   "source": [
    "input(\"Ingrese un dato: \")"
   ]
  },
  {
   "cell_type": "code",
   "execution_count": 13,
   "id": "16e55e4f",
   "metadata": {},
   "outputs": [
    {
     "name": "stdout",
     "output_type": "stream",
     "text": [
      "Juan\n"
     ]
    },
    {
     "data": {
      "text/plain": [
       "'Juan'"
      ]
     },
     "execution_count": 13,
     "metadata": {},
     "output_type": "execute_result"
    }
   ],
   "source": [
    "input()"
   ]
  },
  {
   "cell_type": "code",
   "execution_count": 15,
   "id": "1973df0d",
   "metadata": {},
   "outputs": [],
   "source": [
    "#creación de variables:\n",
    "#el tipo de la variable dependerá del dato asignado (python es de tipado dinámico)\n",
    "\n",
    "año = 2022"
   ]
  },
  {
   "cell_type": "code",
   "execution_count": 16,
   "id": "4105562d",
   "metadata": {},
   "outputs": [
    {
     "data": {
      "text/plain": [
       "2022"
      ]
     },
     "execution_count": 16,
     "metadata": {},
     "output_type": "execute_result"
    }
   ],
   "source": [
    "año"
   ]
  },
  {
   "cell_type": "code",
   "execution_count": 18,
   "id": "ee26e388",
   "metadata": {},
   "outputs": [
    {
     "name": "stdout",
     "output_type": "stream",
     "text": [
      "2022\n",
      "<class 'int'>\n"
     ]
    }
   ],
   "source": [
    "print(año)\n",
    "print(type(año))"
   ]
  },
  {
   "cell_type": "code",
   "execution_count": 22,
   "id": "f88c56ab",
   "metadata": {},
   "outputs": [],
   "source": [
    "talla = 1.67"
   ]
  },
  {
   "cell_type": "code",
   "execution_count": 20,
   "id": "c72d109a",
   "metadata": {},
   "outputs": [
    {
     "data": {
      "text/plain": [
       "1.67"
      ]
     },
     "execution_count": 20,
     "metadata": {},
     "output_type": "execute_result"
    }
   ],
   "source": [
    "talla"
   ]
  },
  {
   "cell_type": "code",
   "execution_count": 23,
   "id": "695465ab",
   "metadata": {},
   "outputs": [
    {
     "name": "stdout",
     "output_type": "stream",
     "text": [
      "1.67\n",
      "<class 'float'>\n"
     ]
    }
   ],
   "source": [
    "print(talla)\n",
    "print(type(talla))"
   ]
  },
  {
   "cell_type": "code",
   "execution_count": 24,
   "id": "093850d8",
   "metadata": {},
   "outputs": [],
   "source": [
    "nombre = \"juan\""
   ]
  },
  {
   "cell_type": "code",
   "execution_count": 25,
   "id": "de8b728e",
   "metadata": {},
   "outputs": [
    {
     "data": {
      "text/plain": [
       "'juan'"
      ]
     },
     "execution_count": 25,
     "metadata": {},
     "output_type": "execute_result"
    }
   ],
   "source": [
    "nombre"
   ]
  },
  {
   "cell_type": "code",
   "execution_count": 27,
   "id": "cef9e6a2",
   "metadata": {},
   "outputs": [
    {
     "name": "stdout",
     "output_type": "stream",
     "text": [
      "juan\n",
      "<class 'str'>\n"
     ]
    }
   ],
   "source": [
    "print(nombre)\n",
    "print(type(nombre))"
   ]
  },
  {
   "cell_type": "code",
   "execution_count": 28,
   "id": "95200920",
   "metadata": {},
   "outputs": [
    {
     "name": "stdout",
     "output_type": "stream",
     "text": [
      "<class 'str'>\n"
     ]
    }
   ],
   "source": [
    "letra = 'S'\n",
    "print(type(letra))\n",
    "\n",
    "#en python no existe el dato tipo char"
   ]
  },
  {
   "cell_type": "code",
   "execution_count": 30,
   "id": "a1bee160",
   "metadata": {},
   "outputs": [
    {
     "name": "stdout",
     "output_type": "stream",
     "text": [
      "Ingrese su nombre: maria\n",
      "Ingrese su edad: 34\n",
      "Ingrese su talla: 1.56\n",
      "<class 'str'>\n",
      "<class 'str'>\n",
      "<class 'str'>\n"
     ]
    }
   ],
   "source": [
    "nombre = input(\"Ingrese su nombre: \")\n",
    "edad = input(\"Ingrese su edad: \")\n",
    "talla = input(\"Ingrese su talla: \")\n",
    "\n",
    "print(type(nombre))\n",
    "print(type(edad))\n",
    "print(type(talla))"
   ]
  },
  {
   "cell_type": "code",
   "execution_count": 31,
   "id": "0e91dc24",
   "metadata": {},
   "outputs": [
    {
     "data": {
      "text/plain": [
       "100.0"
      ]
     },
     "execution_count": 31,
     "metadata": {},
     "output_type": "execute_result"
    }
   ],
   "source": [
    "#aplicando  conversion de tipos:\n",
    "\n",
    "a = 100\n",
    "float(a) #convierte de entero a flotante"
   ]
  },
  {
   "cell_type": "code",
   "execution_count": 36,
   "id": "8d28a34a",
   "metadata": {},
   "outputs": [
    {
     "name": "stdout",
     "output_type": "stream",
     "text": [
      "<class 'float'>\n",
      "100.0\n"
     ]
    }
   ],
   "source": [
    "#actualizando el tipo de la vble. a:\n",
    "a = 100\n",
    "a = float(a)\n",
    "print(type(a))\n",
    "print(a)"
   ]
  },
  {
   "cell_type": "code",
   "execution_count": 35,
   "id": "9fa2239f",
   "metadata": {},
   "outputs": [
    {
     "name": "stdout",
     "output_type": "stream",
     "text": [
      "<class 'int'>\n",
      "12\n"
     ]
    }
   ],
   "source": [
    "b = 12.5\n",
    "b = int(b)  #convierte de flotante a entero\n",
    "print(type(b))\n",
    "print(b)"
   ]
  },
  {
   "cell_type": "code",
   "execution_count": 37,
   "id": "380edad2",
   "metadata": {},
   "outputs": [
    {
     "name": "stdout",
     "output_type": "stream",
     "text": [
      "<class 'float'>\n",
      "123.67\n"
     ]
    }
   ],
   "source": [
    "c = \"123.67\"\n",
    "c = float(c)   #convierte de string a flotante\n",
    "print(type(c))\n",
    "print(c)"
   ]
  },
  {
   "cell_type": "code",
   "execution_count": 38,
   "id": "c25fd49d",
   "metadata": {},
   "outputs": [
    {
     "name": "stdout",
     "output_type": "stream",
     "text": [
      "<class 'str'>\n",
      "2022\n"
     ]
    }
   ],
   "source": [
    "d = 2022\n",
    "d = str(d)       #convierte de entero a string\n",
    "print(type(d))\n",
    "print(d)"
   ]
  },
  {
   "cell_type": "code",
   "execution_count": 39,
   "id": "0a277962",
   "metadata": {},
   "outputs": [
    {
     "name": "stdout",
     "output_type": "stream",
     "text": [
      "Ingrese su nombre: juan\n",
      "Ingrese su edad: 43\n",
      "Ingrese su talla: 1.65\n",
      "<class 'str'>\n",
      "<class 'int'>\n",
      "<class 'float'>\n"
     ]
    }
   ],
   "source": [
    "nombre = input(\"Ingrese su nombre: \")\n",
    "edad = input(\"Ingrese su edad: \")\n",
    "talla = input(\"Ingrese su talla: \")\n",
    "\n",
    "edad = int(edad)\n",
    "talla = float(talla)\n",
    "\n",
    "print(type(nombre))\n",
    "print(type(edad))\n",
    "print(type(talla))"
   ]
  },
  {
   "cell_type": "code",
   "execution_count": 40,
   "id": "3bd54dab",
   "metadata": {},
   "outputs": [
    {
     "name": "stdout",
     "output_type": "stream",
     "text": [
      "Ingrese su nombre: juan\n",
      "Ingrese su edad: 34\n",
      "Ingrese su talla: 1.67\n",
      "<class 'str'>\n",
      "<class 'int'>\n",
      "<class 'float'>\n"
     ]
    }
   ],
   "source": [
    "#encadenando las instrucciones:\n",
    "\n",
    "nombre = input(\"Ingrese su nombre: \")\n",
    "edad =  int(input(\"Ingrese su edad: \"))\n",
    "talla = float(input(\"Ingrese su talla: \"))\n",
    "\n",
    "print(type(nombre))\n",
    "print(type(edad))\n",
    "print(type(talla))"
   ]
  },
  {
   "cell_type": "code",
   "execution_count": 42,
   "id": "ee8e67a3",
   "metadata": {},
   "outputs": [
    {
     "name": "stdout",
     "output_type": "stream",
     "text": [
      "Resolviendo una ecuación cuadrática\n",
      "===================================\n",
      "\n",
      "Ingrese primer coeficiente: 3.4\n",
      "Ingrese segundo coeficiente: 6.7\n",
      "Ingrese tercer coeficiente: 2.6\n"
     ]
    }
   ],
   "source": [
    "#paso 1 y paso 2:\n",
    "\n",
    "#parte 1:\n",
    "print(\"Resolviendo una ecuación cuadrática\")\n",
    "print(\"===================================\\n\")\n",
    "\n",
    "#parte 2:\n",
    "a = float(input(\"Ingrese primer coeficiente: \"))\n",
    "b = float(input(\"Ingrese segundo coeficiente: \"))\n",
    "c = float(input(\"Ingrese tercer coeficiente: \"))"
   ]
  },
  {
   "cell_type": "code",
   "execution_count": 43,
   "id": "dcc7b8d4",
   "metadata": {},
   "outputs": [
    {
     "data": {
      "text/plain": [
       "11"
      ]
     },
     "execution_count": 43,
     "metadata": {},
     "output_type": "execute_result"
    }
   ],
   "source": [
    "#operaciones entre los datos (variables)\n",
    "5+6"
   ]
  },
  {
   "cell_type": "code",
   "execution_count": 44,
   "id": "53e5910f",
   "metadata": {},
   "outputs": [
    {
     "name": "stdout",
     "output_type": "stream",
     "text": [
      "11\n"
     ]
    }
   ],
   "source": [
    "#es mejor asignar a una variable:\n",
    "s = 5+6\n",
    "print(s)"
   ]
  },
  {
   "cell_type": "code",
   "execution_count": 57,
   "id": "320f0ccb",
   "metadata": {},
   "outputs": [
    {
     "name": "stdout",
     "output_type": "stream",
     "text": [
      "9\n",
      "-1\n",
      "20\n",
      "0.8\n",
      "5.0\n",
      "1\n",
      "8\n",
      "1.2599210498948732\n",
      "3\n",
      "3.0\n"
     ]
    }
   ],
   "source": [
    "#ejemplos de operaciones aritmeticas:\n",
    "\n",
    "r1 = 4+5\n",
    "print(r1)\n",
    "r2 = 4-5\n",
    "print(r2)\n",
    "r2 = 4*5\n",
    "print(r2)\n",
    "r3 = 4/5   #la división da como resultado un dato flotante\n",
    "print(r3)\n",
    "r4 = 10/2\n",
    "print(r4)\n",
    "r5 = 10%3   #residuo de dividir 10 entre 3\n",
    "print(r5)\n",
    "r6 = 2**3   #eleva 2 al cubo\n",
    "print(r6)\n",
    "r7 = 2**(1/3)  #raiz cúbica de 2\n",
    "print(r7)\n",
    "r8 = 10//3   #división entera\n",
    "print(r8)\n",
    "r8 = 10.0//3  \n",
    "print(r8)"
   ]
  },
  {
   "cell_type": "code",
   "execution_count": 58,
   "id": "e369bf0a",
   "metadata": {},
   "outputs": [
    {
     "name": "stdout",
     "output_type": "stream",
     "text": [
      "4.875\n"
     ]
    }
   ],
   "source": [
    "#operacion combinada:\n",
    "x = 3 + 5*(6-3)/2**3\n",
    "print(x)"
   ]
  },
  {
   "cell_type": "code",
   "execution_count": 61,
   "id": "db7ae6fa",
   "metadata": {},
   "outputs": [
    {
     "name": "stdout",
     "output_type": "stream",
     "text": [
      "Resolviendo una ecuación cuadrática\n",
      "===================================\n",
      "\n",
      "Ingrese primer coeficiente: 2.6\n",
      "Ingrese segundo coeficiente: 3\n",
      "Ingrese tercer coeficiente: 10.7\n"
     ]
    },
    {
     "ename": "TypeError",
     "evalue": "type complex doesn't define __round__ method",
     "output_type": "error",
     "traceback": [
      "\u001b[1;31m---------------------------------------------------------------------------\u001b[0m",
      "\u001b[1;31mTypeError\u001b[0m                                 Traceback (most recent call last)",
      "\u001b[1;32m~\\AppData\\Local\\Temp/ipykernel_820/4190506887.py\u001b[0m in \u001b[0;36m<module>\u001b[1;34m\u001b[0m\n\u001b[0;32m     15\u001b[0m \u001b[1;33m\u001b[0m\u001b[0m\n\u001b[0;32m     16\u001b[0m \u001b[1;31m#parte 4: (redondear con 3 decimales)\u001b[0m\u001b[1;33m\u001b[0m\u001b[1;33m\u001b[0m\u001b[0m\n\u001b[1;32m---> 17\u001b[1;33m \u001b[0mprint\u001b[0m\u001b[1;33m(\u001b[0m\u001b[1;34m\"\\nRaiz 1:\"\u001b[0m\u001b[1;33m,\u001b[0m\u001b[0mround\u001b[0m\u001b[1;33m(\u001b[0m\u001b[0mr1\u001b[0m\u001b[1;33m,\u001b[0m\u001b[1;36m3\u001b[0m\u001b[1;33m)\u001b[0m\u001b[1;33m)\u001b[0m\u001b[1;33m\u001b[0m\u001b[1;33m\u001b[0m\u001b[0m\n\u001b[0m\u001b[0;32m     18\u001b[0m \u001b[0mprint\u001b[0m\u001b[1;33m(\u001b[0m\u001b[1;34m\"Raiz 2:\"\u001b[0m\u001b[1;33m,\u001b[0m\u001b[0mround\u001b[0m\u001b[1;33m(\u001b[0m\u001b[0mr2\u001b[0m\u001b[1;33m,\u001b[0m\u001b[1;36m3\u001b[0m\u001b[1;33m)\u001b[0m\u001b[1;33m)\u001b[0m\u001b[1;33m\u001b[0m\u001b[1;33m\u001b[0m\u001b[0m\n",
      "\u001b[1;31mTypeError\u001b[0m: type complex doesn't define __round__ method"
     ]
    }
   ],
   "source": [
    "#paso 1 , 2, 3 y 4:\n",
    "\n",
    "#parte 1:\n",
    "print(\"Resolviendo una ecuación cuadrática\")\n",
    "print(\"===================================\\n\")\n",
    "\n",
    "#parte 2:\n",
    "a = float(input(\"Ingrese primer coeficiente: \"))\n",
    "b = float(input(\"Ingrese segundo coeficiente: \"))\n",
    "c = float(input(\"Ingrese tercer coeficiente: \"))\n",
    "\n",
    "#parte 3:\n",
    "r1 = (-b + (b**2-4*a*c)**0.5)/(2*a)\n",
    "r2 = (-b - (b**2-4*a*c)**0.5)/(2*a)\n",
    "\n",
    "#parte 4: (redondear con 3 decimales)\n",
    "#round() no soporta números complejos\n",
    "print(\"\\nRaiz 1:\",round(r1,3))\n",
    "print(\"Raiz 2:\",round(r2,3))"
   ]
  },
  {
   "cell_type": "code",
   "execution_count": 62,
   "id": "cfc59970",
   "metadata": {},
   "outputs": [
    {
     "name": "stdout",
     "output_type": "stream",
     "text": [
      "(3+7j)\n",
      "<class 'complex'>\n"
     ]
    }
   ],
   "source": [
    "#python soporta el tipo complex:\n",
    "numComplejo = 3 + 7j\n",
    "print(numComplejo)\n",
    "print(type(numComplejo))"
   ]
  },
  {
   "cell_type": "code",
   "execution_count": 63,
   "id": "3bd3b557",
   "metadata": {},
   "outputs": [
    {
     "data": {
      "text/plain": [
       "'Hola juan tu edad es 43 y tu talla es 1.65'"
      ]
     },
     "execution_count": 63,
     "metadata": {},
     "output_type": "execute_result"
    }
   ],
   "source": [
    "#aplicando el método format():\n",
    "\n",
    "\"Hola {} tu edad es {} y tu talla es {}\".format(\"juan\",43,1.65)"
   ]
  },
  {
   "cell_type": "code",
   "execution_count": 64,
   "id": "cddbe878",
   "metadata": {},
   "outputs": [
    {
     "name": "stdout",
     "output_type": "stream",
     "text": [
      "Hola juan tu edad es 43 y tu talla es 1.65\n"
     ]
    }
   ],
   "source": [
    "#encadenando con print\n",
    "print(\"Hola {} tu edad es {} y tu talla es {}\".format(\"juan\",43,1.65))"
   ]
  },
  {
   "cell_type": "code",
   "execution_count": 65,
   "id": "e0d72a54",
   "metadata": {},
   "outputs": [
    {
     "name": "stdout",
     "output_type": "stream",
     "text": [
      "El número 3.23267 redondeado a 3 decimales es: 3.233\n"
     ]
    }
   ],
   "source": [
    "print(\"El número {} redondeado a 3 decimales es: {:.3f}\".format(3.23267,3.23267))"
   ]
  },
  {
   "cell_type": "code",
   "execution_count": 4,
   "id": "c72a7903",
   "metadata": {},
   "outputs": [
    {
     "name": "stdout",
     "output_type": "stream",
     "text": [
      "El complejo (4.56788+5.03453j) redondeado a 2 decimales es: 4.57+5.03j\n"
     ]
    }
   ],
   "source": [
    "print(\"El complejo {} redondeado a 2 decimales es: {:.2f}\".format(4.56788+5.03453j,4.56788+5.03453j))"
   ]
  },
  {
   "cell_type": "code",
   "execution_count": 68,
   "id": "216d394c",
   "metadata": {},
   "outputs": [
    {
     "name": "stdout",
     "output_type": "stream",
     "text": [
      "Resolviendo una ecuación cuadrática\n",
      "===================================\n",
      "\n",
      "Ingrese primer coeficiente: 2\n",
      "Ingrese segundo coeficiente: 1\n",
      "Ingrese tercer coeficiente: 2\n",
      "\n",
      "Raiz 1: -0.250+0.968j\n",
      "Raiz 2: -0.250-0.968j\n"
     ]
    }
   ],
   "source": [
    "#paso 1 , 2,  3 y 4:\n",
    "\n",
    "#parte 1:\n",
    "print(\"Resolviendo una ecuación cuadrática\")\n",
    "print(\"===================================\\n\")\n",
    "\n",
    "#parte 2:\n",
    "a = float(input(\"Ingrese primer coeficiente: \"))\n",
    "b = float(input(\"Ingrese segundo coeficiente: \"))\n",
    "c = float(input(\"Ingrese tercer coeficiente: \"))\n",
    "\n",
    "#parte 3:\n",
    "r1 = (-b + (b**2-4*a*c)**0.5)/(2*a)\n",
    "r2 = (-b - (b**2-4*a*c)**0.5)/(2*a)\n",
    "\n",
    "#parte 4: (redondear con 3 decimales)\n",
    "#usando format para mostrar \n",
    "print(\"\\nRaiz 1: {:.3f}\".format(r1))\n",
    "print(\"Raiz 2: {:.3f}\".format(r2))"
   ]
  },
  {
   "cell_type": "code",
   "execution_count": 72,
   "id": "f42b0d77",
   "metadata": {},
   "outputs": [
    {
     "name": "stdout",
     "output_type": "stream",
     "text": [
      "Art:   453, Price per Unit:    59.06\n"
     ]
    }
   ],
   "source": [
    "print(\"Art: {0:5d}, Price per Unit: {1:8.2f}\".format(453,59.058))"
   ]
  },
  {
   "cell_type": "code",
   "execution_count": 76,
   "id": "3de4adf0",
   "metadata": {},
   "outputs": [
    {
     "name": "stdout",
     "output_type": "stream",
     "text": [
      "Art:  453 , Price per Unit:  59.06  \n"
     ]
    }
   ],
   "source": [
    "print(\"Art: {0:^5d}, Price per Unit: {1:^8.2f}\".format(453,59.058))"
   ]
  },
  {
   "cell_type": "code",
   "execution_count": 77,
   "id": "3dce1f0c",
   "metadata": {},
   "outputs": [
    {
     "data": {
      "text/plain": [
       "['Solo', 'se', 'que', 'nada', 'se']"
      ]
     },
     "execution_count": 77,
     "metadata": {},
     "output_type": "execute_result"
    }
   ],
   "source": [
    "#aplicando el método split():\n",
    "\n",
    "\"Solo se     que    nada      se\".split()"
   ]
  },
  {
   "cell_type": "code",
   "execution_count": 80,
   "id": "3420782c",
   "metadata": {},
   "outputs": [
    {
     "name": "stdout",
     "output_type": "stream",
     "text": [
      "Solo\n",
      "se\n",
      "que\n",
      "nada\n",
      "se\n"
     ]
    }
   ],
   "source": [
    "p1,p2,p3,p4,p5 = \"Solo se     que    nada      se\".split()\n",
    "\n",
    "print(p1,p2,p3,p4,p5,sep='\\n')"
   ]
  },
  {
   "cell_type": "code",
   "execution_count": 82,
   "id": "cb8e8132",
   "metadata": {},
   "outputs": [
    {
     "name": "stdout",
     "output_type": "stream",
     "text": [
      "18 34 05\n",
      "18 34 5\n"
     ]
    }
   ],
   "source": [
    "horas,minutos,segundos = \"18:34:05\".split(\":\")\n",
    "\n",
    "print(horas,minutos,segundos)\n",
    "print(int(horas),int(minutos),int(segundos))"
   ]
  },
  {
   "cell_type": "code",
   "execution_count": 84,
   "id": "8da9f960",
   "metadata": {},
   "outputs": [
    {
     "name": "stdout",
     "output_type": "stream",
     "text": [
      "Ingres su nombre completo: juan     puerta                arce\n",
      "juan-->puerta-->arce\n"
     ]
    }
   ],
   "source": [
    "#usando el split() con input()\n",
    "\n",
    "nombre, apellidoP, apellidoM = input(\"Ingres su nombre completo: \").split()\n",
    "\n",
    "print(nombre,apellidoP,apellidoM,sep=\"-->\")"
   ]
  },
  {
   "cell_type": "code",
   "execution_count": 8,
   "id": "fd9f5def",
   "metadata": {},
   "outputs": [
    {
     "name": "stdout",
     "output_type": "stream",
     "text": [
      "Resolviendo una ecuación cuadrática\n",
      "===================================\n",
      "\n",
      "Ingrese los 3 coeficientes: 4.5  8  1.2\n",
      "\n",
      "Raiz 1: -0.165\n",
      "Raiz 2: -1.612\n"
     ]
    }
   ],
   "source": [
    "#paso 1 , 2, 3 y 4:\n",
    "\n",
    "#parte 1:\n",
    "print(\"Resolviendo una ecuación cuadrática\")\n",
    "print(\"===================================\\n\")\n",
    "\n",
    "#parte 2:\n",
    "a,b,c = input(\"Ingrese los 3 coeficientes: \").split()\n",
    "\n",
    "a=float(a)\n",
    "b=float(b)\n",
    "c=float(c)\n",
    "\n",
    "#parte 3:\n",
    "r1 = (-b + (b**2-4*a*c)**0.5)/(2*a)\n",
    "r2 = (-b - (b**2-4*a*c)**0.5)/(2*a)\n",
    "\n",
    "#parte 4: \n",
    "print(\"\\nRaiz 1: {:.3f}\".format(r1))\n",
    "print(\"Raiz 2: {:.3f}\".format(r2))"
   ]
  },
  {
   "cell_type": "code",
   "execution_count": 9,
   "id": "19c44035",
   "metadata": {},
   "outputs": [],
   "source": [
    "#importando al módulo math:\n",
    "\n",
    "import math"
   ]
  },
  {
   "cell_type": "code",
   "execution_count": 10,
   "id": "3c1405ba",
   "metadata": {},
   "outputs": [
    {
     "data": {
      "text/plain": [
       "['__doc__',\n",
       " '__loader__',\n",
       " '__name__',\n",
       " '__package__',\n",
       " '__spec__',\n",
       " 'acos',\n",
       " 'acosh',\n",
       " 'asin',\n",
       " 'asinh',\n",
       " 'atan',\n",
       " 'atan2',\n",
       " 'atanh',\n",
       " 'ceil',\n",
       " 'comb',\n",
       " 'copysign',\n",
       " 'cos',\n",
       " 'cosh',\n",
       " 'degrees',\n",
       " 'dist',\n",
       " 'e',\n",
       " 'erf',\n",
       " 'erfc',\n",
       " 'exp',\n",
       " 'expm1',\n",
       " 'fabs',\n",
       " 'factorial',\n",
       " 'floor',\n",
       " 'fmod',\n",
       " 'frexp',\n",
       " 'fsum',\n",
       " 'gamma',\n",
       " 'gcd',\n",
       " 'hypot',\n",
       " 'inf',\n",
       " 'isclose',\n",
       " 'isfinite',\n",
       " 'isinf',\n",
       " 'isnan',\n",
       " 'isqrt',\n",
       " 'lcm',\n",
       " 'ldexp',\n",
       " 'lgamma',\n",
       " 'log',\n",
       " 'log10',\n",
       " 'log1p',\n",
       " 'log2',\n",
       " 'modf',\n",
       " 'nan',\n",
       " 'nextafter',\n",
       " 'perm',\n",
       " 'pi',\n",
       " 'pow',\n",
       " 'prod',\n",
       " 'radians',\n",
       " 'remainder',\n",
       " 'sin',\n",
       " 'sinh',\n",
       " 'sqrt',\n",
       " 'tan',\n",
       " 'tanh',\n",
       " 'tau',\n",
       " 'trunc',\n",
       " 'ulp']"
      ]
     },
     "execution_count": 10,
     "metadata": {},
     "output_type": "execute_result"
    }
   ],
   "source": [
    "#observando las funciones de math:\n",
    "\n",
    "dir(math)"
   ]
  },
  {
   "cell_type": "code",
   "execution_count": 11,
   "id": "511bce15",
   "metadata": {},
   "outputs": [
    {
     "name": "stdout",
     "output_type": "stream",
     "text": [
      "1.0\n",
      "2.8284271247461903\n",
      "1.3617278360175928\n"
     ]
    }
   ],
   "source": [
    "#invocando a algunas funciones matemáticas:\n",
    "\n",
    "print(math.sin(math.pi/2))\n",
    "\n",
    "print(math.sqrt(8))\n",
    "\n",
    "print(math.log10(23))"
   ]
  },
  {
   "cell_type": "code",
   "execution_count": 12,
   "id": "eea4daa8",
   "metadata": {},
   "outputs": [
    {
     "name": "stdout",
     "output_type": "stream",
     "text": [
      "Help on built-in function print in module builtins:\n",
      "\n",
      "print(...)\n",
      "    print(value, ..., sep=' ', end='\\n', file=sys.stdout, flush=False)\n",
      "    \n",
      "    Prints the values to a stream, or to sys.stdout by default.\n",
      "    Optional keyword arguments:\n",
      "    file:  a file-like object (stream); defaults to the current sys.stdout.\n",
      "    sep:   string inserted between values, default a space.\n",
      "    end:   string appended after the last value, default a newline.\n",
      "    flush: whether to forcibly flush the stream.\n",
      "\n"
     ]
    }
   ],
   "source": [
    "#viendo la ayuda de print (función BIF)\n",
    "\n",
    "help(print)"
   ]
  },
  {
   "cell_type": "code",
   "execution_count": 13,
   "id": "c44b216f",
   "metadata": {},
   "outputs": [
    {
     "name": "stdout",
     "output_type": "stream",
     "text": [
      "Help on built-in function sin in module math:\n",
      "\n",
      "sin(x, /)\n",
      "    Return the sine of x (measured in radians).\n",
      "\n"
     ]
    }
   ],
   "source": [
    "#viendo la ayuda de la función sin \n",
    "\n",
    "help(math.sin)"
   ]
  },
  {
   "cell_type": "code",
   "execution_count": 14,
   "id": "9c0e9954",
   "metadata": {},
   "outputs": [
    {
     "name": "stdout",
     "output_type": "stream",
     "text": [
      "Help on method_descriptor:\n",
      "\n",
      "format(...)\n",
      "    S.format(*args, **kwargs) -> str\n",
      "    \n",
      "    Return a formatted version of S, using substitutions from args and kwargs.\n",
      "    The substitutions are identified by braces ('{' and '}').\n",
      "\n"
     ]
    }
   ],
   "source": [
    "#viendo la ayuda del método format\n",
    "\n",
    "help(str.format)"
   ]
  },
  {
   "cell_type": "code",
   "execution_count": 15,
   "id": "a0fe4fb8",
   "metadata": {
    "scrolled": true
   },
   "outputs": [
    {
     "name": "stdout",
     "output_type": "stream",
     "text": [
      "Resolviendo una ecuación cuadrática\n",
      "===================================\n",
      "\n",
      "Ingrese los 3 coeficientes: 3.6  4.5  12\n"
     ]
    },
    {
     "ename": "ValueError",
     "evalue": "math domain error",
     "output_type": "error",
     "traceback": [
      "\u001b[1;31m---------------------------------------------------------------------------\u001b[0m",
      "\u001b[1;31mValueError\u001b[0m                                Traceback (most recent call last)",
      "\u001b[1;32m~\\AppData\\Local\\Temp/ipykernel_11244/1563206467.py\u001b[0m in \u001b[0;36m<module>\u001b[1;34m\u001b[0m\n\u001b[0;32m     13\u001b[0m \u001b[1;33m\u001b[0m\u001b[0m\n\u001b[0;32m     14\u001b[0m \u001b[1;31m#parte 3: (usando sqrt)\u001b[0m\u001b[1;33m\u001b[0m\u001b[1;33m\u001b[0m\u001b[0m\n\u001b[1;32m---> 15\u001b[1;33m \u001b[0mr1\u001b[0m \u001b[1;33m=\u001b[0m \u001b[1;33m(\u001b[0m\u001b[1;33m-\u001b[0m\u001b[0mb\u001b[0m \u001b[1;33m+\u001b[0m \u001b[0mmath\u001b[0m\u001b[1;33m.\u001b[0m\u001b[0msqrt\u001b[0m\u001b[1;33m(\u001b[0m\u001b[0mb\u001b[0m\u001b[1;33m**\u001b[0m\u001b[1;36m2\u001b[0m\u001b[1;33m-\u001b[0m\u001b[1;36m4\u001b[0m\u001b[1;33m*\u001b[0m\u001b[0ma\u001b[0m\u001b[1;33m*\u001b[0m\u001b[0mc\u001b[0m\u001b[1;33m)\u001b[0m\u001b[1;33m)\u001b[0m\u001b[1;33m/\u001b[0m\u001b[1;33m(\u001b[0m\u001b[1;36m2\u001b[0m\u001b[1;33m*\u001b[0m\u001b[0ma\u001b[0m\u001b[1;33m)\u001b[0m\u001b[1;33m\u001b[0m\u001b[1;33m\u001b[0m\u001b[0m\n\u001b[0m\u001b[0;32m     16\u001b[0m \u001b[0mr2\u001b[0m \u001b[1;33m=\u001b[0m \u001b[1;33m(\u001b[0m\u001b[1;33m-\u001b[0m\u001b[0mb\u001b[0m \u001b[1;33m-\u001b[0m \u001b[0mmath\u001b[0m\u001b[1;33m.\u001b[0m\u001b[0msqrt\u001b[0m\u001b[1;33m(\u001b[0m\u001b[0mb\u001b[0m\u001b[1;33m**\u001b[0m\u001b[1;36m2\u001b[0m\u001b[1;33m-\u001b[0m\u001b[1;36m4\u001b[0m\u001b[1;33m*\u001b[0m\u001b[0ma\u001b[0m\u001b[1;33m*\u001b[0m\u001b[0mc\u001b[0m\u001b[1;33m)\u001b[0m\u001b[1;33m)\u001b[0m\u001b[1;33m/\u001b[0m\u001b[1;33m(\u001b[0m\u001b[1;36m2\u001b[0m\u001b[1;33m*\u001b[0m\u001b[0ma\u001b[0m\u001b[1;33m)\u001b[0m\u001b[1;33m\u001b[0m\u001b[1;33m\u001b[0m\u001b[0m\n\u001b[0;32m     17\u001b[0m \u001b[1;33m\u001b[0m\u001b[0m\n",
      "\u001b[1;31mValueError\u001b[0m: math domain error"
     ]
    }
   ],
   "source": [
    "#paso 1 ,  2,  3 y 4:\n",
    "\n",
    "#parte 1:\n",
    "print(\"Resolviendo una ecuación cuadrática\")\n",
    "print(\"===================================\\n\")\n",
    "\n",
    "#parte 2:\n",
    "a,b,c = input(\"Ingrese los 3 coeficientes: \").split()\n",
    "\n",
    "a=float(a)\n",
    "b=float(b)\n",
    "c=float(c)\n",
    "\n",
    "#parte 3: (usando sqrt)  #sqrt solo acepta números mayores o iguales a 0\n",
    "r1 = (-b + math.sqrt(b**2-4*a*c))/(2*a)\n",
    "r2 = (-b - math.sqrt(b**2-4*a*c))/(2*a)\n",
    "\n",
    "#parte 4: \n",
    "print(\"\\nRaiz 1: {:.3f}\".format(r1))\n",
    "print(\"Raiz 2: {:.3f}\".format(r2))"
   ]
  }
 ],
 "metadata": {
  "kernelspec": {
   "display_name": "Python 3 (ipykernel)",
   "language": "python",
   "name": "python3"
  },
  "language_info": {
   "codemirror_mode": {
    "name": "ipython",
    "version": 3
   },
   "file_extension": ".py",
   "mimetype": "text/x-python",
   "name": "python",
   "nbconvert_exporter": "python",
   "pygments_lexer": "ipython3",
   "version": "3.9.12"
  }
 },
 "nbformat": 4,
 "nbformat_minor": 5
}
