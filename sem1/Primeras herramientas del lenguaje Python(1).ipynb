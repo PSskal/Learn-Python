{
 "cells": [
  {
   "cell_type": "markdown",
   "metadata": {},
   "source": [
    "# Conociendo las primeras herramientas del lenguaje de programación Python\n",
    "![](https://files.realpython.com/media/Newbie_Watermarked.a9319218252a.jpg)\n",
    "<div style=\"text-align: right\">Autor: Luis A. Muñoz - 2021 </div>"
   ]
  },
  {
   "cell_type": "markdown",
   "metadata": {},
   "source": [
    "### Ideas clave a recordar en Python:\n",
    "\n",
    "* Python en un lenguaje de codigo abierto\n",
    "* Python es un lenguaje interpretado\n",
    "* La versión activa de Python es la 3.x\n",
    "* Python es uno de los lenguajes de programación más populares y de mayor crecimiento en la actualidad\n",
    "\n",
    "### Informacion:\n",
    "* Index TIOBE: https://www.tiobe.com/tiobe-index/\n",
    "* PYPL: PopularitY of Programming Language: http://pypl.github.io/PYPL.html\n",
    "\n",
    "---"
   ]
  },
  {
   "cell_type": "markdown",
   "metadata": {},
   "source": [
    "## Lenguajes de programación\n",
    "Todos los lenguajes de programación realizan las mismas tareas, en términos generales, utilizando diferentes instrucciones o construcciones de código.\n",
    "\n",
    "* Entrada / Salida\n",
    "* Operaciones aritméticas / lógicas.\n",
    "* Toma de decisiones (condiciones)\n",
    "* Repetición de operaciones (bucles)\n",
    "* Modelamiento del mundo real (objetos)"
   ]
  },
  {
   "cell_type": "markdown",
   "metadata": {},
   "source": [
    "### Importante:  \n",
    "Conforme va revisando el material, vaya ejecutando cada celda de código para observar los resultados."
   ]
  },
  {
   "cell_type": "markdown",
   "metadata": {},
   "source": [
    "## Primeros pasos en Python:  La función print\n",
    "![](https://media1.tenor.com/images/ac9cf136a3c0f857e436c32561e9b6e8/tenor.gif?itemid=16957606)"
   ]
  },
  {
   "cell_type": "markdown",
   "metadata": {},
   "source": [
    "`print()` es un ejemplo de un BIF: una funcion pre-definida en Python (_Built In Function_). La función `print()` permite imprimir un `str`, ademas de otros tipos de objetos y resultado de operaciones"
   ]
  },
  {
   "cell_type": "markdown",
   "metadata": {},
   "source": [
    "Para comentar una línea en un código Python se utiliza el caracter #. Un comentario no se ejecuta (no es una instrucción)"
   ]
  },
  {
   "cell_type": "code",
   "execution_count": null,
   "metadata": {},
   "outputs": [],
   "source": [
    "#----------------------------------------------------\n",
    "# Programa Hola Mundo que utiliza la funcion print\n",
    "# para mostrar un mensaje (str) en pantalla\n",
    "#----------------------------------------------------\n",
    "\n",
    "print(\"Hola Mundo\")     # Esto es facil!"
   ]
  },
  {
   "cell_type": "markdown",
   "metadata": {},
   "source": [
    "Un `str` es una secuencia de caracteres (llamado comunmente texto o cadena)"
   ]
  },
  {
   "cell_type": "markdown",
   "metadata": {},
   "source": [
    "El tipo de dato string (str) tiene muchas formas de definirse: pueden utilizarse comillas simples ('), comillas dobles (\"), comillas simple triples (''') o comillas dobles triples (\"\"\")."
   ]
  },
  {
   "cell_type": "code",
   "execution_count": null,
   "metadata": {},
   "outputs": [],
   "source": [
    "'Una golondrina no hace verano'"
   ]
  },
  {
   "cell_type": "code",
   "execution_count": null,
   "metadata": {},
   "outputs": [],
   "source": [
    "\"Una golondrina no hace verano\""
   ]
  },
  {
   "cell_type": "code",
   "execution_count": null,
   "metadata": {},
   "outputs": [],
   "source": [
    "'''Tres golondrinas... esas sin hacen verano'''"
   ]
  },
  {
   "cell_type": "code",
   "execution_count": null,
   "metadata": {},
   "outputs": [],
   "source": [
    "\"\"\"...pero cuatro ya son multitud\"\"\""
   ]
  },
  {
   "cell_type": "markdown",
   "metadata": {},
   "source": [
    "Las definición de un string con triples comillas (ya sean simples o dobles) permite insertar una nueva línea en el string (lo que se muestra con el caracter de escape \\n)"
   ]
  },
  {
   "cell_type": "code",
   "execution_count": null,
   "metadata": {
    "scrolled": true
   },
   "outputs": [],
   "source": [
    "'''\n",
    "La programación se aprende haciendo,\n",
    "experimentar, prácticar y valorar los cursos\n",
    "como parte de su preparación para ser ingenieros\n",
    "'''"
   ]
  },
  {
   "cell_type": "markdown",
   "metadata": {},
   "source": [
    "Pero en la impresión, esta caracter \\n se interpretara correctamente como una nueva linea"
   ]
  },
  {
   "cell_type": "code",
   "execution_count": null,
   "metadata": {
    "scrolled": false
   },
   "outputs": [],
   "source": [
    "print('''\n",
    "La programación se aprende haciendo,\n",
    "experimentar, prácticar y valorar los cursos\n",
    "como parte de su preparación para ser ingenieros\n",
    "''')"
   ]
  },
  {
   "cell_type": "markdown",
   "metadata": {},
   "source": [
    "Observe como se pueden combinar comillas simples y dobles para crear un str"
   ]
  },
  {
   "cell_type": "code",
   "execution_count": null,
   "metadata": {},
   "outputs": [],
   "source": [
    "print(\"Hola mundo, soy Python, 'a estudiar'\")"
   ]
  },
  {
   "cell_type": "code",
   "execution_count": null,
   "metadata": {},
   "outputs": [],
   "source": [
    "print('Python es un lenguaje muy \"popular\"')"
   ]
  },
  {
   "cell_type": "markdown",
   "metadata": {},
   "source": [
    "Note que en los casos anteriores si una cadena inicia con `\"\"`, debe terminar con `\"\"`, y los mismo para `''`. Esto permite utilizar las comillas en un `str` en caso sea necesario."
   ]
  },
  {
   "cell_type": "markdown",
   "metadata": {},
   "source": [
    "Note el siguiente resultado de la función `print()`:"
   ]
  },
  {
   "cell_type": "code",
   "execution_count": null,
   "metadata": {},
   "outputs": [],
   "source": [
    "print(\"Brasil\",\"Argentina\",\"Ecuador\",\"Uruguay\",\"Perú\")"
   ]
  },
  {
   "cell_type": "markdown",
   "metadata": {},
   "source": [
    "Cada uno de los argumentos de `print()` se imprimen por separado, ya que el separador de argumentos `,` se reemplaza por un espacio en blanco ' '. Esto esta definido en la misma función como un argumento asociado a una palabra clave o *keyword*, el keyword `sep`. Puede verificar esto consultando en la ayuda de la función `print()`"
   ]
  },
  {
   "cell_type": "code",
   "execution_count": null,
   "metadata": {},
   "outputs": [],
   "source": [
    "print?  "
   ]
  },
  {
   "cell_type": "code",
   "execution_count": null,
   "metadata": {},
   "outputs": [],
   "source": [
    "#otra de forma de mostrar la ayuda de print:\n",
    "help(print)"
   ]
  },
  {
   "cell_type": "markdown",
   "metadata": {},
   "source": [
    "Como puede observar, el keyword `sep=' '` indica que el separador de argumentos será reemplazado por un espacio en blanco. Este separador puede modificarse para que sea reemplazado por otro caracter. Por ejemplo:"
   ]
  },
  {
   "cell_type": "code",
   "execution_count": null,
   "metadata": {},
   "outputs": [],
   "source": [
    "print(\"Brasil\",\"Argentina\",\"Ecuador\",\"Uruguay\",\"Perú\",sep='->')"
   ]
  },
  {
   "cell_type": "markdown",
   "metadata": {},
   "source": [
    "Vuelva a consultar la ayuda de `print()`. Observe el otro keyword de la funcion: `end`. Por defecto, tiene el valor `end=\\n`. Esto quiere decir que una vez que ha terminado con la impresión, agrega al final el caracter de escape `\\n` que significa *nueva linea*, es decir que cada llamada de la función `print()` imprime una linea independiente:"
   ]
  },
  {
   "cell_type": "code",
   "execution_count": null,
   "metadata": {},
   "outputs": [],
   "source": [
    "print(\"Hola\")\n",
    "print(\"Mundo\")"
   ]
  },
  {
   "cell_type": "markdown",
   "metadata": {},
   "source": [
    "Un uso frecuente de la asignación de keywords en `print()` es modificar este funcionamiento de la siguiente forma:"
   ]
  },
  {
   "cell_type": "code",
   "execution_count": null,
   "metadata": {},
   "outputs": [],
   "source": [
    "print(\"Hola\",end=' ')\n",
    "print(\"Mundo\")"
   ]
  },
  {
   "cell_type": "markdown",
   "metadata": {},
   "source": [
    "Python soporta los caracteres de escape estándar (definidos en C). Entre estos se pueden listar los siguientes\n",
    "    \n",
    "* \\n: New Line\n",
    "* \\t: Tab\n",
    "* \\b: Backspace\n",
    "* \\a: Alarm"
   ]
  },
  {
   "cell_type": "code",
   "execution_count": null,
   "metadata": {},
   "outputs": [],
   "source": [
    "print(\"Equipo\\tGoles\\tPuntos\\nBrasid\\bl\")"
   ]
  },
  {
   "cell_type": "markdown",
   "metadata": {},
   "source": [
    "## Tipos de datos y operadores aritméticos\n",
    "Python dispone de un conjunto de tipos numericos para realizar las operaciones matemáticas básicas (sumas, restas, multiplicación, división). "
   ]
  },
  {
   "cell_type": "markdown",
   "metadata": {},
   "source": [
    "Python soporta 7 operaciones aritméticas.\n",
    "Podemos usar la función print() con argumentos para imprimir resultados de operaciones"
   ]
  },
  {
   "cell_type": "code",
   "execution_count": null,
   "metadata": {},
   "outputs": [],
   "source": [
    "print(\"2+3 =\",2+3)\n",
    "print(\"2-3 =\",2-3)\n",
    "print(\"2x3 =\",2*3)\n",
    "print(\"2/3 =\",2/3)\n",
    "print(\"2//3 =\",2//3)  #division entera\n",
    "print(\"2**3 =\",2**3)  #2 elevado al cubo\n",
    "print(\"3%2 =\",3%2)    #residuo de dividir 3 entre 2"
   ]
  },
  {
   "cell_type": "markdown",
   "metadata": {},
   "source": [
    "Python tiene como otros lenguajes de programación una jerarquia en el orden de ejecución de intrucciones. Puede utilizar () para modificar esta regla.\n",
    "\n",
    "| Operación      | Operador      | Orden |\n",
    "|----------------|:-------------:|:-----:|\n",
    "| Paréntesis     |       ()      |   1   |\n",
    "| Potenciación   |       **      |   2   |\n",
    "| División       |       /       |   3   |\n",
    "| División Entera|       //      |   3   |\n",
    "| Multiplicación |       *       |   3   |\n",
    "| Módulo         |       %       |   3   |\n",
    "| Suma           |       +       |   4   |\n",
    "| Resta          |       -       |   4   |"
   ]
  },
  {
   "cell_type": "code",
   "execution_count": null,
   "metadata": {},
   "outputs": [],
   "source": [
    "20+3+50/5**(2%4)"
   ]
  },
  {
   "cell_type": "markdown",
   "metadata": {},
   "source": [
    "Los errores en Python se muestran como un mensaje devuelto por el intérprete. Lor errores incluyen un texto que indica el tipo de error, una flecha (---->) que indica donde esta el error y el nombre de esta Excepción que es como se suele denominar a los tipos de errores. Intente realizar una división entre cero en la celda inferior."
   ]
  },
  {
   "cell_type": "code",
   "execution_count": null,
   "metadata": {},
   "outputs": [],
   "source": [
    "7 / 0"
   ]
  },
  {
   "cell_type": "markdown",
   "metadata": {},
   "source": [
    "Note los resultados de las siguientes operaciones y considere sus resultados:"
   ]
  },
  {
   "cell_type": "code",
   "execution_count": null,
   "metadata": {},
   "outputs": [],
   "source": [
    "print(1/2)\n",
    "print(1//2)\n",
    "print(1.0//2)"
   ]
  },
  {
   "cell_type": "markdown",
   "metadata": {},
   "source": [
    "Aunque el operador \"//\" calcula una división entera, el resultado es un dato con un valor decimal. Python ajusta este resultado en función de los números involucrados en el procedimiento aritmético. Esto es porque Python soporta *tipos* de datos. Python es un lenguaje de *prototipado fuerte* "
   ]
  },
  {
   "cell_type": "markdown",
   "metadata": {},
   "source": [
    "Python reconoce el tipo de dato ingresado por la forma como este se ha escrito: valores sin decimales como enteros (int), valores con decimales como flotantes (float) y valores complejos por contener el caracter j (complex). Se puede utilizar la función type() para revisar el tipo de datos."
   ]
  },
  {
   "cell_type": "code",
   "execution_count": null,
   "metadata": {},
   "outputs": [],
   "source": [
    "print(type(3))\n",
    "print(type(1.5))\n",
    "print(type(\"hola\"))\n",
    "print(type('A'))  #en python no existe el dato tipo char solo string\n",
    "print(type(2+3j))\n",
    "print(type(True))\n",
    "print(type(False))"
   ]
  },
  {
   "cell_type": "markdown",
   "metadata": {},
   "source": [
    "Se pueden utilizar las funciones int, float y complex para convertir entre tipos de datos, aunque no todas las conversiones de datos estan permitidas"
   ]
  },
  {
   "cell_type": "code",
   "execution_count": null,
   "metadata": {},
   "outputs": [],
   "source": [
    "int(2.9) #convierte 2.9 a entero"
   ]
  },
  {
   "cell_type": "code",
   "execution_count": null,
   "metadata": {},
   "outputs": [],
   "source": [
    "float(10)  #convierte 10 a flotante"
   ]
  },
  {
   "cell_type": "code",
   "execution_count": null,
   "metadata": {},
   "outputs": [],
   "source": [
    "str(3.1415)  #convierte de flotante a string"
   ]
  },
  {
   "cell_type": "code",
   "execution_count": null,
   "metadata": {},
   "outputs": [],
   "source": [
    "float('1.7172')  #convierte de string a flotante"
   ]
  },
  {
   "cell_type": "code",
   "execution_count": null,
   "metadata": {},
   "outputs": [],
   "source": [
    "complex(3)  #convierte de entero a complejo"
   ]
  },
  {
   "cell_type": "code",
   "execution_count": null,
   "metadata": {},
   "outputs": [],
   "source": [
    "int(3+3j)  #conversión de complejo a entero (no se permite)"
   ]
  },
  {
   "cell_type": "code",
   "execution_count": null,
   "metadata": {},
   "outputs": [],
   "source": [
    "int('Hola')  #conversión de un texto sin caracteres numéricos a entero (no se permite)"
   ]
  },
  {
   "cell_type": "code",
   "execution_count": null,
   "metadata": {},
   "outputs": [],
   "source": [
    "float(1+2j) #conversión de complejo a flotante (no se permite)"
   ]
  },
  {
   "cell_type": "markdown",
   "metadata": {},
   "source": [
    "## Asignación de variables\n",
    "En Python el operador `=` permite asignar valores a variables y de esta manera crearlas "
   ]
  },
  {
   "cell_type": "code",
   "execution_count": null,
   "metadata": {},
   "outputs": [],
   "source": [
    "var = 100"
   ]
  },
  {
   "cell_type": "markdown",
   "metadata": {},
   "source": [
    "Las asignaciones no se muestran en la pantalla, como sucede como otras herramientas interpretadas, como MATLAB u Octave. Para visualizar el contenido de una variable sera necesario volver a escribir el nombre de la variable."
   ]
  },
  {
   "cell_type": "code",
   "execution_count": null,
   "metadata": {
    "scrolled": true
   },
   "outputs": [],
   "source": [
    "var"
   ]
  },
  {
   "cell_type": "markdown",
   "metadata": {},
   "source": [
    "Para crear una variable no es necesario especificar el tipo de dato. El tipo se define de acuerdo al valor que se asigna (es por ello que Python es de **tipado dinámico**)"
   ]
  },
  {
   "cell_type": "code",
   "execution_count": null,
   "metadata": {},
   "outputs": [],
   "source": [
    "var1 = 3\n",
    "var2 = 12.3\n",
    "var3 = \"Python\"\n",
    "var4 = 3+4j\n",
    "\n",
    "print('var1:',var1,\"\\tTipo:\",type(var1))\n",
    "print('var2:',var2,\"\\tTipo:\",type(var2))\n",
    "print('var3:',var3,\"\\tTipo:\",type(var3))\n",
    "print('var4:',var4,\"\\tTipo:\",type(var4))"
   ]
  },
  {
   "cell_type": "markdown",
   "metadata": {},
   "source": [
    "Pruebe asignar varios tipos de datos a la misma variable y verifique con la funcion type() que el tipo de datos reconocido por Python es diferente."
   ]
  },
  {
   "cell_type": "code",
   "execution_count": null,
   "metadata": {},
   "outputs": [],
   "source": [
    "var = 10\n",
    "type(var)"
   ]
  },
  {
   "cell_type": "code",
   "execution_count": null,
   "metadata": {},
   "outputs": [],
   "source": [
    "var = 3.1416\n",
    "type(var)"
   ]
  },
  {
   "cell_type": "code",
   "execution_count": null,
   "metadata": {},
   "outputs": [],
   "source": [
    "var = \"Hola\"\n",
    "type(var)"
   ]
  },
  {
   "cell_type": "code",
   "execution_count": null,
   "metadata": {},
   "outputs": [],
   "source": [
    "var = 2+3j\n",
    "type(var)"
   ]
  },
  {
   "cell_type": "markdown",
   "metadata": {},
   "source": [
    "Es posible asignar varios valores a varias variables a la vez utilizando \",\" para separar las variables y los valores a asignar."
   ]
  },
  {
   "cell_type": "code",
   "execution_count": null,
   "metadata": {},
   "outputs": [],
   "source": [
    "var1, var2 = 1, 3\n",
    "print(var1, var2)"
   ]
  },
  {
   "cell_type": "markdown",
   "metadata": {},
   "source": [
    "Nota: Las celdas en Jupyter solo imprimen el resultado de la ultima instruccion, a menos que se utilice la instruccion print para especificar la impresion de los resultados."
   ]
  },
  {
   "cell_type": "code",
   "execution_count": null,
   "metadata": {},
   "outputs": [],
   "source": [
    "12 + 3\n",
    "12 % 7\n",
    "1 + 2"
   ]
  },
  {
   "cell_type": "code",
   "execution_count": null,
   "metadata": {},
   "outputs": [],
   "source": [
    "print(12 + 3)\n",
    "print(14 % 7)\n",
    "print(1 + 2)"
   ]
  },
  {
   "cell_type": "markdown",
   "metadata": {},
   "source": [
    "Como en todo lenguaje de programación, es preferible operar con variables a hacerlo directamente con números:"
   ]
  },
  {
   "cell_type": "code",
   "execution_count": null,
   "metadata": {},
   "outputs": [],
   "source": [
    "var = 3\n",
    "result = var+5\n",
    "print(result)"
   ]
  },
  {
   "cell_type": "markdown",
   "metadata": {},
   "source": [
    "Note que en Python las variable son *case sensitive*, esto es que consideran las letras mayusculas y minusculas de forma diferenciada:"
   ]
  },
  {
   "cell_type": "code",
   "execution_count": null,
   "metadata": {},
   "outputs": [],
   "source": [
    "var = 10\n",
    "Var = 10\n",
    "print(var,Var)"
   ]
  },
  {
   "cell_type": "markdown",
   "metadata": {},
   "source": [
    "El nombre de las variables en Python pueden ser arbitrariamente largas. Pueden contener letras y numeros, pero deben de empezar con una letra o con un caracter de subrayado (_). Asi también, aunque se pueden utilizar letras mayusculas, por convención no se utilizan. "
   ]
  },
  {
   "cell_type": "markdown",
   "metadata": {},
   "source": [
    "Asi también, una variable no puede tener espacios en blanco (utilizar `_`), ni palabras reservadas"
   ]
  },
  {
   "cell_type": "markdown",
   "metadata": {},
   "source": [
    "Python tiene más de 30 palabras reservadas (este número puede cambiar según las versiones de Python):\n",
    "\n",
    "\n",
    "<style type=\"text/css\">\n",
    ".tg  {border-collapse:collapse;border-spacing:0;}\n",
    ".tg td{font-family:Arial, sans-serif;font-size:14px;padding:10px 5px;border-style:solid;border-width:1px;overflow:hidden;word-break:normal;}\n",
    ".tg th{font-family:Arial, sans-serif;font-size:14px;font-weight:normal;padding:10px 5px;border-style:solid;border-width:1px;overflow:hidden;word-break:normal;}\n",
    ".tg .tg-baqh{text-align:center;vertical-align:top}\n",
    ".tg .tg-yw4l{vertical-align:top}\n",
    "</style>\n",
    "<table class=\"tg\">\n",
    "  <tr>\n",
    "    <td class=\"tg-baqh\">and</td>\n",
    "    <td class=\"tg-yw4l\">as</td>\n",
    "    <td class=\"tg-yw4l\">assert</td>\n",
    "    <td class=\"tg-yw4l\">break</td>\n",
    "    <td class=\"tg-yw4l\">class</td>\n",
    "    <td class=\"tg-yw4l\">continue</td>\n",
    "  </tr>\n",
    "  <tr>\n",
    "    <td class=\"tg-yw4l\">def</td>\n",
    "    <td class=\"tg-yw4l\">del</td>\n",
    "    <td class=\"tg-yw4l\">elif</td>\n",
    "    <td class=\"tg-yw4l\">else</td>\n",
    "    <td class=\"tg-yw4l\">except</td>\n",
    "    <td class=\"tg-yw4l\">exec</td>\n",
    "  </tr>\n",
    "  <tr>\n",
    "    <td class=\"tg-yw4l\">finally</td>\n",
    "    <td class=\"tg-yw4l\">for</td>\n",
    "    <td class=\"tg-yw4l\">from</td>\n",
    "    <td class=\"tg-yw4l\">global</td>\n",
    "    <td class=\"tg-yw4l\">if</td>\n",
    "    <td class=\"tg-yw4l\">import</td>\n",
    "  </tr>\n",
    "  <tr>\n",
    "    <td class=\"tg-yw4l\">in</td>\n",
    "    <td class=\"tg-yw4l\">is</td>\n",
    "    <td class=\"tg-yw4l\">lambda</td>\n",
    "    <td class=\"tg-yw4l\">nonlocal</td>\n",
    "    <td class=\"tg-yw4l\">not</td>\n",
    "    <td class=\"tg-yw4l\">or</td>\n",
    "  </tr>\n",
    "  <tr>\n",
    "    <td class=\"tg-yw4l\">pass</td>\n",
    "    <td class=\"tg-yw4l\">raise</td>\n",
    "    <td class=\"tg-yw4l\">return</td>\n",
    "    <td class=\"tg-yw4l\">try</td>\n",
    "    <td class=\"tg-yw4l\">while</td>\n",
    "    <td class=\"tg-yw4l\">with</td>\n",
    "  </tr>\n",
    "  <tr>\n",
    "    <td class=\"tg-yw4l\">yield</td>\n",
    "    <td class=\"tg-yw4l\">True</td>\n",
    "    <td class=\"tg-yw4l\">False</td>\n",
    "    <td class=\"tg-yw4l\">None</td>\n",
    "    <td class=\"tg-yw4l\"></td>\n",
    "    <td class=\"tg-yw4l\"></td>\n",
    "  </tr>\n",
    "</table>"
   ]
  },
  {
   "cell_type": "code",
   "execution_count": null,
   "metadata": {},
   "outputs": [],
   "source": [
    "12cervezas = \"Una caja\"  #el nombre de una variable no puede empezar en número"
   ]
  },
  {
   "cell_type": "code",
   "execution_count": null,
   "metadata": {},
   "outputs": [],
   "source": [
    "tres% = \"Tres por ciento\"  #el nombre de una variable no puede tener al caracter %"
   ]
  },
  {
   "cell_type": "code",
   "execution_count": null,
   "metadata": {},
   "outputs": [],
   "source": [
    "class = \"Seccion A\"  #el nombre de una variable no puede ser una palabra reservada"
   ]
  },
  {
   "cell_type": "code",
   "execution_count": null,
   "metadata": {},
   "outputs": [],
   "source": [
    "velocidad inicial = 30.5  #el nombre de una variable no puede tener espacios en blanco"
   ]
  },
  {
   "cell_type": "markdown",
   "metadata": {},
   "source": [
    "Los códigos anteriores presentan un error de ejecución, como se había mencionado antes, lo que en Python se conoce como *excepción*. Las excepciones estan especificadas según una clasificación interna. En el caso anterior, la excepción es del tipo `SyntaxError`; esto es, que se ha cometido un *error de sintaxis* o un error asociado a la forma como se ha escrito la instrucción."
   ]
  },
  {
   "cell_type": "markdown",
   "metadata": {},
   "source": [
    "Como se ha estado observando, si a la función print() se le envian argumentos separados por comas ',', los argumentos se imprimen en una línea, con un espacio de separación entre ellos."
   ]
  },
  {
   "cell_type": "code",
   "execution_count": null,
   "metadata": {},
   "outputs": [],
   "source": [
    "dias_febrero = 28\n",
    "print(\"El mes de febrero tiene\", dias_febrero, \"dias\")"
   ]
  },
  {
   "cell_type": "code",
   "execution_count": null,
   "metadata": {},
   "outputs": [],
   "source": [
    "nombre = None      # Esriba su nombre en lugar de None\n",
    "print(\"Bienvenido al lado oscuro\", nombre)"
   ]
  },
  {
   "cell_type": "code",
   "execution_count": null,
   "metadata": {
    "scrolled": true
   },
   "outputs": [],
   "source": [
    "print(\"El modulo de\", 3+4j, \"es\", abs(3+4j))"
   ]
  },
  {
   "cell_type": "code",
   "execution_count": null,
   "metadata": {},
   "outputs": [],
   "source": [
    "i = 1\n",
    "print(\"El valor de i es\",i)\n",
    "print(\"El valor de i+1 es\",i+1)"
   ]
  },
  {
   "cell_type": "markdown",
   "metadata": {},
   "source": [
    "## Asignación de variable interactiva con input()\n",
    "Una variable tambien puede ser asignada de forma interactiva utilizando la función `input()`:"
   ]
  },
  {
   "cell_type": "code",
   "execution_count": null,
   "metadata": {},
   "outputs": [],
   "source": [
    "nombre = input(\"Ingrese su nombre: \")\n",
    "print(\"Hola\",nombre)"
   ]
  },
  {
   "cell_type": "markdown",
   "metadata": {},
   "source": [
    "La función `input()` muestra en el terminal un `str` y espera a que el usuario ingrese un dato. El dato capturado es retornado y se asigna a una variable, por lo que se puede hacer alguna operación sobre la variable asignada:"
   ]
  },
  {
   "cell_type": "code",
   "execution_count": null,
   "metadata": {
    "scrolled": true
   },
   "outputs": [],
   "source": [
    "num = input(\"Ingrese un numero a triplicar: \")\n",
    "result = 3*num\n",
    "print(\"El valor triplicado es:\",result)"
   ]
  },
  {
   "cell_type": "markdown",
   "metadata": {},
   "source": [
    "¿Algo salió mal? ¿El resultado es el esperado? De que tipo es el dato que retorna la función `input()`:"
   ]
  },
  {
   "cell_type": "code",
   "execution_count": null,
   "metadata": {},
   "outputs": [],
   "source": [
    "num = input(\"Ingrese un numero a triplicar: \")\n",
    "print(type(num))"
   ]
  },
  {
   "cell_type": "markdown",
   "metadata": {},
   "source": [
    "Nota: El dato capturado por la función input() es retornado en formato string"
   ]
  },
  {
   "cell_type": "markdown",
   "metadata": {},
   "source": [
    "Si se quiere asignar un valor entero a partir de un `str` obtenido por medio de la función `input()` debe de realizarse una conversión de tipo de datos, o un *typecast*. Esto en Python se realiza de la siguiente forma:"
   ]
  },
  {
   "cell_type": "code",
   "execution_count": null,
   "metadata": {},
   "outputs": [],
   "source": [
    "diez=\"10\"\n",
    "numero = int(diez) #convierte a tipo entero\n",
    "print('diez:',diez,\"\\tSu tipo es:\",type(diez))\n",
    "print('numero:',numero,\"\\tSu tipo es:\",type(numero))"
   ]
  },
  {
   "cell_type": "markdown",
   "metadata": {},
   "source": [
    "La asignación del tipo de datos se puede hacer de dos maneras: operación sobre una variable, o encadenando los retornos de las funciones:"
   ]
  },
  {
   "cell_type": "code",
   "execution_count": null,
   "metadata": {},
   "outputs": [],
   "source": [
    "num = input(\"Ingrese un numero a triplicar: \")\n",
    "numero = int(num)\n",
    "result=numero*3\n",
    "print(result)"
   ]
  },
  {
   "cell_type": "code",
   "execution_count": null,
   "metadata": {},
   "outputs": [],
   "source": [
    "num = int(input(\"Ingrese un numero a triplicar: \"))\n",
    "result=num*3\n",
    "print(result)"
   ]
  },
  {
   "cell_type": "markdown",
   "metadata": {},
   "source": [
    "Se puede mejorar el resultado considerando las opciones disponibles en la función print():"
   ]
  },
  {
   "cell_type": "code",
   "execution_count": null,
   "metadata": {},
   "outputs": [],
   "source": [
    "num = int(input(\"Ingrese un numero a triplicar: \"))\n",
    "result=num*3\n",
    "print(num,'x 3 =',result)"
   ]
  },
  {
   "cell_type": "markdown",
   "metadata": {},
   "source": [
    "## Formato de visualización numérica: método format o f-strings\n",
    "Los números se visualizan según reglas internas de la función `print()`. Esto se puede modificar utilizando dos maneras:\n",
    "\n",
    "### Uso del método format()\n",
    "`format()` es un ejemplo de algo llamado *método*. Es una función asociada a un objeto, en este caso a un objeto `str` y se utiliza la siguiente nomencaltura:\n",
    "\n",
    "    str.method()\n",
    "    \n",
    "Así, es una operación que afecta a este `str` específico. Todos los tipos de datos tiene métodos asociados. Por ejemplo, un número complejo tiene un método para obtener el \"conjugado\":"
   ]
  },
  {
   "cell_type": "code",
   "execution_count": null,
   "metadata": {},
   "outputs": [],
   "source": [
    "z = 10+3j\n",
    "print(\"z:\",z)\n",
    "print(\"conjugado:\",z.conjugate())"
   ]
  },
  {
   "cell_type": "markdown",
   "metadata": {},
   "source": [
    "El método format permite especificar el formato de visualización de cualquier cadena de texto utilizando unos caracteres { } conocidos como *placeholders*. De tal forma que se puede escribir la siguiente instrucción:"
   ]
  },
  {
   "cell_type": "code",
   "execution_count": null,
   "metadata": {},
   "outputs": [],
   "source": [
    "\"{} + {} + {}\".format(10,20,10+20)"
   ]
  },
  {
   "cell_type": "code",
   "execution_count": null,
   "metadata": {},
   "outputs": [],
   "source": [
    "print(\"{} + {} + {}\".format(10,20,10+20))"
   ]
  },
  {
   "cell_type": "markdown",
   "metadata": {},
   "source": [
    "En los *placeholders* se puede especificar el *formato de visualización* con el caracter `:`:"
   ]
  },
  {
   "cell_type": "code",
   "execution_count": null,
   "metadata": {},
   "outputs": [],
   "source": [
    "peso=82\n",
    "altura=1.72\n",
    "imc = 28.935735735737\n",
    "print(\"{}/{:.2f}^2 = {:.3f}\".format(peso,altura,imc))"
   ]
  },
  {
   "cell_type": "markdown",
   "metadata": {},
   "source": [
    "Así también, se puede especificar el dato que va en cada uno de los *place holders*:"
   ]
  },
  {
   "cell_type": "code",
   "execution_count": null,
   "metadata": {},
   "outputs": [],
   "source": [
    "nombre1 = \"Carlos Perez\"\n",
    "nombre2 = \"Dina Mita\"\n",
    "print(\"{} y {} forman un gran equipo liderado por {}\".format(\n",
    "    nombre1,nombre2,nombre1))"
   ]
  },
  {
   "cell_type": "code",
   "execution_count": null,
   "metadata": {
    "scrolled": true
   },
   "outputs": [],
   "source": [
    "nombre1 = \"Carlos Perez\"\n",
    "nombre2 = \"Dina Mita\"\n",
    "print(\"{0} y {1} forman un gran equipo liderado por {0}\".format(\n",
    "    nombre1,nombre2))"
   ]
  },
  {
   "cell_type": "markdown",
   "metadata": {},
   "source": [
    "Esta característica puede ser de mucha utilidad para repetir valores en varias líneas:"
   ]
  },
  {
   "cell_type": "code",
   "execution_count": null,
   "metadata": {},
   "outputs": [],
   "source": [
    "print(\"{0} x 1 = {0}\\n{0} x 2 = {1}\".format(2,4))"
   ]
  },
  {
   "cell_type": "markdown",
   "metadata": {},
   "source": [
    "El formato de visualización no solo sirve para especificar el número de decimales a mostrar en caso de un dato tipo `float`, sino que además permite especificar el tamaño del espacio de impresión de una cadena y algunos otros trucos del método `format()`:"
   ]
  },
  {
   "cell_type": "code",
   "execution_count": null,
   "metadata": {},
   "outputs": [],
   "source": [
    "print(\"Art: {0:5d}, Price per Unit: {1:8.2f}\".format(453,59.058))"
   ]
  },
  {
   "cell_type": "markdown",
   "metadata": {},
   "source": [
    "{0:5d} imprime el primer valor como entero en un espacio de 5 caracteres\n",
    "{1:8.2f} imprime el segundo valor como flotante en un espacio de 8 caracteres, donde se reservan los 2 últimos para decimales"
   ]
  },
  {
   "attachments": {
    "format.png": {
     "image/png": "[encoded data removed]"
    }
   },
   "cell_type": "markdown",
   "metadata": {},
   "source": [
    "![format.png](attachment:format.png)"
   ]
  },
  {
   "cell_type": "code",
   "execution_count": null,
   "metadata": {},
   "outputs": [],
   "source": [
    "print(\"{:^40}\".format(\"ALUMNOS MATRICULADOS\"))\n",
    "print(\"{:^40}\".format(\"====================\"))\n",
    "print()\n",
    "print(\"{:^20} {:^20}\".format(\"NOMBRE\",\"CODIGO\"))\n",
    "print(\"{:^20} {:^20}\".format(\"------\",\"------\"))\n",
    "print(\"{:.<30}{}\".format(\"Armandoo Paredes\",\"a20217678\"))\n",
    "print(\"{:.<30}{}\".format(\"Elmer Cenario\",\"a20219065\"))"
   ]
  },
  {
   "cell_type": "markdown",
   "metadata": {},
   "source": [
    "### Uso de f-strings\n",
    "A partir de Python 3.6 se puede utilizar una forma más abreviada de controlar el formato de visualización con un `f-string`:"
   ]
  },
  {
   "cell_type": "code",
   "execution_count": null,
   "metadata": {},
   "outputs": [],
   "source": [
    "peso=82\n",
    "altura=1.72\n",
    "imc=28.46464646\n",
    "print(f\"{peso}/{altura:.2f}^2 = {imc:.3f}\")"
   ]
  },
  {
   "cell_type": "markdown",
   "metadata": {},
   "source": [
    "Esta es la opción que se utiliza cada vez con mayor frecuencia por parte de la comunidad de programadores de Python. En este curso utilizaremos de forma indistinta el método format y los f-string."
   ]
  },
  {
   "cell_type": "markdown",
   "metadata": {},
   "source": [
    "## Separación de cadenas: el método split()\n",
    "Otro método útil en la manipulación de cadenas es `split()` que separa una cadena en secciones:"
   ]
  },
  {
   "cell_type": "code",
   "execution_count": null,
   "metadata": {},
   "outputs": [],
   "source": [
    "word1,word2 = \"Dos                palabras\".split()\n",
    "print(word1,\"\\n\",word2)"
   ]
  },
  {
   "cell_type": "markdown",
   "metadata": {},
   "source": [
    "Esto se puede combinar con el ingreso interactivo de datos para obtener varios datos en una sola consulta:"
   ]
  },
  {
   "cell_type": "code",
   "execution_count": null,
   "metadata": {},
   "outputs": [],
   "source": [
    "nombre,apellido = input(\"Ingrese su nombre y apellido: \").split()\n",
    "\n",
    "print(apellido,\",\",nombre)"
   ]
  },
  {
   "cell_type": "markdown",
   "metadata": {},
   "source": [
    "El caracter que se utiliza como separador es el espacio en blanco, pero se puede especificar un caracter de separación diferente como argumento del método `split()`:"
   ]
  },
  {
   "cell_type": "code",
   "execution_count": null,
   "metadata": {
    "scrolled": true
   },
   "outputs": [],
   "source": [
    "hh,mm,ss = input(\"Ingrese la hora actual [hh:mm:ss]: \").split(\":\")\n",
    "print(\"Hora:\",hh)\n",
    "print(\"Minutos:\",mm)\n",
    "print(\"Segundo:\",ss)"
   ]
  },
  {
   "cell_type": "markdown",
   "metadata": {},
   "source": [
    "Hay que notar que se tiene que tener cuidado al momento de realizar un *typecast* al utilizar el método `split()` pues los cambios de tipos de variables se deben realizar sobre cada uno de los datos de forma independiente:"
   ]
  },
  {
   "cell_type": "code",
   "execution_count": null,
   "metadata": {},
   "outputs": [],
   "source": [
    "num1, num2 = input(\"Ingrese 2 numeros: \").split()\n",
    "print(\"{} + {} = {:.3f}\".format(num1,num2,float(num1)+float(num2)))"
   ]
  },
  {
   "cell_type": "markdown",
   "metadata": {},
   "source": [
    "### Ayuda en Python\n",
    "Para concluír... ¿y donde encuentro la ayuda en el mismo sistema Python? La ayuda en consola se puede obtener utilizando la instruccion *help()* (para salir es necesario ingresar \"q\").\n",
    "\n",
    "En Jupyter y en muchos IDEs se puede obtener ayuda presionando la tecla [Tab] mientras se va ingresando una instrucción.\n",
    "\n",
    "Toda la documentación de Python se puede consultar en la [ayuda en linea](https://docs.python.org/3/library/index.html)."
   ]
  },
  {
   "cell_type": "code",
   "execution_count": null,
   "metadata": {},
   "outputs": [],
   "source": [
    "#pruebe ejecutando la siguiente instrucción: (no olvidar ingresar 'q' para salir de la ayuda)\n",
    "help()"
   ]
  }
 ],
 "metadata": {
  "kernelspec": {
   "display_name": "Python 3 (ipykernel)",
   "language": "python",
   "name": "python3"
  },
  "language_info": {
   "codemirror_mode": {
    "name": "ipython",
    "version": 3
   },
   "file_extension": ".py",
   "mimetype": "text/x-python",
   "name": "python",
   "nbconvert_exporter": "python",
   "pygments_lexer": "ipython3",
   "version": "3.9.7"
  }
 },
 "nbformat": 4,
 "nbformat_minor": 4
}
