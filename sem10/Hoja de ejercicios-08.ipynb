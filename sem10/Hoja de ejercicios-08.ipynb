{
 "cells": [
  {
   "cell_type": "markdown",
   "metadata": {},
   "source": [
    "# Hoja de ejercicios-08"
   ]
  },
  {
   "cell_type": "markdown",
   "metadata": {},
   "source": [
    "### Ejercicio 1\n",
    "El balance *B* de una cuenta de ahorros para un capital inicial *A*, una taza de interés anual de *r* %, despues de *n* años , esta dado por:\n",
    "\n",
    "$$B = A \\left( 1 + \\frac{r}{100} \\right)^n $$\n",
    "\n",
    "Desarrolle un programa que calcule (usando la fórmula mostrada) el balance de una cuenta de ahorros a final de año, durante 10 años, para determinados valores de *A* y *r*. Muestre sus resultados en una tabla de dos columnas, donde la primera muestre el número de año y la segunda muestre el valor correspondiente a *B*\n",
    "\n",
    "Por ejemplo, para *A* = 20000 y *r* = 6.5% se mostraría:\n",
    "\n",
    "    año        balance\n",
    "     1\t    21,300.00\n",
    "     2\t    22,684.50\n",
    "     3\t    24,158.99\n",
    "     4\t    25,729.33\n",
    "     5\t    27,401.73\n",
    "     6\t    29,182.85\n",
    "     7\t    31,079.73\n",
    "     8\t    33,099.91\n",
    "     9\t    35,251.41\n",
    "    10\t    37,542.75"
   ]
  },
  {
   "cell_type": "code",
   "execution_count": 6,
   "metadata": {
    "scrolled": true
   },
   "outputs": [
    {
     "name": "stdout",
     "output_type": "stream",
     "text": [
      "Ingrese tu capital inicial: 20000\n",
      "ingrese su tu interes anual: 6.5\n",
      "ingrese la cantidad de años: 10\n",
      "\n",
      "----------------\n",
      "año      balance\n",
      " 1\t21,300.00\n",
      " 2\t22,684.50\n",
      " 3\t24,158.99\n",
      " 4\t25,729.33\n",
      " 5\t27,401.73\n",
      " 6\t29,182.85\n",
      " 7\t31,079.73\n",
      " 8\t33,099.91\n",
      " 9\t35,251.41\n",
      "10\t37,542.75\n"
     ]
    }
   ],
   "source": [
    "#Solo complete el código donde se debe (no cambie la estructura del programa)\n",
    "import numpy as np\n",
    "\n",
    "A = int(input(\"Ingrese tu capital inicial: \"))\n",
    "r = float(input(\"ingrese su tu interes anual: \"))\n",
    "year=int(input(\"ingrese la cantidad de años: \"))\n",
    "print(\"\\n----------------\")\n",
    "#n: arreglo de años \n",
    "n = np.arange(1,year+1)\n",
    "\n",
    "#B: arreglo de balances calculados\n",
    "#B = A*(1+r/100)**n\n",
    "B = A*np.power(1+r/100,n)\n",
    "\n",
    "print(\"año      balance\")\n",
    "for anio, balance in zip(n, B):\n",
    "    print(\"{:2}\\t{:6,.2f}\".format(anio,balance))"
   ]
  },
  {
   "cell_type": "markdown",
   "metadata": {},
   "source": [
    "### Ejercicio 2\n",
    "La velocidad *v* y la distancia *d*, en función del tiempo *t*, de un coche que tiene una velocidad constante *a*, vienen dadas por:\n",
    " \n",
    "$$v \\left(t\\right) = a.t$$   \n",
    "$$d \\left(t\\right) = \\frac{1}{2}a.t^2$$\n",
    "\n",
    "Determine *v* y *d* para *N* valores de tiempo en el intervalo [0,10] segundos, para un coche con una aceleración a = 1.55 m/s^2. Muestre los resultados en una tabla de tres columnas, en la cual la primera sea el tiempo (s), en la segunda la distancia (m) y en la tercera la velocidad (m/s). Luego, muestre los instantes de tiempo en la que el coche alcanzó una velocidad en el intervalo [6,10]m/s\n",
    "\n",
    "Por ejemplo, para N = 12, se mostraría:\n",
    "\n",
    "    tiempo  distancia   velocidad\n",
    "    0.00\t  0.00\t    0.00\n",
    "    0.91\t  0.64\t    1.41\n",
    "    1.82\t  2.56\t    2.82\n",
    "    2.73\t  5.76\t    4.23\n",
    "    3.64\t 10.25\t    5.64\n",
    "    4.55\t 16.01\t    7.05\n",
    "    5.45\t 23.06\t    8.45\n",
    "    6.36\t 31.38\t    9.86\n",
    "    7.27\t 40.99\t    11.27\n",
    "    8.18\t 51.88\t    12.68\n",
    "    9.09\t 64.05\t    14.09\n",
    "    10.00\t77.50\t    15.50\n",
    "\n",
    "    Tiempos donde el coche alcanzó velocidades en el intervalo [6,10] m/s\n",
    "    4.55\n",
    "    5.45\n",
    "    6.36"
   ]
  },
  {
   "cell_type": "code",
   "execution_count": 5,
   "metadata": {
    "scrolled": false
   },
   "outputs": [
    {
     "name": "stdout",
     "output_type": "stream",
     "text": [
      "tiempo  distancia   velocidad\n",
      "0.00\t  0.00\t      0.00\n",
      "0.91\t  0.64\t      1.41\n",
      "1.82\t  2.56\t      2.82\n",
      "2.73\t  5.76\t      4.23\n",
      "3.64\t 10.25\t      5.64\n",
      "4.55\t 16.01\t      7.05\n",
      "5.45\t 23.06\t      8.45\n",
      "6.36\t 31.38\t      9.86\n",
      "7.27\t 40.99\t     11.27\n",
      "8.18\t 51.88\t     12.68\n",
      "9.09\t 64.05\t     14.09\n",
      "10.00\t 77.50\t     15.50\n",
      "\n",
      "Tiempos donde el coche alcanzó velocidades en el intervalo [6,10] m/s\n",
      "4.55\n",
      "5.45\n",
      "6.36\n"
     ]
    }
   ],
   "source": [
    "#Solo complete el código donde se debe (no cambie la estructura del programa)\n",
    "import numpy as np\n",
    "\n",
    "a = 1.55\n",
    "N = 12\n",
    "\n",
    "#arreglo de tiempos\n",
    "t = np.linspace(0,10,12)\n",
    "\n",
    "#arreglo de velocidades\n",
    "v = a*t\n",
    "\n",
    "#arreglo de distancia\n",
    "d = (1/2)*a*(t**2)\n",
    "\n",
    "print(\"tiempo  distancia   velocidad\")\n",
    "for tiempo,distancia,velocidad in zip(t,d,v):\n",
    "    print(\"{:.2f}\\t{:6,.2f}\\t{:10,.2f}\".format(tiempo,distancia,velocidad))\n",
    "    \n",
    "print(\"\\nTiempos donde el coche alcanzó velocidades en el intervalo [6,10] m/s\")\n",
    "indices = np.where((v >= 6) & (v <= 10))\n",
    "\n",
    "for temp in t[indices[0]]:\n",
    "    print(\"{:.2f}\".format(temp))"
   ]
  },
  {
   "attachments": {
    "imaprob3-2.png": {
     "image/png": "[encoded data removed]"
    }
   },
   "cell_type": "markdown",
   "metadata": {},
   "source": [
    "### Ejercicio 3\n",
    "Un excursionista necesita cruzar un área pantanosa para poder ir del punto A a un campamento que se encuentra en el punto B. Para hacer esto puede cruzar la zona arenosa perpendicularmente al camino y a continuación andar a lo largo de el, o también puede cruzar la zona arenosa con un angulo $\\theta$ hasta el camino, y luego caminar a lo largo del camino. El excursionista camina a una velocidad de 3.5 km/h por la arena y a 5 km/h por el camino. Calcule el tiempo que le lleva alcanzar el campamento contemplando distintos ángulos $\\theta$ de 0, 10, 20, 30, 40, 50 y 60 grados, para determinados valores de *w* y *u* (en km.). Calcule todas las variables y muestre los resultados en una tabla de dos columnas, donde la primera columna sea $\\theta$ y la segunda el tiempo correspondiente.\n",
    "\n",
    "![imaprob3-2.png](attachment:imaprob3-2.png)\n",
    "\n",
    "Ejemplo para w = 4.5 km  y  u = 14 Km. se mostraría:\n",
    "\n",
    "    angulo(grados)   tiempo\n",
    "        0.00\t     4.086\n",
    "       10.00\t     3.947\n",
    "       20.00\t     3.841\n",
    "       30.00\t     3.765\n",
    "       40.00\t     3.723\n",
    "       50.00\t     3.728\n",
    "       60.00\t     3.813"
   ]
  },
  {
   "cell_type": "code",
   "execution_count": null,
   "metadata": {},
   "outputs": [],
   "source": []
  },
  {
   "cell_type": "code",
   "execution_count": 2,
   "metadata": {},
   "outputs": [
    {
     "name": "stdout",
     "output_type": "stream",
     "text": [
      "angulo(grados)   tiempo\n",
      "    0.00\t 4.086\n",
      "   10.00\t 3.947\n",
      "   20.00\t 3.841\n",
      "   30.00\t 3.765\n",
      "   40.00\t 3.723\n",
      "   50.00\t 3.728\n",
      "   60.00\t 3.813\n"
     ]
    }
   ],
   "source": [
    "#Solo complete el código donde se debe (no cambie la estructura del programa)\n",
    "\n",
    "import numpy as np\n",
    "\n",
    "velArena = 3.5\n",
    "velCamino = 5\n",
    "w = 4.5\n",
    "u = 14\n",
    "\n",
    "#teta: arreglo de angulos (en grados)\n",
    "teta = np.arange(0,70,10)\n",
    "\n",
    "#ang: arreglo de angulos (en radianes)\n",
    "ang = np.deg2rad(teta)\n",
    "\n",
    "#tiempos:  arreglo de tiempos calculados\n",
    "tc=(u-(w*np.tan(ang)))/velCamino\n",
    "ta=(w*(1/np.cos(ang)))/velArena\n",
    "\n",
    "tiempos = tc+ta\n",
    "\n",
    "print(\"angulo(grados)   tiempo\")\n",
    "for angulo,t in zip(teta,tiempos):\n",
    "    print(\"{:8.2f}\\t{:6.3f}\".format(angulo,t))\n"
   ]
  },
  {
   "cell_type": "code",
   "execution_count": null,
   "metadata": {},
   "outputs": [],
   "source": []
  }
 ],
 "metadata": {
  "kernelspec": {
   "display_name": "Python 3 (ipykernel)",
   "language": "python",
   "name": "python3"
  },
  "language_info": {
   "codemirror_mode": {
    "name": "ipython",
    "version": 3
   },
   "file_extension": ".py",
   "mimetype": "text/x-python",
   "name": "python",
   "nbconvert_exporter": "python",
   "pygments_lexer": "ipython3",
   "version": "3.9.12"
  }
 },
 "nbformat": 4,
 "nbformat_minor": 4
}
