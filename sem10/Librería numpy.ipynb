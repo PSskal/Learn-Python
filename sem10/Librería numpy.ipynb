{
 "cells": [
  {
   "cell_type": "code",
   "execution_count": 9,
   "id": "55115ca4",
   "metadata": {},
   "outputs": [],
   "source": [
    "#importar la librería numpy:\n",
    "\n",
    "import numpy as np"
   ]
  },
  {
   "cell_type": "code",
   "execution_count": 10,
   "id": "8f39e2f7",
   "metadata": {},
   "outputs": [
    {
     "data": {
      "text/plain": [
       "array([23,  4, 20])"
      ]
     },
     "execution_count": 10,
     "metadata": {},
     "output_type": "execute_result"
    }
   ],
   "source": [
    "#arreglo unidimensional (vector):\n",
    "\n",
    "#creando un arreglo a partir de una lista de números:\n",
    "A = np.array([12, 14, 21, 18, 20, 4,23])\n",
    "A[-1:3:-1]\n"
   ]
  },
  {
   "cell_type": "code",
   "execution_count": 11,
   "id": "98b00c87",
   "metadata": {},
   "outputs": [
    {
     "name": "stdout",
     "output_type": "stream",
     "text": [
      "[ 0 10 20 30 40 50 60]\n",
      "[0.         0.17453293 0.34906585 0.52359878 0.6981317  0.87266463\n",
      " 1.04719755]\n",
      "0.8939966636005579\n"
     ]
    }
   ],
   "source": [
    "teta = np.arange(0,70,10)\n",
    "\n",
    "#ang: arreglo de angulos (en radianes)\n",
    "ang = np.deg2rad(teta)\n",
    "an=np.sin(90)\n",
    "print(teta)\n",
    "print(ang)\n",
    "print(an)\n"
   ]
  },
  {
   "cell_type": "code",
   "execution_count": 31,
   "id": "a06ba456",
   "metadata": {},
   "outputs": [
    {
     "name": "stdout",
     "output_type": "stream",
     "text": [
      "tiempo  distancia   velocidad\n",
      "0.00\t  0.00\t      0.00\n",
      "0.91\t  0.64\t      1.41\n",
      "1.82\t  2.56\t      2.82\n",
      "2.73\t  5.76\t      4.23\n",
      "3.64\t 10.25\t      5.64\n",
      "4.55\t 16.01\t      7.05\n",
      "5.45\t 23.06\t      8.45\n",
      "6.36\t 31.38\t      9.86\n",
      "7.27\t 40.99\t     11.27\n",
      "8.18\t 51.88\t     12.68\n",
      "9.09\t 64.05\t     14.09\n",
      "10.00\t 77.50\t     15.50\n",
      "\n",
      "Tiempos donde el coche alcanzó velocidades en el intervalo [6,10] m/s\n",
      "[5.45454545 6.36363636 7.27272727 8.18181818]\n",
      "5.454545454545454\n",
      "6.363636363636363\n",
      "7.2727272727272725\n",
      "8.181818181818182\n"
     ]
    }
   ],
   "source": [
    "#Solo complete el código donde se debe (no cambie la estructura del programa)\n",
    "import numpy as np\n",
    "\n",
    "a = 1.55\n",
    "N = 12\n",
    "\n",
    "#arreglo de tiempos\n",
    "t = np.linspace(0,10,12)\n",
    "\n",
    "#arreglo de velocidades\n",
    "v = a*t\n",
    "\n",
    "#arreglo de distancia\n",
    "d = (1/2)*a*(t**2)\n",
    "\n",
    "print(\"tiempo  distancia   velocidad\")\n",
    "for tiempo,distancia,velocidad in zip(t,d,v):\n",
    "    print(\"{:.2f}\\t{:6,.2f}\\t{:10,.2f}\".format(tiempo,distancia,velocidad))\n",
    "    \n",
    "print(\"\\nTiempos donde el coche alcanzó velocidades en el intervalo [6,10] m/s\")\n",
    "indices = t[6:10]\n",
    "print(indices)\n",
    "for temp in indices:\n",
    "    print(temp)"
   ]
  },
  {
   "cell_type": "code",
   "execution_count": 5,
   "id": "39cbb04e",
   "metadata": {},
   "outputs": [
    {
     "name": "stdout",
     "output_type": "stream",
     "text": [
      "[ 45  23  89 100  23 -56]\n",
      "<class 'numpy.ndarray'>\n"
     ]
    }
   ],
   "source": [
    "B=np.array([45, 23, 89, 100, 23, -56])\n",
    "print(B)\n",
    "print(type(B))"
   ]
  },
  {
   "cell_type": "code",
   "execution_count": 11,
   "id": "d3b78db7",
   "metadata": {},
   "outputs": [
    {
     "name": "stdout",
     "output_type": "stream",
     "text": [
      "Numero de elementos:  6\n",
      "Dimensiones:  1\n",
      "Forma:  (6,)\n",
      "Tipo de dato:  int32\n",
      "Bytes de memoria por elemento:  4\n"
     ]
    }
   ],
   "source": [
    "A = np.array([45, 23, 89, 100, 23, -56])\n",
    "\n",
    "print(\"Numero de elementos: \",A.size)\n",
    "print(\"Dimensiones: \",A.ndim)\n",
    "print(\"Forma: \",A.shape)\n",
    "print(\"Tipo de dato: \",A.dtype)\n",
    "print(\"Bytes de memoria por elemento: \",A.itemsize)"
   ]
  },
  {
   "cell_type": "code",
   "execution_count": 16,
   "id": "4551d6e4",
   "metadata": {},
   "outputs": [
    {
     "name": "stdout",
     "output_type": "stream",
     "text": [
      "[100  23  89 100  23 -56]\n",
      "[100  23  89 100  23  10]\n",
      "[100  23  60 100  23  10]\n"
     ]
    },
    {
     "ename": "ValueError",
     "evalue": "invalid literal for int() with base 10: 'a'",
     "output_type": "error",
     "traceback": [
      "\u001b[1;31m---------------------------------------------------------------------------\u001b[0m",
      "\u001b[1;31mValueError\u001b[0m                                Traceback (most recent call last)",
      "\u001b[1;32m~\\AppData\\Local\\Temp/ipykernel_17328/1783925961.py\u001b[0m in \u001b[0;36m<module>\u001b[1;34m\u001b[0m\n\u001b[0;32m     10\u001b[0m \u001b[0mprint\u001b[0m\u001b[1;33m(\u001b[0m\u001b[0mA\u001b[0m\u001b[1;33m)\u001b[0m\u001b[1;33m\u001b[0m\u001b[1;33m\u001b[0m\u001b[0m\n\u001b[0;32m     11\u001b[0m \u001b[1;33m\u001b[0m\u001b[0m\n\u001b[1;32m---> 12\u001b[1;33m \u001b[0mA\u001b[0m\u001b[1;33m[\u001b[0m\u001b[1;33m-\u001b[0m\u001b[1;36m1\u001b[0m\u001b[1;33m]\u001b[0m \u001b[1;33m=\u001b[0m \u001b[1;34m'a'\u001b[0m\u001b[1;33m\u001b[0m\u001b[1;33m\u001b[0m\u001b[0m\n\u001b[0m",
      "\u001b[1;31mValueError\u001b[0m: invalid literal for int() with base 10: 'a'"
     ]
    }
   ],
   "source": [
    "A = np.array([45, 23, 89, 100, 23, -56])\n",
    "\n",
    "A[0]=100   #el arreglo es mutable\n",
    "print(A)\n",
    "\n",
    "A[-1]=10.5\n",
    "print(A)\n",
    "\n",
    "A[2] = \"60\"\n",
    "print(A)\n",
    "\n",
    "A[-1] = 'a'"
   ]
  },
  {
   "cell_type": "code",
   "execution_count": 18,
   "id": "785d6620",
   "metadata": {},
   "outputs": [
    {
     "name": "stdout",
     "output_type": "stream",
     "text": [
      "29.196895505922324 23.795167552328294 29.943038501035353\n"
     ]
    }
   ],
   "source": [
    "from random import uniform\n",
    "\n",
    "#creando una lista de un millon de números aleatorios reales\n",
    "temp_c = [uniform(20,30) for i in range(1000000)]\n",
    "\n",
    "#print(temp_c)\n",
    "print(temp_c[0],temp_c[1],temp_c[2])"
   ]
  },
  {
   "cell_type": "code",
   "execution_count": 20,
   "id": "312aa237",
   "metadata": {},
   "outputs": [],
   "source": [
    "#se desea convertir cada elemento de temp_c en grados F:\n",
    "array_c = np.array(temp_c)\n",
    "array_f = 9*array_c/5 + 32"
   ]
  },
  {
   "cell_type": "code",
   "execution_count": 6,
   "id": "7ca429c3",
   "metadata": {
    "scrolled": false
   },
   "outputs": [
    {
     "name": "stdout",
     "output_type": "stream",
     "text": [
      "r\n"
     ]
    }
   ],
   "source": [
    "print(\"r\")"
   ]
  },
  {
   "cell_type": "code",
   "execution_count": 22,
   "id": "155cde27",
   "metadata": {},
   "outputs": [
    {
     "name": "stdout",
     "output_type": "stream",
     "text": [
      "[ 45  23  89 100  23 -56  10]\n"
     ]
    }
   ],
   "source": [
    "A = np.array([45, 23, 89, 100, 23, -56])\n",
    "\n",
    "A = np.append(A,10)\n",
    "print(A)"
   ]
  },
  {
   "cell_type": "code",
   "execution_count": 20,
   "id": "60a07f98",
   "metadata": {},
   "outputs": [
    {
     "name": "stdout",
     "output_type": "stream",
     "text": [
      "[ 0  1  2  3  4  5  6  7  8  9 10 11 12 13 14 15 16 17 18 19]\n"
     ]
    }
   ],
   "source": [
    "A = np.arange(20)\n",
    "print(A)"
   ]
  },
  {
   "cell_type": "code",
   "execution_count": 56,
   "id": "9bffecfd",
   "metadata": {},
   "outputs": [
    {
     "name": "stdout",
     "output_type": "stream",
     "text": [
      "4.509721910648901\n",
      "0.295958969093304\n",
      "angulo(grados)   tiempo\n",
      "4.197296196648988\n"
     ]
    }
   ],
   "source": [
    "\n",
    "import numpy as np\n",
    "\n",
    "velArena = 3.5\n",
    "velCamino = 5\n",
    "w = 4.5\n",
    "u = 14\n",
    "#teta: arreglo de angulos (en grados)\n",
    "teta = np.arange(0,70,10)\n",
    "\n",
    "#ang: arreglo de angulos (en radianes)\n",
    "ang = np.deg2rad(teta)\n",
    "\n",
    "b=np.sin(10)\n",
    "c=b*a\n",
    "z = np.hypot(w,c)\n",
    "print(z)\n",
    "print(c)\n",
    "\n",
    "\n",
    "#tiempos:  arreglo de tiempos calculados\n",
    "tiempos = z/3.5+((u-a)/5)\n",
    "\n",
    "print(\"angulo(grados)   tiempo\")\n",
    "print(tiempos)\n",
    "#for angulo,t in zip(teta,tiempos):\n",
    " #   print(\"{:8.2f}\\t{:6.3f}\".format(angulo,t))"
   ]
  },
  {
   "cell_type": "code",
   "execution_count": 53,
   "id": "4635932a",
   "metadata": {},
   "outputs": [
    {
     "name": "stdout",
     "output_type": "stream",
     "text": [
      "[1.   1.25 1.5  1.75 2.   2.25 2.5  2.75 3.   3.25 3.5  3.75 4.   4.25\n",
      " 4.5  4.75]\n"
     ]
    }
   ],
   "source": [
    "A = np.arange(1,5,0.25)\n",
    "print(A)"
   ]
  },
  {
   "cell_type": "code",
   "execution_count": 26,
   "id": "3df9486d",
   "metadata": {},
   "outputs": [
    {
     "name": "stdout",
     "output_type": "stream",
     "text": [
      "   TIEMPO   DISTANCIA\n",
      "   ------   ---------\n",
      "  0.00 seg   0.00 m\n",
      "  0.50 seg   0.16 m\n",
      "  1.00 seg   0.65 m\n",
      "  1.50 seg   1.46 m\n",
      "  2.00 seg   2.60 m\n",
      "  2.50 seg   4.06 m\n",
      "  3.00 seg   5.85 m\n",
      "  3.50 seg   7.96 m\n",
      "  4.00 seg  10.40 m\n",
      "  4.50 seg  13.16 m\n",
      "  5.00 seg  16.25 m\n",
      "  5.50 seg  19.66 m\n",
      "  6.00 seg  23.40 m\n",
      "  6.50 seg  27.46 m\n",
      "  7.00 seg  31.85 m\n",
      "  7.50 seg  36.56 m\n",
      "  8.00 seg  41.60 m\n",
      "  8.50 seg  46.96 m\n",
      "  9.00 seg  52.65 m\n",
      "  9.50 seg  58.66 m\n",
      " 10.00 seg  65.00 m\n"
     ]
    }
   ],
   "source": [
    "#ejemplo aplicativo:\n",
    "\n",
    "a = 1.3 #aceleración uniforme\n",
    "t = np.arange(0,10.5,0.5)\n",
    "d = 0.5*a*t**2\n",
    "\n",
    "print(\"   TIEMPO   DISTANCIA\")\n",
    "print(\"   ------   ---------\")\n",
    "for val_t,val_d in zip(t,d):\n",
    "    print(\"{:>6.2f} seg {:>6.2f} m\".format(val_t,val_d))"
   ]
  },
  {
   "cell_type": "code",
   "execution_count": 27,
   "id": "f0089a7b",
   "metadata": {},
   "outputs": [
    {
     "name": "stdout",
     "output_type": "stream",
     "text": [
      "[ 0.          0.20408163  0.40816327  0.6122449   0.81632653  1.02040816\n",
      "  1.2244898   1.42857143  1.63265306  1.83673469  2.04081633  2.24489796\n",
      "  2.44897959  2.65306122  2.85714286  3.06122449  3.26530612  3.46938776\n",
      "  3.67346939  3.87755102  4.08163265  4.28571429  4.48979592  4.69387755\n",
      "  4.89795918  5.10204082  5.30612245  5.51020408  5.71428571  5.91836735\n",
      "  6.12244898  6.32653061  6.53061224  6.73469388  6.93877551  7.14285714\n",
      "  7.34693878  7.55102041  7.75510204  7.95918367  8.16326531  8.36734694\n",
      "  8.57142857  8.7755102   8.97959184  9.18367347  9.3877551   9.59183673\n",
      "  9.79591837 10.        ]\n"
     ]
    }
   ],
   "source": [
    "#uso del método linspace:\n",
    "\n",
    "A = np.linspace(0,10) #se crean por defecto 50 elementos\n",
    "print(A)"
   ]
  },
  {
   "cell_type": "code",
   "execution_count": 28,
   "id": "2c8145b3",
   "metadata": {},
   "outputs": [
    {
     "name": "stdout",
     "output_type": "stream",
     "text": [
      "[ 0.          0.90909091  1.81818182  2.72727273  3.63636364  4.54545455\n",
      "  5.45454545  6.36363636  7.27272727  8.18181818  9.09090909 10.        ]\n"
     ]
    }
   ],
   "source": [
    "A = np.linspace(0,10,12)\n",
    "print(A)"
   ]
  },
  {
   "cell_type": "code",
   "execution_count": 7,
   "id": "b35bdfab",
   "metadata": {
    "scrolled": false
   },
   "outputs": [
    {
     "name": "stdout",
     "output_type": "stream",
     "text": [
      "Area máxima:  4051.8799631262677\n"
     ]
    }
   ],
   "source": [
    "#ejemplo aplicativo:\n",
    "\n",
    "R=55\n",
    "\n",
    "a = np.arange(5,100.25,0.25)\n",
    "b = np.sqrt(4*R**2 - a**2)\n",
    "area = (a-8)*(b-20)\n",
    "\n",
    "areaMaxima = np.max(area)\n",
    "\n",
    "#for va,vb,varea in zip(a,b,area):\n",
    " #   print(\"{:.3f}{:10.3f}{:10.3f}\".format(va,vb,varea))\n",
    "    \n",
    "print(\"Area máxima: \",areaMaxima)"
   ]
  },
  {
   "cell_type": "code",
   "execution_count": 31,
   "id": "3f7b62af",
   "metadata": {},
   "outputs": [
    {
     "name": "stdout",
     "output_type": "stream",
     "text": [
      "[50 10 18]\n"
     ]
    }
   ],
   "source": [
    "#indexación booleana:\n",
    "\n",
    "A = np.array([50, 45, 89, 10, 11, 45, 18, 21])\n",
    "\n",
    "A_pares = A[A%2==0]\n",
    "print(A_pares)"
   ]
  },
  {
   "cell_type": "code",
   "execution_count": 32,
   "id": "9b830cc1",
   "metadata": {},
   "outputs": [
    {
     "data": {
      "text/plain": [
       "array([ True,  True, False,  True,  True,  True])"
      ]
     },
     "execution_count": 32,
     "metadata": {},
     "output_type": "execute_result"
    }
   ],
   "source": [
    "arr = np.array([4, 8, 3, 8, 10, 44])\n",
    "\n",
    "arr%2==0"
   ]
  },
  {
   "cell_type": "code",
   "execution_count": 33,
   "id": "87473561",
   "metadata": {},
   "outputs": [
    {
     "name": "stdout",
     "output_type": "stream",
     "text": [
      "[ True  True False  True  True  True]\n"
     ]
    }
   ],
   "source": [
    "print(arr%2==0)"
   ]
  },
  {
   "cell_type": "code",
   "execution_count": 34,
   "id": "f7583239",
   "metadata": {},
   "outputs": [
    {
     "data": {
      "text/plain": [
       "array([False, False, False, False,  True,  True])"
      ]
     },
     "execution_count": 34,
     "metadata": {},
     "output_type": "execute_result"
    }
   ],
   "source": [
    "arr = np.array([4, 8, 3, 8, 10, 44])\n",
    "\n",
    "arr>9"
   ]
  },
  {
   "cell_type": "code",
   "execution_count": 35,
   "id": "b4468c1e",
   "metadata": {},
   "outputs": [
    {
     "name": "stdout",
     "output_type": "stream",
     "text": [
      "[False False False False  True  True]\n"
     ]
    }
   ],
   "source": [
    "print(arr>9)"
   ]
  },
  {
   "cell_type": "code",
   "execution_count": 36,
   "id": "0b1e56b9",
   "metadata": {},
   "outputs": [
    {
     "data": {
      "text/plain": [
       "array([8, 3, 8])"
      ]
     },
     "execution_count": 36,
     "metadata": {},
     "output_type": "execute_result"
    }
   ],
   "source": [
    "arr = np.array([4, 8, 3, 8, 10, 44])\n",
    "\n",
    "arr[1:4]"
   ]
  },
  {
   "cell_type": "code",
   "execution_count": 37,
   "id": "62437ed1",
   "metadata": {},
   "outputs": [
    {
     "name": "stdout",
     "output_type": "stream",
     "text": [
      "[8 3 8]\n"
     ]
    }
   ],
   "source": [
    "print(arr[1:4])"
   ]
  },
  {
   "cell_type": "code",
   "execution_count": 43,
   "id": "67c55d52",
   "metadata": {},
   "outputs": [
    {
     "name": "stdout",
     "output_type": "stream",
     "text": [
      "[31.43822725 29.29898286 24.68115299 27.40172393 25.31822352 26.30163331\n",
      " 30.86782641 25.78167746 24.47404505 26.91033358 30.55603188 25.65424397\n",
      " 28.96947447 27.44336331 27.39237896 26.16174515 31.7592826  29.88848727\n",
      " 31.26175262 27.15067104 31.00229071 29.04005983 25.92447441 26.49446379\n",
      " 25.72591239 31.30380257 29.3718202  24.72904609 30.65191959 28.30513578\n",
      " 24.85048752]\n",
      "\n",
      "Temperaturas por encima de los 30 grados: \n",
      "[31.43822725 30.86782641 30.55603188 31.7592826  31.26175262 31.00229071\n",
      " 31.30380257 30.65191959]\n",
      "\n",
      "Temperaturas pr encima del promedio del mes: \n",
      "27.939053887302475\n",
      "[31.43822725 29.29898286 30.86782641 30.55603188 28.96947447 31.7592826\n",
      " 29.88848727 31.26175262 31.00229071 29.04005983 31.30380257 29.3718202\n",
      " 30.65191959 28.30513578]\n",
      "\n",
      "Temperaturas entre 28 y 29 grados: \n",
      "[28.96947447 28.30513578]\n"
     ]
    }
   ],
   "source": [
    "#creando un arreglo unidimensonal de 31 elementos aleatorios reales\n",
    "#en el rango [24, 32>\n",
    "\n",
    "temp_ene = np.random.uniform(24,32,(31,))\n",
    "print(temp_ene)\n",
    "\n",
    "print(\"\\nTemperaturas por encima de los 30 grados: \")\n",
    "print(temp_ene[temp_ene>30])\n",
    "\n",
    "print(\"\\nTemperaturas por encima del promedio del mes: \")\n",
    "prom = np.mean(temp_ene)\n",
    "print(prom)\n",
    "print(temp_ene[temp_ene>prom])\n",
    "\n",
    "print(\"\\nTemperaturas entre 28 y 29 grados: \")\n",
    "print(temp_ene[(temp_ene>28) & (temp_ene<29)]) #and : &\n",
    "                                               #or: |\n",
    "                                               #not: !"
   ]
  },
  {
   "cell_type": "code",
   "execution_count": 45,
   "id": "6e4d26c3",
   "metadata": {},
   "outputs": [
    {
     "name": "stdout",
     "output_type": "stream",
     "text": [
      "(array([1, 5, 6], dtype=int64),)\n",
      "[1 5 6]\n"
     ]
    }
   ],
   "source": [
    "#uso del método where:\n",
    "\n",
    "arr = np.array([5, 10, 11, 45, 19, 22, 90])\n",
    "\n",
    "#¿en qué indices se encuentran los pares de arr?\n",
    "t = np.where(arr%2==0)\n",
    "print(t)\n",
    "\n",
    "a_indices_pares = t[0]\n",
    "print(a_indices_pares)"
   ]
  },
  {
   "cell_type": "code",
   "execution_count": 46,
   "id": "2014d746",
   "metadata": {},
   "outputs": [
    {
     "name": "stdout",
     "output_type": "stream",
     "text": [
      "[1 5 6]\n"
     ]
    }
   ],
   "source": [
    "a_indices_pares = np.where(arr%2==0)[0]\n",
    "print(a_indices_pares)"
   ]
  },
  {
   "cell_type": "code",
   "execution_count": 50,
   "id": "5bdfc727",
   "metadata": {},
   "outputs": [
    {
     "name": "stdout",
     "output_type": "stream",
     "text": [
      "278\n",
      "El afiche deberia tener dimensiones:  74.5 80.93052576129726\n"
     ]
    }
   ],
   "source": [
    "#ejemplo aplicativo (continuación):\n",
    "\n",
    "R=55\n",
    "\n",
    "a = np.arange(5,100.25,0.25)\n",
    "b = np.sqrt(4*R**2 - a**2)\n",
    "area = (a-8)*(b-20)\n",
    "\n",
    "areaMaxima = np.max(area)\n",
    "\n",
    "#for va,vb,varea in zip(a,b,area):\n",
    "#    print(\"{:.3f}{:10.3f}{:10.3f}\".format(va,vb,varea))\n",
    "    \n",
    "#print(\"Area máxima: \",areaMaxima)\n",
    "\n",
    "p = np.where(area==areaMaxima)[0][0]\n",
    "print(p)\n",
    "\n",
    "print(\"El afiche deberia tener dimensiones: \",a[p],b[p])"
   ]
  },
  {
   "cell_type": "code",
   "execution_count": 12,
   "id": "4d8644a2",
   "metadata": {},
   "outputs": [
    {
     "name": "stdout",
     "output_type": "stream",
     "text": [
      "[[3 6 4 5]\n",
      " [1 2 3 4]\n",
      " [6 9 8 9]]\n",
      "Numero de elementos:  12\n",
      "Dimensiones: 2\n",
      "Forma:  (3, 4)\n",
      "Tipo de dato:  int32\n"
     ]
    }
   ],
   "source": [
    "#introducción a los arreglos bidimensionales (matrices)\n",
    "\n",
    "A = np.array([[3,6,4,5], [1,2,3,4], [6,9,8,9]])\n",
    "print(A)\n",
    "\n",
    "print(\"Numero de elementos: \",A.size)\n",
    "print(\"Dimensiones:\",A.ndim)\n",
    "print(\"Forma: \",A.shape)\n",
    "print(\"Tipo de dato: \",A.dtype)"
   ]
  },
  {
   "cell_type": "code",
   "execution_count": 13,
   "id": "7b854f7c",
   "metadata": {},
   "outputs": [
    {
     "name": "stdout",
     "output_type": "stream",
     "text": [
      "3 \n",
      "\n",
      "9 \n",
      "\n",
      "[4 3 8] \n",
      "\n",
      "[1 2 3 4] \n",
      "\n",
      "[[6 4 5]\n",
      " [2 3 4]] \n",
      "\n",
      "[[1 2 3 4]\n",
      " [6 9 8 9]]\n"
     ]
    }
   ],
   "source": [
    "#accediendo a los valores del arreglo:\n",
    "\n",
    "print(A[0,0],'\\n')\n",
    "print(A[-1,-1],'\\n')\n",
    "print(A[:,2],'\\n')\n",
    "print(A[1,:],'\\n')\n",
    "print(A[0:2,1:4],'\\n')\n",
    "print(A[[1,2],:])"
   ]
  },
  {
   "cell_type": "code",
   "execution_count": 68,
   "id": "3153c047",
   "metadata": {},
   "outputs": [
    {
     "name": "stdout",
     "output_type": "stream",
     "text": [
      "[[5 6 2 2 6 3 4 4 3 4]\n",
      " [2 6 6 5 3 6 2 3 5 2]]\n",
      "79\n",
      "[39 40]\n",
      "[ 7 12  8  7  9  9  6  7  8  6]\n",
      "[3.9 4. ]\n",
      "[3.5 6.  4.  3.5 4.5 4.5 3.  3.5 4.  3. ]\n"
     ]
    }
   ],
   "source": [
    "#TIP:\n",
    "\n",
    "arr = np.random.randint(1,7,(2,10))\n",
    "print(arr)\n",
    "\n",
    "#sumando todos los elementos del arreglo arr:\n",
    "asuma = np.sum(arr)\n",
    "print(asuma)\n",
    "\n",
    "#sumando los elementos de cada fila\n",
    "asf = np.sum(arr,axis=1)\n",
    "\n",
    "print(asf)\n",
    "\n",
    "#sumando los elementos de cada columna\n",
    "asc = np.sum(arr,axis=0)\n",
    "print(asc)\n",
    "\n",
    "#promediar los elementos de cada fila\n",
    "apromf = np.mean(arr,axis=1)\n",
    "print(apromf)\n",
    "\n",
    "#promediar los elementos de cada columna\n",
    "apromc = np.mean(arr,axis=0)\n",
    "print(apromc)"
   ]
  },
  {
   "cell_type": "code",
   "execution_count": 8,
   "id": "68c1564a",
   "metadata": {},
   "outputs": [
    {
     "name": "stdout",
     "output_type": "stream",
     "text": [
      "   x    f(x)\n"
     ]
    }
   ],
   "source": [
    "#TIP:\n",
    "#tabular la función F(x)=(x^2+2)/(sin(x)+1) para x\n",
    "#que pertenece al dominio [-5,5]\n",
    "\n",
    "#creando el dominio x:\n",
    "x = np.linspace(-5,5,100)\n",
    "\n",
    "#creando el rango:\n",
    "f = (x**2 + 2)/(np.sin(x)+1)\n",
    "\n",
    "#imprimiendo la tabla:\n",
    "print(\"   x    f(x)\")\n",
    "#for vx,vf in zip(x,f):\n",
    " #   print(\"{:.2f}  {:.2f}\".format(vx,vf))"
   ]
  },
  {
   "cell_type": "code",
   "execution_count": null,
   "id": "428c7d96",
   "metadata": {},
   "outputs": [],
   "source": [
    "\n"
   ]
  },
  {
   "cell_type": "code",
   "execution_count": null,
   "id": "0033f7a1",
   "metadata": {},
   "outputs": [],
   "source": []
  }
 ],
 "metadata": {
  "kernelspec": {
   "display_name": "Python 3 (ipykernel)",
   "language": "python",
   "name": "python3"
  },
  "language_info": {
   "codemirror_mode": {
    "name": "ipython",
    "version": 3
   },
   "file_extension": ".py",
   "mimetype": "text/x-python",
   "name": "python",
   "nbconvert_exporter": "python",
   "pygments_lexer": "ipython3",
   "version": "3.9.12"
  }
 },
 "nbformat": 4,
 "nbformat_minor": 5
}
