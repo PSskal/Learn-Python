{
 "cells": [
  {
   "cell_type": "markdown",
   "metadata": {},
   "source": [
    "# tkinter - GUI en Pyhton: Diseño\n",
    "<img src=\"https://encrypted-tbn0.gstatic.com/images?q=tbn%3AANd9GcRKquLqymoRwXTSxMiubrgejktpITd1b69_FA&usqp=CAU\" alt=\"Drawing\" style=\"width: 600px;\"/>\n",
    "\n",
    "<div style=\"text-align: right\">Autor: Luis A. Muñoz - 2021 </div>\n",
    "\n",
    "Ideas clave:\n",
    "\n",
    "* tkinter es una librería nativa de Python que permite diseñar y programar una interface gráfica de usuario (GUI)\n",
    "* Para el diseño de una GUI, será necesario establecer un marco de diseño donde se especifique el objetivo de este (wireframe)\n",
    "* Una vez hecho el diseño, habrá que distribuir las secciones en diferentes Frames, ya sea de forma horizontal como vertical\n",
    "* Luego, se colocarán los diferentes widgets en los Frames y se le dará los espaciamientos a los elementos entre si\n",
    "\n",
    "Referencias:\n",
    "* http://effbot.org/tkinterbook/\n",
    "* https://recursospython.com/guias-y-manuales/posicionar-elementos-en-tkinter/\n",
    "* https://www.python-course.eu/tkinter_layout_management.php\n",
    "---"
   ]
  },
  {
   "cell_type": "markdown",
   "metadata": {},
   "source": [
    "Ya tenemos nuestra caja de herramientas de programación en Python bastante completa, lo suficiente como para considerarse peligroso... pero nuestra interface de usuario sigue siendo poco interactiva. Los programas modernos tienen une interface gráfica de usuario (GUI, por sus siglas en inglés) que le permiten interactuar con el usuario de una forma más directa y natural utilizando elementos como el mouse.\n",
    "\n",
    "Python incorpora de forma nativa una librería para el desarrollo de aplicaciones gráficas llamada `tkinter`. Aunque no tiene una herramenta gráfica incorporada para el diseño de la interface, los resultados que se pueden obtener son bastante interesantes y pueden llegar a ser profesionales en función del dominio de la herramienta.\n",
    "\n",
    "Adicionalmente, una aplicación en tkinter puede convertirse en un programa autocontenido, de forma tal que puede culminar siendo, utilizando una libreria adicional, una aplicación final ejecutable."
   ]
  },
  {
   "cell_type": "markdown",
   "metadata": {},
   "source": [
    "# Código base\n",
    "Hay dos formas de programar aplicaciones en tkinter:\n",
    "\n",
    "- Utilizando procedimientos\n",
    "- Utilizando clases\n",
    "\n",
    "Aunque el uso de clases con tkinter es la forma más versatil y completa para proyectos grandes y complejos, el desarrollo de aplicaciones por medio de procedimientos satisfacerá nuestros objetivos por lo que será nuesta forma de abordar los problemas en este curso."
   ]
  },
  {
   "cell_type": "code",
   "execution_count": 2,
   "metadata": {},
   "outputs": [],
   "source": [
    "from tkinter import *\n",
    "\n",
    "root = Tk()\n",
    "\n",
    "#acá se colocan las instrucciones para la creación de los objetos y los\n",
    "#programas.\n",
    "\n",
    "root.mainloop()"
   ]
  },
  {
   "cell_type": "markdown",
   "metadata": {},
   "source": [
    "El codigo anterior debe de haber abierto una ventana gráfica pequeña en la barra de herramientas. Esta ventana es la ventana `Tk`. Es un objeto de la clase `tkinter.Tk` instanciado en `root`. Este objeto tendrá todas las propiedades de una ventana (dimensiones, coordenada de ubicación, titulo de la ventana, etc) asi como diferentes métodos. Entre estos está el método `mainloop`: este en un lazo while implicito que mantiene la ventana abierta y activa de tal forma que todos los elementos gráficos que se inserten en la ventana `root` puedan mantenerse activos y a la espera de realizar diferentes acciones.\n",
    "\n",
    "La mejor forma de entender como un funciona una interface gráfica es con un modelo de árbol (en computación, los árboles estan invertidos con las raices arriba). Imagine que el objeto `root` (raiz) es un tronco del que sale otro objeto llamado `Button`. Esto se traducirá en un boton en la interface gráfica. Utilizando esta organización se pueden agregar mas elementos al árbol. Entre estos se pueden agregar `Frames` que pasan a ser ramas principales de las que van a colgar otros elementos gráficos, como un botón, llamados `widgets`. Al momento de analizar el código, esta idea ira tomando forma, pero recuerde la analogía. Le será útil.\n",
    "\n",
    "Entonces, asignemos valores a las propiedades del objeto `root`:"
   ]
  },
  {
   "cell_type": "code",
   "execution_count": 11,
   "metadata": {},
   "outputs": [],
   "source": [
    "from tkinter import *\n",
    "\n",
    "root = Tk()\n",
    "\n",
    "root.title(\"Tkinter App\")\n",
    "root.resizable(0,0)\n",
    "root.geometry(\"400x300+100+100\")\n",
    "root.config(bg = \"gray\")\n",
    "\n",
    "root.mainloop()"
   ]
  },
  {
   "cell_type": "markdown",
   "metadata": {},
   "source": [
    "Observe que hemos establecido el título de la ventana, hemos especificado que no se pueden modificar sus dimensiones (a lo ancho y largo) y como también hemos definido su tamaño con un `str` con el formato `\"ancho x alto + offset_x + offset_y\"`. Los offset hacen referencia a cuantos pixels la ventana esta alejada de la esquina superior izquierda de la pantalla. Pruebe con otros valores para que entienda lo que significa cada uno de los valores del `str`.\n",
    "\n",
    "También hemos especificado el color de fondo de la ventana (`bg` significa *background*).\n",
    "\n",
    "Si no se especifica la geometria de una ventana esta tomará el tamaño necesario para soportar todos los widgets que se inserten en la ventana."
   ]
  },
  {
   "cell_type": "markdown",
   "metadata": {},
   "source": [
    "## widgets\n",
    "El módulo `tkinter` soporta un conjunto de controles gráficos llamados `widgets` en el paquete gráfico base y en otros subpaquetes. Los widgets que utilizaremos en nuestro curso serán los siguientes:\n",
    "\n",
    "* Frame (distribución de los elementos gráficos)\n",
    "* Label (Etiqueta de texto)\n",
    "* Entry (Caja de ingreso de datos)\n",
    "* Button (Button de acción)\n",
    "* Checkbutton (Caja de selección)\n",
    "* Radiobutton (Punto de selección exclusiva)"
   ]
  },
  {
   "cell_type": "markdown",
   "metadata": {},
   "source": [
    "Los widgets se reconocen porque son capitalizados (la primera letra en mayúsculas) y su definición en el GUI sigue los dos siguientes pasos:\n",
    "\n",
    "- Definición del widget y su área de ocupación\n",
    "- Colocación del widget en el espacio\n",
    "\n",
    "Los widgets tienen parametros que permiten cambiar sus propiedades: (`font` permite escoger el tipo de letra, tamaño y estilo; `fg` el color de la letra y `bg` el color de fondo. La posición del widget es el resultado de llamar al método `pack` (más adelante se detallará sobre esto)."
   ]
  },
  {
   "cell_type": "code",
   "execution_count": 1,
   "metadata": {},
   "outputs": [],
   "source": [
    "from tkinter import *\n",
    "\n",
    "root = Tk()\n",
    "\n",
    "root.title(\"Tkinter App\")\n",
    "#root.resizable(0,0)\n",
    "#root.geometry(\"400x300+100+100\")\n",
    "root.config(bg = \"gray\")\n",
    "\n",
    "#se crea una etiqueta (label)\n",
    "label1 = Label(root,text=\"Hola Mundo soy tkinter bienvenidos!!!\",font=\"Arial 12 bold\",fg=\"white\",\n",
    "              bg=\"blue\")\n",
    "\n",
    "label1.pack()\n",
    "\n",
    "root.mainloop()"
   ]
  },
  {
   "cell_type": "markdown",
   "metadata": {},
   "source": [
    "Hemos quitado la sección que controlaba el tamaño de la ventana, y se puede observar que esta vez la ventana se reduce hasta contener solamente la etiqueta. Note que hemos definido el fondo de color verde de la ventana pero esta ya no se ve porque por defecto la ventana principal se ajusta a los widgets que contenga. Este es un accionar que hay que considerar al momento de diseñar una interface gráfica."
   ]
  },
  {
   "cell_type": "markdown",
   "metadata": {},
   "source": [
    "Observe que al momento de definir un widget, lo primero que se especifica es el área que ocupará. En este caso, la etiqueta (Label) esta sobre la ventana principal `root`. Así también, todos tienen diferentes atributos que pueden ser asignados. Los atributos de los widgets se pueden consultar en la ayuda. Por ejemplo, los atributos de una etiqueta estan disponibles en:"
   ]
  },
  {
   "cell_type": "code",
   "execution_count": 19,
   "metadata": {},
   "outputs": [],
   "source": [
    "Label?"
   ]
  },
  {
   "cell_type": "markdown",
   "metadata": {},
   "source": [
    "## Gestores de geometría (GM)\n",
    "Al momento de definir los widgets se define el area que ocuparán, pero no su posición dentro del área. Esto se establece con los Gestores de Geometría (GM), Existen tres GM:\n",
    "\n",
    "- pack()\n",
    "- grid()\n",
    "- place()\n",
    "\n",
    "En este curso, utilizaremos los dos primeros y los reservaremos para usos especificos. Por eso es necesario conocerlos con un poco de detalle:\n",
    "\n",
    "### pack\n",
    "`pack` es un GM flexible y de posición relativa. Por defecto, coloca los widgets uno debajo del otro y centrados en el eje horizonal, ocupando todo el espacio horizontal. Pruebe el siguiente codigo y amplie las dimensiones de la ventana."
   ]
  },
  {
   "cell_type": "code",
   "execution_count": 22,
   "metadata": {},
   "outputs": [],
   "source": [
    "from tkinter import *\n",
    "\n",
    "root = Tk()\n",
    "\n",
    "root.title(\"Tkinter App\")\n",
    "#root.resizable(0,0)\n",
    "#root.geometry(\"400x300+100+100\")\n",
    "root.config(bg = \"gray\")\n",
    "\n",
    "label1 = Label(root,text=\"Label 1\",font=\"Arial 12 bold\",bg=\"red\")\n",
    "label2 = Label(root,text=\"Label 2\",font=\"Arial 12 bold\",bg=\"blue\")\n",
    "label3 = Label(root,text=\"Label 3\",font=\"Arial 12 bold\",bg=\"magenta\")\n",
    "label4 = Label(root,text=\"Label 4\",font=\"Arial 12 bold\",bg=\"yellow\")\n",
    "\n",
    "label1.pack()\n",
    "label2.pack()\n",
    "label3.pack()\n",
    "label4.pack()\n",
    "\n",
    "root.mainloop()"
   ]
  },
  {
   "cell_type": "markdown",
   "metadata": {},
   "source": [
    "Esto puede cambiar con la propiedad `side` (por defecto, `side=TOP`) Pruebe el siguiente codigo y amplie las dimensiones de la ventana."
   ]
  },
  {
   "cell_type": "code",
   "execution_count": 26,
   "metadata": {},
   "outputs": [],
   "source": [
    "from tkinter import *\n",
    "\n",
    "root = Tk()\n",
    "\n",
    "root.title(\"Tkinter App\")\n",
    "#root.resizable(0,0)\n",
    "#root.geometry(\"400x300+100+100\")\n",
    "root.config(bg = \"gray\")\n",
    "\n",
    "label1 = Label(root,text=\"Label 1\",font=\"Arial 12 bold\",bg=\"red\")\n",
    "label2 = Label(root,text=\"Label 2\",font=\"Arial 12 bold\",bg=\"blue\")\n",
    "label3 = Label(root,text=\"Label 3\",font=\"Arial 12 bold\",bg=\"magenta\")\n",
    "label4 = Label(root,text=\"Label 4\",font=\"Arial 12 bold\",bg=\"yellow\")\n",
    "\n",
    "label1.pack(side=LEFT)\n",
    "label2.pack(side=LEFT)\n",
    "label3.pack(side=LEFT)\n",
    "label4.pack(side=LEFT)\n",
    "\n",
    "root.mainloop()"
   ]
  },
  {
   "cell_type": "markdown",
   "metadata": {},
   "source": [
    "Tenga en consideración que `pack` es un gestor de posiciones relativo. Observe el resultado del siguiente codigo y trate de entender el resultado:"
   ]
  },
  {
   "cell_type": "code",
   "execution_count": 28,
   "metadata": {},
   "outputs": [],
   "source": [
    "from tkinter import *\n",
    "\n",
    "root = Tk()\n",
    "\n",
    "root.title(\"Tkinter App\")\n",
    "#root.resizable(0,0)\n",
    "#root.geometry(\"400x300+100+100\")\n",
    "root.config(bg = \"gray\")\n",
    "\n",
    "label1 = Label(root,text=\"Label 1\",font=\"Arial 12 bold\",bg=\"red\")\n",
    "label2 = Label(root,text=\"Label 2\",font=\"Arial 12 bold\",bg=\"blue\")\n",
    "label3 = Label(root,text=\"Label 3\",font=\"Arial 12 bold\",bg=\"magenta\")\n",
    "label4 = Label(root,text=\"Label 4\",font=\"Arial 12 bold\",bg=\"yellow\")\n",
    "\n",
    "label1.pack(side=LEFT)\n",
    "label2.pack()\n",
    "label3.pack()\n",
    "label4.pack(side=RIGHT)\n",
    "\n",
    "root.mainloop()"
   ]
  },
  {
   "cell_type": "markdown",
   "metadata": {},
   "source": [
    "¿Confuso no? En el ejemplo anterior, `label1` utiliza toda la seccion izquierda, por lo que los siguietes widgets se colocan en la siguiente columna centrados, a excepción de `label4` que esta alineado a la derecha pero no se ve una diferencia con los widgets `label2` y `label3` porque la ventana se ajusta. Si se expanden las dimensiones se pueden ver las posiciones reales.\n",
    "\n",
    "El GM pack es util para ajustarse a las dimensiones. Por ejemplo, ejecute el siguiente código y modifique las dimensiones de la ventana:"
   ]
  },
  {
   "cell_type": "code",
   "execution_count": 30,
   "metadata": {},
   "outputs": [],
   "source": [
    "from tkinter import *\n",
    "\n",
    "root = Tk()\n",
    "\n",
    "root.title(\"Tkinter App\")\n",
    "#root.resizable(0,0)\n",
    "#root.geometry(\"400x300+100+100\")\n",
    "root.config(bg = \"gray\")\n",
    "\n",
    "label1 = Label(root,text=\"Label 1\",font=\"Arial 12 bold\",bg=\"red\")\n",
    "label2 = Label(root,text=\"Label 2\",font=\"Arial 12 bold\",bg=\"blue\")\n",
    "label3 = Label(root,text=\"Label 3\",font=\"Arial 12 bold\",bg=\"magenta\")\n",
    "\n",
    "label1.pack()\n",
    "label2.pack(fill=X)\n",
    "label3.pack(side=LEFT,fill=Y)\n",
    "\n",
    "\n",
    "root.mainloop()"
   ]
  },
  {
   "cell_type": "markdown",
   "metadata": {},
   "source": [
    "El atributo `anchor` permite anclar un objeto gráfico hacia una determinada posición dentro de su propio espacio\n",
    "(se utiliza coordenadas geográficas:N, S, E, W)"
   ]
  },
  {
   "cell_type": "code",
   "execution_count": 38,
   "metadata": {},
   "outputs": [],
   "source": [
    "from tkinter import *\n",
    "\n",
    "root = Tk()\n",
    "\n",
    "root.title(\"Tkinter App\")\n",
    "#root.resizable(0,0)\n",
    "#root.geometry(\"400x300+100+100\")\n",
    "root.config(bg = \"gray\")\n",
    "\n",
    "label1 = Label(root,text=\"Label 1\",font=\"Arial 12 bold\",bg=\"red\")\n",
    "label2 = Label(root,text=\"Label 2\",font=\"Arial 12 bold\",bg=\"blue\")\n",
    "label3 = Label(root,text=\"Label 3\",font=\"Arial 12 bold\",bg=\"magenta\")\n",
    "label4 = Label(root,text=\"Label 4\",font=\"Arial 12 bold\",bg=\"yellow\")\n",
    "\n",
    "label1.pack(side=LEFT,anchor=S)\n",
    "label2.pack(anchor=W)\n",
    "label3.pack(anchor=E)\n",
    "label4.pack(side=RIGHT,anchor=S)\n",
    "\n",
    "root.mainloop()"
   ]
  },
  {
   "cell_type": "markdown",
   "metadata": {},
   "source": [
    "### grid\n",
    "`grid` es un GM mas controlable. Permite colocar los widgets en diferentes posiciones basados en su distribución en forma de arreglo matricial, en filas y columnas. Considere el siguiente ejemplo:"
   ]
  },
  {
   "cell_type": "code",
   "execution_count": 42,
   "metadata": {},
   "outputs": [],
   "source": [
    "from tkinter import *\n",
    "\n",
    "root = Tk()\n",
    "\n",
    "root.title(\"Tkinter App\")\n",
    "#root.resizable(0,0)\n",
    "#root.geometry(\"400x300+100+100\")\n",
    "root.config(bg = \"gray\")\n",
    "\n",
    "label1 = Label(root,text=\"Label 1\",font=\"Arial 12 bold\",bg=\"red\")\n",
    "label2 = Label(root,text=\"Label 2\",font=\"Arial 12 bold\",bg=\"blue\")\n",
    "label3 = Label(root,text=\"Label 3\",font=\"Arial 12 bold\",bg=\"magenta\")\n",
    "label4 = Label(root,text=\"Label 4\",font=\"Arial 12 bold\",bg=\"yellow\")\n",
    "\n",
    "label1.grid(row=0,column=0)\n",
    "label2.grid(row=0,column=1)\n",
    "label3.grid(row=1,column=0)\n",
    "label4.grid(row=1,column=1)\n",
    "\n",
    "root.mainloop()"
   ]
  },
  {
   "cell_type": "markdown",
   "metadata": {},
   "source": [
    "Observe como los diferentes Labels se han organizados alrededor de una distribución de filas y columnas. Esto resulta mas sencillo de manipular, pero no permite la adaptación a los cambios de la ventana (si modifica las dimensiones de la ventana verá que todo se mantiene en su sitio).\n",
    "\n",
    "El GM `grid` tiene algunas propiedades que le permite ajustarse a diferentes condiciones."
   ]
  },
  {
   "cell_type": "code",
   "execution_count": 50,
   "metadata": {},
   "outputs": [],
   "source": [
    "from tkinter import *\n",
    "\n",
    "root = Tk()\n",
    "\n",
    "root.title(\"Tkinter App\")\n",
    "#root.resizable(0,0)\n",
    "#root.geometry(\"400x300+100+100\")\n",
    "root.config(bg = \"gray\")\n",
    "\n",
    "label1 = Label(root,text=\"Label 1\",font=\"Arial 12 bold\",bg=\"red\")\n",
    "label2 = Label(root,text=\"Label 2\",font=\"Arial 12 bold\",bg=\"blue\")\n",
    "label3 = Label(root,text=\"Label 3\",font=\"Arial 12 bold\",bg=\"magenta\")\n",
    "label4 = Label(root,text=\"Label 4\",font=\"Arial 12 bold\",bg=\"yellow\")\n",
    "\n",
    "label1.grid(row=0,column=0,columnspan=2)\n",
    "label2.grid(row=1,column=0,rowspan=2)\n",
    "label3.grid(row=1,column=1)\n",
    "label4.grid(row=2,column=1)\n",
    "\n",
    "root.mainloop()"
   ]
  },
  {
   "cell_type": "markdown",
   "metadata": {},
   "source": [
    "Las propiedades `columnspan` y `rowspan` permiten que el widget se expanda y tome más de una columna o fila desde su posición. Observe como los elementos se centran en sus posiciones. Otra propiedad interesante es `sticky` que le permite *pegarse* al widget a alguna sección si esta colocado en un espacio sobre el que puede movilizarse. Por ejemplo, en el ejemplo anterior, `label1` esta centrado entre las columnas 0 y 1, así que podemos pegarlo hacia la izquierda (se utliza coordenadas geográficas: N, S, E, W) y `label2` esta centrado entre las filas 1 y 2 asi que podemos pegarlo hacia abajo."
   ]
  },
  {
   "cell_type": "code",
   "execution_count": 51,
   "metadata": {},
   "outputs": [],
   "source": [
    "from tkinter import *\n",
    "\n",
    "root = Tk()\n",
    "\n",
    "root.title(\"Tkinter App\")\n",
    "#root.resizable(0,0)\n",
    "#root.geometry(\"400x300+100+100\")\n",
    "root.config(bg = \"gray\")\n",
    "\n",
    "label1 = Label(root,text=\"Label 1\",font=\"Arial 12 bold\",bg=\"red\")\n",
    "label2 = Label(root,text=\"Label 2\",font=\"Arial 12 bold\",bg=\"blue\")\n",
    "label3 = Label(root,text=\"Label 3\",font=\"Arial 12 bold\",bg=\"magenta\")\n",
    "label4 = Label(root,text=\"Label 4\",font=\"Arial 12 bold\",bg=\"yellow\")\n",
    "\n",
    "label1.grid(row=0,column=0,columnspan=2,sticky=W)\n",
    "label2.grid(row=1,column=0,rowspan=2,sticky=S)\n",
    "label3.grid(row=1,column=1)\n",
    "label4.grid(row=2,column=1)\n",
    "\n",
    "root.mainloop()"
   ]
  },
  {
   "cell_type": "markdown",
   "metadata": {},
   "source": [
    "## Frames\n",
    "Los Frames son widgets especiales que nos traerán un poco de orden al momento de diseñar y colocar los diferentes widgets. Los Frames son contendores de widgets, son cajas invisibles que organizan todo el diseño. Considere el siguiente código y redimensione la ventana."
   ]
  },
  {
   "cell_type": "code",
   "execution_count": 53,
   "metadata": {},
   "outputs": [],
   "source": [
    "from tkinter import *\n",
    "\n",
    "root = Tk()\n",
    "\n",
    "root.title(\"Tkinter App\")\n",
    "#root.resizable(0,0)\n",
    "#root.geometry(\"400x300+100+100\")\n",
    "root.config(bg = \"green\")\n",
    "\n",
    "frm1 = Frame(root)\n",
    "frm2 = Frame(root)\n",
    "\n",
    "frm1.pack()\n",
    "frm2.pack()\n",
    "\n",
    "label1 = Label(frm1,text=\"Label 1\",font=\"Arial 12 bold\",bg=\"red\")\n",
    "label2 = Label(frm1,text=\"Label 2\",font=\"Arial 12 bold\",bg=\"blue\")\n",
    "label3 = Label(frm2,text=\"Label 3\",font=\"Arial 12 bold\",bg=\"magenta\")\n",
    "label4 = Label(frm2,text=\"Label 4\",font=\"Arial 12 bold\",bg=\"yellow\")\n",
    "\n",
    "label1.grid(row=0,column=0)\n",
    "label2.grid(row=0,column=1)\n",
    "label3.grid(row=0,column=0)\n",
    "label4.grid(row=0,column=1)\n",
    "\n",
    "root.mainloop()"
   ]
  },
  {
   "cell_type": "markdown",
   "metadata": {},
   "source": [
    "Los labels `label1` y `label2` estan en un `Frame` en la parte superior (`side=TOP`), mientras que `label3` y `label4` están otro `Frame` en la parte inferior (`side=BOTTOM`). Puede ver que al redimensonar la ventana los controles se ajusta.\n",
    "\n",
    "Otra cosa que debe de observar es la posicion de cada Label en su propio Frame. Ya no estan colocados en `root` sino en `frm1` y `frm2`. Y al utilizar `grid` ocupan filas y columnas en función a su propio `Frame`.\n",
    "\n",
    "Otro detalle: los `Frames` estan colocados con `pack` y los widgets internos con `grid`. En general los GM no se pueden mezclar en un diseño, pero puede utilizar diferentes siempre que estos esten actuando en diferentes `Frames`. Asi que aqui van las primeras recomendaciónes de diseño:\n",
    "\n",
    "#### PRIMERA REGLA: LOS OBJETOS GRAFICOS SE DISTRIBUYEN CON FRAMES GESTIONADOS CON PACK\n",
    "\n",
    "Si lo que quiere es distribuir secciones una debajo de la otra:\n",
    "\n",
    "    frame.pack()\n",
    "    frame.pack()\n",
    "    \n",
    "Si lo que quiere es distribuir secciones una al lado de la otra:\n",
    "\n",
    "    frame.pack(side=LEFT)\n",
    "    frame.pack(side=LEFT)\n",
    "    \n",
    "Si necesita hacer un diseño complejo, coloque Frames dentro de Frames hasta obtener el diseño esperado.\n",
    "\n",
    "#### SEGUNDA REGLA: LOS OBJETOS GRAFICOS SE DISTRIBUYEN CON GRID DENTRO DE SUS FRAMES\n",
    "\n",
    "Los widgets ocuparan sus posiciones de manera más predecible dentro de sus Frames con grid\n",
    "\n",
    "#### TERCERA REGLA: CREE UN FRAME PRINCIPAL QUE CONTENGA TODO EL DISEÑO PARA DARLE MAYOR ESPACIAMIENTO\n",
    "\n",
    "Cree un Frame principal que contenga todos los Frames anteriores y esté será el único elemento que estará sobre la ventana `root`. Esto le permitirá más adelante agregar elementos adicionales a su diseño como barras de menu, barra de estatus y barra de herramientas de forma natural y sin hacer modificaciones en su código."
   ]
  },
  {
   "cell_type": "markdown",
   "metadata": {},
   "source": [
    "## padding\n",
    "El último elemento a considerar en el diseño de un ambiente gráfico es la separación que hay entre los diferentes elementos o el *padding*."
   ]
  },
  {
   "cell_type": "code",
   "execution_count": 56,
   "metadata": {},
   "outputs": [],
   "source": [
    "from tkinter import *\n",
    "\n",
    "root = Tk()\n",
    "\n",
    "root.title(\"Tkinter App\")\n",
    "#root.resizable(0,0)\n",
    "#root.geometry(\"400x300+100+100\")\n",
    "root.config(bg = \"green\")\n",
    "\n",
    "frmPrincipal = Frame(root)\n",
    "frm1 = Frame(frmPrincipal,bg=\"gray\")\n",
    "frm2 = Frame(frmPrincipal,bg=\"gray\")\n",
    "\n",
    "frmPrincipal.pack(padx=10,pady=10)\n",
    "frm1.pack(padx=10,pady=10)\n",
    "frm2.pack(padx=10,pady=10)\n",
    "\n",
    "label1 = Label(frm1,text=\"Label 1\",font=\"Arial 12 bold\",bg=\"red\")\n",
    "label2 = Label(frm1,text=\"Label 2\",font=\"Arial 12 bold\",bg=\"blue\")\n",
    "label3 = Label(frm2,text=\"Label 3\",font=\"Arial 12 bold\",bg=\"magenta\")\n",
    "label4 = Label(frm2,text=\"Label 4\",font=\"Arial 12 bold\",bg=\"yellow\")\n",
    "\n",
    "label1.grid(row=0,column=0)\n",
    "label2.grid(row=0,column=1)\n",
    "label3.grid(row=0,column=0)\n",
    "label4.grid(row=0,column=1)\n",
    "\n",
    "root.mainloop()"
   ]
  },
  {
   "cell_type": "markdown",
   "metadata": {},
   "source": [
    "Puede observar que ahora se tiene un marco verde alrededor de todo el diseño. El padding es el ancho del marco que rodea un widget y se especifica en el GM (ya sea `pack` o `grid`). Probemos colocar padding en los Frames internos y en los widgets colocados dentro de cada frame interno:"
   ]
  },
  {
   "cell_type": "code",
   "execution_count": 57,
   "metadata": {},
   "outputs": [],
   "source": [
    "from tkinter import *\n",
    "\n",
    "root = Tk()\n",
    "\n",
    "root.title(\"Tkinter App\")\n",
    "#root.resizable(0,0)\n",
    "#root.geometry(\"400x300+100+100\")\n",
    "root.config(bg = \"green\")\n",
    "\n",
    "frmPrincipal = Frame(root)\n",
    "frm1 = Frame(frmPrincipal,bg=\"gray\")\n",
    "frm2 = Frame(frmPrincipal,bg=\"gray\")\n",
    "\n",
    "frmPrincipal.pack(padx=10,pady=10)\n",
    "frm1.pack(padx=10,pady=10)\n",
    "frm2.pack(padx=10,pady=10)\n",
    "\n",
    "label1 = Label(frm1,text=\"Label 1\",font=\"Arial 12 bold\",bg=\"red\")\n",
    "label2 = Label(frm1,text=\"Label 2\",font=\"Arial 12 bold\",bg=\"blue\")\n",
    "label3 = Label(frm2,text=\"Label 3\",font=\"Arial 12 bold\",bg=\"magenta\")\n",
    "label4 = Label(frm2,text=\"Label 4\",font=\"Arial 12 bold\",bg=\"yellow\")\n",
    "\n",
    "label1.grid(row=0,column=0,padx=5,pady=5)\n",
    "label2.grid(row=0,column=1,padx=5,pady=5)\n",
    "label3.grid(row=0,column=0,padx=5,pady=5)\n",
    "label4.grid(row=0,column=1,padx=5,pady=5)\n",
    "\n",
    "root.mainloop()"
   ]
  },
  {
   "cell_type": "markdown",
   "metadata": {},
   "source": [
    "De esta forma podemos ir dando espacio entre los objetos gráficos. Esto nos lleva a nuestras siguientes reglas de diseño:\n",
    "\n",
    "#### CUARTA REGLA: UTILICE PADX=10 Y PADY=10 PARA LOS FRAMES Y VAYA AJUSTANDO LOS VALORES\n",
    "\n",
    "De esta forma tendrá una distribución ordenada y una separación que se verá estética y ayuda a orientar los bloques de objetos.\n",
    "\n",
    "#### QUINTA REGLA: UTILICE PADX=5 y PADY=5 PARA LOS WIDGETS Y VAYA AJUSTANDO LOS VALORES\n",
    "\n",
    "Los widgets estarán menos separados, lo que le dará consistencia al diseño y se podrá ver como los elementos están espaciados de forma orgánica.\n",
    "\n",
    "¡Con estas reglas podemos empezar a construir nuestra primera aplicación GUI en tkinter!"
   ]
  },
  {
   "cell_type": "markdown",
   "metadata": {},
   "source": [
    "### Otros widgets: Entry, Button"
   ]
  },
  {
   "cell_type": "code",
   "execution_count": 64,
   "metadata": {},
   "outputs": [],
   "source": [
    "from tkinter import *\n",
    "\n",
    "root = Tk()\n",
    "\n",
    "root.title(\"Tkinter App\")\n",
    "#root.resizable(0,0)\n",
    "#root.geometry(\"400x300+100+100\")\n",
    "root.config(bg = \"green\")\n",
    "\n",
    "frmPrincipal = Frame(root,bg=\"yellow\")\n",
    "frm1 = Frame(frmPrincipal,bg=\"red\")\n",
    "frm2 = Frame(frmPrincipal,bg=\"red\")\n",
    "\n",
    "frmPrincipal.pack(padx=10,pady=10)\n",
    "frm1.pack(padx=10,pady=10)\n",
    "frm2.pack(padx=10,pady=10)\n",
    "\n",
    "#se crea un cuadro de entrada:\n",
    "entry1 = Entry(frm1,width=30)\n",
    "\n",
    "#se crean un botón:\n",
    "button1 = Button(frm1,text=\"Botón 1\",width=12)\n",
    "\n",
    "#se crea un cuadro de entrada:\n",
    "entry2 = Entry(frm2,width=30)\n",
    "\n",
    "#se crean un botón:\n",
    "button2 = Button(frm2,text=\"Botón 2\",width=12)\n",
    "\n",
    "entry1.grid(row=0,column=0,padx=5,pady=5)\n",
    "button1.grid(row=1,column=0,padx=5,pady=5,sticky=W)\n",
    "entry2.grid(row=0,column=0,padx=5,pady=5)\n",
    "button2.grid(row=1,column=0,padx=5,pady=5,sticky=E)\n",
    "\n",
    "root.mainloop()"
   ]
  },
  {
   "attachments": {
    "im.png": {
     "image/png": "[encoded data removed]"
    }
   },
   "cell_type": "markdown",
   "metadata": {},
   "source": [
    "## SignUp Window\n",
    "Entonces. Construyamos lo siguiente:\n",
    "\n",
    "![im.png](attachment:im.png)"
   ]
  },
  {
   "cell_type": "markdown",
   "metadata": {},
   "source": [
    "Le daremos una geometría a la ventana `root` para que esta no se ajuste a los objetos que colocaremos y podamos ver con claridad el proceso de colocación de los elementos gráficos."
   ]
  },
  {
   "cell_type": "markdown",
   "metadata": {},
   "source": [
    "Se han definido las propiedades `width` y `height` de los Frames para que se pueda visualizar su posición ya que al no contener ningún widget estos se ajustan y se contraen a un tamaño cero. "
   ]
  },
  {
   "cell_type": "code",
   "execution_count": 66,
   "metadata": {},
   "outputs": [],
   "source": [
    "from tkinter import *\n",
    "\n",
    "root = Tk()\n",
    "\n",
    "root.title(\"Tkinter App\")\n",
    "root.resizable(0,0)\n",
    "root.geometry(\"400x300+100+100\")\n",
    "\n",
    "frm = Frame(root,bg=\"green\")\n",
    "frmUp = Frame(frm,bg=\"gray\",width=100,height=50)\n",
    "frmDown = Frame(frm,bg=\"gray\",width=200,height=100)\n",
    "\n",
    "frm.pack(padx=10,pady=10)\n",
    "frmUp.pack(padx=10,pady=10)\n",
    "frmDown.pack(padx=10,pady=10)\n",
    "\n",
    "root.mainloop()"
   ]
  },
  {
   "cell_type": "markdown",
   "metadata": {},
   "source": [
    "Agregamos objetos gráficos al frmUp:"
   ]
  },
  {
   "cell_type": "code",
   "execution_count": 69,
   "metadata": {},
   "outputs": [],
   "source": [
    "from tkinter import *\n",
    "\n",
    "root = Tk()\n",
    "\n",
    "root.title(\"Tkinter App\")\n",
    "root.resizable(0,0)\n",
    "root.geometry(\"400x300+100+100\")\n",
    "\n",
    "frm = Frame(root,bg=\"green\")\n",
    "frmUp = Frame(frm,bg=\"gray\",width=100,height=50)\n",
    "frmDown = Frame(frm,bg=\"gray\",width=200,height=100)\n",
    "\n",
    "frm.pack(padx=10,pady=10)\n",
    "frmUp.pack(padx=10,pady=10,anchor=W)\n",
    "frmDown.pack(padx=10,pady=10)\n",
    "\n",
    "#agregando widgets al frmUp:\n",
    "lblSignUp = Label(frmUp,text=\"Sign Up\",font = \"Arial 12 bold\")\n",
    "\n",
    "lblSignUp.grid(row=0,column=0,padx=5,pady=5)\n",
    "\n",
    "root.mainloop()"
   ]
  },
  {
   "cell_type": "markdown",
   "metadata": {},
   "source": [
    "Agregamos objetos gráficos al frmDown:"
   ]
  },
  {
   "cell_type": "code",
   "execution_count": 78,
   "metadata": {},
   "outputs": [],
   "source": [
    "from tkinter import *\n",
    "\n",
    "root = Tk()\n",
    "\n",
    "root.title(\"Tkinter App\")\n",
    "root.resizable(0,0)\n",
    "root.geometry(\"400x300+100+100\")\n",
    "\n",
    "frm = Frame(root,bg=\"green\")\n",
    "frmUp = Frame(frm,bg=\"gray\",width=100,height=50)\n",
    "frmDown = Frame(frm,bg=\"gray\",width=200,height=100)\n",
    "\n",
    "frm.pack(padx=10,pady=10)\n",
    "frmUp.pack(padx=10,pady=10,anchor=W)\n",
    "frmDown.pack(padx=10,pady=10)\n",
    "\n",
    "#agregando widgets al frmUp:\n",
    "lblSignUp = Label(frmUp,text=\"Sign Up\",font = \"Arial 12 bold\")\n",
    "\n",
    "lblSignUp.grid(row=0,column=0,padx=5,pady=5)\n",
    "\n",
    "#agregando widgets al frmDown:\n",
    "lblLogin = Label(frmDown,text=\"Login:\")\n",
    "lblEmail = Label(frmDown,text=\"Email:\")\n",
    "lblPassword = Label(frmDown,text=\"Password:\")\n",
    "lblConfirm = Label(frmDown,text=\"Confirm:\")\n",
    "\n",
    "entLogin = Entry(frmDown,width=30)\n",
    "entEmail = Entry(frmDown,width=30)\n",
    "entPassword = Entry(frmDown,width=30)\n",
    "entConfirm = Entry(frmDown,width=30)\n",
    "\n",
    "btnSignUp = Button(frmDown,text=\"Sign Up\",width=12)\n",
    "\n",
    "lblLogin.grid(row=0,column=0,padx=5,pady=5,sticky=E)\n",
    "lblEmail.grid(row=1,column=0,padx=5,pady=5,sticky=E)\n",
    "lblPassword.grid(row=2,column=0,padx=5,pady=5,sticky=E)\n",
    "lblConfirm.grid(row=3,column=0,padx=5,pady=5,sticky=E)\n",
    "\n",
    "entLogin.grid(row=0,column=1,padx=5,pady=5)\n",
    "entEmail.grid(row=1,column=1,padx=5,pady=5)\n",
    "entPassword.grid(row=2,column=1,padx=5,pady=5)\n",
    "entConfirm.grid(row=3,column=1,padx=5,pady=5)\n",
    "\n",
    "btnSignUp.grid(row=3,column=2,padx=5,pady=5)\n",
    "\n",
    "root.mainloop()"
   ]
  },
  {
   "cell_type": "markdown",
   "metadata": {},
   "source": [
    "Ahora solo queda quitar los colores de fondo que nos han servido para poder entender como se orientan todos los objetos gráficos, retiramos la geometría de la ventana para que se ajuste a los botones (en la práctica se suele definir la geometría),  aumentemos a `padx=20` al botón para separarlo del bloque central y del borde derecho y tendremos una nuestra versión final:"
   ]
  },
  {
   "cell_type": "code",
   "execution_count": 79,
   "metadata": {},
   "outputs": [],
   "source": [
    "from tkinter import *\n",
    "\n",
    "root = Tk()\n",
    "\n",
    "root.title(\"Tkinter App\")\n",
    "root.resizable(0,0)\n",
    "\n",
    "\n",
    "frm = Frame(root)\n",
    "frmUp = Frame(frm)\n",
    "frmDown = Frame(frm)\n",
    "\n",
    "frm.pack(padx=10,pady=10)\n",
    "frmUp.pack(padx=10,pady=10,anchor=W)\n",
    "frmDown.pack(padx=10,pady=10)\n",
    "\n",
    "#agregando widgets al frmUp:\n",
    "lblSignUp = Label(frmUp,text=\"Sign Up\",font = \"Arial 12 bold\")\n",
    "\n",
    "lblSignUp.grid(row=0,column=0,padx=5,pady=5)\n",
    "\n",
    "#agregando widgets al frmDown:\n",
    "lblLogin = Label(frmDown,text=\"Login:\")\n",
    "lblEmail = Label(frmDown,text=\"Email:\")\n",
    "lblPassword = Label(frmDown,text=\"Password:\")\n",
    "lblConfirm = Label(frmDown,text=\"Confirm:\")\n",
    "\n",
    "entLogin = Entry(frmDown,width=30)\n",
    "entEmail = Entry(frmDown,width=30)\n",
    "entPassword = Entry(frmDown,width=30)\n",
    "entConfirm = Entry(frmDown,width=30)\n",
    "\n",
    "btnSignUp = Button(frmDown,text=\"Sign Up\",width=12)\n",
    "\n",
    "lblLogin.grid(row=0,column=0,padx=5,pady=5,sticky=E)\n",
    "lblEmail.grid(row=1,column=0,padx=5,pady=5,sticky=E)\n",
    "lblPassword.grid(row=2,column=0,padx=5,pady=5,sticky=E)\n",
    "lblConfirm.grid(row=3,column=0,padx=5,pady=5,sticky=E)\n",
    "\n",
    "entLogin.grid(row=0,column=1,padx=5,pady=5)\n",
    "entEmail.grid(row=1,column=1,padx=5,pady=5)\n",
    "entPassword.grid(row=2,column=1,padx=5,pady=5)\n",
    "entConfirm.grid(row=3,column=1,padx=5,pady=5)\n",
    "\n",
    "btnSignUp.grid(row=3,column=2,padx=20,pady=5)\n",
    "\n",
    "root.mainloop()"
   ]
  },
  {
   "cell_type": "markdown",
   "metadata": {},
   "source": [
    "Observe la nomenclatura utilizada en el código: notación polaca, esto es utilizar los tres primeros caracteres para indicar el tipo de objetos y luego el nombre de forma descriptiva. Esto será de mucha utilidad más adelante ya que el código empezará a crecer y si llamo a los Labels con el nombre label1, label2, label3... pronto se perderá en control de qué cosa hace referencia a qué objeto gráfico. Pruebe con esta sugerencia y verá que su códificación será más sencilla."
   ]
  },
  {
   "cell_type": "markdown",
   "metadata": {},
   "source": [
    "Compare el resultado con el diseño original (coloquelo uno al lado del otro) y verá que hemos logrado replicarlo siguiendo las reglas de diseño:\n",
    "\n",
    "1. Crear un Frame Principal. Use padding de 10\n",
    "1. Diagrame el interior con varios Frames. Use padding de 10\n",
    "1. Coloque los objetos en los diferentes Frames. Use padding de 5\n",
    "1. En caso no consiga alinear correctamente los objetos, vuelva al paso 2 con una mejor distribución \n",
    "1. Modifique las propiedades para ajustes finos para el resultado final"
   ]
  },
  {
   "cell_type": "code",
   "execution_count": 2,
   "metadata": {},
   "outputs": [],
   "source": [
    "#ejercicio adicional:\n",
    "\n",
    "from tkinter import *\n",
    "\n",
    "root = Tk()\n",
    "\n",
    "root.title(\"Tkinter App\")\n",
    "root.resizable(0,0)\n",
    "\n",
    "frm = Frame(root)\n",
    "frm1 = Frame(frm)\n",
    "frmc = Frame(frm)\n",
    "frm2 = Frame(frm)\n",
    "\n",
    "frm.pack(padx=10,pady=10)\n",
    "frm1.pack()\n",
    "frmc.pack()\n",
    "frm2.pack()\n",
    "\n",
    "btnB1 = Button(frm1,text=\"B1\")\n",
    "btnB2 = Button(frm1,text=\"B2\")\n",
    "label1 = Label(frm1,text=\"                                     \")\n",
    "\n",
    "label2 = Label(frmc,text=\"\\n\\n\\n\\n\\n\");\n",
    "\n",
    "btnB3 = Button(frm2,text=\"B3\")\n",
    "btnB4 = Button(frm2,text=\"B4\")\n",
    "label3 = Label(frm2,text=\"                                     \") \n",
    "\n",
    "btnB1.grid(row=0,column=0)\n",
    "label1.grid(row=0,column=1)\n",
    "btnB2.grid(row=0,column=2)\n",
    "label2.grid(row=0,column=0)\n",
    "label3.grid(row=0,column=1)\n",
    "btnB3.grid(row=0,column=0)\n",
    "btnB4.grid(row=0,column=2) \n",
    "\n",
    "root.mainloop()"
   ]
  }
 ],
 "metadata": {
  "kernelspec": {
   "display_name": "Python 3 (ipykernel)",
   "language": "python",
   "name": "python3"
  },
  "language_info": {
   "codemirror_mode": {
    "name": "ipython",
    "version": 3
   },
   "file_extension": ".py",
   "mimetype": "text/x-python",
   "name": "python",
   "nbconvert_exporter": "python",
   "pygments_lexer": "ipython3",
   "version": "3.9.12"
  }
 },
 "nbformat": 4,
 "nbformat_minor": 4
}
