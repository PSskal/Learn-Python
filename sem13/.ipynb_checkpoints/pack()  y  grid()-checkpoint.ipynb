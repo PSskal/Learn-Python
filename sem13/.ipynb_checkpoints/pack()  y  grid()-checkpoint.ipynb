{
 "cells": [
  {
   "cell_type": "code",
   "execution_count": null,
   "metadata": {},
   "outputs": [],
   "source": [
    "#la librería tkinter permite la construcción de interfaces gráficas de usuario (GUI's)"
   ]
  },
  {
   "cell_type": "code",
   "execution_count": 1,
   "metadata": {},
   "outputs": [],
   "source": [
    "from tkinter import *"
   ]
  },
  {
   "cell_type": "markdown",
   "metadata": {},
   "source": [
    "### pack()"
   ]
  },
  {
   "cell_type": "code",
   "execution_count": 11,
   "metadata": {},
   "outputs": [],
   "source": [
    "#creando el objeto raíz o ventana principal:\n",
    "\n",
    "root = Tk()  #creando al objeto root de la clase Tk()\n",
    "\n",
    "root.geometry(\"300x200\")  #redimenzionando la ventana a 300x200 píxeles (ancho,altura)\n",
    "\n",
    "root.mainloop()  #es como ingresar a un bucle infinito"
   ]
  },
  {
   "cell_type": "code",
   "execution_count": 12,
   "metadata": {},
   "outputs": [],
   "source": [
    "root = Tk()\n",
    "\n",
    "#crear un etiqueta o label:\n",
    "label1 = Label(root,text=\"Mi primer GUI en Tkinter\",bg=\"red\",fg=\"white\",width=30)\n",
    "label1.pack()\n",
    "\n",
    "root.mainloop()"
   ]
  },
  {
   "cell_type": "code",
   "execution_count": 13,
   "metadata": {},
   "outputs": [],
   "source": [
    "root = Tk()\n",
    "\n",
    "#crear 3 etiquetas o label's:\n",
    "label1 = Label(root,text=\"Primero\",bg=\"red\",fg=\"white\",width=30)\n",
    "label1.pack()\n",
    "label2 = Label(root,text=\"Segundo\",bg=\"blue\",fg=\"white\",width=15)\n",
    "label2.pack()\n",
    "label3 = Label(root,text=\"Tercero\",bg=\"black\",fg=\"white\",width=20)\n",
    "label3.pack()\n",
    "\n",
    "label1.pack()\n",
    "label2.pack()\n",
    "label3.pack()\n",
    "\n",
    "root.mainloop()"
   ]
  },
  {
   "cell_type": "code",
   "execution_count": 5,
   "metadata": {},
   "outputs": [],
   "source": [
    "root = Tk()\n",
    "\n",
    "#crear 3 etiquetas o label's:\n",
    "label1 = Label(root,text=\"Primero\",bg=\"red\",fg=\"white\",width=30)\n",
    "label1.pack(side=LEFT)\n",
    "label2 = Label(root,text=\"Segundo\",bg=\"blue\",fg=\"white\",width=15)\n",
    "label2.pack()\n",
    "label3 = Label(root,text=\"Tercero\",bg=\"black\",fg=\"white\",width=20)\n",
    "label3.pack()\n",
    "\n",
    "label1.pack(side=LEFT)\n",
    "label2.pack()\n",
    "label3.pack()\n",
    "\n",
    "root.mainloop()"
   ]
  },
  {
   "cell_type": "code",
   "execution_count": 15,
   "metadata": {},
   "outputs": [],
   "source": [
    "root = Tk()\n",
    "\n",
    "#crear 3 etiquetas o label's:\n",
    "label1 = Label(root,text=\"Primero\",bg=\"red\",fg=\"white\",width=30)\n",
    "label1.pack(side=LEFT)\n",
    "label2 = Label(root,text=\"Segundo\",bg=\"blue\",fg=\"white\",width=15)\n",
    "label2.pack(side=LEFT)\n",
    "label3 = Label(root,text=\"Tercero\",bg=\"black\",fg=\"white\",width=20)\n",
    "label3.pack()\n",
    "\n",
    "label1.pack(side=LEFT)\n",
    "label2.pack(side=LEFT)\n",
    "label3.pack()\n",
    "\n",
    "root.mainloop()"
   ]
  },
  {
   "cell_type": "code",
   "execution_count": 16,
   "metadata": {},
   "outputs": [],
   "source": [
    "root = Tk()\n",
    "\n",
    "label1 = Label(root,text=\"Primero\",bg=\"red\",fg=\"white\",width=30)\n",
    "label1.pack()\n",
    "\n",
    "#creando 2 botones o button's:\n",
    "boton1 = Button(root,text=\"Primer botón\",bg=\"green\",fg=\"black\",width=15)\n",
    "boton1.pack()\n",
    "boton2 = Button(root,text=\"Segundo botón\",bg=\"magenta\",fg=\"cyan\",width=20)\n",
    "boton2.pack()\n",
    "\n",
    "boton1.pack()\n",
    "boton2.pack()\n",
    "\n",
    "root.mainloop()"
   ]
  },
  {
   "cell_type": "code",
   "execution_count": 17,
   "metadata": {},
   "outputs": [],
   "source": [
    "root = Tk()\n",
    "\n",
    "label1 = Label(root,text=\"Primero\",bg=\"red\",fg=\"white\",width=30)\n",
    "label1.pack()\n",
    "\n",
    "boton1 = Button(root,text=\"Primer botón\",bg=\"green\",fg=\"black\",width=15)\n",
    "boton1.pack()\n",
    "\n",
    "#creando un cuadro de entrada (cuadro o caja de texto) o entry:\n",
    "entrada1 = Entry(root)\n",
    "entrada1.pack()\n",
    "\n",
    "root.mainloop()"
   ]
  },
  {
   "cell_type": "code",
   "execution_count": null,
   "metadata": {},
   "outputs": [],
   "source": [
    "root = Tk()\n",
    "\n",
    "label1 = Label(root,text=\"Primero\",bg=\"red\",fg=\"white\",width=30,font=(\"Verdana\",16))\n",
    "boton1 = Button(root,text=\"Primer botón\",bg=\"green\",fg=\"black\",width=15,font=(\"Verdana\",16))\n",
    "entrada1 = Entry(root,font=(\"Verdana\",16))\n",
    "\n",
    "label1.pack()\n",
    "boton1.pack()\n",
    "entrada1.pack()\n",
    "\n",
    "root.mainloop()"
   ]
  },
  {
   "cell_type": "code",
   "execution_count": 10,
   "metadata": {},
   "outputs": [],
   "source": [
    "#creando frames (contenedores)\n",
    "\n",
    "root = Tk()\n",
    "\n",
    "#creando 3 frames:\n",
    "\n",
    "frame1 = Frame(root)\n",
    "frame1.pack()\n",
    "frame2 = Frame(root)\n",
    "frame2.pack()\n",
    "frame3 = Frame(root)\n",
    "frame3.pack()\n",
    "\n",
    "#colocando objetos gráficos al frame1:\n",
    "label1 = Label(frame1,text=\"Primero\",bg=\"red\",fg=\"white\",width=30)\n",
    "boton1 = Button(frame1,text=\"Primer botón\",bg=\"green\",fg=\"black\",width=15)\n",
    "entrada1 = Entry(frame1)\n",
    "\n",
    "label1.pack(side=LEFT)\n",
    "boton1.pack()\n",
    "entrada1.pack()\n",
    "\n",
    "#colocando objetos gráficos al frame2:\n",
    "label2 = Label(frame2,text=\"UPC\",bg=\"black\",fg=\"white\",width=30)\n",
    "boton2 = Button(frame2,text=\"CALCULAR\",bg=\"blue\",fg=\"red\",width=15)\n",
    "entrada2 = Entry(frame2)\n",
    "\n",
    "label2.pack(side=LEFT)\n",
    "boton2.pack()\n",
    "entrada2.pack()\n",
    "\n",
    "#colocando objetos gráficos al frame3:\n",
    "label3 = Label(frame3,text=\"PERU\",bg=\"yellow\",fg=\"black\",width=20)\n",
    "boton3 = Button(frame3,text=\"procesar\",bg=\"cyan\",fg=\"red\",width=40)\n",
    "entrada3 = Entry(frame3)\n",
    "\n",
    "label3.pack(side=LEFT)\n",
    "boton3.pack()\n",
    "entrada3.pack()\n",
    "\n",
    "root.mainloop()"
   ]
  },
  {
   "cell_type": "markdown",
   "metadata": {},
   "source": [
    "### grid()"
   ]
  },
  {
   "cell_type": "code",
   "execution_count": 17,
   "metadata": {},
   "outputs": [],
   "source": [
    "from tkinter import * \n",
    "\n",
    "root = Tk()\n",
    "\n",
    "label1 = Label(root,text=\"\")\n",
    "label2 = Label(root,text=\"1\")\n",
    "\n",
    "label1.grid(row=0,column=0)\n",
    "label2.grid(row=1,column=0)\n",
    "\n",
    "root.mainloop()"
   ]
  },
  {
   "cell_type": "code",
   "execution_count": 18,
   "metadata": {},
   "outputs": [],
   "source": [
    "from tkinter import * \n",
    "\n",
    "root = Tk()\n",
    "\n",
    "button1 = Button(root,text=\"Aceptar\")\n",
    "button2 = Button(root,text=\"Salir\")\n",
    "\n",
    "button1.grid(row=1,column=0)\n",
    "button2.grid(row=2,column=0)\n",
    "\n",
    "root.mainloop()"
   ]
  },
  {
   "cell_type": "code",
   "execution_count": null,
   "metadata": {},
   "outputs": [],
   "source": [
    "root = Tk()\n",
    "\n",
    "#colocando un frame en la ventana root\n",
    "frame = Frame(root,padx=10,pady=10)\n",
    "frame.grid()\n",
    "\n",
    "#colocando objetos graficos en el frame:\n",
    "label1 = Label(frame,text=\"Usuario:\")\n",
    "label1.grid(row=0,column=0,sticky=E)\n",
    "\n",
    "label2 = Label(frame,text=\"Clave:\")\n",
    "label2.grid(row=1,column=0,sticky=E)\n",
    "\n",
    "entry1 = Entry(frame)\n",
    "entry1.grid(row=0,column=1)\n",
    "\n",
    "entry2 = Entry(frame)\n",
    "entry2.grid(row=1,column=1)\n",
    "\n",
    "bI = Button(frame,text=\"INGRESAR\",width=30)\n",
    "bI.grid(row=2,columnspan=2)\n",
    "\n",
    "root.mainloop()"
   ]
  }
 ],
 "metadata": {
  "kernelspec": {
   "display_name": "Python 3 (ipykernel)",
   "language": "python",
   "name": "python3"
  },
  "language_info": {
   "codemirror_mode": {
    "name": "ipython",
    "version": 3
   },
   "file_extension": ".py",
   "mimetype": "text/x-python",
   "name": "python",
   "nbconvert_exporter": "python",
   "pygments_lexer": "ipython3",
   "version": "3.9.12"
  }
 },
 "nbformat": 4,
 "nbformat_minor": 4
}
