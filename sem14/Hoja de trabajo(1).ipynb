{
 "cells": [
  {
   "cell_type": "markdown",
   "metadata": {},
   "source": [
    "# tkinter - GUI en Pyhton: Programación\n",
    "<img src=\"https://encrypted-tbn0.gstatic.com/images?q=tbn%3AANd9GcRKquLqymoRwXTSxMiubrgejktpITd1b69_FA&usqp=CAU\" alt=\"Drawing\" style=\"width: 600px;\"/>\n",
    "\n",
    "<div style=\"text-align: right\">Autor: Luis A. Muñoz - 2021 </div>"
   ]
  },
  {
   "cell_type": "markdown",
   "metadata": {},
   "source": [
    "Ideas clave:\n",
    "\n",
    "* Los widgets tienen asociados acciones sobre los eventos que ocurran\n",
    "* Muchos widgets tienen eventos por defecto (por ejemplo, sobre un boton se puede hacer click) que se definen en la propiedad command\n",
    "* tkinter tiene los objetos IntVar(), DoubleVar(), StringVar() y BooleanVar() que permiten establecer asociar valores sobre los widgets\n",
    "* El método widet.config() permite modificar cualquier propiedad de un widget\n",
    "\n",
    "Referencias:\n",
    "* http://effbot.org/tkinterbook/\n",
    "* https://effbot.org/tkinterbook/tkinter-events-and-bindings.htm\n",
    "* https://effbot.org/tkinterbook/variable.htm\n",
    "\n",
    "---"
   ]
  },
  {
   "cell_type": "markdown",
   "metadata": {},
   "source": [
    "En la sesión anterior revisamos los elementos mínimos necesarios para hacer un diseño en tkinter y establecer una interface gráfica de usuario (GUI). "
   ]
  },
  {
   "cell_type": "markdown",
   "metadata": {},
   "source": [
    "## Eventos en tkinter\n"
   ]
  },
  {
   "cell_type": "markdown",
   "metadata": {},
   "source": [
    "Definamos un GUI simple con un solo botón:"
   ]
  },
  {
   "cell_type": "code",
   "execution_count": 1,
   "metadata": {},
   "outputs": [
    {
     "name": "stdout",
     "output_type": "stream",
     "text": [
      "Fecha: 27/06/2022\n",
      "Hora: 13:28:18\n"
     ]
    }
   ],
   "source": []
  },
  {
   "cell_type": "markdown",
   "metadata": {},
   "source": [
    "Ahora, definamos alguna acción sobre el botón. En este caso debemos asociar una acción a un evento. Esto se logra definiendo una funcíón con las acciones a realizar ante un evento sobre un objeto. Muchos widgets (como `Button`) tienen eventos por defecto que estan asociados a la propiedad `command`). Ejecute el siguiente código y haga click en el botón."
   ]
  },
  {
   "cell_type": "code",
   "execution_count": 2,
   "metadata": {},
   "outputs": [
    {
     "name": "stdout",
     "output_type": "stream",
     "text": [
      "Click\n",
      "Click\n"
     ]
    }
   ],
   "source": []
  },
  {
   "cell_type": "markdown",
   "metadata": {},
   "source": [
    "Observe dos detalles importantes:\n",
    "* La función se define antes de que sea asociada a un evento por medio de `command`\n",
    "* El propiedad `command` se asigna al nombre de la función y no al llamado de la función (es decir, no se colocan los parentesis).\n",
    "\n",
    "Esto último quiere decir que cuando se llama la función no se le pueden pasar parámetros. Pero despues veremos que hay una forma ingeniosa de hacerlo"
   ]
  },
  {
   "cell_type": "markdown",
   "metadata": {},
   "source": [
    "## Modificando los atributos de los widgets\n",
    "Las propiedades de los widgets se asocian en el momento de crearlos (como cuando se define `text=` en un Label). Sin embargo, el método `config` permite cambiar la configuración de una propiedad:"
   ]
  },
  {
   "cell_type": "code",
   "execution_count": 7,
   "metadata": {},
   "outputs": [],
   "source": []
  },
  {
   "cell_type": "markdown",
   "metadata": {},
   "source": [
    "Observe que cada vez que se hace click se actualiza la propiedad `text=` del widget `label` y se está actualizando el valor de una variable global. ¿Sino se define una geometría, ve como cambia el ancho de la ventana al aumentar el número de caracteres de la cuenta? Por eso es bueno definir el tamaño de la ventana con `geometry`..."
   ]
  },
  {
   "cell_type": "markdown",
   "metadata": {},
   "source": [
    "## Clases Variable\n",
    "Como se observa en el ejemplo anterior, se ha recurrido a una variable global para mostrar una cuenta en el GUI. ¿Y si se quiere mostrar el valor de un texto ingresado en una `Entry`? Para realizar esto debemos recurrir a las Clases Variable en tkinter.\n",
    "\n",
    "tkinter no soporta la asociación de variables a los widgets, sino que sigue una ruta más tangencial con las Clases Variable. Personalmente, me gusta llamarlas \"objeto-variables\", porque su función es almacenar valores como sucede con una variable, pero se comportan como objetos ya que tienen métodos asociados. Esto último es muy importante y muy frecuente de olvidar.\n",
    "\n",
    "Al momento de definir un \"objeto-variable\" en tkinter, es necesario instanciar el objeto con el tipo de valor a almacenar. Existen cuatro tipos:\n",
    "\n",
    "    - IntVar()        permite almacenar valores enteros\n",
    "    - DoubleVal()     permite almacenar valores float\n",
    "    - StringVar()     permite almacenar valores str\n",
    "    - BooleanVar()    permite almacenar valores bool\n",
    "\n",
    "Definamos un GUI más completo con todos los controles estudiados hasta el momento. No nos preocuparemos por el diseño sino solo por la funcionalidad:"
   ]
  },
  {
   "cell_type": "code",
   "execution_count": 21,
   "metadata": {},
   "outputs": [],
   "source": []
  },
  {
   "cell_type": "markdown",
   "metadata": {},
   "source": [
    "Podemos observar:\n",
    "    \n",
    "- El resultado esta vacío, pero esto esta inserto en un espacio de 10 pixeles.\n",
    "\n",
    "Lo primero que debemos hacer es definir que \"variables\" necesitará nuestro GUI, es decir, que \"objeto-variables\" estarán asociados a los widgets. Analizando la aplicación consideramos lo siguiente:\n",
    "\n",
    "- Una variable para la caja de entrada\n",
    "\n",
    "Entonces debemos agregar a nuestro código lo siguiente:\n",
    "    \n",
    "    var_num = StringVar()         # para guardar el numero en la caja de entrada\n",
    "      \n",
    "Tambien podemos usar `IntVar` o `DoubleVar` pero en la caja de entrada se vera \"0\" o \"0.0\", respectivamente, ya que al crear un \"objeto-variable\" de estos tipos el valor asignado por defecto es 0 o 0.0, en el caso de un `StringVar` el valor asignado por defecto sera \"\". Puede probar cambiar en el codigo final `var_num = StringVar()` por estas otras clases y observar el resultado.\n",
    "\n",
    "Vayamos con la caja de entrada. Para asociar `var_num` con el Entry `entNum` definimos la propiedad `textvariable`:\n",
    "\n",
    "    entNum = Entry(frm1, ..., textvariable=var_num)"
   ]
  },
  {
   "cell_type": "code",
   "execution_count": 22,
   "metadata": {},
   "outputs": [],
   "source": []
  },
  {
   "cell_type": "markdown",
   "metadata": {},
   "source": [
    "## Asociando eventos, acciones\n",
    "Asi que ahora hay que darle acción a la aplicación.\n",
    "\n",
    "- Cuando se presione \"x2\" debe de mostrar en el Label de resultados \"Resultado: XXX\" donde XXX será el número de la caja de entrada x 2\n",
    "- Cuando se presione \"x3\" debe de mostrar en el Label de resultados \"Resultado: XXX\" donde XXX será el número de la caja de entrada x 3\n",
    "- Cuando se presione \"x5\" debe de mostrar en el Label de resultados \"Resultado: XXX\" donde XXX será el número de la caja de entrada x 5\n",
    "\n",
    "Para esto debemos recordar lo que todos los estudiantes olvidan: **los objetos-variables son objetos** y por eso **NO** se pueden realizar las siguientes acciones:\n",
    "\n",
    "    obj_var = IntVar()\n",
    "    obj_var = 10\n",
    "    print(obj_var)\n",
    "    \n",
    "Esto es porque no son varibles sino objetos. En lugar de lo anterior, se deben utilizar *setters* y *getters* para asignar valores y tener acceso a estos:\n",
    "\n",
    "    obj_var = IntVar()\n",
    "    obj_var.set(10)         # Setter\n",
    "    print(obj_var.get())    # Getter\n",
    "    \n",
    "**_Si olvida llamar al setter puede obtener resultados insesperados, por lo que revise siempre esto. Es muy importante._**"
   ]
  },
  {
   "cell_type": "code",
   "execution_count": 33,
   "metadata": {},
   "outputs": [],
   "source": []
  },
  {
   "cell_type": "markdown",
   "metadata": {},
   "source": [
    "Podemos crear una sola función que resuelva todo, ya que todos los botones realizan una multiplicación, solo que con un factor diferente, por lo que definiremos una función que multiplique un número bajo un factor asociado que pasaremos como parametro, y que ajustará las acciones en funcion de las variables de la aplicación:\n",
    "\n",
    "    def print_mult(factor):\n",
    "        result = factor * float(var_num.get())\n",
    "        lblValor.config(text=result)\n",
    "        \n",
    "    ...\n",
    "    btnXDos = Button(frm2, text=\"x2\", width=6, command=lambda: print_mult(2))\n",
    "    btnXTres = Button(frm2, text=\"x3\", width=6, command=lambda: print_mult(3))\n",
    "    btnXCinco = Button(frm2, text=\"x5\", width=6, command=lambda: print_mult(5))\n",
    "    ...\n",
    "    \n",
    "La función `print_mult` tomaría el parametro `factor` y lo multiplicaría al valor asociado al Entry (recuerde, con `get()`), previamente convertido a tipo `float` (al ser un `StringVar` este es un valor tipo `str`). Luego, este número se utiliza para crear un `str` con `format` que será asignado con el método `config` sobre el widget `lblValor` para cambiar la propiedad `text=`.\n",
    "\n",
    "Por otro lado, se deben de asignar las propiedades `command=` de cada boton, con  `lambda:` y asi poder pasar un argumento.\n",
    "\n",
    "Agreguemos estos cambios al programa y veamos los resultados:"
   ]
  },
  {
   "cell_type": "markdown",
   "metadata": {},
   "source": [
    "### Usando función con argumento de entrada:"
   ]
  },
  {
   "cell_type": "code",
   "execution_count": 23,
   "metadata": {},
   "outputs": [],
   "source": []
  },
  {
   "cell_type": "markdown",
   "metadata": {},
   "source": [
    "Los botones funcionan y se obtiene el resultado en la pantalla. Ahora vamos a trabajar con las restricciones y controles. Por ejemplo: si la caja de entrada no tiene valores los botones no deberían de realizar ninguna acción. Eso lo podemos resolver con un bloque try... except que generá una excepción cuando intente convertír un `str` vacío a un `float` (o inclusive una letra o cualquier caracter invalido)"
   ]
  },
  {
   "cell_type": "code",
   "execution_count": 15,
   "metadata": {},
   "outputs": [],
   "source": []
  },
  {
   "cell_type": "markdown",
   "metadata": {},
   "source": [
    "### Agregando los widgets: CheckButton y RadioButton"
   ]
  },
  {
   "cell_type": "code",
   "execution_count": 26,
   "metadata": {},
   "outputs": [],
   "source": []
  },
  {
   "cell_type": "markdown",
   "metadata": {},
   "source": [
    "Cosas que podemos observar:\n",
    "    \n",
    "- Los Radiobuttons estan todos selecionados.\n",
    "\n",
    "Definamos que \"variables\" necesitaremos agregar a nuestro GUI, es decir, que \"objeto-variables\" estarán asociados a los widgets. Analizando la aplicación consideramos lo siguiente:\n",
    "\n",
    "- Una variable para el check \"Borrar\"\n",
    "- Una variable para los Radiobuttons de colores (¡Una sola!. Mas detalles sobre esto más adelante)\n",
    "\n",
    "Entonces debemos agregar a nuestro código lo siguiente:\n",
    "\n",
    "    var_borrar = BooleanVar()     # para guardar el estado del check\n",
    "    var_color = IntVar()          # para saber que color se ha seleccionado\n",
    "    \n",
    "Agregamos el objeto-variable para el CheckButton:\n",
    "\n",
    "    chkBorrar = Checkbutton(frm1, ..., variable=var_borrar)\n",
    "    \n",
    "Y para el caso de los Radiobutons debemos asociar la misma variable a los tres radios con `variable`, pero para valores diferentes con la propiedad `value`:\n",
    "\n",
    "    rdoNegro = Radiobutton(frm2, text=\"Negro\", variable=var_color, value=0)\n",
    "    rdoRojo = Radiobutton(frm2, text=\"Rojo\", variable=var_color, value=1)\n",
    "    rdoAzul = Radiobutton(frm2, text=\"Azul\", variable=var_color, value=2)\n",
    "    \n",
    "Por defecto, un \"objeto-variable\" tiene el valor de 0, así que obedece al color \"Negro\". Con esto ya tendremos todo lo necesario para saber como el usuario esta interactuando con el GUI:"
   ]
  },
  {
   "cell_type": "code",
   "execution_count": 17,
   "metadata": {},
   "outputs": [],
   "source": []
  },
  {
   "cell_type": "markdown",
   "metadata": {},
   "source": [
    "## Asociando eventos, acciones e integrando todo\n",
    "\n",
    "Agregando mas acciones al GUI.\n",
    "\n",
    "- El texto de \"Resultado: XXX\" debe de ser del color indicado en los Radiobuttons\n",
    "- Cuando se presione alguno de los botones para el cálculo, la caja de entrada debe de ponerse en blanco si el check \"Borrar\" esta activado.\n",
    "\n",
    "Agregamos algunas acciones en función de si hay un check y del color seleccionado."
   ]
  },
  {
   "cell_type": "code",
   "execution_count": 18,
   "metadata": {},
   "outputs": [],
   "source": []
  },
  {
   "cell_type": "markdown",
   "metadata": {},
   "source": [
    "Hemos agregado la función `set_color` que cambia el color del texto del resultado y que esta asociada al selecionar uno de los colores.\n",
    "\n",
    "Por otro lado, hemos condicionado el resultado a que en la caja de entrada haya un numero que podamos calcular y, si esta colocado un check en el Checkbutton, debemos borrar la caja de entrada al hacer alguna multiplicación y eso se logra con la instrucción `entNum.delete(0, END)` que elimina un texto en un Entry desde la posición 0 hasta el final."
   ]
  },
  {
   "cell_type": "markdown",
   "metadata": {},
   "source": [
    "Observe como el código tiene diferentes secciones (root, obj-var, funciones, frames, widgets y GM. Este ordenamiento garantiza que la aplicación funcionará sin problemas ya que todos los elementos necesarios se crean antes de ser utilizados).\n",
    "\n",
    "Por si alguien se lo esta preguntando: ¿los widgets son globales? ¿porqué las funciones tienen acceso a estos de forma directa? La respuesta sencilla es SI. La larga es que al llamar a las funciones desde la definición del widget estas tienen acceso a todos los objetos definidos en el árbol de objetos de Tk, asi que tienen acceso a todos los objetos gráficos, pero no a las Clases Variables, y por eso es que estas se definen antes de las funciones."
   ]
  }
 ],
 "metadata": {
  "kernelspec": {
   "display_name": "Python 3 (ipykernel)",
   "language": "python",
   "name": "python3"
  },
  "language_info": {
   "codemirror_mode": {
    "name": "ipython",
    "version": 3
   },
   "file_extension": ".py",
   "mimetype": "text/x-python",
   "name": "python",
   "nbconvert_exporter": "python",
   "pygments_lexer": "ipython3",
   "version": "3.9.12"
  }
 },
 "nbformat": 4,
 "nbformat_minor": 4
}
