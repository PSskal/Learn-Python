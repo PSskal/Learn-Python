{
 "cells": [
  {
   "cell_type": "markdown",
   "metadata": {},
   "source": [
    "## Eventos en tkinter\n"
   ]
  },
  {
   "cell_type": "code",
   "execution_count": 6,
   "metadata": {},
   "outputs": [
    {
     "name": "stdout",
     "output_type": "stream",
     "text": [
      "Click\n",
      "Click\n",
      "Click\n",
      "Click\n"
     ]
    }
   ],
   "source": [
    "from tkinter import *\n",
    "\n",
    "root = Tk()\n",
    "root.resizable(0, 0)\n",
    "\n",
    "def print_click(message):\n",
    "    print(message)\n",
    "\n",
    "button = Button(root, text=\"Haz Click\", font=\"Arial 12\", command=lambda:print_click(\"Click\"))\n",
    "button.pack(padx=25, pady=25)\n",
    "\n",
    "label = Label(root, text=\"Soy un label!\", font=\"Arial 12\")\n",
    "label.pack(padx=25, pady=25)\n",
    "\n",
    "root.mainloop()"
   ]
  },
  {
   "cell_type": "markdown",
   "metadata": {},
   "source": [
    "Si revisa los parametros disponibles en un Label no encontrará la opción command:"
   ]
  },
  {
   "cell_type": "code",
   "execution_count": null,
   "metadata": {},
   "outputs": [],
   "source": [
    "Label?"
   ]
  },
  {
   "cell_type": "markdown",
   "metadata": {},
   "source": [
    "Y esto obedece a que los Labels no suelen tener eventos asociados. Pero se puede asociar un evento manualmente con el método `bind`. Verifique el código siguiente y haga click izquierdo en el Label y fuera de él:"
   ]
  },
  {
   "cell_type": "code",
   "execution_count": 15,
   "metadata": {},
   "outputs": [
    {
     "name": "stdout",
     "output_type": "stream",
     "text": [
      "Click\n",
      "Click\n",
      "Click\n"
     ]
    }
   ],
   "source": [
    "from tkinter import *\n",
    "\n",
    "root = Tk()\n",
    "root.resizable(0, 0)\n",
    "\n",
    "def print_click():\n",
    "    print(\"Click\")\n",
    "\n",
    "def print_event(event):\n",
    "    print(\"Click en x={}, y={}\".format(event.x, event.y))\n",
    "    \n",
    "button = Button(root, text=\"Haz Click\", font=\"Arial 12\", command=print_click)\n",
    "button.pack(padx=25, pady=25)\n",
    "\n",
    "label = Label(root, text=\"Soy un label!\", font=\"Arial 12\")\n",
    "label.pack(padx=25, pady=25)\n",
    "label.bind(\"<Button-1>\", print_event)\n",
    "\n",
    "root.mainloop()"
   ]
  },
  {
   "cell_type": "markdown",
   "metadata": {},
   "source": [
    "Observa que cuando se hace click en el Label este imprime la coordenada donde se ha hecho click. Esto porque `bind` asocia un evento (`<Button-1>`) con una acción (`print_event`). Es importante notar que `bind` siempre pasa un argumento, por lo que debe de ser recibido por un parametro en la función. La información del evento puede variar dependiendo del evento generado.\n",
    "\n",
    "¿Y si queremos pasar un parametro? Podemos recurrir nuevamente a `lambda` pero esta vez de la forma `lambda x`:"
   ]
  },
  {
   "cell_type": "code",
   "execution_count": 16,
   "metadata": {},
   "outputs": [
    {
     "name": "stdout",
     "output_type": "stream",
     "text": [
      "Click\n",
      "Click\n",
      "Click\n"
     ]
    }
   ],
   "source": [
    "from tkinter import *\n",
    "\n",
    "root = Tk()\n",
    "root.resizable(0, 0)\n",
    "\n",
    "def print_click():\n",
    "    print(\"Click\")\n",
    "\n",
    "def print_Label(message):\n",
    "    print(message)\n",
    "    \n",
    "button = Button(root, text=\"Haz Click\", font=\"Arial 12\", command=print_click)\n",
    "button.pack(padx=25, pady=25)\n",
    "\n",
    "label = Label(root, text=\"Soy un label!\", font=\"Arial 12\")\n",
    "label.pack(padx=25, pady=25)\n",
    "label.bind(\"<Button-1>\", lambda x: print_Label('Ouch!'))\n",
    "\n",
    "root.mainloop()"
   ]
  },
  {
   "cell_type": "markdown",
   "metadata": {},
   "source": [
    "¿Por qué? Porque la función asociada a un `bind` siempre incluye en evento asociado como argumento a pasar, asi que este será capturado por el parametro `x`, que no se usara, para luego ejecutar la función `print_Label` con un mensaje. Asi que ahora podemos solucionar muchos eventos con una sola función. Por ejemplo, agregemos eventos adicionales a un botón: `<Enter>` y `<Leave>` son eventos que suceden cuando el mouse ingresa a el área ocupada por un objeto y cuando sale de esta, respectivamente."
   ]
  },
  {
   "cell_type": "code",
   "execution_count": 10,
   "metadata": {},
   "outputs": [
    {
     "name": "stdout",
     "output_type": "stream",
     "text": [
      "En el boton\n",
      "Fuera del boton\n",
      "En el boton\n",
      "Fuera del boton\n",
      "En el boton\n",
      "Fuera del boton\n",
      "En el boton\n",
      "Fuera del boton\n"
     ]
    }
   ],
   "source": [
    "from tkinter import *\n",
    "\n",
    "root = Tk()\n",
    "root.resizable(0, 0)\n",
    "\n",
    "def print_message(message):\n",
    "    print(message)\n",
    "\n",
    "    \n",
    "button = Button(root, text=\"Haz Click\", font=\"Arial 12\", command=lambda:print_message(\"Click\"))\n",
    "button.pack(padx=25, pady=25)\n",
    "button.bind(\"<Enter>\", lambda x: print_message(\"En el boton\"))\n",
    "button.bind(\"<Leave>\", lambda x: print_message(\"Fuera del boton\"))\n",
    "\n",
    "label = Label(root, text=\"Soy un label!\", font=\"Arial 12\")\n",
    "label.pack(padx=25, pady=25)\n",
    "label.bind(\"<Button-1>\", lambda x: print_message('Ouch!'))\n",
    "\n",
    "root.mainloop()"
   ]
  },
  {
   "cell_type": "markdown",
   "metadata": {},
   "source": [
    "Un listado de los eventos genericos se muestra en https://effbot.org/tkinterbook/tkinter-events-and-bindings.htm."
   ]
  },
  {
   "cell_type": "markdown",
   "metadata": {},
   "source": [
    "## SignUp Window\n",
    "Retomemos nuesto diseño original ahora que ya sabemos como agregarle interactividad y aprovechemos para presentar algunas ventanas especiales llamadas `MessageBox`\n",
    "\n",
    "![](https://i.pinimg.com/originals/d3/4b/b6/d34bb65aaa0ccd779becdb9147ea7cab.png)\n",
    "\n",
    "Vamos a presentar la solución completa para luego pasar a explicar los detalles. La idea es que el usuario intente registrarse e indicaremos si el registro fue existoso o no en varias ventanas `MessageBox` diferentes dependiendo del resultado de las acciones. El codigo se encuentra comentado con los detalles relacionados a las operaciones a realizar."
   ]
  },
  {
   "cell_type": "code",
   "execution_count": 1,
   "metadata": {},
   "outputs": [],
   "source": [
    "from tkinter import *\n",
    "from tkinter import messagebox\n",
    "\n",
    "# Constantes globales\n",
    "LOGIN = 'elviolado'\n",
    "EMAIL = 'elado@mail.com'\n",
    "PASSWORD = 'elvioforever'\n",
    "FILE = \"login.tmp\"\n",
    "\n",
    "# root\n",
    "root = Tk()\n",
    "root.title(\"tkinter App\")\n",
    "root.resizable(0, 0)\n",
    "\n",
    "# Obj-Var\n",
    "# Se definen los obj-var para los diferentes Entry \n",
    "var_login = StringVar()\n",
    "var_email = StringVar()\n",
    "var_password = StringVar()\n",
    "var_confirm = StringVar()\n",
    "var_remember = BooleanVar()\n",
    "\n",
    "# Se abre un archivo de información (el try controla si el archivo existe)\n",
    "# Si el archivo contiene el caracter \"y\" se asigna el check como True \n",
    "# el la variable del Checkbutton\n",
    "try:\n",
    "    with open(FILE) as file:\n",
    "        check = file.read()\n",
    "        if check.strip() == 'y':\n",
    "            var_remember.set(True)\n",
    "except:\n",
    "    pass\n",
    "\n",
    "# Si el estado de Remember? es True se cargan los Entry de Login y Email\n",
    "if var_remember.get():\n",
    "    var_login.set(LOGIN)\n",
    "    var_email.set(EMAIL)\n",
    "            \n",
    "# Funciones\n",
    "def sign_up():\n",
    "    # Funcion que intenta registrar al usuario verificando que los campos\n",
    "    # de pasword sean iguales y que la información ingresada sea correcta.\n",
    "    # En caso sea correcta abre una Ventana showinfo\n",
    "    # En caso sea incorrecta abre un Ventana showerror\n",
    "    \n",
    "    if len(var_login.get()) > 0 and len(var_email.get()) > 0 and len(var_password.get()) > 0 and len(var_confirm.get()) > 0:\n",
    "        if var_password.get() == var_confirm.get():\n",
    "            if var_login.get() == LOGIN and var_email.get() == EMAIL and var_password.get() == PASSWORD:\n",
    "                messagebox.showinfo(\"Sign Up\", \"Credenciales Confirmadas. Bienvenido\")\n",
    "                \n",
    "                # Si el check de Remember esta habilitado, hay que registrar en un archivo\n",
    "                # esta condicion para que la aplicacion pueda cargar los valores en los Entry\n",
    "                # al iniciar la proxima vez (se guarda el caracter \"y\" o \"n\")\n",
    "                with open(FILE, mode='w') as f:\n",
    "                    if var_remember.get():\n",
    "                        f.write('y')\n",
    "                    else:\n",
    "                        f.write('n')\n",
    "                        \n",
    "                return\n",
    "                \n",
    "            else:\n",
    "                messagebox.showerror(\"Sign Up Error\", \"Las credenciales ingresadas no son validas\")\n",
    "        else:\n",
    "            messagebox.showerror(\"Confirmación de password\", \"Las contraseñas ingresadas no coinciden\")\n",
    "    else:\n",
    "        messagebox.showerror(\"Error\", \"Debe de completar todos los campos\")\n",
    "    \n",
    "    entLogin.delete(0, END)\n",
    "    entEmail.delete(0, END)\n",
    "    entPassword.delete(0, END)\n",
    "    entConfirm.delete(0, END)\n",
    "    \n",
    "\n",
    "# Frames\n",
    "frm = Frame(root)\n",
    "frmUp = Frame(frm)\n",
    "frmDown = Frame(frm)\n",
    "\n",
    "frm.pack(padx=10, pady=10)\n",
    "frmUp.pack(padx=10, pady=10, anchor=W)\n",
    "frmDown.pack(padx=10, pady=10, anchor=N)\n",
    "\n",
    "# Widgets y GM\n",
    "# --------------------------- frmUp ----------------------------\n",
    "lblSignUp = Label(frmUp, text=\"Sign Up\" , font=\"Arial 12 bold\")\n",
    "lblSignUp.grid(row=0, column=0, padx=5, pady=5, sticky=W)\n",
    "\n",
    "# ------------------------- frmDown ----------------------------\n",
    "lblLogin = Label(frmDown, text=\"        Login:\")\n",
    "lblEmail = Label(frmDown, text=\"        Email:\")\n",
    "lblPassword = Label(frmDown, text=\"        Password:\")\n",
    "lblConfirm = Label(frmDown, text=\"         Confirm:\")\n",
    "entLogin = Entry(frmDown, width=30, textvariable=var_login)    # var_login en el Entry\n",
    "entEmail = Entry(frmDown, width=30, textvariable=var_email)    # var_email en el Entry\n",
    "entPassword = Entry(frmDown, width=30, textvariable=var_password, show='*')  # Muestra \"*\" en el Entry; var_password\n",
    "entConfirm = Entry(frmDown, width=30, textvariable=var_confirm, show='*')    # Muestra \"*\" en el Entry; var_confirm\n",
    "chkRemember = Checkbutton(frmDown, text=\"Remember Me\", variable=var_remember)# var_remember\n",
    "btnSignUp = Button(frmDown, text=\"SignUp\", width=12, command=sign_up)        # funcion singUp al hacer click\n",
    "\n",
    "lblLogin.grid(row=0, column=0, padx=5, pady=5, sticky=E)\n",
    "lblEmail.grid(row=1, column=0, padx=5, pady=5, sticky=E)\n",
    "lblPassword.grid(row=2, column=0, padx=5, pady=5, sticky=E)\n",
    "lblConfirm.grid(row=3, column=0, padx=5, pady=5, sticky=E)\n",
    "entLogin.grid(row=0, column=1, padx=5, pady=5)\n",
    "entEmail.grid(row=1, column=1, padx=5, pady=5)\n",
    "entPassword.grid(row=2, column=1, padx=5, pady=5)\n",
    "entConfirm.grid(row=3, column=1, padx=5, pady=5)\n",
    "chkRemember.grid(row=4, column=1, pady=5, sticky=W)\n",
    "btnSignUp.grid(row=3, column=2, padx=20, pady=5)\n",
    "\n",
    "root.mainloop()"
   ]
  },
  {
   "cell_type": "markdown",
   "metadata": {},
   "source": [
    "## Una aplicación ejecutable\n",
    "Podemos convertir nuestra aplicación en un programa ejecutable. Para esto debemos instalar un módulo llamado `pyinstaller`. Abra una ventana de comandos de Anaconda Prompt y ejecute la instrucción `pip install pyinstaller`\n",
    "\n",
    "Luego, copie todo el codigo anterior en un solo archivo y guardelo en un directorio con el nombre `signup_app.pyw`.\n",
    "\n",
    "Abra la ventana de comandos de Anaconda Prompt es el directorio donde esta el archvo `signup_app.pyw` y ejecute la siguiente instrucción:\n",
    "\n",
    "    pyinstaller --onefile sign_app.py\n",
    "    \n",
    "Ahora debe de esperar a que `pyinstaller` cree un conjunto de directorios donde recopile todos los módulos utilizados por su script, así como todas las librerías estándar y un intérprete de Python en un solo bloque, y genere un versión compilada de su archivo. Este estará en un direcorio creado en el proceso llamado `dist` (de \"distribución). Si el proceso termina exitosamente (se pueden presentar problemas en la ejecución dependiendo de los módulos utilizados en el programa, o de las restricciones en el sistema de archivos, etc.) este directorio debe de contener un solo archivo que podrá ejecutar sin tener que abrir el intérprete de Python.\n",
    "\n",
    "Si lo ha logrado, felicitaciones. Ha construido una aplicación gráfica independiente de Python que podrá ejecutar en cualquier equipo con el mismo sistema operativo."
   ]
  }
 ],
 "metadata": {
  "kernelspec": {
   "display_name": "Python 3 (ipykernel)",
   "language": "python",
   "name": "python3"
  },
  "language_info": {
   "codemirror_mode": {
    "name": "ipython",
    "version": 3
   },
   "file_extension": ".py",
   "mimetype": "text/x-python",
   "name": "python",
   "nbconvert_exporter": "python",
   "pygments_lexer": "ipython3",
   "version": "3.9.12"
  }
 },
 "nbformat": 4,
 "nbformat_minor": 4
}
