{
 "cells": [
  {
   "cell_type": "markdown",
   "metadata": {},
   "source": [
    "# Hoja de Ejercicios 2"
   ]
  },
  {
   "cell_type": "markdown",
   "metadata": {},
   "source": [
    "### **Ejercicio 1**\n",
    "Escriba un programa que tenga dos lazos for anidados (un for dentro de otro for) y que muestre los valores enteros del 1 a 100 en un arreglo de 10 x 10, alineados como se muestra:\n",
    "\n",
    "     1    2    3    4    5    6    7    8    9   10\n",
    "    11   12   13   14   15   16   17   18   19   20\n",
    "    21   22   23   24   25   26   27   28   29   30\n",
    "    .\n",
    "    .\n",
    "    91   92   93   94   95   96   97    98   99 100\n",
    "    \n",
    "Recuerde el uso de format() para mostrar alineadas las columnas"
   ]
  },
  {
   "cell_type": "code",
   "execution_count": null,
   "metadata": {
    "collapsed": true
   },
   "outputs": [],
   "source": [
    "# Impresion de un arreglo 10 x 10 con dos lazos anidados\n",
    "#escriba su solución:\n"
   ]
  },
  {
   "cell_type": "markdown",
   "metadata": {},
   "source": [
    "Reto: Pruebe hacer el mismo programa anterior pero utilizando *solo un lazo while*"
   ]
  },
  {
   "cell_type": "code",
   "execution_count": null,
   "metadata": {
    "collapsed": true
   },
   "outputs": [],
   "source": [
    "# Impresion de un arreglo 10 x 10 con un solo lazo while\n",
    "#escriba su solución:\n"
   ]
  },
  {
   "cell_type": "markdown",
   "metadata": {
    "collapsed": true
   },
   "source": [
    "### **Ejercicio 2**\n",
    "Escriba un programa que sea un conversor de unidades de temperaturas F/°C. Se le pedirá al usuario que ingrese el grado y la unidad y en función de la unidad ingresada hará la conversión a la otra unidad. También debe de pedir que ingrese si desea continuar con otra conversion o salir del programa.\n",
    "\n",
    "Ejemplo de ejecución:\n",
    "\n",
    "    Ingrese el valor a convertir: 120 C\n",
    "    Equivalente: 248 F\n",
    "    Convertir otro valor de temperatura [s/n]: s\n",
    "    \n",
    "    Ingrese el valor a convertir: 90 F\n",
    "    Equivalente: 32.2 C\n",
    "    Convertir otro valor de temperatura [s/n] : n\n",
    "\n",
    "*Formulas:*\n",
    "\n",
    "$F = \\frac{9}{5} + 32$\n",
    "\n",
    "$C = \\frac{5}{9} - 32$"
   ]
  },
  {
   "cell_type": "code",
   "execution_count": null,
   "metadata": {
    "collapsed": true
   },
   "outputs": [],
   "source": [
    "# Programa de conversion de unidades\n",
    "#escriba su solución:\n"
   ]
  },
  {
   "cell_type": "markdown",
   "metadata": {},
   "source": [
    "### **Ejercicio 3**\n",
    "Escriba un programa que calcule el pago mensual de una hipoteca a un monto dado (dato a ingresar), bajo un plazo de tiempo (en años) (dato a ingresar) y a una tasa de interes de 3% a 18%. La fórmula base para determinar esto es *A/D*, donde *A* es el monto de la hipoteca, y *D* es el factor de descuento. El factor de descuento se calcula como:\n",
    "\n",
    "$$D = \\frac{((1+r)^{n}-1)}{r(1+r)^{n}}$$\n",
    "\n",
    "donde *n* es el numero de pagos total (12 veces el número de años del prestamo) y *r* es la tasa de interes expresado en forma decimal (por ejemplo, 0.05 en lugar de 5%), dividido por 12. Luego de pedir los datos, se deberá generar una tabla de pago mensual.\n",
    "\n",
    "Ejemplo de ejecución:\n",
    "\n",
    "    Monto de la hipoteca: S/.350,000     Plazo: 30 años\n",
    "    \n",
    "          Tasa de Interes             Pago Mensual\n",
    "                3%                       1475.61\n",
    "                4%                       1670.95\n",
    "                5%                       1878.88\n",
    "                6%                       2098.43\n",
    "                .                        .\n",
    "                .                        .\n",
    "                18%                      5279.80\n",
    "\n",
    "Recuerde el uso del format() para mostrar su tabla ordenada\n",
    "\n",
    "Puede probar sus resultados con una calculadora de hipoteca en linea (http://www.calculohipoteca.org/)"
   ]
  },
  {
   "cell_type": "code",
   "execution_count": 3,
   "metadata": {},
   "outputs": [],
   "source": [
    "#Programa de calculo de pago de hipoteca.\n",
    "#escriba su solución:\n"
   ]
  },
  {
   "cell_type": "markdown",
   "metadata": {},
   "source": [
    "### Ejercicio 4\n",
    "El estado de salud de un paciente se puede estimar considerando un indicador llamado IMC o *Indice de Masa Corporal*. El IMC se calcula de la forma:\n",
    "\n",
    "$$IMC = \\frac{peso}{altura^2}$$\n",
    "\n",
    "donde peso estará en Kg y altura en metros. Para interpretar el resultado se utiliza la siguiente información:\n",
    "\n",
    "* Si IMC < 18.5, Bajo Peso\n",
    "* Si IMC < 25.0, Peso Normal\n",
    "* Si IMC < 30.0, Sobrepeso\n",
    "* Si IMC >= 30, Obesidad\n",
    "\n",
    "Con estos datos, escriba un programa que imprima los resultados de 50 pacientes ficticios, cuyos valores serán generados aleatoriamente por el programa, con un rango de peso de 45Kg a 110Kg (valores enteros) y rangos de altura de 1.50m a 1.80m. El resultado debe mostrarse de acuerdo al siguiente ejemplo de ejecución:\n",
    "\n",
    "    1 | Peso: 64 kg  Altura: 1.60m  IMC: 23.23  Estado: Peso Normal\n",
    "    2 | Peso: 82 kg  Altura: 1.72m  IMC: 27.72  Estado: Sobrepeso\n",
    "    3 | Peso: 103kg  Altura: 1.68m  IMC: 36.49  Estado: Obesidad\n",
    "    .\n",
    "    .\n",
    "    .\n",
    "    50| Peso: 49 kg  Altura: 1.70  IMC: 16.96  Estado: Bajo Peso\n",
    "    \n",
    "Recuerde el uso del format() para mostrar sus datos en orden"
   ]
  },
  {
   "cell_type": "code",
   "execution_count": null,
   "metadata": {
    "collapsed": true
   },
   "outputs": [],
   "source": [
    "# Generacion de 50 valores de peso y altura y cálculo del IMC\n",
    "#escriba su solución:\n"
   ]
  },
  {
   "cell_type": "markdown",
   "metadata": {},
   "source": [
    "### **Ejercicio 5**\n",
    "\n",
    "Escriba un programa que permita determinar si número entero pedido al usuario es capicua o no. El programa deberá validar que el número ingresado debe ser entero positivo (mayor a 0). \n",
    "\n",
    "Recuerde el uso de try-except\n",
    "\n",
    "Ejemplo de ejecución:\n",
    "\n",
    "    Ingrese un número entero: 4.5\n",
    "    El número debe ser entero\n",
    "    Ingrese un número entero: adn\n",
    "    El número debe ser entero\n",
    "    Ingrese un número entero: -5\n",
    "    El número debe ser mayor a 0\n",
    "    Ingrese un número entero: 2299922\n",
    "    Número correcto\n",
    "\n",
    "    El numero es capicua"
   ]
  },
  {
   "cell_type": "code",
   "execution_count": 13,
   "metadata": {
    "scrolled": false
   },
   "outputs": [],
   "source": [
    "# Programa \"determina si un número es capicua\"\n",
    "#escriba su solución:\n"
   ]
  }
 ],
 "metadata": {
  "kernelspec": {
   "display_name": "Python 3 (ipykernel)",
   "language": "python",
   "name": "python3"
  },
  "language_info": {
   "codemirror_mode": {
    "name": "ipython",
    "version": 3
   },
   "file_extension": ".py",
   "mimetype": "text/x-python",
   "name": "python",
   "nbconvert_exporter": "python",
   "pygments_lexer": "ipython3",
   "version": "3.9.7"
  }
 },
 "nbformat": 4,
 "nbformat_minor": 2
}
