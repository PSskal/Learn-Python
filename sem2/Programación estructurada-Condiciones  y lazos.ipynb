{
 "cells": [
  {
   "cell_type": "code",
   "execution_count": 1,
   "id": "9c7168b1",
   "metadata": {},
   "outputs": [
    {
     "data": {
      "text/plain": [
       "False"
      ]
     },
     "execution_count": 1,
     "metadata": {},
     "output_type": "execute_result"
    }
   ],
   "source": [
    "#formando expresiones lógicas:\n",
    "\n",
    "5>6"
   ]
  },
  {
   "cell_type": "code",
   "execution_count": 27,
   "id": "87e8cb82",
   "metadata": {},
   "outputs": [
    {
     "name": "stdout",
     "output_type": "stream",
     "text": [
      "False\n",
      "False\n",
      "True\n",
      "False\n",
      "<class 'bool'>\n",
      "<class 'bool'>\n",
      "<class 'bool'>\n",
      "<class 'bool'>\n"
     ]
    }
   ],
   "source": [
    "#mas ejemplos de expresiones lógicas:\n",
    "\n",
    "e1 = 5>6\n",
    "print(e1)\n",
    "\n",
    "e2 = 3==10  #3 es igual a 10\n",
    "print(e2)\n",
    "\n",
    "e3 = 10<=30 and 4!=8  \n",
    "print(e3)\n",
    "\n",
    "e4 = 100<100 or 3>=10\n",
    "print(e4)\n",
    "\n",
    "#e1,e2,e,3,e4:  son variables booleanas\n",
    "print(type(e1))\n",
    "print(type(e2))\n",
    "print(type(e3))\n",
    "print(type(e4))"
   ]
  },
  {
   "cell_type": "code",
   "execution_count": 24,
   "id": "70cc9bc0",
   "metadata": {},
   "outputs": [
    {
     "data": {
      "text/plain": [
       "True"
      ]
     },
     "execution_count": 24,
     "metadata": {},
     "output_type": "execute_result"
    }
   ],
   "source": [
    "#uso de la función isinstance() (función BIF)\n",
    "\n",
    "num = 100\n",
    "isinstance(num,int)  #¿num es int?"
   ]
  },
  {
   "cell_type": "code",
   "execution_count": 25,
   "id": "1a7ea1e5",
   "metadata": {},
   "outputs": [
    {
     "data": {
      "text/plain": [
       "False"
      ]
     },
     "execution_count": 25,
     "metadata": {},
     "output_type": "execute_result"
    }
   ],
   "source": [
    "s = 2.4\n",
    "isinstance(s,str)  #¿s es str?"
   ]
  },
  {
   "cell_type": "code",
   "execution_count": 14,
   "id": "99052af5",
   "metadata": {},
   "outputs": [
    {
     "name": "stdout",
     "output_type": "stream",
     "text": [
      "Ingrese un número: 12.6\n",
      "El número es positivo es impar"
     ]
    }
   ],
   "source": [
    "#codificando un algoritmo de decición: \n",
    "#se ha utilizado 2 estr. de decisión simple y 1 doble\n",
    "\n",
    "numero = float(input(\"Ingrese un número: \"))\n",
    "\n",
    "if numero>0: \n",
    "    print(\"El número es positivo\",end='')\n",
    "    \n",
    "if numero>100:\n",
    "        print(\" mayor a 100\",end='')\n",
    "\n",
    "if numero%2==0:\n",
    "    print(\" par\",end='')\n",
    "else:\n",
    "    print(\" impar\",end='')"
   ]
  },
  {
   "cell_type": "code",
   "execution_count": 19,
   "id": "6c3fd0ff",
   "metadata": {},
   "outputs": [
    {
     "name": "stdout",
     "output_type": "stream",
     "text": [
      "Ingrese un año: 2002\n",
      "El año no es bisiesto\n"
     ]
    }
   ],
   "source": [
    "#Un año es bisiesto si es múltiplo de 4 pero no de 100, a excepción de\n",
    "#que sea múltiplo de 400\n",
    "\n",
    "#codificando el algoritmo: utilizando anidación\n",
    "\n",
    "año = int(input(\"Ingrese un año: \"))\n",
    "\n",
    "if año%4==0: \n",
    "    #if año%100!=0: #si año no es múltiplo de 100\n",
    "    if not(año%100==0):  #si año no es múltiplo de 100  \n",
    "        print(\"El año es bisiesto\")\n",
    "    else:\n",
    "        if año%400==0:\n",
    "            print(\"El año es bisiesto\")\n",
    "        else:\n",
    "            print(\"El año no es bisiesto\")   \n",
    "else:\n",
    "    print(\"El año no es bisiesto\")"
   ]
  },
  {
   "cell_type": "code",
   "execution_count": 23,
   "id": "f2a1fd2a",
   "metadata": {},
   "outputs": [
    {
     "name": "stdout",
     "output_type": "stream",
     "text": [
      "Ingrese un año: 1998\n",
      "El año no es bisiesto\n"
     ]
    }
   ],
   "source": [
    "#utilizando conectores u operadores lógicos (and, or, not)\n",
    "#uso de if planos\n",
    "\n",
    "año = int(input(\"Ingrese un año: \"))\n",
    "\n",
    "if (año%4==0 and año%100!=0) or año%400==0:\n",
    "    print(\"El año es bisiesto\")\n",
    "else:\n",
    "    print(\"El año no es bisiesto\")"
   ]
  },
  {
   "cell_type": "code",
   "execution_count": 32,
   "id": "30f7af90",
   "metadata": {},
   "outputs": [
    {
     "name": "stdout",
     "output_type": "stream",
     "text": [
      "Ingrese su edad: 78\n",
      "Es adulto mayor\n"
     ]
    }
   ],
   "source": [
    "#codificando un algoritmo de decisión múltiple:\n",
    "\n",
    "edad = int(input(\"Ingrese su edad: \"))\n",
    "\n",
    "if edad>=0 and edad<3:  \n",
    "    print(\"Es bebe\")\n",
    "elif edad<12:\n",
    "    print(\"Es niño\")\n",
    "elif edad<18:\n",
    "    print(\"Es adolescente\")\n",
    "elif edad<30:\n",
    "    print(\"Es adulto joven\")\n",
    "elif edad<60:\n",
    "    print(\"Es adulto\")\n",
    "else:\n",
    "    print(\"Es adulto mayor\")"
   ]
  },
  {
   "cell_type": "code",
   "execution_count": 33,
   "id": "70f2f517",
   "metadata": {},
   "outputs": [
    {
     "data": {
      "text/plain": [
       "range(1, 10)"
      ]
     },
     "execution_count": 33,
     "metadata": {},
     "output_type": "execute_result"
    }
   ],
   "source": [
    "#función range (función BIF):\n",
    "#genera un rango de números enteros\n",
    "\n",
    "range(1,10)"
   ]
  },
  {
   "cell_type": "code",
   "execution_count": 35,
   "id": "48224531",
   "metadata": {},
   "outputs": [
    {
     "name": "stdout",
     "output_type": "stream",
     "text": [
      "range(1, 10)\n",
      "<class 'range'>\n"
     ]
    }
   ],
   "source": [
    "r = range(1,10)\n",
    "print(r)\n",
    "print(type(r))"
   ]
  },
  {
   "cell_type": "code",
   "execution_count": 36,
   "id": "902103f4",
   "metadata": {},
   "outputs": [],
   "source": [
    "r1 = range(30,0,-10)  #30,  20,  10\n",
    "r2 = range(2,19,3)    #2, 5, 8, 11, 14, 17\n",
    "r3 = range(10,3,-1)   #10, 9, 8, 7, 6, 5, 4"
   ]
  },
  {
   "cell_type": "code",
   "execution_count": 37,
   "id": "4be7c67e",
   "metadata": {},
   "outputs": [
    {
     "name": "stdout",
     "output_type": "stream",
     "text": [
      "¿5 esta en el rango del 1 al 10? True\n"
     ]
    }
   ],
   "source": [
    "#uso de la palabra reservada in:\n",
    "#evalua si un dato pertenece o no a un grupo de datos:\n",
    "\n",
    "print(\"¿5 esta en el rango del 1 al 10?\",5 in range(1,11))"
   ]
  },
  {
   "cell_type": "code",
   "execution_count": 38,
   "id": "020c3795",
   "metadata": {},
   "outputs": [
    {
     "name": "stdout",
     "output_type": "stream",
     "text": [
      "¿20 esta en el rango del 30 al 50? False\n"
     ]
    }
   ],
   "source": [
    "print(\"¿20 esta en el rango del 30 al 50?\",20 in range(30,51))"
   ]
  },
  {
   "cell_type": "code",
   "execution_count": 49,
   "id": "4d5a4e39",
   "metadata": {},
   "outputs": [
    {
     "name": "stdout",
     "output_type": "stream",
     "text": [
      "Ingrese un número entero: hfhfhf\n",
      "El número debe ser entero\n",
      "El número es par\n"
     ]
    }
   ],
   "source": [
    "#uso de la estructura try-except:\n",
    "#manejar y controlar las excepciones o errores\n",
    "\n",
    "try:\n",
    "    num = int(input(\"Ingrese un número entero: \"))\n",
    "    if num%2==0:\n",
    "        print(\"El número es par\")\n",
    "    else:\n",
    "        print(\"El número es impar\")\n",
    "except:\n",
    "    print(\"El número debe ser entero\")"
   ]
  },
  {
   "cell_type": "code",
   "execution_count": 50,
   "id": "84d046f0",
   "metadata": {},
   "outputs": [
    {
     "name": "stdout",
     "output_type": "stream",
     "text": [
      "Arriba Perú\n",
      "Arriba Perú\n",
      "Arriba Perú\n",
      "Arriba Perú\n",
      "Arriba Perú\n",
      "Arriba Perú\n",
      "Arriba Perú\n",
      "Arriba Perú\n",
      "Arriba Perú\n",
      "Arriba Perú\n"
     ]
    }
   ],
   "source": [
    "#El lazo de control for:\n",
    "\n",
    "for n in range(1,11):  \n",
    "    #este bloque se ejecutará para n:1,2,3,....10 (10 veces)\n",
    "    print(\"Arriba Perú\")"
   ]
  },
  {
   "cell_type": "code",
   "execution_count": 51,
   "id": "21cf239d",
   "metadata": {},
   "outputs": [
    {
     "name": "stdout",
     "output_type": "stream",
     "text": [
      "10\n",
      "9\n",
      "8\n",
      "7\n",
      "6\n",
      "5\n",
      "4\n",
      "3\n",
      "2\n",
      "1\n"
     ]
    }
   ],
   "source": [
    "for n in range(10,0,-1):  \n",
    "    #este bloque se ejecutará para n:10,9,8,7,6,5,4,3,2,1 (10 veces)\n",
    "    print(n) "
   ]
  },
  {
   "cell_type": "code",
   "execution_count": 57,
   "id": "798b4d7e",
   "metadata": {},
   "outputs": [
    {
     "name": "stdout",
     "output_type": "stream",
     "text": [
      "*\n",
      "**\n",
      "***\n",
      "****\n",
      "*****\n",
      "******\n",
      "*******\n",
      "********\n",
      "*********\n",
      "**********\n",
      "***********\n",
      "************\n",
      "*************\n",
      "**************\n",
      "***************\n",
      "****************\n",
      "*****************\n",
      "******************\n",
      "*******************\n",
      "********************\n"
     ]
    }
   ],
   "source": [
    "#uso de for anidados\n",
    "for j in range(1,21):\n",
    "    #este bloque se ejecuta para j:1,2,3,4,5,...20\n",
    "    for i in range(1,j+1):\n",
    "        #este bloque se ejecuta para i:1,....j\n",
    "        print(\"*\",end='')\n",
    "    print()"
   ]
  },
  {
   "cell_type": "code",
   "execution_count": 58,
   "id": "42915595",
   "metadata": {},
   "outputs": [
    {
     "name": "stdout",
     "output_type": "stream",
     "text": [
      "Arriba Perú\n",
      "Arriba Perú\n",
      "Arriba Perú\n",
      "Arriba Perú\n",
      "Arriba Perú\n",
      "Arriba Perú\n",
      "Arriba Perú\n",
      "Arriba Perú\n",
      "Arriba Perú\n"
     ]
    }
   ],
   "source": [
    "#uso del while:\n",
    "x=1\n",
    "while x<10:\n",
    "    print(\"Arriba Perú\")\n",
    "    #actualizar a x:\n",
    "    x=x+1 # abreviatura: x+=1"
   ]
  },
  {
   "cell_type": "code",
   "execution_count": 1,
   "id": "1878a42b",
   "metadata": {},
   "outputs": [],
   "source": [
    "#cuidado: con el while se puede formar un lazo infinito\n",
    "\n",
    "# x=1\n",
    "# while x>=0:\n",
    "#     print(x)"
   ]
  },
  {
   "cell_type": "code",
   "execution_count": 2,
   "id": "745ae30b",
   "metadata": {},
   "outputs": [
    {
     "name": "stdout",
     "output_type": "stream",
     "text": [
      "10\n",
      "8\n",
      "6\n",
      "4\n",
      "2\n",
      "0\n"
     ]
    }
   ],
   "source": [
    "x=10\n",
    "while x>=0:\n",
    "    print(x)\n",
    "    x-=2  #se debe actualizar a la vble x para que se lazo finito"
   ]
  },
  {
   "cell_type": "code",
   "execution_count": 4,
   "id": "085d26e3",
   "metadata": {},
   "outputs": [
    {
     "name": "stdout",
     "output_type": "stream",
     "text": [
      "1\n",
      "2\n",
      "3\n",
      "4\n",
      "5\n"
     ]
    }
   ],
   "source": [
    "#uso del comando break en for:\n",
    "\n",
    "for i in range(1,50):\n",
    "    print(i)\n",
    "    if i%5==0:\n",
    "        break"
   ]
  },
  {
   "cell_type": "code",
   "execution_count": 3,
   "id": "1281b276",
   "metadata": {},
   "outputs": [
    {
     "name": "stdout",
     "output_type": "stream",
     "text": [
      "Ingrese un número mayor a 0: -5\n",
      "El número debe ser mayor a 0\n",
      "\n",
      "Ingrese un número mayor a 0: -7\n",
      "El número debe ser mayor a 0\n",
      "\n",
      "Ingrese un número mayor a 0: -3\n",
      "El número debe ser mayor a 0\n",
      "\n",
      "Ingrese un número mayor a 0: 34\n",
      "Ingreso correcto\n"
     ]
    }
   ],
   "source": [
    "#uso del break con un while infinito:\n",
    "\n",
    "while True:\n",
    "    num = int(input(\"Ingrese un número mayor a 0: \"))\n",
    "    if num>0:\n",
    "        print(\"Ingreso correcto\")\n",
    "        break\n",
    "    else:\n",
    "        print(\"El número debe ser mayor a 0\\n\")"
   ]
  },
  {
   "cell_type": "code",
   "execution_count": 9,
   "id": "bb579ec6",
   "metadata": {
    "scrolled": false
   },
   "outputs": [
    {
     "name": "stdout",
     "output_type": "stream",
     "text": [
      "89\n",
      "16\n"
     ]
    }
   ],
   "source": [
    "from random import randint\n",
    "\n",
    "while True:\n",
    "    alea = randint(10,99)\n",
    "    print(alea)\n",
    "    if alea%2==0:\n",
    "        break"
   ]
  },
  {
   "cell_type": "code",
   "execution_count": 1,
   "id": "1a8dec85",
   "metadata": {},
   "outputs": [
    {
     "name": "stdout",
     "output_type": "stream",
     "text": [
      "Adivine número [10,36]: 23\n",
      "El número a adivinar es menor\n",
      "Adivine número [10,36]: HOLA\n",
      "Debe ser un número entero\n",
      "Adivine número [10,36]: 34\n",
      "El número a adivinar es menor\n",
      "Adivine número [10,36]: 28\n",
      "El número a adivinar es menor\n",
      "Adivine número [10,36]: 22\n",
      "Adivinaste el número!!!!\n",
      "¿Deseas adivinar otro número? 1:SI,0:NO: 1\n",
      "Adivine número [10,36]: 34\n",
      "Adivinaste el número!!!!\n",
      "¿Deseas adivinar otro número? 1:SI,0:NO: 1\n",
      "Adivine número [10,36]: 23\n",
      "El número a adivinar es menor\n",
      "Adivine número [10,36]: 12\n",
      "El número a adivinar es mayor\n",
      "Adivine número [10,36]: 18\n",
      "El número a adivinar es menor\n",
      "Adivine número [10,36]: 15\n",
      "El número a adivinar es mayor\n",
      "Adivine número [10,36]: 17\n",
      "Adivinaste el número!!!!\n",
      "¿Deseas adivinar otro número? 1:SI,0:NO: 0\n"
     ]
    }
   ],
   "source": [
    "#ejercicio: (juego: Adivina número)\n",
    "\n",
    "from random import randint\n",
    "\n",
    "while True:\n",
    "    numAd = randint(10,36)\n",
    "\n",
    "    bun = 0\n",
    "    for i in range(1,8):\n",
    "        while True:\n",
    "            try:\n",
    "                numIng = int(input(\"Adivine número [10,36]: \"))\n",
    "                break\n",
    "            except:\n",
    "                print(\"Debe ser un número entero\")\n",
    "        if numIng>numAd:\n",
    "            print(\"El número a adivinar es menor\")\n",
    "        elif numIng<numAd:\n",
    "            print(\"El número a adivinar es mayor\")\n",
    "        else:\n",
    "            print(\"Adivinaste el número!!!!\")\n",
    "            bun=1\n",
    "            break        \n",
    "    #####\n",
    "    if bun==0:\n",
    "         print(\"Se acabaron tus intentos!!!\")   \n",
    "\n",
    "    op = int(input(\"¿Deseas adivinar otro número? 1:SI,0:NO: \"))\n",
    "    if op==0:\n",
    "        break"
   ]
  }
 ],
 "metadata": {
  "kernelspec": {
   "display_name": "Python 3 (ipykernel)",
   "language": "python",
   "name": "python3"
  },
  "language_info": {
   "codemirror_mode": {
    "name": "ipython",
    "version": 3
   },
   "file_extension": ".py",
   "mimetype": "text/x-python",
   "name": "python",
   "nbconvert_exporter": "python",
   "pygments_lexer": "ipython3",
   "version": "3.9.7"
  }
 },
 "nbformat": 4,
 "nbformat_minor": 5
}
