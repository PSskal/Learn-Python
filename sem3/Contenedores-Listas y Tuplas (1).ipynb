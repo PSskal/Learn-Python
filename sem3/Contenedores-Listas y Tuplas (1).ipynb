{
 "cells": [
  {
   "attachments": {
    "descargar.png": {
     "image/png": "[encoded data removed]"
    }
   },
   "cell_type": "markdown",
   "id": "0aed3da7",
   "metadata": {},
   "source": [
    "# tuplas y listas\n",
    "\n",
    "![descargar.png](attachment:descargar.png)\n",
    "\n",
    "<div style=\"text-align: right\">Autor: Luis A. Muñoz - 2020 </div>"
   ]
  },
  {
   "cell_type": "markdown",
   "id": "24ddef97",
   "metadata": {},
   "source": [
    "## Tuplas\n",
    "Una tupla es un contenedor o colección de elementos bajo una sola variable. Una tupla se forma agrupando elementos de cualquier tipo, separados por \",\" y encerrados por \"()\". Es un conjunto \"inmutable\". Esto significa que una vez definido no se puede modificar. Existen muchas formas de definir una tupla:"
   ]
  },
  {
   "cell_type": "code",
   "execution_count": 109,
   "id": "81cc9b65",
   "metadata": {},
   "outputs": [
    {
     "name": "stdout",
     "output_type": "stream",
     "text": [
      "(0, 1, 2, 3, 4)\n",
      "(0, 1, 2, 3, 4)\n",
      "(0, 1, 2, 3, 4)\n",
      "(1, 'Uno', 'one', (1+0j))\n",
      "(1, (0, 1, 2, 3, 4), 'A', (4, 7, 8))\n"
     ]
    }
   ],
   "source": [
    "# Se definen diferentes tuplas:\n",
    "\n",
    "tupla1 = 0, 1, 2, 3, 4  #funciona solo para tuplas\n",
    "tupla2 = (0, 1, 2, 3, 4)\n",
    "tupla3 = tuple(range(0,5)) #convierte un rango a tupla\n",
    "\n",
    "# Se imprimen las tuplas\n",
    "print(tupla1)\n",
    "print(tupla2)\n",
    "print(tupla3)\n",
    "\n",
    "# ¿De que tipo de datos es la variable \"tupla1\"?\n",
    "type(tupla1)\n",
    "\n",
    "#las tuplas pueden almacenar objetos de distinto tipo:\n",
    "tupla4 = (1,\"Uno\",\"one\",1+0j)\n",
    "tupla5 = (1,tupla1,'A',(4,7,8)) #incluso una tupla puede almacenar otra tupla\n",
    "\n",
    "print(tupla4)\n",
    "print(tupla5)"
   ]
  },
  {
   "cell_type": "markdown",
   "id": "6e00ffdb",
   "metadata": {},
   "source": [
    "En las tuplas 1, 2 y 3 se observan tuplas homogéneas (es decir, almacenan elementos del mismo tipo). En las tuplas 4 y 5 se observan tuplas heterogéneas (almacenan elementos de distinto tipo)"
   ]
  },
  {
   "cell_type": "markdown",
   "id": "fc4d4860",
   "metadata": {},
   "source": [
    "Dato curioso: ¿como hacer una tupla de un solo elemento?\n",
    "\n",
    "    t = 1    -> Esto es una variable int\n",
    "    t = (1)  -> Esto sigue siendo una variable int\n",
    "    \n",
    "Se puede hacer esto con una sintaxis que puede parecer un error:"
   ]
  },
  {
   "cell_type": "code",
   "execution_count": 5,
   "id": "8c4da7b7",
   "metadata": {},
   "outputs": [
    {
     "name": "stdout",
     "output_type": "stream",
     "text": [
      "(1,)\n"
     ]
    },
    {
     "data": {
      "text/plain": [
       "tuple"
      ]
     },
     "execution_count": 5,
     "metadata": {},
     "output_type": "execute_result"
    }
   ],
   "source": [
    "t = (1,)  #se crea una tupla de un solo elemento\n",
    "print(t)\n",
    "type(t)"
   ]
  },
  {
   "cell_type": "markdown",
   "id": "61aaac03",
   "metadata": {},
   "source": [
    "La ',' adicional al final indica que ese dato es una tupla y no un valor entero."
   ]
  },
  {
   "cell_type": "markdown",
   "id": "1c16569d",
   "metadata": {},
   "source": [
    "## Listas\n",
    "Una lista tambien es un nuevo tipo de dato que funciona como un contenedor o colección de elementos de cualquier tipo bajo una sola variable. Una lista se forma agrupando elementos, separados por \",\" y encerrados por \"[ ]\". Es un conjunto \"mutable\". Esto significa que puede modificarse libremente. Existen muchas formas de definir una lista:"
   ]
  },
  {
   "cell_type": "code",
   "execution_count": 110,
   "id": "4053c079",
   "metadata": {},
   "outputs": [
    {
     "name": "stdout",
     "output_type": "stream",
     "text": [
      "[1, 2, 3, 4, 5]\n",
      "[0, 1, 2, 3, 4, 5, 6, 7, 8]\n",
      "[10]\n",
      "[]\n",
      "<class 'list'>\n",
      "[1, 'Uno', 'one', (1+0j)]\n",
      "[1, 'Hola', [1, 2, 3, 4, 5], ('a', 'b', 'c')]\n",
      "([1, 2, 3, 4, 5], 230, 'UPC', ('a', 'b', 'c'))\n"
     ]
    }
   ],
   "source": [
    "lista1 = [1, 2, 3, 4, 5]\n",
    "\n",
    "#se puede convertir un rango a una lista\n",
    "lista2 = list(range(0,9))\n",
    "\n",
    "# Se puede crear una lista de un solo valor\n",
    "lista3 = [10]\n",
    "\n",
    "# Iclusive se puede crear una lista vacia\n",
    "lista4 = []\n",
    "\n",
    "print(lista1)\n",
    "print(lista2)\n",
    "print(lista3)\n",
    "print(lista4)\n",
    "\n",
    "# ¿De que tipo de datos es la variable \"lista1\"?\n",
    "print(type(lista1))\n",
    "\n",
    "#las listas pueden almacenar objetos de distinto tipo:\n",
    "lista5 = [1,\"Uno\",\"one\",1+0j]\n",
    "lista6 = [1,\"Hola\",lista1,('a','b','c')] #incluso tener como elementos otras listas y tuplas\n",
    "\n",
    "#ojo que las tuplas tambien pueden contener listas y otras tuplas como elementos\n",
    "tupla1 = (lista1,230,\"UPC\",('a','b','c'))\n",
    "\n",
    "print(lista5)\n",
    "print(lista6)\n",
    "print(tupla1)"
   ]
  },
  {
   "cell_type": "markdown",
   "id": "deceef66",
   "metadata": {},
   "source": [
    "### Indices e index slicing\n",
    "Cada uno de los elementos de una tupla o lista ocupa una posicion denominada índice. El conteo de los indices inicia en 0 (indexación positiva). Se puede especificar un elemento de una tupla o lista utilizando su índice entre `[]`.\n",
    "\n",
    "Para acceder a los datos de una tupla o lista se utiliza el *índice*. Por ejemplo:\n",
    "\n",
    "    tupla = (10, 20, 30)\n",
    "    tupla[0] -> 10\n",
    "    tupla[1] -> 20\n",
    "    tupla[2] -> 30\n",
    "    \n",
    "Los índices pueden ser negativos (indexacion negativa). El índice -1 indica el último valor, el -2, en penúltimo, etc.\n",
    "\n",
    "    tupla[-1] -> 30\n",
    "    tupla[-2] -> 20\n",
    "    tupla[-3] -> 10"
   ]
  },
  {
   "cell_type": "code",
   "execution_count": 111,
   "id": "3f3450f1",
   "metadata": {},
   "outputs": [
    {
     "name": "stdout",
     "output_type": "stream",
     "text": [
      "t1[0]: A\n",
      "l1[1]: B\n",
      "l1[-1]: 20\n",
      "t1[-2]: F\n"
     ]
    }
   ],
   "source": [
    "#mas ejemplos de acceso a datos de una tupla o lista a através de índices:\n",
    "\n",
    "t1 = ('A','B','C','D','E','F','G')\n",
    "l1 = ['A','B','C',100, 200, 34, 20]\n",
    "\n",
    "print(\"t1[0]:\",t1[0])\n",
    "print(\"l1[1]:\",l1[1])\n",
    "print(\"l1[-1]:\",l1[-1])\n",
    "print(\"t1[-2]:\",t1[-2])"
   ]
  },
  {
   "cell_type": "markdown",
   "id": "926d76de",
   "metadata": {},
   "source": [
    "Se puede especificar un rango de indices utilizando un **\"index slicing\"**, esto es, una sección de datos especificada por indices, con el formato:\n",
    "\n",
    "    [i inicial: i_final + 1: paso_entre_indices]\n",
    "  \n",
    "Observe bien los siguientes ejemplos sobre la forma como se especifica un index slicing:"
   ]
  },
  {
   "cell_type": "code",
   "execution_count": 113,
   "id": "ef95b4b3",
   "metadata": {},
   "outputs": [
    {
     "name": "stdout",
     "output_type": "stream",
     "text": [
      "('A', 'B', 'C')\n",
      "['B', 200]\n",
      "('G', 'F')\n",
      "('A', 'C', 'E', 'G')\n",
      "[100, 200, 34, 20]\n",
      "['A', 'B', 'C', 100, 200, 34]\n",
      "('C', 'A')\n"
     ]
    }
   ],
   "source": [
    "t1 = ('A','B','C','D','E','F','G')\n",
    "l1 = ['A','B','C',100, 200, 34, 20]\n",
    "\n",
    "print(t1[0:3])  #accede al rango de índices: 0,1,2\n",
    "print(l1[1:7:3])  #accede al rango de índices: 1,4\n",
    "print(t1[-1:-3:-1]) #accede al rango de índices: -1,-2\n",
    "print(t1[::2]) #accede al rango de índices: 0,2,4,6\n",
    "print(l1[3:]) #accede al rango de índices: 3,4,5,6\n",
    "print(l1[:-1]) #accede al rango de índices: 0,1,2,3,4,5\n",
    "print(t1[-5::-2]) #accede al rango de índices: -5, -7"
   ]
  },
  {
   "cell_type": "code",
   "execution_count": 114,
   "id": "850a7bcb",
   "metadata": {},
   "outputs": [
    {
     "name": "stdout",
     "output_type": "stream",
     "text": [
      "(1, 0.7, 1)\n",
      "[5, 7, 8]\n",
      "[3, 3, 0]\n",
      "(0, 0, 0)\n"
     ]
    }
   ],
   "source": [
    "#otros ejemplos: \n",
    "#Recuerde que una tupla o lista puede contener cualquier tipo de elementos\n",
    "\n",
    "t = (3,\"Electrónica\",3.4,(1,0.7,1),[5,7,8])\n",
    "print(t[3]) #accede a la tupla (1,0.7,1)\n",
    "print(t[-1]) #accede a la lista [5,7,8]\n",
    "\n",
    "l = [[3,3,0],\"UPC\",5.6,(0,0,0)]\n",
    "print(l[0]) #accede a la lista [3,3,0]\n",
    "print(l[-1]) #accede a la tupla (0,0,0)"
   ]
  },
  {
   "cell_type": "markdown",
   "id": "ee7c0b4b",
   "metadata": {},
   "source": [
    "En caso algún elemento de una tupla o lista sea tambien otra tupla y/o lista. Para acceder a los elementos de éstas últimas se tendría que utilizar doble índice:"
   ]
  },
  {
   "cell_type": "code",
   "execution_count": 36,
   "id": "ea4b3112",
   "metadata": {},
   "outputs": [
    {
     "name": "stdout",
     "output_type": "stream",
     "text": [
      "0.7\n",
      "0\n"
     ]
    }
   ],
   "source": [
    "#ejemplos:\n",
    "\n",
    "t = (3,\"Electrónica\",3.4,(1,0.7,1),[5,7,8])\n",
    "l = [[3,3,0],\"UPC\",5.6,(0,0,0)]\n",
    "\n",
    "print(t[3][1]) #accede al segundo elemento de la tupla (1,0.7,1)\n",
    "print(l[0][-1]) #accede al último elemento de la lista [3,3,0]"
   ]
  },
  {
   "cell_type": "markdown",
   "id": "4957f66f",
   "metadata": {},
   "source": [
    "Algunas excepciones (errores) al acceder a los elementos:"
   ]
  },
  {
   "cell_type": "code",
   "execution_count": 46,
   "id": "980f7381",
   "metadata": {},
   "outputs": [
    {
     "ename": "SyntaxError",
     "evalue": "invalid syntax (Temp/ipykernel_25772/1451405415.py, line 2)",
     "output_type": "error",
     "traceback": [
      "\u001b[1;36m  File \u001b[1;32m\"C:\\Users\\jpuer\\AppData\\Local\\Temp/ipykernel_25772/1451405415.py\"\u001b[1;36m, line \u001b[1;32m2\u001b[0m\n\u001b[1;33m    print(datos[])  #saldrá excepción de sintaxis\u001b[0m\n\u001b[1;37m                ^\u001b[0m\n\u001b[1;31mSyntaxError\u001b[0m\u001b[1;31m:\u001b[0m invalid syntax\n"
     ]
    }
   ],
   "source": [
    "datos = [5,8,9,192,5]\n",
    "print(datos[])  #saldrá excepción de sintaxis"
   ]
  },
  {
   "cell_type": "code",
   "execution_count": 47,
   "id": "562889e2",
   "metadata": {},
   "outputs": [
    {
     "ename": "IndexError",
     "evalue": "tuple index out of range",
     "output_type": "error",
     "traceback": [
      "\u001b[1;31m---------------------------------------------------------------------------\u001b[0m",
      "\u001b[1;31mIndexError\u001b[0m                                Traceback (most recent call last)",
      "\u001b[1;32m~\\AppData\\Local\\Temp/ipykernel_25772/2694962623.py\u001b[0m in \u001b[0;36m<module>\u001b[1;34m\u001b[0m\n\u001b[0;32m      1\u001b[0m \u001b[0mnumeros\u001b[0m \u001b[1;33m=\u001b[0m \u001b[1;33m(\u001b[0m\u001b[1;36m5\u001b[0m\u001b[1;33m,\u001b[0m\u001b[1;36m8\u001b[0m\u001b[1;33m,\u001b[0m\u001b[1;36m9\u001b[0m\u001b[1;33m,\u001b[0m\u001b[1;36m192\u001b[0m\u001b[1;33m,\u001b[0m\u001b[1;36m5\u001b[0m\u001b[1;33m)\u001b[0m\u001b[1;33m\u001b[0m\u001b[1;33m\u001b[0m\u001b[0m\n\u001b[1;32m----> 2\u001b[1;33m \u001b[0mprint\u001b[0m\u001b[1;33m(\u001b[0m\u001b[0mnumeros\u001b[0m\u001b[1;33m[\u001b[0m\u001b[1;36m8\u001b[0m\u001b[1;33m]\u001b[0m\u001b[1;33m)\u001b[0m \u001b[1;31m#saldrá excepción IndexError (8 esta fuera del rango)\u001b[0m\u001b[1;33m\u001b[0m\u001b[1;33m\u001b[0m\u001b[0m\n\u001b[0m",
      "\u001b[1;31mIndexError\u001b[0m: tuple index out of range"
     ]
    }
   ],
   "source": [
    "numeros = (5,8,9,192,5)\n",
    "print(numeros[8]) #saldrá excepción IndexError (8 esta fuera del rango de índices)"
   ]
  },
  {
   "cell_type": "code",
   "execution_count": 115,
   "id": "b4ed3f3a",
   "metadata": {},
   "outputs": [
    {
     "ename": "IndexError",
     "evalue": "list index out of range",
     "output_type": "error",
     "traceback": [
      "\u001b[1;31m---------------------------------------------------------------------------\u001b[0m",
      "\u001b[1;31mIndexError\u001b[0m                                Traceback (most recent call last)",
      "\u001b[1;32m~\\AppData\\Local\\Temp/ipykernel_13912/2799611729.py\u001b[0m in \u001b[0;36m<module>\u001b[1;34m\u001b[0m\n\u001b[0;32m      1\u001b[0m \u001b[0medades\u001b[0m \u001b[1;33m=\u001b[0m \u001b[1;33m[\u001b[0m\u001b[1;36m34\u001b[0m\u001b[1;33m,\u001b[0m \u001b[1;36m78\u001b[0m\u001b[1;33m,\u001b[0m \u001b[1;36m23\u001b[0m\u001b[1;33m,\u001b[0m \u001b[1;36m56\u001b[0m\u001b[1;33m]\u001b[0m\u001b[1;33m\u001b[0m\u001b[1;33m\u001b[0m\u001b[0m\n\u001b[1;32m----> 2\u001b[1;33m \u001b[0mprint\u001b[0m\u001b[1;33m(\u001b[0m\u001b[0medades\u001b[0m\u001b[1;33m[\u001b[0m\u001b[1;33m-\u001b[0m\u001b[1;36m5\u001b[0m\u001b[1;33m]\u001b[0m\u001b[1;33m)\u001b[0m \u001b[1;31m#saldrá excepción IndexError (-5 esta fuera del rango de índices)\u001b[0m\u001b[1;33m\u001b[0m\u001b[1;33m\u001b[0m\u001b[0m\n\u001b[0m",
      "\u001b[1;31mIndexError\u001b[0m: list index out of range"
     ]
    }
   ],
   "source": [
    "edades = [34, 78, 23, 56]\n",
    "print(edades[-5]) #saldrá excepción IndexError (-5 esta fuera del rango de índices)"
   ]
  },
  {
   "cell_type": "markdown",
   "id": "69a85594",
   "metadata": {},
   "source": [
    "### Desempaquetamiento de tuplas y listas\n",
    "Una tupla o lista se puede desempaquetar en sus constituyentes utilizando el operador de asignación con un número de variables equivalentes al número de elementos del contenedor. Considere la siguiente instrucción:"
   ]
  },
  {
   "cell_type": "code",
   "execution_count": 116,
   "id": "4ce0d8ab",
   "metadata": {},
   "outputs": [
    {
     "name": "stdout",
     "output_type": "stream",
     "text": [
      "1\n",
      "2\n",
      "3\n",
      "Brasil\n",
      "Argentina\n",
      "Uruguay\n"
     ]
    }
   ],
   "source": [
    "a,b,c = (1,2,3)\n",
    "print(a)\n",
    "print(b)\n",
    "print(c)\n",
    "\n",
    "p1,p2,p3,p4,p5 = [\"Brasil\",\"Argentina\",\"Uruguay\",\"Ecuador\",\"Perú\"]\n",
    "print(p1)\n",
    "print(p2)\n",
    "print(p3)"
   ]
  },
  {
   "cell_type": "code",
   "execution_count": 1,
   "id": "b92ee440",
   "metadata": {},
   "outputs": [
    {
     "name": "stdout",
     "output_type": "stream",
     "text": [
      "Ingrese números: 34  89   12  6.7  45  89 56\n",
      "['34', '89', '12', '6.7', '45', '89', '56']\n"
     ]
    }
   ],
   "source": [
    "#el método split() retorna una lista\n",
    "\n",
    "data = input(\"Ingrese números: \").split()\n",
    "print(data)"
   ]
  },
  {
   "cell_type": "code",
   "execution_count": 117,
   "id": "a6d8157d",
   "metadata": {},
   "outputs": [
    {
     "name": "stdout",
     "output_type": "stream",
     "text": [
      "Ingrese su nombre, peso y talla: juan  65  1.65\n",
      "juan\n",
      "65\n",
      "1.65\n"
     ]
    }
   ],
   "source": [
    "#por eso se puede usar desempaquetamiento de esta forma:\n",
    "\n",
    "nombre,peso,talla = input(\"Ingrese su nombre, peso y talla: \").split()\n",
    "print(nombre)\n",
    "print(peso)\n",
    "print(talla)"
   ]
  },
  {
   "cell_type": "code",
   "execution_count": 3,
   "id": "edcdf036",
   "metadata": {},
   "outputs": [
    {
     "name": "stdout",
     "output_type": "stream",
     "text": [
      "(4, 5, 6, 7)\n",
      "[4, 5, 6, 7]\n"
     ]
    }
   ],
   "source": [
    "#se puede convertir de lista a tupla o viceversa\n",
    "l1 = [4,5,6,7]\n",
    "t1 = tuple(l1)\n",
    "print(t1)\n",
    "l2 = list(t1)\n",
    "print(l2)"
   ]
  },
  {
   "cell_type": "markdown",
   "id": "b23543e5",
   "metadata": {},
   "source": [
    "#### Uso de la instrucción `in` con listas y tuplas"
   ]
  },
  {
   "cell_type": "code",
   "execution_count": 4,
   "id": "81245261",
   "metadata": {},
   "outputs": [
    {
     "name": "stdout",
     "output_type": "stream",
     "text": [
      "\"UPC\" esta en la tupla data? True\n",
      "33 esta en la lista numeros? False\n"
     ]
    }
   ],
   "source": [
    "data = (4, \"UPC\", 3.5, -10, 5+6j)\n",
    "numeros = [20, 56, 89, 100, 5]\n",
    "\n",
    "print('\"UPC\" esta en la tupla data?',\"UPC\" in data)\n",
    "print(\"33 esta en la lista numeros?\",33 in numeros)"
   ]
  },
  {
   "cell_type": "markdown",
   "id": "79b0ed4b",
   "metadata": {},
   "source": [
    "### Inmutabilidad de una tupla\n",
    "Una tupla es inmutable: no puede cambiar de tamaño, ni sus elementos pueden reasignarse. Piense en los \"( )\" de una tupla con una esfera que una vez cerrada ya no puede abrirse. Observe el resultado de la siguiente instrucción:"
   ]
  },
  {
   "cell_type": "code",
   "execution_count": 5,
   "id": "22636567",
   "metadata": {},
   "outputs": [
    {
     "ename": "TypeError",
     "evalue": "'tuple' object does not support item assignment",
     "output_type": "error",
     "traceback": [
      "\u001b[1;31m---------------------------------------------------------------------------\u001b[0m",
      "\u001b[1;31mTypeError\u001b[0m                                 Traceback (most recent call last)",
      "\u001b[1;32m~\\AppData\\Local\\Temp/ipykernel_13912/3998578273.py\u001b[0m in \u001b[0;36m<module>\u001b[1;34m\u001b[0m\n\u001b[0;32m      1\u001b[0m \u001b[0mt1\u001b[0m \u001b[1;33m=\u001b[0m \u001b[1;33m(\u001b[0m\u001b[1;34m'A'\u001b[0m\u001b[1;33m,\u001b[0m\u001b[1;34m'B'\u001b[0m\u001b[1;33m,\u001b[0m\u001b[1;34m'C'\u001b[0m\u001b[1;33m,\u001b[0m\u001b[1;34m'D'\u001b[0m\u001b[1;33m,\u001b[0m\u001b[1;34m'E'\u001b[0m\u001b[1;33m,\u001b[0m\u001b[1;34m'F'\u001b[0m\u001b[1;33m,\u001b[0m\u001b[1;34m'G'\u001b[0m\u001b[1;33m)\u001b[0m\u001b[1;33m\u001b[0m\u001b[1;33m\u001b[0m\u001b[0m\n\u001b[1;32m----> 2\u001b[1;33m \u001b[0mt1\u001b[0m\u001b[1;33m[\u001b[0m\u001b[1;36m0\u001b[0m\u001b[1;33m]\u001b[0m\u001b[1;33m=\u001b[0m\u001b[1;34m'a'\u001b[0m \u001b[1;31m#la tupla es inmutable (saldrá excepción)\u001b[0m\u001b[1;33m\u001b[0m\u001b[1;33m\u001b[0m\u001b[0m\n\u001b[0m",
      "\u001b[1;31mTypeError\u001b[0m: 'tuple' object does not support item assignment"
     ]
    }
   ],
   "source": [
    "t1 = ('A','B','C','D','E','F','G')\n",
    "\n",
    "t1[0]='a' #modifica el elemento de la posición 0 por 'a'\n",
    "          #la tupla es inmutable (saldrá excepción)"
   ]
  },
  {
   "cell_type": "markdown",
   "id": "5b98d20f",
   "metadata": {},
   "source": [
    "Al intentar reasignar el elemento de índice 0 con un nuevo valor, se genera la excepción `TypeError`, indicando que una tupla no soporta asignación de elementos. Asi que una tupla suele utilizarse cuando se quiere tener una colección de datos que se quiere mantener fija. Muchas de las funciones de Python retornan tuplas como resultados"
   ]
  },
  {
   "cell_type": "markdown",
   "id": "d79a0dfb",
   "metadata": {},
   "source": [
    "### Mutabilidad de una lista\n",
    "La característica interesante de una lista (y lo que la convierte en una colección tan versátil) es su mutabilidad. Piense en los \"[ ]\" de una lista como una caja que puede abrirse y modificar sus valores y el número de elementos:"
   ]
  },
  {
   "cell_type": "code",
   "execution_count": 118,
   "id": "60fe3746",
   "metadata": {},
   "outputs": [
    {
     "name": "stdout",
     "output_type": "stream",
     "text": [
      "[1, 2, 3, 4, 5, 6, 7, 8, 9]\n",
      "[10, 2, 3, 4, 5, 6, 7, 8, 9]\n",
      "[10, 2, 3, 4, 5, 6, 7, 8, [3, 5, 6, 7]]\n",
      "[10, 2, 0, 0, 0, 0, 0, 0, 6, 7, 8, [3, 5, 6, 7]]\n"
     ]
    }
   ],
   "source": [
    "L1 = [1,2,3,4,5,6,7,8,9]\n",
    "print(L1)\n",
    "\n",
    "L1[0]=10   #modifica el elemento de la posición 0 por 10\n",
    "print(L1)\n",
    "\n",
    "L1[-1]=[3,5,6,7]  #modifica el último elemento por [3,5,6,7]\n",
    "print(L1)\n",
    "\n",
    "L1[2:5]=[0,0,0,0,0,0]  #modifica los elementos de las posiciones 2,3,4\n",
    "                       #por los elementos 0,0,0,0,0,0 (¿interesante no?)\n",
    "print(L1)"
   ]
  },
  {
   "cell_type": "markdown",
   "id": "efd0fa9c",
   "metadata": {},
   "source": [
    "Una consideración a tener en cuenta es que la \"mutabilidad\" opera sobre los elementos existentes. Si se quiere modificar un elemento que no exista, la lista retornará una excepción `IndexError`:"
   ]
  },
  {
   "cell_type": "code",
   "execution_count": 119,
   "id": "45fc56c2",
   "metadata": {},
   "outputs": [
    {
     "ename": "IndexError",
     "evalue": "list assignment index out of range",
     "output_type": "error",
     "traceback": [
      "\u001b[1;31m---------------------------------------------------------------------------\u001b[0m",
      "\u001b[1;31mIndexError\u001b[0m                                Traceback (most recent call last)",
      "\u001b[1;32m~\\AppData\\Local\\Temp/ipykernel_13912/2543021174.py\u001b[0m in \u001b[0;36m<module>\u001b[1;34m\u001b[0m\n\u001b[1;32m----> 1\u001b[1;33m \u001b[0mL1\u001b[0m\u001b[1;33m[\u001b[0m\u001b[1;36m20\u001b[0m\u001b[1;33m]\u001b[0m \u001b[1;33m=\u001b[0m \u001b[1;36m100\u001b[0m \u001b[1;31m#modifica el elemento de la posición 20 por 100\u001b[0m\u001b[1;33m\u001b[0m\u001b[1;33m\u001b[0m\u001b[0m\n\u001b[0m\u001b[0;32m      2\u001b[0m             \u001b[1;31m#(saldrá excepción)\u001b[0m\u001b[1;33m\u001b[0m\u001b[1;33m\u001b[0m\u001b[0m\n",
      "\u001b[1;31mIndexError\u001b[0m: list assignment index out of range"
     ]
    }
   ],
   "source": [
    "L1[20] = 100 #modifica el elemento de la posición 20 por 100\n",
    "            #(saldrá excepción)"
   ]
  },
  {
   "cell_type": "markdown",
   "id": "0e02a245",
   "metadata": {},
   "source": [
    "### Operaciones artimeticas con listas y tuplas:\n"
   ]
  },
  {
   "cell_type": "code",
   "execution_count": 121,
   "id": "d3571385",
   "metadata": {},
   "outputs": [
    {
     "data": {
      "text/plain": [
       "(1, 2, 3, 4, 5, 6)"
      ]
     },
     "execution_count": 121,
     "metadata": {},
     "output_type": "execute_result"
    }
   ],
   "source": [
    "#operacion de concatenación (+): junta los elementos de 2 o mas \n",
    "#contenedores  para formar un nuevo contenedor\n",
    "(1, 2, 3) + (4, 5, 6)"
   ]
  },
  {
   "cell_type": "code",
   "execution_count": 120,
   "id": "320af91f",
   "metadata": {},
   "outputs": [
    {
     "name": "stdout",
     "output_type": "stream",
     "text": [
      "[5, 6, 'Perú', 'Chile', 0, 0, 0, 0]\n"
     ]
    }
   ],
   "source": [
    "l = [5,6] + [\"Perú\",\"Chile\"] + [0,0,0,0]\n",
    "print(l)"
   ]
  },
  {
   "cell_type": "code",
   "execution_count": 122,
   "id": "a3c89e6c",
   "metadata": {
    "scrolled": true
   },
   "outputs": [
    {
     "ename": "TypeError",
     "evalue": "can only concatenate tuple (not \"list\") to tuple",
     "output_type": "error",
     "traceback": [
      "\u001b[1;31m---------------------------------------------------------------------------\u001b[0m",
      "\u001b[1;31mTypeError\u001b[0m                                 Traceback (most recent call last)",
      "\u001b[1;32m~\\AppData\\Local\\Temp/ipykernel_13912/3301622402.py\u001b[0m in \u001b[0;36m<module>\u001b[1;34m\u001b[0m\n\u001b[0;32m      1\u001b[0m \u001b[1;31m#La concatenación solo se puede realizar entre contenedores del mismo\u001b[0m\u001b[1;33m\u001b[0m\u001b[1;33m\u001b[0m\u001b[0m\n\u001b[0;32m      2\u001b[0m \u001b[1;31m#tipo:\u001b[0m\u001b[1;33m\u001b[0m\u001b[1;33m\u001b[0m\u001b[0m\n\u001b[1;32m----> 3\u001b[1;33m \u001b[1;33m(\u001b[0m\u001b[1;36m4\u001b[0m\u001b[1;33m,\u001b[0m\u001b[1;36m5\u001b[0m\u001b[1;33m,\u001b[0m\u001b[1;36m6\u001b[0m\u001b[1;33m)\u001b[0m \u001b[1;33m+\u001b[0m \u001b[1;33m[\u001b[0m\u001b[1;36m4\u001b[0m\u001b[1;33m,\u001b[0m\u001b[1;36m3\u001b[0m\u001b[1;33m]\u001b[0m  \u001b[1;31m#saldrá excepción TypeError\u001b[0m\u001b[1;33m\u001b[0m\u001b[1;33m\u001b[0m\u001b[0m\n\u001b[0m",
      "\u001b[1;31mTypeError\u001b[0m: can only concatenate tuple (not \"list\") to tuple"
     ]
    }
   ],
   "source": [
    "#La concatenación solo se puede realizar entre contenedores del mismo\n",
    "#tipo:\n",
    "(4,5,6) + [4,3]  #saldrá excepción TypeError"
   ]
  },
  {
   "cell_type": "code",
   "execution_count": 123,
   "id": "991a4033",
   "metadata": {},
   "outputs": [
    {
     "name": "stdout",
     "output_type": "stream",
     "text": [
      "(1, 2, 3, 1, 2, 3, 1, 2, 3)\n"
     ]
    }
   ],
   "source": [
    "# Operador de repetición (*): genera un nuevo contenedor (tupla o lista) \n",
    "#con la repeticion de la tupla o lista por un factor entero\n",
    "t = (1, 2, 3) * 3\n",
    "print(t)"
   ]
  },
  {
   "cell_type": "code",
   "execution_count": 124,
   "id": "86c40850",
   "metadata": {},
   "outputs": [
    {
     "data": {
      "text/plain": [
       "[0, 0, 0, 0, 0, 0, 0, 0, 0, 0, 0, 0, 0, 0, 0]"
      ]
     },
     "execution_count": 124,
     "metadata": {},
     "output_type": "execute_result"
    }
   ],
   "source": [
    "[0,0,0]*5"
   ]
  },
  {
   "cell_type": "markdown",
   "id": "98aac0a1",
   "metadata": {},
   "source": [
    "No se puede usar los operadores - , /, **, % entre tuplas o entre listas"
   ]
  },
  {
   "cell_type": "code",
   "execution_count": 125,
   "id": "f6ebf997",
   "metadata": {},
   "outputs": [
    {
     "ename": "TypeError",
     "evalue": "unsupported operand type(s) for -: 'list' and 'list'",
     "output_type": "error",
     "traceback": [
      "\u001b[1;31m---------------------------------------------------------------------------\u001b[0m",
      "\u001b[1;31mTypeError\u001b[0m                                 Traceback (most recent call last)",
      "\u001b[1;32m~\\AppData\\Local\\Temp/ipykernel_13912/1077033536.py\u001b[0m in \u001b[0;36m<module>\u001b[1;34m\u001b[0m\n\u001b[1;32m----> 1\u001b[1;33m \u001b[1;33m[\u001b[0m\u001b[1;36m5\u001b[0m\u001b[1;33m,\u001b[0m\u001b[1;36m6\u001b[0m\u001b[1;33m,\u001b[0m\u001b[1;36m6\u001b[0m\u001b[1;33m]\u001b[0m \u001b[1;33m-\u001b[0m \u001b[1;33m[\u001b[0m\u001b[1;36m4\u001b[0m\u001b[1;33m,\u001b[0m\u001b[1;36m7\u001b[0m\u001b[1;33m,\u001b[0m\u001b[1;36m8\u001b[0m\u001b[1;33m]\u001b[0m\u001b[1;33m\u001b[0m\u001b[1;33m\u001b[0m\u001b[0m\n\u001b[0m",
      "\u001b[1;31mTypeError\u001b[0m: unsupported operand type(s) for -: 'list' and 'list'"
     ]
    }
   ],
   "source": [
    "[5,6,6] - [4,7,8]"
   ]
  },
  {
   "cell_type": "markdown",
   "id": "c515e861",
   "metadata": {},
   "source": [
    "### Funciones utiles sobre tuplas y listas\n",
    "Existen ciertas funciones de Python (BIFs) que pueden resultar de utilidad con las tuplas y listas:\n",
    "\n",
    "    len()       Retorna el numero de elementos de una colección\n",
    "    min()       Retorna el minimo valor de una colección\n",
    "    max()       Retiorma el máximo valor de una colección\n",
    "    sorted()    Retorna una nueva colección con los valores ordenados de forma\n",
    "                ascendente o descendente (ver sorted?)\n",
    "    sum()       Retorna la suma de todos los elementos de una colección\n",
    "    "
   ]
  },
  {
   "cell_type": "code",
   "execution_count": 126,
   "id": "c98161b8",
   "metadata": {},
   "outputs": [
    {
     "name": "stdout",
     "output_type": "stream",
     "text": [
      "7\n",
      "1\n",
      "12\n",
      "[1, 3, 4, 5, 8, 9, 12]\n",
      "42\n"
     ]
    }
   ],
   "source": [
    "t1 = (1,4,8,12,9,5,3)\n",
    "\n",
    "print(len(t1))\n",
    "print(min(t1))\n",
    "print(max(t1))\n",
    "print(sorted(t1))\n",
    "print(sum(t1))"
   ]
  },
  {
   "cell_type": "code",
   "execution_count": 127,
   "id": "21b8d3b9",
   "metadata": {},
   "outputs": [
    {
     "name": "stdout",
     "output_type": "stream",
     "text": [
      "7\n",
      "1\n",
      "12\n",
      "[1, 3, 4, 5, 8, 9, 12]\n",
      "42\n"
     ]
    }
   ],
   "source": [
    "l1 = [1,4,8,12,9,5,3]\n",
    "\n",
    "print(len(l1))\n",
    "print(min(l1))\n",
    "print(max(l1))\n",
    "print(sorted(l1))\n",
    "print(sum(l1))"
   ]
  },
  {
   "cell_type": "markdown",
   "id": "52c74de5",
   "metadata": {},
   "source": [
    "### Métodos de la clase tuple\n",
    "Formalmente hablando, una tupla es una \"clase\", algo que entenderemos completamente más adelante en el curso. Lo que necesitamos saber por el momento es que toda clase tiene \"metodos\", es decir, operaciones que se aplican a una tupla específica, siguiendo la nomenclatura: \n",
    "    \n",
    "    clase.metodo()\n"
   ]
  },
  {
   "cell_type": "markdown",
   "id": "ebaa9630",
   "metadata": {},
   "source": [
    "Los métodos de una tupla se puede listar utilizando la instrucción genérica `dir(tuple)`:"
   ]
  },
  {
   "cell_type": "code",
   "execution_count": 128,
   "id": "1936fec2",
   "metadata": {
    "scrolled": false
   },
   "outputs": [
    {
     "data": {
      "text/plain": [
       "['__add__',\n",
       " '__class__',\n",
       " '__class_getitem__',\n",
       " '__contains__',\n",
       " '__delattr__',\n",
       " '__dir__',\n",
       " '__doc__',\n",
       " '__eq__',\n",
       " '__format__',\n",
       " '__ge__',\n",
       " '__getattribute__',\n",
       " '__getitem__',\n",
       " '__getnewargs__',\n",
       " '__gt__',\n",
       " '__hash__',\n",
       " '__init__',\n",
       " '__init_subclass__',\n",
       " '__iter__',\n",
       " '__le__',\n",
       " '__len__',\n",
       " '__lt__',\n",
       " '__mul__',\n",
       " '__ne__',\n",
       " '__new__',\n",
       " '__reduce__',\n",
       " '__reduce_ex__',\n",
       " '__repr__',\n",
       " '__rmul__',\n",
       " '__setattr__',\n",
       " '__sizeof__',\n",
       " '__str__',\n",
       " '__subclasshook__',\n",
       " 'count',\n",
       " 'index']"
      ]
     },
     "execution_count": 128,
     "metadata": {},
     "output_type": "execute_result"
    }
   ],
   "source": [
    "dir(tuple)"
   ]
  },
  {
   "cell_type": "markdown",
   "id": "267ffe7a",
   "metadata": {},
   "source": [
    "Dejaremos de lado los métodos encerrados entre \"__\" (volveremos a ellos cuando abordemos la Programación Orientada a Objetos) y veamos los dos últimos: `count` e `index`:"
   ]
  },
  {
   "cell_type": "markdown",
   "id": "79a50e64",
   "metadata": {},
   "source": [
    "Reforzando la idea de la diferencia entre una función y un método, las siguientes instrucciones son ilegales:\n",
    "\n",
    "    count(tuple)\n",
    "    index(tuple)\n",
    "    \n",
    "Ya que son métodos. Esto es, que afectan a un objeto tupla especifico de la forma:\n",
    "\n",
    "    tuple.count()\n",
    "    tuple.index()\n",
    "    \n",
    "Esta idea es importante ya que la mayor parte de las instrucciones en Python (y en toda la programación moderna) sigue las mismas reglas al estar basadas en el paradigma de programación orientada a objetos."
   ]
  },
  {
   "cell_type": "code",
   "execution_count": 131,
   "id": "dc8ecb5b",
   "metadata": {},
   "outputs": [
    {
     "data": {
      "text/plain": [
       "2"
      ]
     },
     "execution_count": 131,
     "metadata": {},
     "output_type": "execute_result"
    }
   ],
   "source": [
    "#El método `count` retorna el número de ocurrencias dentro de una tupla:\n",
    "(1,2,4,5,7,3,5,8,3).count(3) "
   ]
  },
  {
   "cell_type": "code",
   "execution_count": 132,
   "id": "0d23a01a",
   "metadata": {},
   "outputs": [
    {
     "data": {
      "text/plain": [
       "2"
      ]
     },
     "execution_count": 132,
     "metadata": {},
     "output_type": "execute_result"
    }
   ],
   "source": [
    "#El método `index` retorna el índice de un elemento en una tupla:\n",
    "('a','e','i','o','u').index('i')"
   ]
  },
  {
   "cell_type": "markdown",
   "id": "1cc9d7c4",
   "metadata": {},
   "source": [
    "### Métodos de la clase list\n",
    "Se puede listar los métodos de la clase list con la instrucción genérica `dir(list)`:"
   ]
  },
  {
   "cell_type": "code",
   "execution_count": 133,
   "id": "ec235804",
   "metadata": {},
   "outputs": [
    {
     "data": {
      "text/plain": [
       "['__add__',\n",
       " '__class__',\n",
       " '__class_getitem__',\n",
       " '__contains__',\n",
       " '__delattr__',\n",
       " '__delitem__',\n",
       " '__dir__',\n",
       " '__doc__',\n",
       " '__eq__',\n",
       " '__format__',\n",
       " '__ge__',\n",
       " '__getattribute__',\n",
       " '__getitem__',\n",
       " '__gt__',\n",
       " '__hash__',\n",
       " '__iadd__',\n",
       " '__imul__',\n",
       " '__init__',\n",
       " '__init_subclass__',\n",
       " '__iter__',\n",
       " '__le__',\n",
       " '__len__',\n",
       " '__lt__',\n",
       " '__mul__',\n",
       " '__ne__',\n",
       " '__new__',\n",
       " '__reduce__',\n",
       " '__reduce_ex__',\n",
       " '__repr__',\n",
       " '__reversed__',\n",
       " '__rmul__',\n",
       " '__setattr__',\n",
       " '__setitem__',\n",
       " '__sizeof__',\n",
       " '__str__',\n",
       " '__subclasshook__',\n",
       " 'append',\n",
       " 'clear',\n",
       " 'copy',\n",
       " 'count',\n",
       " 'extend',\n",
       " 'index',\n",
       " 'insert',\n",
       " 'pop',\n",
       " 'remove',\n",
       " 'reverse',\n",
       " 'sort']"
      ]
     },
     "execution_count": 133,
     "metadata": {},
     "output_type": "execute_result"
    }
   ],
   "source": [
    "dir(list)"
   ]
  },
  {
   "cell_type": "markdown",
   "id": "d3061b8b",
   "metadata": {},
   "source": [
    "Como se observa hay más métodos disponibles en la clase lista, por el hecho de ser una colección mutable.\n",
    "\n",
    "    append()      Agrega un elemento al final de la lista\n",
    "    clear()       Limpia los elementos de la lista\n",
    "    copy()        Copia los elementos de una lista a otra\n",
    "    count()       Retorna el numero de elementos presentes en una lista\n",
    "    index()       Retorna el índice que ocupa un elemento en una lista\n",
    "    insert()      Inserta un elemento en la lista especificando el indice\n",
    "    pop()         Retorna el útimo elemento de la lista y lo elimina de la \n",
    "                  colección. Se puede epecificar un indice específico\n",
    "    remove()      Elimina un elemento de la lista especificando su valor,  \n",
    "                  buscando la ocurrencia en indice ascendente\n",
    "    reverse()     Invierte el orden actual de la lista\n",
    "    sort()        Ordena los elementos de lista de forma ascendente. \n",
    "                  Se puede especificar que lo haga de forma descentente"
   ]
  },
  {
   "cell_type": "markdown",
   "id": "eba4ac3e",
   "metadata": {},
   "source": [
    "Lo importante a recordar aqui es que los métodos que afectan una lista (como append() ,sort() o reverse() por ejemplo), afectan la lista misma y __no retornan nada__. Por ejemplo, es necesario distinguir entre __el método sort()__ y __la función  sorted()__ de una lista:"
   ]
  },
  {
   "cell_type": "code",
   "execution_count": 134,
   "id": "6dabed32",
   "metadata": {},
   "outputs": [
    {
     "name": "stdout",
     "output_type": "stream",
     "text": [
      "[1, 2, 3, 4, 4, 5, 8]\n",
      "None\n",
      "[1, 2, 3, 4, 4, 5, 8]\n"
     ]
    }
   ],
   "source": [
    "L1 = [1,4,3,2,5,8,4]\n",
    "\n",
    "#la función sorted() retorna una nueva lista ordenada\n",
    "print(sorted(L1))\n",
    "\n",
    "#el metodo sort() ORDENA la lista L1 y no retorna (actualiza a L1)\n",
    "print(L1.sort()) #como sort() no retorna saldrá None\n",
    "print(L1)"
   ]
  },
  {
   "cell_type": "code",
   "execution_count": 62,
   "id": "c044134b",
   "metadata": {},
   "outputs": [
    {
     "name": "stdout",
     "output_type": "stream",
     "text": [
      "[]\n",
      "[10]\n",
      "[10, 20, 30, 40]\n",
      "[10, 20, 30, 40, 12, 14, 16]\n",
      "Veces que hay 20?: 1\n",
      "Donde se encuentra el valor 16: 6\n",
      "[1, 10, 20, 30, 40, 12, 14, 16]\n",
      "[1, 10, 20, 30, 40, 12, 14]\n",
      "Dato extraido: 16\n",
      "[1, 10, 20, 40, 12, 14]\n",
      "Dato extraido en el indice 3: 30\n",
      "[1, 20, 40, 12, 14]\n",
      "[14, 12, 40, 20, 1]\n",
      "[1, 12, 14, 20, 40]\n",
      "[40, 20, 14, 12, 1]\n",
      "[]\n"
     ]
    }
   ],
   "source": [
    "#otros ejemplos de métodos en listas:\n",
    "\n",
    "# Se crea una lista vacia\n",
    "lista = []\n",
    "print(lista)\n",
    "\n",
    "# Se agrega un elemento al final de una lista\n",
    "lista.append(10)\n",
    "print(lista)\n",
    "\n",
    "# Se agrega una lista al final de una lista\n",
    "lista.extend([20, 30, 40])\n",
    "print(lista)\n",
    "\n",
    "# Cuantos veces esta presente el valor 20?\n",
    "print(\"Veces que hay 20?:\", lista.count(20))\n",
    "\n",
    "# En que indice se encuentra un dato\n",
    "print(\"Donde se encuentra el valor 16:\", lista.index(16))\n",
    "\n",
    "# Se puede insertar un dato en un indice (1 en el indice 0)\n",
    "lista.insert(0, 1)\n",
    "print(lista)\n",
    "\n",
    "# Se puede extraer y eliminar el ultimo valor de una lista\n",
    "val = lista.pop()\n",
    "print(lista)\n",
    "print(\"Dato extraido:\", val)\n",
    "\n",
    "# Se puede extraer y eliminar un dato en cualquier indice\n",
    "val = lista.pop(3)\n",
    "print(lista)\n",
    "print(\"Dato extraido en el indice 3:\", val)\n",
    "\n",
    "# Se puede eliminar un dato de una lista \n",
    "#(si hay varios datos iguales, elimina el primero)\n",
    "lista.remove(10)\n",
    "print(lista)\n",
    "\n",
    "# Se puede invertir el orden de los elementos de una lista\n",
    "lista.reverse()\n",
    "print(lista)\n",
    "\n",
    "# Se pueden ordenar los elementos en orden ascendente\n",
    "lista.sort()\n",
    "print(lista)\n",
    "\n",
    "# O ordenas de forma descendente\n",
    "lista.sort(reverse=True)\n",
    "print(lista)\n",
    "\n",
    "# Y se puede eliminar todos los elementos de una lista\n",
    "lista.clear()\n",
    "print(lista)"
   ]
  },
  {
   "cell_type": "markdown",
   "id": "ba9f7406",
   "metadata": {},
   "source": [
    "Las listas tienen una característica particular: cuando se copia una lista, lo que se genera no es una nueva lista sino que se asocian dos listas:\n",
    "\n",
    "El operador de asignación `=` asigna una lista a otra. Pero aqui hay que tener mucho cuidado. Considere el siguiente ejemplo:"
   ]
  },
  {
   "cell_type": "code",
   "execution_count": 135,
   "id": "293dbf91",
   "metadata": {},
   "outputs": [
    {
     "name": "stdout",
     "output_type": "stream",
     "text": [
      "['a', 'b', 'c']\n",
      "['a', 'b', 'c']\n"
     ]
    }
   ],
   "source": [
    "L1 = ['a', 'b', 'c']\n",
    "L2 = L1\n",
    "\n",
    "print(L1)\n",
    "print(L2)"
   ]
  },
  {
   "cell_type": "markdown",
   "id": "6e14d5cd",
   "metadata": {},
   "source": [
    "Observe ahora los resultados de las siguientes instrucciones:"
   ]
  },
  {
   "cell_type": "code",
   "execution_count": 136,
   "id": "755fd62b",
   "metadata": {},
   "outputs": [
    {
     "name": "stdout",
     "output_type": "stream",
     "text": [
      "['A', 'b', 'c']\n",
      "['A', 'b', 'c']\n"
     ]
    }
   ],
   "source": [
    "L1[0] = 'A'\n",
    "\n",
    "print(L1)\n",
    "print(L2)"
   ]
  },
  {
   "cell_type": "markdown",
   "id": "cf988691",
   "metadata": {},
   "source": [
    "Al modificar uno de los elementos de L1, ¡el mismo elemento en L2 tambien cambia! Al utilizar el operador `=` lo que sucede entre las listas es que ambos objetos apuntan a los mismos valores almacenados en una porción de la memoría. Para confirmar esto podemos verifcar la ubicación de cada una de la listas con la función id():"
   ]
  },
  {
   "cell_type": "code",
   "execution_count": 137,
   "id": "f1388603",
   "metadata": {},
   "outputs": [
    {
     "name": "stdout",
     "output_type": "stream",
     "text": [
      "1931113665088\n",
      "1931113665088\n"
     ]
    }
   ],
   "source": [
    "print(id(L1))\n",
    "print(id(L2))"
   ]
  },
  {
   "cell_type": "markdown",
   "id": "cfad7519",
   "metadata": {},
   "source": [
    "Ambas listas apuntan a la misma posición de memoria donde inicia el almacenamiento de los valores de la lista. Si se cambia uno de los valores en una de la listas, se está modificando el valor en la memoria que ambas listas comparten. Esto es de gran utilidad ya que si se quiere tener referencias diferentes a una lista, en lugar de duplicar en memoria los valores de una lista, se comparten los valores apuntando a la posición de los valores.\n",
    "\n",
    "Este comportamiento se puede modificar utilizando el método `copy()`:"
   ]
  },
  {
   "cell_type": "code",
   "execution_count": 138,
   "id": "e4bab16c",
   "metadata": {},
   "outputs": [
    {
     "name": "stdout",
     "output_type": "stream",
     "text": [
      "['a', 'b', 'c']\n",
      "['a', 'b', 'c']\n",
      "\n",
      "['A', 'b', 'c']\n",
      "['a', 'b', 'c']\n",
      "\n",
      "1931111721920\n",
      "1931112422912\n"
     ]
    }
   ],
   "source": [
    "# Se copian los elementos de L1 a L2\n",
    "L1 = ['a', 'b', 'c']\n",
    "L2 = L1.copy()\n",
    "print(L1)\n",
    "print(L2)\n",
    "print()\n",
    "\n",
    "# Se modifica el valor del elemento de indice o en L1\n",
    "L1[0] = 'A'\n",
    "print(L1)\n",
    "print(L2)\n",
    "print()\n",
    "\n",
    "# Se muestra el id de cada una de las listas\n",
    "print(id(L1))\n",
    "print(id(L2))"
   ]
  },
  {
   "cell_type": "markdown",
   "id": "cb5ef745",
   "metadata": {},
   "source": [
    "También existen dos funciones lógicas BIF que se pueden utilizar con una tupla o lista:\n",
    "\n",
    "    any()    Retorna True si algunos de los valores son True\n",
    "    all()    Retorna True si todos los valores son True\n",
    "    \n",
    "Recuerde que en programación, 0 se considera como `False`, mientras que cualquier valor que __no sea 0__ será `True`."
   ]
  },
  {
   "cell_type": "code",
   "execution_count": 139,
   "id": "793b8a41",
   "metadata": {},
   "outputs": [
    {
     "name": "stdout",
     "output_type": "stream",
     "text": [
      "True\n",
      "False\n"
     ]
    }
   ],
   "source": [
    "#¿Hay algún valor de la tupla que sea verdadero?\n",
    "print(any((5==5, 0, 3!=6, 5 in range(1,8), 0, 5>7)))\n",
    "\n",
    "#¿Todos los valores de la lista son verdaderos?\n",
    "print(all([5>2, 0, 3!=4, 8==8, 3 in (4,3,6,7), 3]))"
   ]
  },
  {
   "cell_type": "markdown",
   "id": "bf32367c",
   "metadata": {},
   "source": [
    "### Tuplas y listas como iterables\n",
    "Las tuplas y listas son colecciones iterables: esto quiere decir que pueden ingresarse a un iterador (es decir, un lazo `for`) y este extraerá sus elementos:"
   ]
  },
  {
   "cell_type": "code",
   "execution_count": 140,
   "id": "4c18f64d",
   "metadata": {},
   "outputs": [
    {
     "name": "stdout",
     "output_type": "stream",
     "text": [
      "1\n",
      "2\n",
      "3\n",
      "4\n",
      "5\n"
     ]
    }
   ],
   "source": [
    "for number in (1,2,3,4,5):\n",
    "    print(number)"
   ]
  },
  {
   "cell_type": "code",
   "execution_count": 141,
   "id": "d3815961",
   "metadata": {},
   "outputs": [
    {
     "name": "stdout",
     "output_type": "stream",
     "text": [
      "1\n",
      "2\n",
      "3\n",
      "4\n",
      "5\n",
      "6\n",
      "7\n",
      "8\n",
      "9\n"
     ]
    }
   ],
   "source": [
    "L1 = [1,2,3,4,5,6,7,8,9]\n",
    "\n",
    "for num in L1:\n",
    "    print(num)"
   ]
  },
  {
   "cell_type": "markdown",
   "id": "f0d7f64b",
   "metadata": {},
   "source": [
    "Ejemplo: Imprimiendo los números impares de una lista"
   ]
  },
  {
   "cell_type": "code",
   "execution_count": 143,
   "id": "24c7e29f",
   "metadata": {},
   "outputs": [
    {
     "name": "stdout",
     "output_type": "stream",
     "text": [
      "31\n",
      "41\n",
      "55\n",
      "9\n",
      "11\n"
     ]
    }
   ],
   "source": [
    "numbers = [10, 2, 31, 41, 55, 60, 72, 8, 9, 11]\n",
    "\n",
    "# Se imprimen los valores impares \n",
    "for number in numbers:\n",
    "    if number%2!=0:\n",
    "        print(number)"
   ]
  },
  {
   "cell_type": "markdown",
   "id": "50098685",
   "metadata": {},
   "source": [
    "Se puede acceder a los índices para obtener un barrido diferente e ir de elemento a elemento:"
   ]
  },
  {
   "cell_type": "code",
   "execution_count": 144,
   "id": "5d5c9c68",
   "metadata": {},
   "outputs": [
    {
     "name": "stdout",
     "output_type": "stream",
     "text": [
      "A\n",
      "C\n",
      "E\n",
      "G\n"
     ]
    }
   ],
   "source": [
    "l1 = ['A','B','C','D','E','F','G']\n",
    "\n",
    "for indx in range(0,len(l1),2):\n",
    "    print(l1[indx])"
   ]
  },
  {
   "cell_type": "markdown",
   "id": "a7984659",
   "metadata": {},
   "source": [
    "Se sabe que si hay dos ocurrencias iguales de un contenedor, la función index() solo retornará el índice de la primera ocurrencia. Sin embargo se puede utilizar un lazo que ajuste el rango de busqueda de la función index() y que realice tantas iteraciones como ocurrecias haya de un dato (revise el siguiente código y trate de interpretarlo):"
   ]
  },
  {
   "cell_type": "code",
   "execution_count": 145,
   "id": "965ef708",
   "metadata": {},
   "outputs": [
    {
     "name": "stdout",
     "output_type": "stream",
     "text": [
      "Indice 13 = 1\n",
      "Indice 13 = 3\n",
      "Indice 13 = 5\n",
      "Indice 13 = 6\n"
     ]
    }
   ],
   "source": [
    "tupla = (12, 13, 67, 13, 78, 13, 13)\n",
    "\n",
    "ini = 0\n",
    "for i in range(tupla.count(13)):\n",
    "    index13 = tupla.index(13, ini)\n",
    "    print(\"Indice 13 =\", index13)\n",
    "    ini = index13 + 1"
   ]
  },
  {
   "cell_type": "markdown",
   "id": "a5efcd69",
   "metadata": {},
   "source": [
    "Se sabe que una lista puede contener otras listas y que para acceder\n",
    "a los elementos de las listas contenidas se debe usar doble índice. \n",
    "Por ejemplo:"
   ]
  },
  {
   "cell_type": "code",
   "execution_count": 146,
   "id": "47871f21",
   "metadata": {},
   "outputs": [
    {
     "name": "stdout",
     "output_type": "stream",
     "text": [
      "1 2 3\n",
      "4 5 6\n",
      "7 8 9\n"
     ]
    }
   ],
   "source": [
    "lista = [[1, 2, 3], [4, 5, 6], [7, 8, 9]]\n",
    "print(\"{} {} {}\".format(lista[0][0], lista[0][1], lista[0][2]))\n",
    "print(\"{} {} {}\".format(lista[1][0], lista[1][1], lista[1][2]))\n",
    "print(\"{} {} {}\".format(lista[2][0], lista[2][1], lista[2][2]))"
   ]
  },
  {
   "cell_type": "markdown",
   "id": "66613284",
   "metadata": {},
   "source": [
    "Esto permite formar estructuras n-dimensionales. Por ejemplo, *lista* sería como un arreglo matricial de 3 x 3. Se puede usar 2 for para imprimir dicha matriz:"
   ]
  },
  {
   "cell_type": "code",
   "execution_count": 147,
   "id": "d4e0fe30",
   "metadata": {},
   "outputs": [
    {
     "name": "stdout",
     "output_type": "stream",
     "text": [
      "1 2 3 \n",
      "4 5 6 \n",
      "7 8 9 \n"
     ]
    }
   ],
   "source": [
    "for m in range(3):\n",
    "    for n in range(3):\n",
    "        print(lista[m][n],\"\",end='')\n",
    "    print()"
   ]
  },
  {
   "cell_type": "markdown",
   "id": "d0cbc532",
   "metadata": {},
   "source": [
    "### enumerate y zip\n",
    "Existen dos funciones que se pueden utilizar tanto con tuplas como con listas, combinadas con un lazo `for`: `enumerate` y `zip`.\n",
    "    \n",
    "`enumerate` retorna una secuencia enumerada en tuplas de la forma (número, elemento) que se puede desempaquetar. "
   ]
  },
  {
   "cell_type": "code",
   "execution_count": 148,
   "id": "5aa16996",
   "metadata": {},
   "outputs": [
    {
     "data": {
      "text/plain": [
       "[(0, 'UPC'), (1, 'USMP'), (2, 'UNI'), (3, 'UTP')]"
      ]
     },
     "execution_count": 148,
     "metadata": {},
     "output_type": "execute_result"
    }
   ],
   "source": [
    "L = [\"UPC\", \"USMP\", \"UNI\", \"UTP\"]\n",
    "\n",
    "list(enumerate(L))"
   ]
  },
  {
   "cell_type": "markdown",
   "id": "549f06c3",
   "metadata": {},
   "source": [
    "Por ejemplo, si se requiere listar los elementos de una lista de vocales, en lugar de escribir el siguiente código..."
   ]
  },
  {
   "cell_type": "code",
   "execution_count": 149,
   "id": "cf2bfe31",
   "metadata": {},
   "outputs": [
    {
     "name": "stdout",
     "output_type": "stream",
     "text": [
      "1:A\n",
      "2:E\n",
      "3:I\n",
      "4:O\n",
      "5:U\n"
     ]
    }
   ],
   "source": [
    "idx=0\n",
    "\n",
    "for vocal in ['A','E','I','O','U']:\n",
    "    print(\"{}:{}\".format(idx+1,vocal))\n",
    "    idx+=1"
   ]
  },
  {
   "cell_type": "markdown",
   "id": "f05ac035",
   "metadata": {},
   "source": [
    "...en Python es preferible escribir el siguiente codigo:"
   ]
  },
  {
   "cell_type": "code",
   "execution_count": 150,
   "id": "819f7c5c",
   "metadata": {},
   "outputs": [
    {
     "name": "stdout",
     "output_type": "stream",
     "text": [
      "1:A\n",
      "2:E\n",
      "3:I\n",
      "4:O\n",
      "5:U\n"
     ]
    }
   ],
   "source": [
    "for idx,vocal in enumerate(['A','E','I','O','U']):\n",
    "    print(\"{}:{}\".format(idx+1,vocal))"
   ]
  },
  {
   "cell_type": "markdown",
   "id": "7f71db99",
   "metadata": {},
   "source": [
    "`zip` extrae los elementos correspondientes de varias listas o tuplas en simultaneo "
   ]
  },
  {
   "cell_type": "code",
   "execution_count": 151,
   "id": "45e41a12",
   "metadata": {},
   "outputs": [
    {
     "data": {
      "text/plain": [
       "[(100, 34), (500, 19), (456, 89), (234, 10)]"
      ]
     },
     "execution_count": 151,
     "metadata": {},
     "output_type": "execute_result"
    }
   ],
   "source": [
    "l1 = [100, 500, 456, 234]\n",
    "l2 = [34, 19, 89, 10]\n",
    "\n",
    "list(zip(l1,l2))"
   ]
  },
  {
   "cell_type": "markdown",
   "id": "a337c8e7",
   "metadata": {},
   "source": [
    "Por lo tanto, en un lazo `for` se pueden ir retornando las tuplas y desempaquetarlas. Por ejemplo, si se requiere mostrar los elementos correspondientes de dos listas separadas en lugar de escribir el siguiente código..."
   ]
  },
  {
   "cell_type": "code",
   "execution_count": 152,
   "id": "33dc1940",
   "metadata": {},
   "outputs": [
    {
     "name": "stdout",
     "output_type": "stream",
     "text": [
      "Brasil --> 45\n",
      "Argentina --> 39\n",
      "Uruguay --> 28\n",
      "Ecuador --> 26\n",
      "Perú --> 24\n"
     ]
    }
   ],
   "source": [
    "paises = [\"Brasil\",\"Argentina\",\"Uruguay\",\"Ecuador\",\"Perú\"]\n",
    "puntos = [45,39,28,26,24]\n",
    "\n",
    "for i in range(len(paises)):\n",
    "    print(\"{} --> {}\".format(paises[i],puntos[i]))"
   ]
  },
  {
   "cell_type": "markdown",
   "id": "8e0fa862",
   "metadata": {},
   "source": [
    "...en Python es preferible escribir el siguiente codigo:"
   ]
  },
  {
   "cell_type": "code",
   "execution_count": 153,
   "id": "9ce6a815",
   "metadata": {},
   "outputs": [
    {
     "name": "stdout",
     "output_type": "stream",
     "text": [
      "Brasil --> 45\n",
      "Argentina --> 39\n",
      "Uruguay --> 28\n",
      "Ecuador --> 26\n",
      "Perú --> 24\n"
     ]
    }
   ],
   "source": [
    "paises = [\"Brasil\",\"Argentina\",\"Uruguay\",\"Ecuador\",\"Perú\"]\n",
    "puntos = [45,39,28,26,24]\n",
    "\n",
    "for pais,puntaje in zip(paises,puntos):\n",
    "    print(\"{} --> {}\".format(pais,puntaje))"
   ]
  },
  {
   "cell_type": "markdown",
   "id": "ed83610d",
   "metadata": {},
   "source": [
    "### Listas por comprehensión\n",
    "Las listas por comprehension son una forma de generar listas. Es una manera de escribir instrucciones de forma tal que tengan una mayor claridad sintáctica.\n",
    "\n",
    "Considere el codigo siguiente:"
   ]
  },
  {
   "cell_type": "code",
   "execution_count": 154,
   "id": "eda983f0",
   "metadata": {},
   "outputs": [
    {
     "name": "stdout",
     "output_type": "stream",
     "text": [
      "[5, 1, 5, 4, 5, 6, 3, 5, 1, 5]\n"
     ]
    }
   ],
   "source": [
    "import random\n",
    "\n",
    "L2 = [] #lista vacía\n",
    "\n",
    "for i in range(1,11):\n",
    "    L2.append(random.randrange(1,7))\n",
    "    \n",
    "print(L2)"
   ]
  },
  {
   "cell_type": "markdown",
   "id": "f09ec3fd",
   "metadata": {},
   "source": [
    "Se puede obtener el mismo resultado utilizando una lista por comprehensión (esto es una libre traducción del inglés _list comprenhension__. Algunos utilizan \"comprehension de listas\" o \"listas comprehesivas\"...):"
   ]
  },
  {
   "cell_type": "code",
   "execution_count": 155,
   "id": "184ae2ca",
   "metadata": {},
   "outputs": [
    {
     "name": "stdout",
     "output_type": "stream",
     "text": [
      "[5, 4, 6, 1, 5, 3, 1, 2, 6, 4]\n"
     ]
    }
   ],
   "source": [
    "from random import randrange\n",
    "\n",
    "numeros = [randrange(1,7) for i in range(1,11)]\n",
    "\n",
    "print(numeros)"
   ]
  },
  {
   "cell_type": "markdown",
   "id": "8e2e460c",
   "metadata": {},
   "source": [
    "Si se lee directamente el código anterior se tendrá la sentencia: _\"numeros será igual a una lista que contenga numeros aleatorios del 1 al 6 para i en el rango de 1 a 10\"_. Esto es lo que significa \"claridad sintáctica\"."
   ]
  },
  {
   "cell_type": "code",
   "execution_count": 156,
   "id": "96e43ebf",
   "metadata": {},
   "outputs": [
    {
     "name": "stdout",
     "output_type": "stream",
     "text": [
      "[1, 4, 9, 16, 25, 36, 49, 64, 81, 100, 121, 144, 169, 196, 225, 256, 289, 324, 361, 400]\n"
     ]
    }
   ],
   "source": [
    "#otro ejemplo:\n",
    "\n",
    "lista = []\n",
    "for i in range(1,21):\n",
    "    lista.append(i**2)\n",
    "    \n",
    "print(lista)"
   ]
  },
  {
   "cell_type": "code",
   "execution_count": 157,
   "id": "bf30e9e9",
   "metadata": {},
   "outputs": [
    {
     "name": "stdout",
     "output_type": "stream",
     "text": [
      "[1, 4, 9, 16, 25, 36, 49, 64, 81, 100, 121, 144, 169, 196, 225, 256, 289, 324, 361, 400]\n"
     ]
    }
   ],
   "source": [
    "#por comprehensión sería:\n",
    "lista = [num**2 for num in range(1,21)]\n",
    "print(lista)"
   ]
  },
  {
   "cell_type": "markdown",
   "id": "c4dfc0ad",
   "metadata": {},
   "source": [
    "Considere ahora el código siguiente:"
   ]
  },
  {
   "cell_type": "code",
   "execution_count": 158,
   "id": "3c475a93",
   "metadata": {},
   "outputs": [
    {
     "name": "stdout",
     "output_type": "stream",
     "text": [
      "[51, 73, 26, 87, 26, 5, 68, 35, 64, 39]\n",
      "[51, 87, 39]\n"
     ]
    }
   ],
   "source": [
    "from random import randrange\n",
    "    \n",
    "numeros = []\n",
    "mult_tres = []\n",
    "\n",
    "for i in range(1,11):\n",
    "    numeros.append(randrange(1,100))\n",
    "    \n",
    "print(numeros)\n",
    "\n",
    "for num in numeros:\n",
    "    if num%3==0:\n",
    "        mult_tres.append(num)\n",
    "        \n",
    "print(mult_tres)"
   ]
  },
  {
   "cell_type": "markdown",
   "id": "68ac2d5f",
   "metadata": {},
   "source": [
    "Puede utilizar un `if` en la definición de una lista por comprehensión para obtener resultados más complejos:"
   ]
  },
  {
   "cell_type": "code",
   "execution_count": 159,
   "id": "4b473f4d",
   "metadata": {},
   "outputs": [
    {
     "name": "stdout",
     "output_type": "stream",
     "text": [
      "[91, 33, 70, 76, 93, 80, 24, 61, 74, 40]\n",
      "[33, 93, 24]\n"
     ]
    }
   ],
   "source": [
    "from random import randrange\n",
    "\n",
    "numeros = [randrange(1,100) for i in range(1,11)]\n",
    "print(numeros)\n",
    "\n",
    "mult_tres = [num for num in numeros if num%3==0]\n",
    "print(mult_tres)"
   ]
  },
  {
   "cell_type": "code",
   "execution_count": 160,
   "id": "84ea7dd2",
   "metadata": {},
   "outputs": [
    {
     "name": "stdout",
     "output_type": "stream",
     "text": [
      "[4, 16, 36, 64, 100, 144, 196, 256, 324, 400]\n"
     ]
    }
   ],
   "source": [
    "#otro ejemplo:\n",
    "\n",
    "lista = []\n",
    "for i in range(1,21):\n",
    "    val = i**2\n",
    "    if val % 2 == 0:\n",
    "        lista.append(i**2)\n",
    "    \n",
    "print(lista)"
   ]
  },
  {
   "cell_type": "code",
   "execution_count": 161,
   "id": "76015b63",
   "metadata": {},
   "outputs": [
    {
     "name": "stdout",
     "output_type": "stream",
     "text": [
      "[4, 16, 36, 64, 100, 144, 196, 256, 324, 400]\n"
     ]
    }
   ],
   "source": [
    "#por comprehensión sería:\n",
    "\n",
    "lista = [num**2 for num in range(1,21) if num % 2 == 0]\n",
    "print(lista)"
   ]
  },
  {
   "cell_type": "markdown",
   "id": "a4651b14",
   "metadata": {},
   "source": [
    "Las listas por comprehensión permiten crear en una sola línea una lista de forma compacta y legible (y recuerde, para Python lo legible es importante). Además de utilizarse para crear un código elegante. \n",
    "\n",
    "**ESA ES LA FILOSFIA DE PYTHON**"
   ]
  },
  {
   "cell_type": "markdown",
   "id": "09f45bb6",
   "metadata": {},
   "source": [
    "Se puede utilizar la comprehensión para crear una lista de listas:"
   ]
  },
  {
   "cell_type": "code",
   "execution_count": 162,
   "id": "a8c4a13b",
   "metadata": {},
   "outputs": [
    {
     "name": "stdout",
     "output_type": "stream",
     "text": [
      "[[0, 0, 0, 0, 0, 0, 0, 0, 0, 0], [0, 0, 0, 0, 0, 0, 0, 0, 0, 0], [0, 0, 0, 0, 0, 0, 0, 0, 0, 0], [0, 0, 0, 0, 0, 0, 0, 0, 0, 0], [0, 0, 0, 0, 0, 0, 0, 0, 0, 0], [0, 0, 0, 0, 0, 0, 0, 0, 0, 0], [0, 0, 0, 0, 0, 0, 0, 0, 0, 0], [0, 0, 0, 0, 0, 0, 0, 0, 0, 0], [0, 0, 0, 0, 0, 0, 0, 0, 0, 0], [0, 0, 0, 0, 0, 0, 0, 0, 0, 0]]\n"
     ]
    }
   ],
   "source": [
    "lista =  [[0 for i in range(1,11)] for j in range(1,11)]\n",
    "print(lista)"
   ]
  },
  {
   "cell_type": "code",
   "execution_count": 163,
   "id": "72ce1511",
   "metadata": {
    "scrolled": false
   },
   "outputs": [
    {
     "name": "stdout",
     "output_type": "stream",
     "text": [
      "0000000000\n",
      "0000000000\n",
      "0000000000\n",
      "0000000000\n",
      "0000000000\n",
      "0000000000\n",
      "0000000000\n",
      "0000000000\n",
      "0000000000\n",
      "0000000000\n"
     ]
    }
   ],
   "source": [
    "#se puede utilizar 2 for para mostrar a la \"matriz\" creada de 10x10\n",
    "#en el código anterior\n",
    "for i in range(10):\n",
    "    for j in range(10):\n",
    "        print(lista[i][j],end='')\n",
    "    print()"
   ]
  },
  {
   "cell_type": "markdown",
   "id": "e1854fa9",
   "metadata": {},
   "source": [
    "Nos podemos estar preguntando ¿la tupla para que se puede utilizar?\n",
    "\n",
    "Por ejemplo 2 razones:\n",
    "\n",
    "* Si se desea tener datos y no se quiere que estos sean modificados\n",
    "* Si se desea procesar información y tener un mejor tiempo de respuesta.\n",
    "\n",
    "Sobre esto último, hagamos una prueba (estas dos celdas de instrucciones pueden tomar algunos segundos):"
   ]
  },
  {
   "cell_type": "code",
   "execution_count": 166,
   "id": "56da5826",
   "metadata": {},
   "outputs": [
    {
     "name": "stdout",
     "output_type": "stream",
     "text": [
      "9.34 ns ± 0.106 ns per loop (mean ± std. dev. of 7 runs, 100000000 loops each)\n"
     ]
    }
   ],
   "source": [
    "timeit \"x = tuple(range(100))\""
   ]
  },
  {
   "cell_type": "code",
   "execution_count": 167,
   "id": "77b329f0",
   "metadata": {},
   "outputs": [
    {
     "name": "stdout",
     "output_type": "stream",
     "text": [
      "9.43 ns ± 0.199 ns per loop (mean ± std. dev. of 7 runs, 100000000 loops each)\n"
     ]
    }
   ],
   "source": [
    "timeit \"x = list(range(100))\""
   ]
  },
  {
   "cell_type": "markdown",
   "id": "0c422626",
   "metadata": {},
   "source": [
    "La instruccion \"*timeit*\" realiza una instrucción (en este caso, la creacion de una tupla y de una lista) 1'000,000 de veces y toma el mejor tiempo de ejecución. Se observa que la creación de una tupla es más rápida. Puede parecer poca cosa, pero si se tiene una gran cantidad de datos (¡y una gran cantidad de realmente una gran cantidad!) se puede apreciar alguna diferencia.\n",
    "\n",
    "Sin embargo, para un numero de datos que no sea mounstruoso, con una lista es suficiente. ¿Y que es una lista? Es básicamente una tupla con esteroides..."
   ]
  },
  {
   "cell_type": "markdown",
   "id": "9e3a4321",
   "metadata": {},
   "source": [
    "## Ideas clave:\n",
    "\n",
    "* Un tupla es una colección de datos heterogéneos e inmutable.\n",
    "* Una lista es una colección de datos heterogéneos y mutable.\n",
    "* Tanto una lista como una tupla son iterables a nivel de elementos.\n",
    "* La funcion \"enumerate\" retorna a partir de una tupla o lista una secuencia enumerada\n",
    "* La función \"zip\" permite iterar dos o mas listas/tuplas en cada iteración\n",
    "* Una lista se puede generar utilizando una construcción sintácticamente más clara basada en la programación funcional llamada \"listas por comprehensión\".\n",
    "\n",
    "Informacion:\n",
    "* https://realpython.com/python-math-module/\n",
    "* https://www.w3schools.com/python/python_tuples.asp\n",
    "* https://www.w3schools.com/python/python_lists.asp\n",
    "\n",
    "---"
   ]
  }
 ],
 "metadata": {
  "kernelspec": {
   "display_name": "Python 3 (ipykernel)",
   "language": "python",
   "name": "python3"
  },
  "language_info": {
   "codemirror_mode": {
    "name": "ipython",
    "version": 3
   },
   "file_extension": ".py",
   "mimetype": "text/x-python",
   "name": "python",
   "nbconvert_exporter": "python",
   "pygments_lexer": "ipython3",
   "version": "3.9.7"
  }
 },
 "nbformat": 4,
 "nbformat_minor": 5
}
