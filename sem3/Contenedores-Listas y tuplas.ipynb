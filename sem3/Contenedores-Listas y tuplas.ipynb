{
 "cells": [
  {
   "cell_type": "code",
   "execution_count": 5,
   "id": "cc07dd85",
   "metadata": {},
   "outputs": [
    {
     "name": "stdout",
     "output_type": "stream",
     "text": [
      "Ingrese el mes [1-12]: 4\n",
      "Ingrese el año (ej.2010): 1\n",
      "Hay 30 dias en el mes\n"
     ]
    }
   ],
   "source": [
    "#ejercicio-01\n",
    "\n",
    "while True:\n",
    "    try:\n",
    "        mes = int(input(\"Ingrese el mes [1-12]: \"))\n",
    "        if 1<=mes<=12:\n",
    "            break\n",
    "        else:\n",
    "            print(\"El mes debe estar en el rango [1,12]\")\n",
    "    except:\n",
    "        print(\"El valor debe ser entero\")\n",
    "    \n",
    "while True:\n",
    "    try:\n",
    "        año = int(input(\"Ingrese el año (ej.2010): \"))\n",
    "        if año>=0:\n",
    "            break\n",
    "        else:\n",
    "            print(\"el año debe ser >= a 0\")\n",
    "    except:\n",
    "            print(\"El valor debe ser entero\")\n",
    "\n",
    "########\n",
    "if mes in (1,3,5,7,8,10,12):  #(contenedor)\n",
    "    print(\"Hay 31 dias en el mes\")\n",
    "elif mes in (4,6,9,11): #(contenedor)\n",
    "    print(\"Hay 30 dias en el mes\")\n",
    "else:\n",
    "    if (año%4==0 and año%100!=0) or año%400==0:\n",
    "        print(\"Hay 29 dias en el mes\")\n",
    "    else:\n",
    "        print(\"Hay 28 dias en el mes\")"
   ]
  },
  {
   "cell_type": "code",
   "execution_count": 7,
   "id": "b2854443",
   "metadata": {},
   "outputs": [
    {
     "name": "stdout",
     "output_type": "stream",
     "text": [
      "(34, 9.6, 'UPC', False, (4+7j))\n",
      "<class 'tuple'>\n"
     ]
    }
   ],
   "source": [
    "#creando una tupla:\n",
    "tupla = (34, 9.6, \"UPC\", 6>7, 4+7j)\n",
    "print(tupla)\n",
    "print(type(tupla))"
   ]
  },
  {
   "cell_type": "code",
   "execution_count": 9,
   "id": "73b254b3",
   "metadata": {},
   "outputs": [
    {
     "name": "stdout",
     "output_type": "stream",
     "text": [
      "[34, 9.6, 'UPC', False, (4+7j)]\n",
      "<class 'list'>\n"
     ]
    }
   ],
   "source": [
    "#creando una lista:\n",
    "lista = [34, 9.6, \"UPC\", 6>7, 4+7j]\n",
    "print(lista)\n",
    "print(type(lista))"
   ]
  },
  {
   "cell_type": "code",
   "execution_count": null,
   "id": "6ed26621",
   "metadata": {},
   "outputs": [],
   "source": [
    "#ejercicio-02 - parte-01\n",
    "\n",
    "#contenedor de nombres: (una lista)\n",
    "alumnos = [\"Juan\",\"Maite\",\"Carlos\",\"Laura\",\"Enrique\",\"Carmen\",\"Richard\"]\n",
    "#puede ser una tupla tambien"
   ]
  },
  {
   "cell_type": "code",
   "execution_count": 16,
   "id": "e30ec028",
   "metadata": {},
   "outputs": [
    {
     "name": "stdout",
     "output_type": "stream",
     "text": [
      "6\n",
      "8\n",
      "361.5\n",
      "[0.56, 34, 56, 78, 100, 200]\n",
      "[0, 0.5, 18, 23, 40, 90, 90, 100]\n",
      "(34, 100, 56, 78, 200, 0.56)\n",
      "[23, 90, 100, 0.5, 18, 40, 90, 0]\n"
     ]
    }
   ],
   "source": [
    "#funciones BIF para listas y tuplas:\n",
    "t = (34, 100, 56, 78, 200, 0.56)\n",
    "l = [23, 90, 100, 0.5, 18, 40, 90, 0]\n",
    "\n",
    "print(len(t))\n",
    "print(len(l))\n",
    "print(sum(l))\n",
    "print(sorted(t))  #retorna una lista con los datos de t ordenados\n",
    "print(sorted(l))  #retorna una lista con los datos de l ordenados\n",
    "print(t)\n",
    "print(l)"
   ]
  },
  {
   "cell_type": "code",
   "execution_count": 17,
   "id": "394c9041",
   "metadata": {},
   "outputs": [
    {
     "data": {
      "text/plain": [
       "['__add__',\n",
       " '__class__',\n",
       " '__class_getitem__',\n",
       " '__contains__',\n",
       " '__delattr__',\n",
       " '__dir__',\n",
       " '__doc__',\n",
       " '__eq__',\n",
       " '__format__',\n",
       " '__ge__',\n",
       " '__getattribute__',\n",
       " '__getitem__',\n",
       " '__getnewargs__',\n",
       " '__gt__',\n",
       " '__hash__',\n",
       " '__init__',\n",
       " '__init_subclass__',\n",
       " '__iter__',\n",
       " '__le__',\n",
       " '__len__',\n",
       " '__lt__',\n",
       " '__mul__',\n",
       " '__ne__',\n",
       " '__new__',\n",
       " '__reduce__',\n",
       " '__reduce_ex__',\n",
       " '__repr__',\n",
       " '__rmul__',\n",
       " '__setattr__',\n",
       " '__sizeof__',\n",
       " '__str__',\n",
       " '__subclasshook__',\n",
       " 'count',\n",
       " 'index']"
      ]
     },
     "execution_count": 17,
     "metadata": {},
     "output_type": "execute_result"
    }
   ],
   "source": [
    "#métodos que se aplican a una tupla:\n",
    "dir(tuple)"
   ]
  },
  {
   "cell_type": "code",
   "execution_count": 18,
   "id": "ae4e10a3",
   "metadata": {},
   "outputs": [
    {
     "data": {
      "text/plain": [
       "['__add__',\n",
       " '__class__',\n",
       " '__class_getitem__',\n",
       " '__contains__',\n",
       " '__delattr__',\n",
       " '__delitem__',\n",
       " '__dir__',\n",
       " '__doc__',\n",
       " '__eq__',\n",
       " '__format__',\n",
       " '__ge__',\n",
       " '__getattribute__',\n",
       " '__getitem__',\n",
       " '__gt__',\n",
       " '__hash__',\n",
       " '__iadd__',\n",
       " '__imul__',\n",
       " '__init__',\n",
       " '__init_subclass__',\n",
       " '__iter__',\n",
       " '__le__',\n",
       " '__len__',\n",
       " '__lt__',\n",
       " '__mul__',\n",
       " '__ne__',\n",
       " '__new__',\n",
       " '__reduce__',\n",
       " '__reduce_ex__',\n",
       " '__repr__',\n",
       " '__reversed__',\n",
       " '__rmul__',\n",
       " '__setattr__',\n",
       " '__setitem__',\n",
       " '__sizeof__',\n",
       " '__str__',\n",
       " '__subclasshook__',\n",
       " 'append',\n",
       " 'clear',\n",
       " 'copy',\n",
       " 'count',\n",
       " 'extend',\n",
       " 'index',\n",
       " 'insert',\n",
       " 'pop',\n",
       " 'remove',\n",
       " 'reverse',\n",
       " 'sort']"
      ]
     },
     "execution_count": 18,
     "metadata": {},
     "output_type": "execute_result"
    }
   ],
   "source": [
    "#métodos que se aplican a una lista:\n",
    "dir(list)"
   ]
  },
  {
   "cell_type": "code",
   "execution_count": 20,
   "id": "2cc5745c",
   "metadata": {},
   "outputs": [
    {
     "name": "stdout",
     "output_type": "stream",
     "text": [
      "3\n",
      "1\n"
     ]
    }
   ],
   "source": [
    "#ejemplos:\n",
    "t = (12, 13, 89, 13, 0, 13, 78)\n",
    "print(t.count(13))\n",
    "p = t.index(13)\n",
    "print(p)"
   ]
  },
  {
   "cell_type": "code",
   "execution_count": 23,
   "id": "77149e9f",
   "metadata": {},
   "outputs": [
    {
     "name": "stdout",
     "output_type": "stream",
     "text": [
      "[-78, 0, 0.5, 18, 23, 40, 90, 100]\n",
      "[-78, 0, 0.5, 18, 23, 40, 90, 100, 'Brasil']\n",
      "[-78, 0, 'UPC', 0.5, 18, 23, 40, 90, 100, 'Brasil']\n"
     ]
    }
   ],
   "source": [
    "l = [23, 90, 100, 0.5, 18, 40, -78, 0]\n",
    "\n",
    "l.sort()  #ordena a la lista y la actualiza (no retorna)\n",
    "print(l)\n",
    "\n",
    "l.append(\"Brasil\") #agrega \"Brasil\" al final de l (no retorna)\n",
    "print(l)\n",
    "\n",
    "l.insert(2,\"UPC\") #inserta \"UPC\" en la posición 2 (no retorna)\n",
    "print(l)"
   ]
  },
  {
   "cell_type": "code",
   "execution_count": 28,
   "id": "5de12298",
   "metadata": {},
   "outputs": [
    {
     "name": "stdout",
     "output_type": "stream",
     "text": [
      "['Juan', 'Maite', 'Carlos', 'Laura', 'Enrique', 'Carmen', 'Richard']\n",
      "[2, 6, 6, 5, 3, 14, 1]\n"
     ]
    }
   ],
   "source": [
    "#ejercicio-02 - parte-02\n",
    "\n",
    "from random import randint\n",
    "\n",
    "#contenedor de nombres:\n",
    "alumnos = [\"Juan\",\"Maite\",\"Carlos\",\"Laura\",\"Enrique\",\"Carmen\",\"Richard\"]\n",
    "\n",
    "#contenedor de notas:\n",
    "notas = []  #se crea una lista vacía\n",
    "for i in range(len(alumnos)):\n",
    "    notas.append(randint(0,20))\n",
    "print(alumnos)\n",
    "print(notas)"
   ]
  },
  {
   "cell_type": "code",
   "execution_count": 36,
   "id": "e856b703",
   "metadata": {},
   "outputs": [
    {
     "name": "stdout",
     "output_type": "stream",
     "text": [
      "34\n",
      "0.5\n",
      "0.56\n",
      "0.5\n",
      "105\n",
      "11.5\n",
      "[23, 90, 100, 0.5, 18, 40, 'Brasil', 0]\n"
     ]
    },
    {
     "ename": "TypeError",
     "evalue": "'tuple' object does not support item assignment",
     "output_type": "error",
     "traceback": [
      "\u001b[1;31m---------------------------------------------------------------------------\u001b[0m",
      "\u001b[1;31mTypeError\u001b[0m                                 Traceback (most recent call last)",
      "\u001b[1;32m~\\AppData\\Local\\Temp/ipykernel_15652/2128129943.py\u001b[0m in \u001b[0;36m<module>\u001b[1;34m\u001b[0m\n\u001b[0;32m     13\u001b[0m \u001b[0mprint\u001b[0m\u001b[1;33m(\u001b[0m\u001b[0ml\u001b[0m\u001b[1;33m)\u001b[0m\u001b[1;33m\u001b[0m\u001b[1;33m\u001b[0m\u001b[0m\n\u001b[0;32m     14\u001b[0m \u001b[1;33m\u001b[0m\u001b[0m\n\u001b[1;32m---> 15\u001b[1;33m \u001b[0mt\u001b[0m\u001b[1;33m[\u001b[0m\u001b[1;36m3\u001b[0m\u001b[1;33m]\u001b[0m \u001b[1;33m=\u001b[0m \u001b[1;34m\"carlos\"\u001b[0m\u001b[1;33m\u001b[0m\u001b[1;33m\u001b[0m\u001b[0m\n\u001b[0m",
      "\u001b[1;31mTypeError\u001b[0m: 'tuple' object does not support item assignment"
     ]
    }
   ],
   "source": [
    "#indexación en tuplas y listas:\n",
    "t = (34, 100, \"UPC\", \"juan\", 200, 0.56)\n",
    "l = [23, 90, 100, 0.5, 18, 40, \"Perú\", 0]\n",
    "\n",
    "print(t[0])\n",
    "print(l[3])\n",
    "print(t[-1])\n",
    "print(l[-5])\n",
    "print(t[1]+5)\n",
    "print(l[0]/2)\n",
    "\n",
    "l[-2] = \"Brasil\" #modifica el elemento de la posicion -2 por \"Brasil\"\n",
    "print(l)\n",
    "\n",
    "t[3] = \"carlos\" #excepcion (porque la tupla es inmutable)"
   ]
  },
  {
   "cell_type": "code",
   "execution_count": 39,
   "id": "a856adac",
   "metadata": {},
   "outputs": [
    {
     "name": "stdout",
     "output_type": "stream",
     "text": [
      "l[0]:23\n",
      "l[1]:90\n",
      "l[2]:100\n",
      "l[3]:0.5\n",
      "l[4]:18\n",
      "l[5]:40\n",
      "l[6]:Perú\n",
      "l[7]:0\n"
     ]
    }
   ],
   "source": [
    "l = [23, 90, 100, 0.5, 18, 40, \"Perú\", 0]\n",
    "\n",
    "#se recorren los índices de l:\n",
    "for indice in range(len(l)):\n",
    "    print(\"l[{}]:{}\".format(indice,l[indice]))\n",
    "    \n",
    "#tambien funciona con la tupla"
   ]
  },
  {
   "cell_type": "code",
   "execution_count": 50,
   "id": "23657fe3",
   "metadata": {},
   "outputs": [
    {
     "name": "stdout",
     "output_type": "stream",
     "text": [
      "Alumnos de la base de datos: \n",
      "1: Juan\n",
      "2: Maite\n",
      "3: Carlos\n",
      "4: Laura\n",
      "5: Enrique\n",
      "6: Carmen\n",
      "7: Richard\n",
      "\n",
      "Notas a asignar:\n",
      "19\n",
      "19\n",
      "17\n",
      "16\n",
      "12\n",
      "4\n",
      "14\n",
      "\n",
      "Registro\n",
      "  alumno   nota\n",
      "Juan    :   19\n",
      "Maite   :   19\n",
      "Carlos  :   17\n",
      "Laura   :   16\n",
      "Enrique :   12\n",
      "Carmen  :    4\n",
      "Richard :   14\n",
      "\n",
      "Aprobados\n",
      "Juan\n",
      "Maite\n",
      "Carlos\n",
      "Laura\n",
      "Richard\n"
     ]
    }
   ],
   "source": [
    "#ejercicio-02 - versión final (forma 1)\n",
    "\n",
    "from random import randint\n",
    "\n",
    "#contenedor de nombres:\n",
    "alumnos = [\"Juan\",\"Maite\",\"Carlos\",\"Laura\",\"Enrique\",\"Carmen\",\"Richard\"]\n",
    "\n",
    "print(\"Alumnos de la base de datos: \")\n",
    "for i in range(len(alumnos)):\n",
    "    print(\"{}: {}\".format(i+1,alumnos[i]))\n",
    "\n",
    "#contenedor de notas:\n",
    "notas = []  #se crea una lista vacía\n",
    "nombresAprob = []\n",
    "print(\"\\nNotas a asignar:\")\n",
    "for i in range(len(alumnos)):\n",
    "    notas.append(randint(0,20))\n",
    "    print(notas[i])\n",
    "    if notas[i]>=12.5:\n",
    "        nombresAprob.append(alumnos[i])\n",
    "        \n",
    "print(\"\\nRegistro\")\n",
    "print(\"  alumno   nota\")\n",
    "for i in range(len(alumnos)):\n",
    "    print(\"{:<8}:{:5}\".format(alumnos[i],notas[i]))\n",
    "    \n",
    "print(\"\\nAprobados\")\n",
    "for i in range(len(nombresAprob)):\n",
    "    print(nombresAprob[i])"
   ]
  },
  {
   "cell_type": "code",
   "execution_count": 51,
   "id": "e8ac7736",
   "metadata": {},
   "outputs": [
    {
     "name": "stdout",
     "output_type": "stream",
     "text": [
      "34\n",
      "90\n",
      "Juan\n",
      "Perú\n",
      "89\n",
      "100\n"
     ]
    }
   ],
   "source": [
    "#las listas y tuplas son objetos iterables:\n",
    "\n",
    "l = [34, 90, \"Juan\", \"Perú\", 89, 100]\n",
    "\n",
    "#tambien se puede usar tupla\n",
    "for x in l:\n",
    "    print(x)"
   ]
  },
  {
   "cell_type": "code",
   "execution_count": 52,
   "id": "29249b3b",
   "metadata": {},
   "outputs": [
    {
     "name": "stdout",
     "output_type": "stream",
     "text": [
      "Alumnos de la base de datos: \n",
      "1: Juan\n",
      "2: Maite\n",
      "3: Carlos\n",
      "4: Laura\n",
      "5: Enrique\n",
      "6: Carmen\n",
      "7: Richard\n",
      "\n",
      "Notas a asignar:\n",
      "17\n",
      "17\n",
      "0\n",
      "17\n",
      "8\n",
      "18\n",
      "16\n",
      "\n",
      "Registro\n",
      "  alumno   nota\n",
      "Juan    :   17\n",
      "Maite   :   17\n",
      "Carlos  :    0\n",
      "Laura   :   17\n",
      "Enrique :    8\n",
      "Carmen  :   18\n",
      "Richard :   16\n",
      "\n",
      "Aprobados\n",
      "Juan\n",
      "Maite\n",
      "Laura\n",
      "Carmen\n",
      "Richard\n"
     ]
    }
   ],
   "source": [
    "#ejercicio - versión final (forma 2)\n",
    "\n",
    "from random import randint\n",
    "\n",
    "#contenedor de nombres:\n",
    "alumnos = [\"Juan\",\"Maite\",\"Carlos\",\"Laura\",\"Enrique\",\"Carmen\",\"Richard\"]\n",
    "\n",
    "print(\"Alumnos de la base de datos: \")\n",
    "for i in range(len(alumnos)):\n",
    "    print(\"{}: {}\".format(i+1,alumnos[i]))\n",
    "\n",
    "#contenedor de notas:\n",
    "notas = []  #se crea una lista vacía\n",
    "nombresAprob = []\n",
    "print(\"\\nNotas a asignar:\")\n",
    "for i in range(len(alumnos)):\n",
    "    notas.append(randint(0,20))\n",
    "    print(notas[i])\n",
    "    if notas[i]>=12.5:\n",
    "        nombresAprob.append(alumnos[i])\n",
    "        \n",
    "print(\"\\nRegistro\")\n",
    "print(\"  alumno   nota\")\n",
    "for i in range(len(alumnos)):\n",
    "    print(\"{:<8}:{:5}\".format(alumnos[i],notas[i]))\n",
    "    \n",
    "print(\"\\nAprobados\")\n",
    "for alumno in nombresAprob:  #usando a una lista como objeto iterable\n",
    "    print(alumno)"
   ]
  },
  {
   "cell_type": "code",
   "execution_count": 55,
   "id": "d0a4abfb",
   "metadata": {},
   "outputs": [
    {
     "name": "stdout",
     "output_type": "stream",
     "text": [
      "(5, 6, 7)\n",
      "[300, 450, 23]\n",
      "[1, 2, 3, 4, 5, 6, 7, 8, 9, 10]\n"
     ]
    }
   ],
   "source": [
    "#funciones de conversión a tupla y lista:\n",
    "\n",
    "l1 = [5,6,7]\n",
    "t1 = tuple(l1)\n",
    "print(t1)\n",
    "\n",
    "t2 = (300, 450, 23)\n",
    "l2 = list(t2)\n",
    "print(l2)\n",
    "\n",
    "l = list(range(1,11))\n",
    "print(l)"
   ]
  },
  {
   "cell_type": "code",
   "execution_count": 57,
   "id": "dc90d63a",
   "metadata": {},
   "outputs": [
    {
     "name": "stdout",
     "output_type": "stream",
     "text": [
      "100 345 13\n",
      "100 200 330 600\n"
     ]
    }
   ],
   "source": [
    "#desempaquetamiento:\n",
    "\n",
    "a,b,c = (100, 345, 13)\n",
    "print(a,b,c)\n",
    "\n",
    "x1,x2,x3,x4 = [100, 200, 330, 600]\n",
    "print(x1,x2,x3,x4)"
   ]
  },
  {
   "cell_type": "code",
   "execution_count": 58,
   "id": "033f87ba",
   "metadata": {},
   "outputs": [
    {
     "data": {
      "text/plain": [
       "['Hola', 'como', 'estas']"
      ]
     },
     "execution_count": 58,
     "metadata": {},
     "output_type": "execute_result"
    }
   ],
   "source": [
    "\"Hola como estas\".split()  #split retorna una lista"
   ]
  },
  {
   "cell_type": "code",
   "execution_count": 60,
   "id": "97cd79ea",
   "metadata": {},
   "outputs": [
    {
     "name": "stdout",
     "output_type": "stream",
     "text": [
      "Ingrese numeros 100  56   67   34   90 23  78\n",
      "['100', '56', '67', '34', '90', '23', '78']\n"
     ]
    }
   ],
   "source": [
    "numeros = input(\"Ingrese numeros \").split()\n",
    "print(numeros)"
   ]
  },
  {
   "cell_type": "code",
   "execution_count": 62,
   "id": "fa487584",
   "metadata": {},
   "outputs": [
    {
     "data": {
      "text/plain": [
       "[(0, 45), (1, 56), (2, 78), (3, 12), (4, 0.8)]"
      ]
     },
     "execution_count": 62,
     "metadata": {},
     "output_type": "execute_result"
    }
   ],
   "source": [
    "#uso de la función enumerate():\n",
    "\n",
    "l = [45, 56, 78, 12, 0.8]\n",
    "\n",
    "list(enumerate(l))"
   ]
  },
  {
   "cell_type": "code",
   "execution_count": 63,
   "id": "fac6d7a2",
   "metadata": {},
   "outputs": [
    {
     "name": "stdout",
     "output_type": "stream",
     "text": [
      "0:45\n",
      "1:56\n",
      "2:78\n",
      "3:12\n",
      "4:0.8\n"
     ]
    }
   ],
   "source": [
    "l = [45, 56, 78, 12, 0.8]\n",
    "\n",
    "for indice,dato in enumerate(l):\n",
    "    print(\"{}:{}\".format(indice,dato))"
   ]
  },
  {
   "cell_type": "code",
   "execution_count": 64,
   "id": "44abe0bb",
   "metadata": {},
   "outputs": [
    {
     "name": "stdout",
     "output_type": "stream",
     "text": [
      "Alumnos de la base de datos: \n",
      "1: Juan\n",
      "2: Maite\n",
      "3: Carlos\n",
      "4: Laura\n",
      "5: Enrique\n",
      "6: Carmen\n",
      "7: Richard\n",
      "\n",
      "Notas a asignar:\n",
      "14\n",
      "18\n",
      "10\n",
      "13\n",
      "10\n",
      "15\n",
      "15\n",
      "\n",
      "Registro\n",
      "  alumno   nota\n",
      "Juan    :   14\n",
      "Maite   :   18\n",
      "Carlos  :   10\n",
      "Laura   :   13\n",
      "Enrique :   10\n",
      "Carmen  :   15\n",
      "Richard :   15\n",
      "\n",
      "Aprobados\n",
      "Juan\n",
      "Maite\n",
      "Laura\n",
      "Carmen\n",
      "Richard\n"
     ]
    }
   ],
   "source": [
    "#ejercicio-02 - versión final (forma 3)\n",
    "\n",
    "from random import randint\n",
    "\n",
    "#contenedor de nombres:\n",
    "alumnos = [\"Juan\",\"Maite\",\"Carlos\",\"Laura\",\"Enrique\",\"Carmen\",\"Richard\"]\n",
    "\n",
    "print(\"Alumnos de la base de datos: \")\n",
    "for indice,alumno in enumerate(alumnos):  #usando enumerate\n",
    "    print(\"{}: {}\".format(indice+1,alumno))\n",
    "\n",
    "#contenedor de notas:\n",
    "notas = []  #se crea una lista vacía\n",
    "nombresAprob = []\n",
    "print(\"\\nNotas a asignar:\")\n",
    "for i in range(len(alumnos)):\n",
    "    notas.append(randint(0,20))\n",
    "    print(notas[i])\n",
    "    if notas[i]>=12.5:\n",
    "        nombresAprob.append(alumnos[i])\n",
    "        \n",
    "print(\"\\nRegistro\")\n",
    "print(\"  alumno   nota\")\n",
    "for i in range(len(alumnos)):\n",
    "    print(\"{:<8}:{:5}\".format(alumnos[i],notas[i]))\n",
    "    \n",
    "print(\"\\nAprobados\")\n",
    "for alumno in nombresAprob:  \n",
    "    print(alumno)"
   ]
  },
  {
   "cell_type": "code",
   "execution_count": 66,
   "id": "3904b58a",
   "metadata": {},
   "outputs": [
    {
     "data": {
      "text/plain": [
       "[(24, 'Perú'),\n",
       " (19, 'Chile'),\n",
       " (42, 'Brasil'),\n",
       " (39, 'Argentina'),\n",
       " (28, 'Uruguay')]"
      ]
     },
     "execution_count": 66,
     "metadata": {},
     "output_type": "execute_result"
    }
   ],
   "source": [
    "#uso de la función zip:\n",
    "\n",
    "l1 = [24, 19, 42, 39, 28]\n",
    "l2 = [\"Perú\", \"Chile\", \"Brasil\", \"Argentina\", \"Uruguay\"]\n",
    "\n",
    "list(zip(l1,l2))"
   ]
  },
  {
   "cell_type": "code",
   "execution_count": 69,
   "id": "746a90d1",
   "metadata": {},
   "outputs": [
    {
     "name": "stdout",
     "output_type": "stream",
     "text": [
      "24 Perú\n",
      "19 Chile\n",
      "42 Brasil\n",
      "39 Argentina\n",
      "28 Uruguay\n"
     ]
    }
   ],
   "source": [
    "l1 = [24, 19, 42, 39, 28]\n",
    "l2 = [\"Perú\", \"Chile\", \"Brasil\", \"Argentina\", \"Uruguay\"]\n",
    "\n",
    "for x,y in zip(l1,l2):\n",
    "    print(x,y)"
   ]
  },
  {
   "cell_type": "code",
   "execution_count": 70,
   "id": "55852bec",
   "metadata": {},
   "outputs": [
    {
     "name": "stdout",
     "output_type": "stream",
     "text": [
      "Alumnos de la base de datos: \n",
      "1: Juan\n",
      "2: Maite\n",
      "3: Carlos\n",
      "4: Laura\n",
      "5: Enrique\n",
      "6: Carmen\n",
      "7: Richard\n",
      "\n",
      "Notas a asignar:\n",
      "1\n",
      "19\n",
      "8\n",
      "16\n",
      "5\n",
      "7\n",
      "2\n",
      "\n",
      "Registro\n",
      "  alumno   nota\n",
      "Juan    :    1\n",
      "Maite   :   19\n",
      "Carlos  :    8\n",
      "Laura   :   16\n",
      "Enrique :    5\n",
      "Carmen  :    7\n",
      "Richard :    2\n",
      "\n",
      "Aprobados\n",
      "Maite\n",
      "Laura\n"
     ]
    }
   ],
   "source": [
    "#ejercicio-02 - versión final (forma 4)\n",
    "\n",
    "from random import randint\n",
    "\n",
    "#contenedor de nombres:\n",
    "alumnos = [\"Juan\",\"Maite\",\"Carlos\",\"Laura\",\"Enrique\",\"Carmen\",\"Richard\"]\n",
    "\n",
    "print(\"Alumnos de la base de datos: \")\n",
    "for indice,alumno in enumerate(alumnos):\n",
    "    print(\"{}: {}\".format(indice+1,alumno))\n",
    "\n",
    "#contenedor de notas:\n",
    "notas = []  #se crea una lista vacía\n",
    "nombresAprob = []\n",
    "print(\"\\nNotas a asignar:\")\n",
    "for i in range(len(alumnos)):\n",
    "    notas.append(randint(0,20))\n",
    "    print(notas[i])\n",
    "    if notas[i]>=12.5:\n",
    "        nombresAprob.append(alumnos[i])\n",
    "        \n",
    "print(\"\\nRegistro\")\n",
    "print(\"  alumno   nota\")\n",
    "for alumno,nota in zip(alumnos,notas):  #usando zip\n",
    "    print(\"{:<8}:{:5}\".format(alumno,nota))\n",
    "    \n",
    "print(\"\\nAprobados\")\n",
    "for alumno in nombresAprob:\n",
    "    print(alumno)"
   ]
  },
  {
   "cell_type": "code",
   "execution_count": 71,
   "id": "d826fc29",
   "metadata": {},
   "outputs": [
    {
     "name": "stdout",
     "output_type": "stream",
     "text": [
      "[15.447847495817776, 19.702768225317634, 25.70442892036769, 23.03439988441082, 23.16241836637346, 21.756995918431656, 22.259109244681575, 18.966922594241478, 18.095230060071962, 29.159839925385352]\n"
     ]
    }
   ],
   "source": [
    "#listas por comprehension:\n",
    "\n",
    "#creando una lista con 10 números aleatorios reales en el rango [10, 30>\n",
    "from random import uniform\n",
    "numeros=[]\n",
    "for i in range(10):\n",
    "    numeros.append(uniform(10,30))\n",
    "print(numeros)"
   ]
  },
  {
   "cell_type": "code",
   "execution_count": 72,
   "id": "094adcd5",
   "metadata": {},
   "outputs": [
    {
     "name": "stdout",
     "output_type": "stream",
     "text": [
      "[13.273811458651089, 22.16467832284026, 25.507249177798133, 22.552467448419442, 19.176432496641134, 29.059393190677792, 22.53889552473555, 11.442191697030406, 22.20444278216408, 15.256380104978426]\n"
     ]
    }
   ],
   "source": [
    "#ahora por comprehension:\n",
    "numeros = [uniform(10,30) for i in range(10)]\n",
    "print(numeros)"
   ]
  },
  {
   "cell_type": "code",
   "execution_count": 75,
   "id": "65f64aff",
   "metadata": {},
   "outputs": [
    {
     "name": "stdout",
     "output_type": "stream",
     "text": [
      "Alumnos de la base de datos: \n",
      "1: Juan\n",
      "2: Maite\n",
      "3: Carlos\n",
      "4: Laura\n",
      "5: Enrique\n",
      "6: Carmen\n",
      "7: Richard\n",
      "\n",
      "Notas a asignar:\n",
      "12\n",
      "13\n",
      "11\n",
      "20\n",
      "0\n",
      "19\n",
      "18\n",
      "\n",
      "Registro\n",
      "  alumno   nota\n",
      "Juan    :   12\n",
      "Maite   :   13\n",
      "Carlos  :   11\n",
      "Laura   :   20\n",
      "Enrique :    0\n",
      "Carmen  :   19\n",
      "Richard :   18\n",
      "\n",
      "Aprobados\n",
      "Maite\n",
      "Laura\n",
      "Carmen\n",
      "Richard\n"
     ]
    }
   ],
   "source": [
    "#ejercicio-02 - versión final (forma 5)\n",
    "\n",
    "from random import randint\n",
    "\n",
    "#contenedor de nombres:\n",
    "alumnos = [\"Juan\",\"Maite\",\"Carlos\",\"Laura\",\"Enrique\",\"Carmen\",\"Richard\"]\n",
    "\n",
    "print(\"Alumnos de la base de datos: \")\n",
    "for indice,alumno in enumerate(alumnos):\n",
    "    print(\"{}: {}\".format(indice+1,alumno))\n",
    "\n",
    "#contenedor de notas: (creando por comprehensión)\n",
    "notas = [randint(0,20) for i in range(len(alumnos))]\n",
    "print(\"\\nNotas a asignar:\")\n",
    "for nota in notas:\n",
    "    print(nota)\n",
    "\n",
    "nombresAprob = []\n",
    "print(\"\\nRegistro\")\n",
    "print(\"  alumno   nota\")\n",
    "for alumno,nota in zip(alumnos,notas):\n",
    "    print(\"{:<8}:{:5}\".format(alumno,nota))\n",
    "    if nota>=12.5:\n",
    "        nombresAprob.append(alumno)\n",
    "    \n",
    "print(\"\\nAprobados\")\n",
    "for alumno in nombresAprob:\n",
    "    print(alumno)"
   ]
  },
  {
   "cell_type": "code",
   "execution_count": 76,
   "id": "f6737ac5",
   "metadata": {},
   "outputs": [
    {
     "name": "stdout",
     "output_type": "stream",
     "text": [
      "[100, 78, 90, 30]\n"
     ]
    }
   ],
   "source": [
    "#seguimos con las listas por comprehension:\n",
    "\n",
    "l = [100, 45, 23, 78, 90, 33, 11, 30]\n",
    "\n",
    "#crea una lista con los numeros pares de l:\n",
    "pares=[]\n",
    "for x in l:\n",
    "    if x%2==0:\n",
    "        pares.append(x)\n",
    "        \n",
    "print(pares)"
   ]
  },
  {
   "cell_type": "code",
   "execution_count": 77,
   "id": "b6c9a515",
   "metadata": {},
   "outputs": [
    {
     "name": "stdout",
     "output_type": "stream",
     "text": [
      "[100, 78, 90, 30]\n"
     ]
    }
   ],
   "source": [
    "#ahora por comprehension:\n",
    "\n",
    "pares = [x  for x in l  if x%2==0]\n",
    "print(pares)"
   ]
  },
  {
   "cell_type": "code",
   "execution_count": 79,
   "id": "85a707cd",
   "metadata": {},
   "outputs": [
    {
     "name": "stdout",
     "output_type": "stream",
     "text": [
      "Alumnos de la base de datos: \n",
      "1: Juan\n",
      "2: Maite\n",
      "3: Carlos\n",
      "4: Laura\n",
      "5: Enrique\n",
      "6: Carmen\n",
      "7: Richard\n",
      "\n",
      "Notas a asignar:\n",
      "18\n",
      "17\n",
      "6\n",
      "10\n",
      "17\n",
      "1\n",
      "17\n",
      "\n",
      "Registro\n",
      "  alumno   nota\n",
      "Juan    :   18\n",
      "Maite   :   17\n",
      "Carlos  :    6\n",
      "Laura   :   10\n",
      "Enrique :   17\n",
      "Carmen  :    1\n",
      "Richard :   17\n",
      "\n",
      "Aprobados\n",
      "Juan\n",
      "Maite\n",
      "Enrique\n",
      "Richard\n"
     ]
    }
   ],
   "source": [
    "#ejercicio-02 - versión final (forma 6)\n",
    "\n",
    "from random import randint\n",
    "\n",
    "#contenedor de nombres:\n",
    "alumnos = [\"Juan\",\"Maite\",\"Carlos\",\"Laura\",\"Enrique\",\"Carmen\",\"Richard\"]\n",
    "\n",
    "print(\"Alumnos de la base de datos: \")\n",
    "for indice,alumno in enumerate(alumnos):\n",
    "    print(\"{}: {}\".format(indice+1,alumno))\n",
    "\n",
    "#contenedor de notas:\n",
    "notas = [randint(0,20) for i in range(len(alumnos))]\n",
    "print(\"\\nNotas a asignar:\")\n",
    "for nota in notas:\n",
    "    print(nota)\n",
    "\n",
    "#creando la lista de nombres aprobados por comprehensión\n",
    "nombresAprob = [alumnos[i] for i in range(len(alumnos)) if notas[i]>=12.5]\n",
    "\n",
    "print(\"\\nRegistro\")\n",
    "print(\"  alumno   nota\")\n",
    "for alumno,nota in zip(alumnos,notas):\n",
    "    print(\"{:<8}:{:5}\".format(alumno,nota))\n",
    "    \n",
    "print(\"\\nAprobados\")\n",
    "for alumno in nombresAprob:\n",
    "    print(alumno)"
   ]
  },
  {
   "cell_type": "code",
   "execution_count": 82,
   "id": "e55f69f7",
   "metadata": {},
   "outputs": [
    {
     "name": "stdout",
     "output_type": "stream",
     "text": [
      "['Carlos', 'Enrique', 'Richard']\n",
      "['Juan', 'Laura', 'Richard']\n",
      "['Carmen', 'Enrique', 'Laura', 'Carlos']\n"
     ]
    }
   ],
   "source": [
    "#TIPS:\n",
    "#uso de la técnica index slicing: (para listas y tuplas)\n",
    "\n",
    "alumnos = [\"Juan\",\"Maite\",\"Carlos\",\"Laura\",\"Enrique\",\"Carmen\",\"Richard\"]\n",
    "\n",
    "l1 = alumnos[2:8:2]\n",
    "print(l1)\n",
    "l2 = alumnos[::3]\n",
    "print(l2)\n",
    "l3 = alumnos[-2:-6:-1]\n",
    "print(l3)"
   ]
  },
  {
   "cell_type": "code",
   "execution_count": 85,
   "id": "e4590695",
   "metadata": {},
   "outputs": [
    {
     "name": "stdout",
     "output_type": "stream",
     "text": [
      "[4, 7, [5, 7, 8], 'UPC', (4, 5, 6, 7, 8)]\n",
      "[(4, 6, 7), 34, 'Perú', [6, 7, 8]]\n",
      "8\n",
      "7\n"
     ]
    }
   ],
   "source": [
    "#una lista o tupla puede almacenar como elementos otras listas y tuplas:\n",
    "\n",
    "l = [4, 7, [5,7,8], \"UPC\", (4,5,6,7,8)]\n",
    "t = [(4,6,7), 34, \"Perú\", [6,7,8]]\n",
    "print(l)\n",
    "print(t)\n",
    "print(l[2][-1])\n",
    "print(t[-1][1])"
   ]
  },
  {
   "cell_type": "code",
   "execution_count": 86,
   "id": "254aec73",
   "metadata": {},
   "outputs": [
    {
     "name": "stdout",
     "output_type": "stream",
     "text": [
      "[[0, 0, 0, 0], 'Maite', 'Carlos', 'Laura', 'Enrique', 'Carmen', 'Richard']\n"
     ]
    }
   ],
   "source": [
    "alumnos = [\"Juan\",\"Maite\",\"Carlos\",\"Laura\",\"Enrique\",\"Carmen\",\"Richard\"]\n",
    "\n",
    "alumnos[0] = [0,0,0,0] #modifica a \"juan\" por [0,0,0,0]\n",
    "print(alumnos)"
   ]
  },
  {
   "cell_type": "code",
   "execution_count": 90,
   "id": "cf6eda2a",
   "metadata": {},
   "outputs": [
    {
     "name": "stdout",
     "output_type": "stream",
     "text": [
      "(5, 7, 4, 5, 6)\n",
      "[4, 5, 0, 6, 7, 8, 5]\n",
      "(4, 5, 6, 4, 5, 6, 4, 5, 6)\n",
      "[0, 0, 0, 0, 0, 0, 0, 0, 0, 0, 0, 0, 0, 0, 0, 0, 0, 0, 0, 0, 0, 0, 0, 0, 0, 0, 0, 0, 0, 0]\n"
     ]
    }
   ],
   "source": [
    "#operaciones de + y *\n",
    "\n",
    "r = (5,7) + (4,5,6)   #concatenación\n",
    "print(r)\n",
    "\n",
    "m = [4,5] + [0,6,7,8] + [5] #concatenación\n",
    "print(m)\n",
    "\n",
    "g = (4,5,6)*3\n",
    "print(g)\n",
    "\n",
    "k = [0,0,0]*10\n",
    "print(k)"
   ]
  },
  {
   "cell_type": "code",
   "execution_count": 93,
   "id": "fca56fd4",
   "metadata": {},
   "outputs": [
    {
     "name": "stdout",
     "output_type": "stream",
     "text": [
      "0 0 0 0 \n",
      "0 0 0 0 \n",
      "0 0 0 0 \n",
      "0 0 0 0 \n"
     ]
    }
   ],
   "source": [
    "L = [[0,0,0,0],[0,0,0,0],[0,0,0,0],[0,0,0,0]] #es como una matriz\n",
    "#print(len(L))\n",
    "for i in range(len(L)):\n",
    "    for j in range(4):\n",
    "        print(L[i][j],end=' ')\n",
    "    print()    "
   ]
  },
  {
   "cell_type": "code",
   "execution_count": 95,
   "id": "be899beb",
   "metadata": {},
   "outputs": [
    {
     "name": "stdout",
     "output_type": "stream",
     "text": [
      "0 0 0 0 0 0 0 0 0 0 \n",
      "0 0 0 0 0 0 0 0 0 0 \n",
      "0 0 0 0 0 0 0 0 0 0 \n",
      "0 0 0 0 0 0 0 0 0 0 \n",
      "0 0 0 0 0 0 0 0 0 0 \n",
      "0 0 0 0 0 0 0 0 0 0 \n",
      "0 0 0 0 0 0 0 0 0 0 \n",
      "0 0 0 0 0 0 0 0 0 0 \n",
      "0 0 0 0 0 0 0 0 0 0 \n",
      "0 0 0 0 0 0 0 0 0 0 \n"
     ]
    }
   ],
   "source": [
    "#por comprehensión\n",
    "data = [[0]*10 for i in range(10)]\n",
    "#print(data)\n",
    "\n",
    "for i in range(len(data)):\n",
    "    for j in range(10):\n",
    "        print(data[i][j],end=' ')\n",
    "    print()    "
   ]
  },
  {
   "cell_type": "code",
   "execution_count": 102,
   "id": "d1888fda",
   "metadata": {},
   "outputs": [
    {
     "name": "stdout",
     "output_type": "stream",
     "text": [
      "1\n",
      "3\n",
      "5\n",
      "6\n",
      "8\n"
     ]
    }
   ],
   "source": [
    "#buscar los índices donde aparece el 13\n",
    "\n",
    "L = [56, 13, 67, 13, 78, 13, 13, 90, 13]\n",
    "\n",
    "ini=0\n",
    "for i in range(L.count(13)):\n",
    "    p = L.index(13,ini)\n",
    "    print(p)\n",
    "    ini=p+1"
   ]
  }
 ],
 "metadata": {
  "kernelspec": {
   "display_name": "Python 3 (ipykernel)",
   "language": "python",
   "name": "python3"
  },
  "language_info": {
   "codemirror_mode": {
    "name": "ipython",
    "version": 3
   },
   "file_extension": ".py",
   "mimetype": "text/x-python",
   "name": "python",
   "nbconvert_exporter": "python",
   "pygments_lexer": "ipython3",
   "version": "3.9.7"
  }
 },
 "nbformat": 4,
 "nbformat_minor": 5
}
