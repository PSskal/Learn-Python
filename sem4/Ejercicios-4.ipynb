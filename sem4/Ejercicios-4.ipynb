{
 "cells": [
  {
   "cell_type": "markdown",
   "metadata": {},
   "source": [
    "# Hoja de Ejercicios 4"
   ]
  },
  {
   "cell_type": "markdown",
   "metadata": {},
   "source": [
    "###  **Ejercicio 1**\n",
    "\n",
    "Escriba una función *trianguloValido(lado1, lado2, lado3)* que retorne un valor lógico que indique si los tres valores de entrada pueden representar los lados de un triangulo válido. Utilice esta función en un programa que pida los lados de un triángulo e indique los posibles resultados: equilatero, escaleno, isoceles o triangulo inválido."
   ]
  },
  {
   "cell_type": "code",
   "execution_count": 4,
   "metadata": {},
   "outputs": [],
   "source": [
    "# acá defina la funcion\n",
    "\n",
    "\n",
    "# aca escriba el programa principal: Main"
   ]
  },
  {
   "cell_type": "markdown",
   "metadata": {},
   "source": [
    "### **Ejercicio 2**\n",
    "Escriba una funcion *max_min* que tome un número variable de valores (numeros enteros) de entrada y retorne los valores máximo y mínimo. Utilice esta funcion para hacer un programa que pida al usuario cinco valores y retorne el valor máximo y mínimo de esos 5 valores"
   ]
  },
  {
   "cell_type": "code",
   "execution_count": 5,
   "metadata": {},
   "outputs": [],
   "source": [
    "# acá defina la funcion\n",
    "\n",
    "\n",
    "# aca escriba el programa principal: Main\n"
   ]
  },
  {
   "cell_type": "markdown",
   "metadata": {},
   "source": [
    "### **Ejercicio 3**\n",
    "Escriba la funcion *esPrimo(num)* que retorne un valor booleano que indique si un número es primo o no. Utilice esta función para encontrar un listado de todos los trios de primos sexys hasta el número 1000. Los primos \"sexys\" son primos separados por 6 unidades y un \"trio de primos sexys\" son tres numeros primos de la forma (p, p+6, p+12). Por ejemplo, el primer trio sera (7, 12, 19). Nota: lo de \"sexy\" es resultado de que estan separados por seis unidades (six, en inglés).\n",
    "\n",
    "Recuerde el concepto de  *\"divide y venceras\"* explicado en clase"
   ]
  },
  {
   "cell_type": "code",
   "execution_count": 19,
   "metadata": {},
   "outputs": [],
   "source": [
    "# acá defina la funcion\n",
    "\n",
    "\n",
    "# aca escriba el programa principal: Main\n",
    "\n"
   ]
  },
  {
   "cell_type": "markdown",
   "metadata": {},
   "source": [
    "### **Ejercicio 4**\n",
    "Escriba un programa que genere *N* lanzamientos (dato ingresado por el usuario) de 2 dados y almacene los resultados en una lista (cada lanzamiento generara una lista de 2 elementos, y habra *N* listas en la lista de lanzamientos). Utilice un *mapeo* y una funcion *lambda* para obtener la suma de los dados de cada lanzamiento y muestre un listado con la distribución de probabilidad de los resultados (el número de veces que salio un resultado entre 2 y 12, dividido entre N):\n",
    "\n",
    "Ejemplo de ejecución:\n",
    "\n",
    "    Ingrese el numero de lanzamientos: 1000\n",
    "    \n",
    "    2 : 0.0278\n",
    "    3 : 0.0555\n",
    "    4 : 0.8333\n",
    "    .\n",
    "    .\n",
    "    .\n",
    "    .\n",
    "    11: 0.0555\n",
    "    12: 0.0278"
   ]
  },
  {
   "cell_type": "code",
   "execution_count": 9,
   "metadata": {},
   "outputs": [],
   "source": [
    "# Escriba su programa aqui\n",
    "\n"
   ]
  },
  {
   "cell_type": "markdown",
   "metadata": {},
   "source": [
    "### **Ejercicio 5**\n",
    "Un triangulo arbitrario puede ser descrito por las coordenadas de sus tres vertices: $(x_{1}, y_{1}), (x_{2}, y_{2}), (x_{3}, y_{3})$. El area del triangulo esta dado por la formula:\n",
    "\n",
    "$$ A = \\frac{1}{2} [x_{2}y_{3} - x_{3}y_{2} - x_{1}y_{3} + x_{3}y_{1} + x_{1}y_{2} - x_{2}y_{1}] $$\n",
    "\n",
    "Escriba la función *area(vertices)* que retorne el área de un triangulo cuyos vertices estan especificados por el argumento vertices, que es una lista que contiene las coordenadas de los vertices. Por ejemplo, *vertices* puede ser [[0,0],[1,0],[0,2]] si las tres esquinas de un triangulo tienen coordenadas (0,0), (1,0) y (0,2)."
   ]
  },
  {
   "cell_type": "code",
   "execution_count": null,
   "metadata": {
    "collapsed": true
   },
   "outputs": [],
   "source": [
    "# acá defina la funcion\n",
    "\n",
    "\n",
    "# Main\n",
    "areaTriangulo = area([[0,0],[1,0],[0,2]])"
   ]
  },
  {
   "cell_type": "markdown",
   "metadata": {},
   "source": [
    "### **Ejercicio 6**\n",
    "\n",
    "Escriba la función *aprobados(notas)* que retorne una lista con las notas aprobadas de un salón de clase. Todas las notas del salón serán enviadas en una lista a la función. Utilice un *filtro* y una función lambda para formar la lista de notas aprobadas a retornar. "
   ]
  },
  {
   "cell_type": "code",
   "execution_count": null,
   "metadata": {},
   "outputs": [],
   "source": [
    "# acá defina la funcion\n",
    "\n",
    "\n",
    "# Main\n",
    "listaAprobados = aprobados([18, 15, 10, 12, 16.5, 20, 11])\n",
    "\n",
    "#la listaAprobados debería ser: [18, 15, 16,5, 20]"
   ]
  }
 ],
 "metadata": {
  "kernelspec": {
   "display_name": "Python 3 (ipykernel)",
   "language": "python",
   "name": "python3"
  },
  "language_info": {
   "codemirror_mode": {
    "name": "ipython",
    "version": 3
   },
   "file_extension": ".py",
   "mimetype": "text/x-python",
   "name": "python",
   "nbconvert_exporter": "python",
   "pygments_lexer": "ipython3",
   "version": "3.9.7"
  }
 },
 "nbformat": 4,
 "nbformat_minor": 2
}
