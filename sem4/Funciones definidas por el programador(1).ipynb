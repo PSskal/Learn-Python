{
 "cells": [
  {
   "cell_type": "code",
   "execution_count": 1,
   "id": "7770dcff",
   "metadata": {},
   "outputs": [
    {
     "data": {
      "text/plain": [
       "3.45"
      ]
     },
     "execution_count": 1,
     "metadata": {},
     "output_type": "execute_result"
    }
   ],
   "source": [
    "#invocando a una función:\n",
    "\n",
    "x=\"3.45\"\n",
    "float(x)"
   ]
  },
  {
   "cell_type": "code",
   "execution_count": 2,
   "id": "e8b37a5c",
   "metadata": {},
   "outputs": [
    {
     "name": "stdout",
     "output_type": "stream",
     "text": [
      "[4.5, 5.6, 90.0, 3.6, 5.68]\n"
     ]
    }
   ],
   "source": [
    "#programa que convierta a float todos los datos de una lista\n",
    "\n",
    "datos = [\"4.5\", \"5.6\", \"90.0\", \"3.6\", \"5.68\" ]\n",
    "\n",
    "numeros = []\n",
    "for d in datos:\n",
    "    numeros.append(float(d)) #invocando a la función float\n",
    "    \n",
    "print(numeros)"
   ]
  },
  {
   "cell_type": "code",
   "execution_count": 3,
   "id": "2753dfdf",
   "metadata": {},
   "outputs": [
    {
     "name": "stdout",
     "output_type": "stream",
     "text": [
      "python\n"
     ]
    }
   ],
   "source": [
    "#otro ejemplo de invocación:\n",
    "print(\"python\")"
   ]
  },
  {
   "cell_type": "code",
   "execution_count": 4,
   "id": "d497ff6a",
   "metadata": {},
   "outputs": [
    {
     "name": "stdout",
     "output_type": "stream",
     "text": [
      "Brasil\n",
      "Argentina\n",
      "Uruguay\n",
      "Ecuador\n",
      "Perú\n"
     ]
    }
   ],
   "source": [
    "#reutilizando a la función print():\n",
    "print(\"Brasil\")\n",
    "print(\"Argentina\")\n",
    "print(\"Uruguay\")\n",
    "print(\"Ecuador\")\n",
    "print(\"Perú\")"
   ]
  },
  {
   "cell_type": "code",
   "execution_count": 7,
   "id": "3df0f754",
   "metadata": {},
   "outputs": [
    {
     "name": "stdout",
     "output_type": "stream",
     "text": [
      "212.0\n"
     ]
    }
   ],
   "source": [
    "#ejemplo de una función definida por el programador:\n",
    "\n",
    "f = convierteFahrenheit(100)\n",
    "print(f)"
   ]
  },
  {
   "cell_type": "code",
   "execution_count": 8,
   "id": "7c771cca",
   "metadata": {},
   "outputs": [
    {
     "name": "stdout",
     "output_type": "stream",
     "text": [
      "Cantígrados   Fahrenheit\n",
      "   26.72       80.10   \n",
      "   20.02       68.03   \n",
      "   24.19       75.53   \n",
      "   22.65       72.77   \n",
      "   23.09       73.56   \n",
      "   27.36       81.25   \n",
      "   29.98       85.97   \n",
      "   22.51       72.51   \n",
      "   22.52       72.53   \n",
      "   20.57       69.02   \n",
      "   26.33       79.40   \n",
      "   29.06       84.31   \n",
      "   26.25       79.24   \n",
      "   24.14       75.46   \n",
      "   29.94       85.89   \n",
      "   28.47       83.25   \n",
      "   23.51       74.32   \n",
      "   29.35       84.83   \n",
      "   28.57       83.43   \n",
      "   27.79       82.02   \n",
      "   20.35       68.64   \n",
      "   28.13       82.64   \n",
      "   27.31       81.16   \n",
      "   23.06       73.51   \n",
      "   20.72       69.30   \n",
      "   25.08       77.14   \n",
      "   24.78       76.61   \n",
      "   26.57       79.83   \n",
      "   23.16       73.68   \n",
      "   26.23       79.21   \n"
     ]
    }
   ],
   "source": [
    "def convierteFahrenheit(x):\n",
    "    return x*1.8+32\n",
    "\n",
    "###programa principal (Main):\n",
    "from random import uniform\n",
    "\n",
    "tempC = [uniform(20,30) for i in range(30)]\n",
    "tempF = [convierteFahrenheit(c) for c in tempC]\n",
    "\n",
    "print(\"Cantígrados   Fahrenheit\")\n",
    "for c,f in zip(tempC,tempF):\n",
    "    print(\"{:^11.2f}  {:^10.2f}\".format(c,f)) "
   ]
  },
  {
   "cell_type": "code",
   "execution_count": 11,
   "id": "c5515ec8",
   "metadata": {},
   "outputs": [
    {
     "name": "stdout",
     "output_type": "stream",
     "text": [
      "[(-1.5+1.118033988749895j), (-1.5-1.118033988749895j)]\n"
     ]
    }
   ],
   "source": [
    "#otro ejemplo:\n",
    "raices = calculaRaices(2,6,7)\n",
    "print(raices)"
   ]
  },
  {
   "cell_type": "code",
   "execution_count": 117,
   "id": "a8fcb691",
   "metadata": {},
   "outputs": [
    {
     "name": "stdout",
     "output_type": "stream",
     "text": [
      "(-1.5+1.118033988749895j) (-1.5-1.118033988749895j)\n"
     ]
    }
   ],
   "source": [
    "#aplicando desempaquetamiento\n",
    "r1,r2 = calculaRaices(2,6,7)\n",
    "print(r1,r2)"
   ]
  },
  {
   "cell_type": "code",
   "execution_count": 10,
   "id": "9e20dd5f",
   "metadata": {},
   "outputs": [],
   "source": [
    "def calculaRaices(a,b,c):\n",
    "    r1 = (-b+(b**2-4*a*c)**0.5)/(2*a)\n",
    "    r2 = (-b-(b**2-4*a*c)**0.5)/(2*a)\n",
    "    \n",
    "    return [r1,r2]"
   ]
  },
  {
   "cell_type": "code",
   "execution_count": 15,
   "id": "6196af61",
   "metadata": {},
   "outputs": [
    {
     "name": "stdout",
     "output_type": "stream",
     "text": [
      "14.928571428571429\n"
     ]
    }
   ],
   "source": [
    "#otro ejemplo:\n",
    "\n",
    "#función que recibe como argumento una tupla\n",
    "prom = calculaPromedio((45, 3, 4.6, 6, 7, 8.9, 30))\n",
    "print(prom)"
   ]
  },
  {
   "cell_type": "code",
   "execution_count": 118,
   "id": "3ae0824b",
   "metadata": {},
   "outputs": [],
   "source": [
    "def calculaPromedio(t):\n",
    "    return sum(t)/len(t)"
   ]
  },
  {
   "cell_type": "code",
   "execution_count": 25,
   "id": "daec2df2",
   "metadata": {},
   "outputs": [
    {
     "name": "stdout",
     "output_type": "stream",
     "text": [
      "******\n",
      "******\n",
      "******\n",
      "******\n",
      "******\n",
      "******\n"
     ]
    }
   ],
   "source": [
    "#otro ejemplo:  (función sin retorno y con 1 argumento de entrada)\n",
    "imprimeCuadrado(6)"
   ]
  },
  {
   "cell_type": "code",
   "execution_count": 119,
   "id": "94b62ef9",
   "metadata": {},
   "outputs": [],
   "source": [
    "def imprimeCuadrado(lado):\n",
    "    for i in range(lado):\n",
    "        for j in range(lado):\n",
    "            print(\"*\",end='')\n",
    "        print()"
   ]
  },
  {
   "cell_type": "code",
   "execution_count": 26,
   "id": "17e084fa",
   "metadata": {},
   "outputs": [],
   "source": [
    "#cuidado con una función que aplica una operación y no la retorna\n",
    "def convierteFahrenheit(x):\n",
    "    x*1.8+32"
   ]
  },
  {
   "cell_type": "code",
   "execution_count": 28,
   "id": "f93da208",
   "metadata": {},
   "outputs": [
    {
     "name": "stdout",
     "output_type": "stream",
     "text": [
      "None\n"
     ]
    }
   ],
   "source": [
    "#en la vble. f se almacenará el objeto None debido a que la función\n",
    "#no retorna\n",
    "f = convierteFahrenheit(100)\n",
    "print(f)"
   ]
  },
  {
   "cell_type": "code",
   "execution_count": 56,
   "id": "df58907b",
   "metadata": {
    "scrolled": false
   },
   "outputs": [
    {
     "name": "stdout",
     "output_type": "stream",
     "text": [
      "Ingrese el número máximo a evaluar: 20\n",
      "1. 2\n",
      "2. 3\n",
      "3. 5\n",
      "4. 7\n",
      "5. 11\n",
      "6. 13\n",
      "7. 17\n",
      "8. 19\n"
     ]
    }
   ],
   "source": [
    "#existe la técnica: \"Divide y venceras\"\n",
    "\n",
    "#ejercicio:\n",
    "#programa principal (Main):\n",
    "\n",
    "numero = int(input(\"Ingrese el número máximo a evaluar: \"))\n",
    "\n",
    "lista_primos = generarPrimos(numero)\n",
    "\n",
    "for indice,primo in enumerate(lista_primos):\n",
    "    print(\"{}. {}\".format(indice+1,primo))"
   ]
  },
  {
   "cell_type": "code",
   "execution_count": 35,
   "id": "bed8d17e",
   "metadata": {},
   "outputs": [],
   "source": [
    "#versión 1:\n",
    "# def generarPrimos(n):\n",
    "#     l=[]\n",
    "#     for i in range(2,n+1):\n",
    "#         if es_primo(i):\n",
    "#             l.append(i)\n",
    "#     ####\n",
    "#     return l"
   ]
  },
  {
   "cell_type": "code",
   "execution_count": 57,
   "id": "54f50d6d",
   "metadata": {},
   "outputs": [],
   "source": [
    "#versión 2:\n",
    "def generarPrimos(n):\n",
    "    l = [i  for i in range(2,n+1) if es_primo(i)]\n",
    "    return l"
   ]
  },
  {
   "cell_type": "code",
   "execution_count": 58,
   "id": "c417df02",
   "metadata": {
    "scrolled": false
   },
   "outputs": [
    {
     "data": {
      "text/plain": [
       "[2, 3, 5, 7, 11, 13, 17, 19, 23, 29]"
      ]
     },
     "execution_count": 58,
     "metadata": {},
     "output_type": "execute_result"
    }
   ],
   "source": [
    "generarPrimos(29)"
   ]
  },
  {
   "cell_type": "code",
   "execution_count": 38,
   "id": "f1ca5d55",
   "metadata": {},
   "outputs": [],
   "source": [
    "def es_primo(x):    \n",
    "    for i in range(2,x):\n",
    "        if x%i==0:\n",
    "            return False\n",
    "    ###\n",
    "    return True"
   ]
  },
  {
   "cell_type": "code",
   "execution_count": 49,
   "id": "b9230fe5",
   "metadata": {},
   "outputs": [
    {
     "data": {
      "text/plain": [
       "True"
      ]
     },
     "execution_count": 49,
     "metadata": {},
     "output_type": "execute_result"
    }
   ],
   "source": [
    "es_primo(999983)"
   ]
  },
  {
   "cell_type": "code",
   "execution_count": 59,
   "id": "9a84106b",
   "metadata": {},
   "outputs": [],
   "source": [
    "#una función puede retornar varios datos:\n",
    "def calculaOperacion(num1,num2):\n",
    "           #los valores son agrupados en una tupla\n",
    "    return num1+num2,num1-num2,num1*num2,num1/num2"
   ]
  },
  {
   "cell_type": "code",
   "execution_count": 60,
   "id": "1595059f",
   "metadata": {},
   "outputs": [
    {
     "name": "stdout",
     "output_type": "stream",
     "text": [
      "(18, 2, 80, 1.25)\n"
     ]
    }
   ],
   "source": [
    "t = calculaOperacion(10,8)\n",
    "print(t)"
   ]
  },
  {
   "cell_type": "code",
   "execution_count": 61,
   "id": "bbe6c52f",
   "metadata": {},
   "outputs": [],
   "source": [
    "def calculaResta(num1,num2):\n",
    "    return num1-num2"
   ]
  },
  {
   "cell_type": "code",
   "execution_count": 62,
   "id": "c0b108b4",
   "metadata": {},
   "outputs": [
    {
     "data": {
      "text/plain": [
       "26"
      ]
     },
     "execution_count": 62,
     "metadata": {},
     "output_type": "execute_result"
    }
   ],
   "source": [
    "#notacion posicional:\n",
    "calculaResta(34,8)"
   ]
  },
  {
   "cell_type": "code",
   "execution_count": 63,
   "id": "dc2668c8",
   "metadata": {},
   "outputs": [
    {
     "data": {
      "text/plain": [
       "26"
      ]
     },
     "execution_count": 63,
     "metadata": {},
     "output_type": "execute_result"
    }
   ],
   "source": [
    "#uso de palabras clave (keywords)\n",
    "calculaResta(num1=34,num2=8)"
   ]
  },
  {
   "cell_type": "code",
   "execution_count": 64,
   "id": "88f3e668",
   "metadata": {},
   "outputs": [
    {
     "data": {
      "text/plain": [
       "-26"
      ]
     },
     "execution_count": 64,
     "metadata": {},
     "output_type": "execute_result"
    }
   ],
   "source": [
    "calculaResta(num2=34,num1=8)"
   ]
  },
  {
   "cell_type": "code",
   "execution_count": 65,
   "id": "8535a981",
   "metadata": {},
   "outputs": [
    {
     "ename": "TypeError",
     "evalue": "calculaResta() missing 1 required positional argument: 'num2'",
     "output_type": "error",
     "traceback": [
      "\u001b[1;31m---------------------------------------------------------------------------\u001b[0m",
      "\u001b[1;31mTypeError\u001b[0m                                 Traceback (most recent call last)",
      "\u001b[1;32m~\\AppData\\Local\\Temp/ipykernel_21468/1790618053.py\u001b[0m in \u001b[0;36m<module>\u001b[1;34m\u001b[0m\n\u001b[1;32m----> 1\u001b[1;33m \u001b[0mcalculaResta\u001b[0m\u001b[1;33m(\u001b[0m\u001b[1;36m45\u001b[0m\u001b[1;33m)\u001b[0m\u001b[1;33m\u001b[0m\u001b[1;33m\u001b[0m\u001b[0m\n\u001b[0m",
      "\u001b[1;31mTypeError\u001b[0m: calculaResta() missing 1 required positional argument: 'num2'"
     ]
    }
   ],
   "source": [
    "calculaResta(45)"
   ]
  },
  {
   "cell_type": "code",
   "execution_count": 66,
   "id": "1bfe0458",
   "metadata": {},
   "outputs": [
    {
     "ename": "TypeError",
     "evalue": "calculaResta() missing 1 required positional argument: 'num2'",
     "output_type": "error",
     "traceback": [
      "\u001b[1;31m---------------------------------------------------------------------------\u001b[0m",
      "\u001b[1;31mTypeError\u001b[0m                                 Traceback (most recent call last)",
      "\u001b[1;32m~\\AppData\\Local\\Temp/ipykernel_21468/3015237510.py\u001b[0m in \u001b[0;36m<module>\u001b[1;34m\u001b[0m\n\u001b[1;32m----> 1\u001b[1;33m \u001b[0mcalculaResta\u001b[0m\u001b[1;33m(\u001b[0m\u001b[0mnum1\u001b[0m\u001b[1;33m=\u001b[0m\u001b[1;36m45\u001b[0m\u001b[1;33m)\u001b[0m\u001b[1;33m\u001b[0m\u001b[1;33m\u001b[0m\u001b[0m\n\u001b[0m",
      "\u001b[1;31mTypeError\u001b[0m: calculaResta() missing 1 required positional argument: 'num2'"
     ]
    }
   ],
   "source": [
    "calculaResta(num1=45)"
   ]
  },
  {
   "cell_type": "code",
   "execution_count": 67,
   "id": "f0ee37e1",
   "metadata": {},
   "outputs": [],
   "source": [
    "#usando valores por defecto:\n",
    "def calculaResta(num1,num2=0):\n",
    "    return num1-num2"
   ]
  },
  {
   "cell_type": "code",
   "execution_count": 68,
   "id": "913569f2",
   "metadata": {},
   "outputs": [
    {
     "data": {
      "text/plain": [
       "45"
      ]
     },
     "execution_count": 68,
     "metadata": {},
     "output_type": "execute_result"
    }
   ],
   "source": [
    "calculaResta(45)"
   ]
  },
  {
   "cell_type": "code",
   "execution_count": 69,
   "id": "571fc641",
   "metadata": {},
   "outputs": [
    {
     "data": {
      "text/plain": [
       "45"
      ]
     },
     "execution_count": 69,
     "metadata": {},
     "output_type": "execute_result"
    }
   ],
   "source": [
    "calculaResta(num1=45)"
   ]
  },
  {
   "cell_type": "code",
   "execution_count": 70,
   "id": "716baaa0",
   "metadata": {},
   "outputs": [
    {
     "data": {
      "text/plain": [
       "-20"
      ]
     },
     "execution_count": 70,
     "metadata": {},
     "output_type": "execute_result"
    }
   ],
   "source": [
    "calculaResta(10,30)"
   ]
  },
  {
   "cell_type": "code",
   "execution_count": 71,
   "id": "d7e88f8c",
   "metadata": {},
   "outputs": [
    {
     "data": {
      "text/plain": [
       "20"
      ]
     },
     "execution_count": 71,
     "metadata": {},
     "output_type": "execute_result"
    }
   ],
   "source": [
    "calculaResta(num2=10,num1=30)"
   ]
  },
  {
   "cell_type": "code",
   "execution_count": 72,
   "id": "59792629",
   "metadata": {},
   "outputs": [
    {
     "name": "stdout",
     "output_type": "stream",
     "text": [
      "nombres\n",
      "juan maite laura\n"
     ]
    }
   ],
   "source": [
    "#OJO: la función print:\n",
    "print(\"nombres\")\n",
    "print(\"juan\",\"maite\",\"laura\")"
   ]
  },
  {
   "cell_type": "code",
   "execution_count": 73,
   "id": "a12b40d8",
   "metadata": {},
   "outputs": [],
   "source": [
    "print?"
   ]
  },
  {
   "cell_type": "code",
   "execution_count": 74,
   "id": "fb058776",
   "metadata": {},
   "outputs": [
    {
     "name": "stdout",
     "output_type": "stream",
     "text": [
      "nombre:juan---maite---laura\n"
     ]
    }
   ],
   "source": [
    "#end y sep son keywords (palabras clave)\n",
    "print(\"nombre\",end=':')\n",
    "print(\"juan\",\"maite\",\"laura\",sep=\"---\")"
   ]
  },
  {
   "cell_type": "code",
   "execution_count": 78,
   "id": "0b213fab",
   "metadata": {},
   "outputs": [
    {
     "name": "stdout",
     "output_type": "stream",
     "text": [
      "45 78 89 68 54 78\n"
     ]
    }
   ],
   "source": [
    "#la función print acepta un número variable de parámetros:\n",
    "print(45,78,89,68,54,78)"
   ]
  },
  {
   "cell_type": "code",
   "execution_count": 120,
   "id": "6ead8189",
   "metadata": {},
   "outputs": [],
   "source": [
    "#definiendo una función con un número variable de parámetros:\n",
    "def calculaPromedio(*args):\n",
    "    return sum(args)/len(args)"
   ]
  },
  {
   "cell_type": "code",
   "execution_count": 121,
   "id": "8df7b29c",
   "metadata": {},
   "outputs": [
    {
     "data": {
      "text/plain": [
       "6.8125"
      ]
     },
     "execution_count": 121,
     "metadata": {},
     "output_type": "execute_result"
    }
   ],
   "source": [
    "calculaPromedio(5,9,8,8,9,7,5,4,4,6,7,8,6,7,8,8)"
   ]
  },
  {
   "cell_type": "code",
   "execution_count": 99,
   "id": "b1a7d5bc",
   "metadata": {},
   "outputs": [],
   "source": [
    "def convierteFahrenheit(x):\n",
    "    return x*1.8+32"
   ]
  },
  {
   "cell_type": "code",
   "execution_count": 100,
   "id": "ac279e10",
   "metadata": {},
   "outputs": [
    {
     "name": "stdout",
     "output_type": "stream",
     "text": [
      "<class 'function'>\n"
     ]
    },
    {
     "data": {
      "text/plain": [
       "212.0"
      ]
     },
     "execution_count": 100,
     "metadata": {},
     "output_type": "execute_result"
    }
   ],
   "source": [
    "#asigna a la variable el nombre de la función\n",
    "conversor = convierteFahrenheit\n",
    "print(type(conversor))\n",
    "conversor(100)"
   ]
  },
  {
   "cell_type": "code",
   "execution_count": 103,
   "id": "45417211",
   "metadata": {},
   "outputs": [
    {
     "data": {
      "text/plain": [
       "212.0"
      ]
     },
     "execution_count": 103,
     "metadata": {},
     "output_type": "execute_result"
    }
   ],
   "source": [
    "#asigna a la variable una función lambda (anónima o sin nombre)\n",
    "conversor = lambda x:x*1.8+32\n",
    "conversor(100)"
   ]
  },
  {
   "cell_type": "code",
   "execution_count": 102,
   "id": "ed8f9d09",
   "metadata": {},
   "outputs": [
    {
     "data": {
      "text/plain": [
       "-2"
      ]
     },
     "execution_count": 102,
     "metadata": {},
     "output_type": "execute_result"
    }
   ],
   "source": [
    "#otro ejemplo:\n",
    "op = lambda a,b,c:a**2+b-3*c\n",
    "op(3,4,5)"
   ]
  },
  {
   "cell_type": "code",
   "execution_count": 104,
   "id": "4912c916",
   "metadata": {},
   "outputs": [
    {
     "data": {
      "text/plain": [
       "-2"
      ]
     },
     "execution_count": 104,
     "metadata": {},
     "output_type": "execute_result"
    }
   ],
   "source": [
    "#es equivalente a:\n",
    "def op(a,b,c):\n",
    "    return a**2+b-3*c\n",
    "\n",
    "op(3,4,5)"
   ]
  },
  {
   "cell_type": "code",
   "execution_count": 107,
   "id": "083cb111",
   "metadata": {},
   "outputs": [
    {
     "name": "stdout",
     "output_type": "stream",
     "text": [
      "[113.0, 192.20000000000002, 73.4, 152.60000000000002, 73.4, 172.4]\n"
     ]
    }
   ],
   "source": [
    "#uso de la función map():\n",
    "\n",
    "tempC = [45, 89, 23, 67, 23, 78]\n",
    "\n",
    "#crea una lista con los valores de tempC convertidos a grados F:\n",
    "tempF = list(map(lambda x:x*1.8+32,tempC))\n",
    "print(tempF)"
   ]
  },
  {
   "cell_type": "code",
   "execution_count": 109,
   "id": "8a9074ba",
   "metadata": {},
   "outputs": [
    {
     "data": {
      "text/plain": [
       "False"
      ]
     },
     "execution_count": 109,
     "metadata": {},
     "output_type": "execute_result"
    }
   ],
   "source": [
    "#otro ejemplo de función anonima:\n",
    "\n",
    "evalua = lambda x:x%2==0\n",
    "evalua(55)"
   ]
  },
  {
   "cell_type": "code",
   "execution_count": 110,
   "id": "83143e0f",
   "metadata": {},
   "outputs": [
    {
     "data": {
      "text/plain": [
       "False"
      ]
     },
     "execution_count": 110,
     "metadata": {},
     "output_type": "execute_result"
    }
   ],
   "source": [
    "#equivale a:\n",
    "def evalua(x):\n",
    "    return x%2==0\n",
    "\n",
    "evalua(55)"
   ]
  },
  {
   "cell_type": "code",
   "execution_count": 111,
   "id": "69d08b85",
   "metadata": {},
   "outputs": [
    {
     "name": "stdout",
     "output_type": "stream",
     "text": [
      "[True, False, True, False, True, True, False]\n"
     ]
    }
   ],
   "source": [
    "#otro ejemplo de map()\n",
    "\n",
    "L = [56, 19, 40, 5, 78, 34, 11]\n",
    "\n",
    "booleanos = list(map(lambda x:x%2==0,L))\n",
    "print(booleanos)"
   ]
  },
  {
   "cell_type": "code",
   "execution_count": 112,
   "id": "644b46cc",
   "metadata": {},
   "outputs": [
    {
     "name": "stdout",
     "output_type": "stream",
     "text": [
      "[45, 89, 67, 78]\n"
     ]
    }
   ],
   "source": [
    "#uso de filter():\n",
    "\n",
    "tempC = [45, 89, 23, 67, 23, 78]\n",
    "\n",
    "#crea una lista con los valores de tempC que pasan los 30 grados:\n",
    "calurosos = list(filter(lambda x:x>30,tempC))\n",
    "print(calurosos)"
   ]
  },
  {
   "cell_type": "code",
   "execution_count": 113,
   "id": "a20729c7",
   "metadata": {},
   "outputs": [],
   "source": [
    "#observando el docstring de la función print\n",
    "print?"
   ]
  },
  {
   "cell_type": "code",
   "execution_count": 122,
   "id": "35d2a77e",
   "metadata": {},
   "outputs": [],
   "source": [
    "def cuadrado(x):\n",
    "    \"\"\"Retorna el cuadrado de x.\n",
    "       x: entrada\n",
    "       x**2: salida\n",
    "    \"\"\"\n",
    "    \n",
    "    return x**2"
   ]
  },
  {
   "cell_type": "code",
   "execution_count": 115,
   "id": "2cfab877",
   "metadata": {},
   "outputs": [],
   "source": [
    "cuadrado?"
   ]
  },
  {
   "cell_type": "code",
   "execution_count": 116,
   "id": "00e6bf0a",
   "metadata": {},
   "outputs": [
    {
     "name": "stdout",
     "output_type": "stream",
     "text": [
      "Help on function cuadrado in module __main__:\n",
      "\n",
      "cuadrado(x)\n",
      "    Retorna el cuadrado de x.\n",
      "    x: entrada\n",
      "    x**2: salida\n",
      "\n"
     ]
    }
   ],
   "source": [
    "help(cuadrado)"
   ]
  }
 ],
 "metadata": {
  "kernelspec": {
   "display_name": "Python 3 (ipykernel)",
   "language": "python",
   "name": "python3"
  },
  "language_info": {
   "codemirror_mode": {
    "name": "ipython",
    "version": 3
   },
   "file_extension": ".py",
   "mimetype": "text/x-python",
   "name": "python",
   "nbconvert_exporter": "python",
   "pygments_lexer": "ipython3",
   "version": "3.9.7"
  }
 },
 "nbformat": 4,
 "nbformat_minor": 5
}
