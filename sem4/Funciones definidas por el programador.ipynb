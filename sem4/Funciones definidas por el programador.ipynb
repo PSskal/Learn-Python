{
 "cells": [
  {
   "attachments": {
    "descargar.png": {
     "image/png": "[encoded data removed]"
    }
   },
   "cell_type": "markdown",
   "id": "9a866a9a",
   "metadata": {},
   "source": [
    "# Funciones\n",
    "\n",
    "![descargar.png](attachment:descargar.png)"
   ]
  },
  {
   "cell_type": "markdown",
   "id": "7eb753cb",
   "metadata": {},
   "source": [
    "Como en todo código de programación, se puede presentar el caso en el que un conjunto de instrucciones se ejecutan en repetidas oportunidades. Esto se puede establecer en un lazo de repetición, pero puede que inclusive sea el lazo el que se repita en varias secciones del código.\n",
    "\n",
    "Por otro lado, a veces para resolver un problema de programación, es mejor utilizar la técnica de \"divide y venceras\", de tal forma que un problema complejo se separe en sub-problemas de fácil solución de forma independiente.\n",
    "\n",
    "Es en estos casos que la idea de las funciones resulta útil: secciones separadas de código que permiten encapsular una rutina de ejecución.\n",
    "\n",
    "En Python, una función se define con la palabra reservada `def`. La sintaxis completa en la definición de una función es la siguiente:\n",
    "\n",
    "    def nombre_funcion(argumentos):\n",
    "        <Instrucciones>\n",
    "        return <valores>     "
   ]
  },
  {
   "cell_type": "code",
   "execution_count": null,
   "id": "14d7e158",
   "metadata": {},
   "outputs": [],
   "source": [
    "#Ejemplo:\n",
    "def suma_num(num1,num2):\n",
    "    return num1+num1"
   ]
  },
  {
   "cell_type": "markdown",
   "id": "8f9b999a",
   "metadata": {},
   "source": [
    "La función anterior define un \"procedimiento\" que requiere de dos valores de entrada para retornar un valor de salida que será igual a la suma de los valores de entrada.\n",
    "Para probar la función, será necesario llamar a la función desde un script (algún otro programa), que se puede considerar como una función principal (main):"
   ]
  },
  {
   "cell_type": "code",
   "execution_count": null,
   "id": "5ecdd955",
   "metadata": {},
   "outputs": [],
   "source": [
    "#llamando a la función:\n",
    "x = suma_num(3,7)\n",
    "print(x)"
   ]
  },
  {
   "cell_type": "code",
   "execution_count": null,
   "id": "75d11d44",
   "metadata": {},
   "outputs": [],
   "source": [
    "#o también:\n",
    "print(suma_num(3,7))"
   ]
  },
  {
   "cell_type": "markdown",
   "id": "60e8c193",
   "metadata": {},
   "source": [
    "**La funcion anterior retorna un valor, no lo imprime**. Debe de considerar esto con mucho ciudado y entendiendo bien sus implicancias. Por ejemplo, si tuviera un script que utilizara la funcion anterior de la forma:\n",
    "\n",
    "    a = 10\n",
    "    b = 20\n",
    "    resp = suma(a, b)\n",
    "    \n",
    "Su código respondería de forma correcta porque `suma` retorna un valor que es asignado por el operador `=` a la variable `resp`. Si por el contrario, su funcion *imprimiera* el resultado, el script anterior mostraría el resultado de la suma de `a` y `b`, pero `resp` no tendría ningún valor (`None`).\n",
    "\n",
    "¡Evite ese error de principiante!"
   ]
  },
  {
   "cell_type": "code",
   "execution_count": null,
   "id": "fa8f8d42",
   "metadata": {},
   "outputs": [],
   "source": [
    "def suma_num(num1,num2):   \n",
    "    print(num1+num2)\n",
    "    #ojo: la función no esta retornando dato"
   ]
  },
  {
   "cell_type": "code",
   "execution_count": null,
   "id": "a900fc6f",
   "metadata": {},
   "outputs": [],
   "source": [
    "print(suma_num(1,2))"
   ]
  },
  {
   "cell_type": "markdown",
   "id": "ceca9137",
   "metadata": {},
   "source": [
    "Veamos otro ejemplo: Construír una función que retorne grados Fahrenheit a partir de valores en grados centigrados:"
   ]
  },
  {
   "cell_type": "code",
   "execution_count": null,
   "id": "3000dff5",
   "metadata": {},
   "outputs": [],
   "source": [
    "def F(C):\n",
    "    return (9.0/5) * C + 32"
   ]
  },
  {
   "cell_type": "code",
   "execution_count": null,
   "id": "4724fd05",
   "metadata": {},
   "outputs": [],
   "source": [
    "#llamando a la función desde otro script (programa):\n",
    "\n",
    "# Se crea una lista de grados centigrados entre 0 y 100 en pasos de 5\n",
    "gradosC = list(range(0,101,5))\n",
    "\n",
    "# Se halla una lista con los grados Fahrenheit\n",
    "gradosF = []\n",
    "for grad in gradosC:\n",
    "    gradosF.append(F(grad))\n",
    "\n",
    "# Se imprimen los resultados\n",
    "# Recuerde: zip() es una funcion que desempaqueta dos o mas iterables\n",
    "for gC, gF in zip(gradosC, gradosF):\n",
    "    print(\"{:3}°C -> {:4.1f}F\".format(gC, gF))"
   ]
  },
  {
   "cell_type": "markdown",
   "id": "1fe4e559",
   "metadata": {},
   "source": [
    "Para definir formalmente una función, es necesario que esta incluya un \"docstring\"; esto es, una cadena de texto que estará asociada a la ayuda de la función. Dicha cadena se debe formar con `\"\"\"`"
   ]
  },
  {
   "cell_type": "code",
   "execution_count": null,
   "id": "23fd5d52",
   "metadata": {},
   "outputs": [],
   "source": [
    "def suma_num(num1,num2):\n",
    "    '''suma_num(num1,num2): Retorna la suma de dos números\n",
    "    \n",
    "    parámetros:\n",
    "        - num1, num2: int\n",
    "    \n",
    "    Uso:\n",
    "       suma_num(3,5) -> 8\n",
    "    '''\n",
    "    \n",
    "    return num1+num2"
   ]
  },
  {
   "cell_type": "code",
   "execution_count": null,
   "id": "3f2534ac",
   "metadata": {},
   "outputs": [],
   "source": [
    "#invocando a la ayuda de la función:\n",
    "suma_num?"
   ]
  },
  {
   "cell_type": "code",
   "execution_count": null,
   "id": "0c0d6a4c",
   "metadata": {},
   "outputs": [],
   "source": [
    "#o tambien:\n",
    "help(suma_num)"
   ]
  },
  {
   "cell_type": "markdown",
   "id": "94640690",
   "metadata": {},
   "source": [
    "Una función es un programa autocontenido que resuelve un problema y que se utiliza directamente: por ejemplo, cuando usted utiliza la función `randrange` no inspecciona lo que hace la función sino que la utiliza directamente y si necesita saber como utilizarla, consulta la ayuda de `randrange`. La misma idea debe de estar en su mente cuando defina sus propias funciones: una vez resuelta la utiliza y pasa a ser una herramienta en su arsenal de herramientas de programación."
   ]
  },
  {
   "cell_type": "markdown",
   "id": "ebd8250b",
   "metadata": {},
   "source": [
    "### Keywords\n",
    "Al momento de definir una función, lo más común es que tenga parámetros o argumentos de entrada. Estos argumentos se definen como variables pero pueden utilizarse en el momento de llamar a la función especificando el nombre del argumento, a diferencia de la \"definición posicional\". Esto es:"
   ]
  },
  {
   "cell_type": "code",
   "execution_count": null,
   "id": "9bc5b627",
   "metadata": {},
   "outputs": [],
   "source": [
    "def resta_num(num1,num2):\n",
    "    return num1-num2"
   ]
  },
  {
   "cell_type": "markdown",
   "id": "966d9690",
   "metadata": {},
   "source": [
    "Para ejecutar esta función se puede utilizar la notación posicional:"
   ]
  },
  {
   "cell_type": "code",
   "execution_count": null,
   "id": "300b194b",
   "metadata": {},
   "outputs": [],
   "source": [
    "print(resta_num(10,3))"
   ]
  },
  {
   "cell_type": "markdown",
   "id": "70586e66",
   "metadata": {},
   "source": [
    "Pero también se puede utilizar los nombres de los parámetros como \"keywords\" y especificar que valor es asignado a que parametro:"
   ]
  },
  {
   "cell_type": "code",
   "execution_count": null,
   "id": "65cf6e45",
   "metadata": {},
   "outputs": [],
   "source": [
    "print(resta_num(num1=10,num2=3))"
   ]
  },
  {
   "cell_type": "markdown",
   "id": "743860b4",
   "metadata": {},
   "source": [
    "Esto es un uso típico de Python (recuerde el keyword end='' en print(), por ejemplo). De esta forma, la posición de un argumento al momento de llamar a una función puede personalizarse:"
   ]
  },
  {
   "cell_type": "code",
   "execution_count": null,
   "id": "c9a4d594",
   "metadata": {},
   "outputs": [],
   "source": [
    "print(resta_num(num2=3,num1=10))"
   ]
  },
  {
   "cell_type": "markdown",
   "id": "ee46cb3e",
   "metadata": {},
   "source": [
    "Pero ojo, aca hay una regla: no se puede indicar un argumento posicional luego de un argumento por keyword:"
   ]
  },
  {
   "cell_type": "code",
   "execution_count": null,
   "id": "9f27b658",
   "metadata": {},
   "outputs": [],
   "source": [
    "print(resta_num(num1=10,3))"
   ]
  },
  {
   "cell_type": "code",
   "execution_count": null,
   "id": "b2a27ce1",
   "metadata": {},
   "outputs": [],
   "source": [
    "#esta llamada también produciría un error:\n",
    "print(resta_num(10,num1=3))"
   ]
  },
  {
   "cell_type": "code",
   "execution_count": null,
   "id": "b80e5286",
   "metadata": {},
   "outputs": [],
   "source": [
    "#pero esta llamada no produce error:\n",
    "print(resta_num(10,num2=3))"
   ]
  },
  {
   "cell_type": "code",
   "execution_count": null,
   "id": "afbc51de",
   "metadata": {},
   "outputs": [],
   "source": [
    "#otro ejemplo: (función con 2 argumentos)\n",
    "def yfunc(t, v0):\n",
    "    g = 9.81\n",
    "    return v0*t - 0.5*g*t**2"
   ]
  },
  {
   "cell_type": "markdown",
   "id": "02e0c077",
   "metadata": {},
   "source": [
    "Note que *g* es una variable local con un valor fijo, mientras que *t* y *v0* son argumentos y por lo tanto tambien variables locales."
   ]
  },
  {
   "cell_type": "code",
   "execution_count": null,
   "id": "6232ca07",
   "metadata": {},
   "outputs": [],
   "source": [
    "#llamando a la función:\n",
    "print(yfunc(0.1, 6))\n",
    "print(yfunc(0.1, v0 = 6))\n",
    "print(yfunc(t = 0.1, v0 = 0.6))\n",
    "print(yfunc(v0 = 0.6, t = 0.1))"
   ]
  },
  {
   "cell_type": "markdown",
   "id": "162dd2f4",
   "metadata": {},
   "source": [
    "Note que en el ejemplo anterior, los argumentos se pueden especificar de dos formas: directamente separando los valores por comas (notación posicional) de forma que al llamar a la función, esta sabrá que valor le corresponde a que argumento, o indicando que argumento específico tiene que valor (notación por palabra clave o *keyword*). Esta ultima forma de llamar tiene la ventaja de que es una llamada más clara, ademas de que no requiere colocar los argumentos en orden."
   ]
  },
  {
   "cell_type": "markdown",
   "id": "822db92e",
   "metadata": {},
   "source": [
    "### Parámetros con valores por defecto\n",
    "Se puede definir valores por defecto para los parámetros de entrada. Por ejemplo:"
   ]
  },
  {
   "cell_type": "code",
   "execution_count": null,
   "id": "d30c41e8",
   "metadata": {},
   "outputs": [],
   "source": [
    "#llamando a la función resta_num (creada celdas atras)\n",
    "\n",
    "print(resta_num(10))"
   ]
  },
  {
   "cell_type": "markdown",
   "id": "32ee6d1b",
   "metadata": {},
   "source": [
    "La ejecución de esta función genera una excepción del tipo *TypeError*, con el mensaje de error que indica que falta un argumento posicional: *num2*. Modifiquemos la función especificando que el parametro num2 tendrá 0 como valor por defecto :"
   ]
  },
  {
   "cell_type": "code",
   "execution_count": null,
   "id": "852e435a",
   "metadata": {},
   "outputs": [],
   "source": [
    "def resta_num(num1,num2=0):\n",
    "    return num1-num2"
   ]
  },
  {
   "cell_type": "markdown",
   "id": "548c80fa",
   "metadata": {},
   "source": [
    "Esta vez, la función no retornará una excepción como en la llamada anterior:"
   ]
  },
  {
   "cell_type": "code",
   "execution_count": null,
   "id": "4e0a9a5c",
   "metadata": {},
   "outputs": [],
   "source": [
    "print(resta_num(10))"
   ]
  },
  {
   "cell_type": "markdown",
   "id": "3a2b120a",
   "metadata": {},
   "source": [
    "Ahora, la función puede ser llamada de muchas formas:"
   ]
  },
  {
   "cell_type": "code",
   "execution_count": null,
   "id": "52e1a3d7",
   "metadata": {},
   "outputs": [],
   "source": [
    "print(resta_num(12,5))\n",
    "print(resta_num(num2=5,num1=12))\n",
    "print(resta_num(12))"
   ]
  },
  {
   "cell_type": "markdown",
   "id": "56e90dbc",
   "metadata": {},
   "source": [
    "Pero tenga mucho cuidado: no todas las definiciones de parametros utilizan keywords. Considere la función *sum*:"
   ]
  },
  {
   "cell_type": "code",
   "execution_count": null,
   "id": "999a68b9",
   "metadata": {},
   "outputs": [],
   "source": [
    "sum?"
   ]
  },
  {
   "cell_type": "markdown",
   "id": "e7c127dc",
   "metadata": {},
   "source": [
    "Lea la ayuda: la función *sum* retorna la suma de todos los valores de un iterable más un valor inicial start=0. Es decir:"
   ]
  },
  {
   "cell_type": "code",
   "execution_count": null,
   "id": "6bf5564b",
   "metadata": {},
   "outputs": [],
   "source": [
    "print(sum([1,2,3,4,5]))"
   ]
  },
  {
   "cell_type": "code",
   "execution_count": null,
   "id": "26fd6e63",
   "metadata": {},
   "outputs": [],
   "source": [
    "print(sum([1,2,3,4,5],10))"
   ]
  },
  {
   "cell_type": "code",
   "execution_count": null,
   "id": "cf697c15",
   "metadata": {},
   "outputs": [],
   "source": [
    "print(sum([1,2,3,4,5],start=10))"
   ]
  },
  {
   "cell_type": "code",
   "execution_count": null,
   "id": "c6e7d370",
   "metadata": {},
   "outputs": [],
   "source": [
    "print(sum(iterable=[4,5,6],start=10))"
   ]
  },
  {
   "cell_type": "markdown",
   "id": "562cbd33",
   "metadata": {},
   "source": [
    "Observe el error: \"sum() no permite usar al primer argumento como keywords\". Esto es un error típico en el uso de las funciones cuando se está aprendiendo Python. ¿Cómo saber cuando una función solo recibe parametros por posición y no por keywords? Vuelva a la ver la definición de la función en la ayuda y observe el caracter `/` al final del parámetro `iterable`. Esto significa que dicho parámetro de esta función no se puede pasar por su nombre. Este atento a esta información."
   ]
  },
  {
   "cell_type": "markdown",
   "id": "bee0702c",
   "metadata": {},
   "source": [
    "### Retorno de dos o más variables\n",
    "Una función puede retornar más de un valor:"
   ]
  },
  {
   "cell_type": "code",
   "execution_count": null,
   "id": "547fe366",
   "metadata": {},
   "outputs": [],
   "source": [
    "def mult_div(num1,num2):\n",
    "    return num1*num2,num1/num2  #retorna dos valores \n",
    "                                #num1*num2  y num1/num2"
   ]
  },
  {
   "cell_type": "markdown",
   "id": "0a89541f",
   "metadata": {},
   "source": [
    "Esta función retornará 2 valores separados y Python reconocerá esto como una tupla. "
   ]
  },
  {
   "cell_type": "code",
   "execution_count": null,
   "id": "03ea1fca",
   "metadata": {},
   "outputs": [],
   "source": [
    "res = mult_div(3,2)\n",
    "print(type(res))\n",
    "print(res)\n",
    "print(res[0])\n",
    "print(res[1])"
   ]
  },
  {
   "cell_type": "markdown",
   "id": "9eb606fa",
   "metadata": {},
   "source": [
    "En la practica, se utiliza el desempaquetamiento de tuplas para llamar a esta función:"
   ]
  },
  {
   "cell_type": "code",
   "execution_count": null,
   "id": "6b04c186",
   "metadata": {},
   "outputs": [],
   "source": [
    "m,d = mult_div(3,2)\n",
    "print(m)\n",
    "print(d)"
   ]
  },
  {
   "cell_type": "markdown",
   "id": "7442bee8",
   "metadata": {},
   "source": [
    "Otro ejemplo: Estamos interesados en evaluar tanto y(t), asi como su derivada:\n",
    "\n",
    "$$ \\frac{dy}{dt} = v_{0} - gt $$"
   ]
  },
  {
   "cell_type": "code",
   "execution_count": null,
   "id": "99b024e0",
   "metadata": {},
   "outputs": [],
   "source": [
    "def yfunc(t, v0):\n",
    "    '''\n",
    "    Obtiene la posicion y la velocidad de una particula \n",
    "    en un instante de tiempo y con una velocidad inicial\n",
    "    \n",
    "    t = tiempo de evaluacion\n",
    "    v0 = velocidad inicial\n",
    "    return: posicion, velocidad\n",
    "    '''\n",
    "    g = 9.81\n",
    "    y = v0*t - 0.5*g*t**2\n",
    "    dydt = v0 - g*t\n",
    "    return y, dydt"
   ]
  },
  {
   "cell_type": "code",
   "execution_count": null,
   "id": "1753872b",
   "metadata": {},
   "outputs": [],
   "source": [
    "yfunc?"
   ]
  },
  {
   "cell_type": "markdown",
   "id": "4f1e5b4b",
   "metadata": {},
   "source": [
    "Para llamar a esta función, requeriremos especificarle las dos variables de salida:"
   ]
  },
  {
   "cell_type": "code",
   "execution_count": null,
   "id": "789794c2",
   "metadata": {},
   "outputs": [],
   "source": [
    "posicion, velocidad = yfunc(t = 1.5, v0 = 10)\n",
    "print(\"Posicion = \", posicion, \"metros\")\n",
    "print(\"Velocidad = \", velocidad, \"metros por segundo\")"
   ]
  },
  {
   "cell_type": "markdown",
   "id": "176964f0",
   "metadata": {},
   "source": [
    "Entonces ahora podemos utilizar esta función para crear una tabla:"
   ]
  },
  {
   "cell_type": "code",
   "execution_count": null,
   "id": "50e9985a",
   "metadata": {},
   "outputs": [],
   "source": [
    "# Creamos una lista de tiempos, por comprehension\n",
    "t_list = [0.05 * i for i in range(10)]\n",
    "\n",
    "for t in t_list:\n",
    "    pos, vel = yfunc(t, v0 = 5)\n",
    "    print(\"t = {:.2f}\\tposicion = {:4f}\\tvelocidad = {:.4f}\".format(t, pos, vel))"
   ]
  },
  {
   "cell_type": "markdown",
   "id": "89a105b6",
   "metadata": {},
   "source": [
    "## Número variable de parámetros de entrada\n",
    "Es posible que se requiera definír una función que requiere un número variable de parametros del tipo:\n",
    "    \n",
    "    def suma_todos(num1, num2, num3, ...)\n",
    "    \n",
    "Y no será posible saber de antemano cuantos parámetros habrá que colocar. Para esto utilizaremos el operador `*` (el operador \"splat\"). Cuando se coloca el caracter `*` antes de una lista o tupla (lo que se traduce horriblemente como \"estrellar un valor\") esta se desempaqueta. Considere las siguientes instrucciones:"
   ]
  },
  {
   "cell_type": "code",
   "execution_count": null,
   "id": "0098ae1b",
   "metadata": {},
   "outputs": [],
   "source": [
    "nums = [10,20,30]\n",
    "print(nums)\n",
    "print(*nums)"
   ]
  },
  {
   "cell_type": "markdown",
   "id": "4c4f3000",
   "metadata": {},
   "source": [
    "Observe que la primera impresión muestra una lista. En cambio, la segunda impresión muestra una secuencia de valores sueltos, como ejecutar `print(10, 20, 30)`; es decir el operador `*` ha desempaquetado los valores de una lista y los ha ingresado a la función print. Esto se puede utilizar para definir todos los argumentos posibles de una función:"
   ]
  },
  {
   "cell_type": "code",
   "execution_count": null,
   "id": "c343de64",
   "metadata": {},
   "outputs": [],
   "source": [
    "def suma_todos(*args):\n",
    "    return sum(args)"
   ]
  },
  {
   "cell_type": "code",
   "execution_count": null,
   "id": "cc8f32f9",
   "metadata": {},
   "outputs": [],
   "source": [
    "print(suma_todos(1))\n",
    "print(suma_todos(1,2,3,4,5))\n",
    "print(suma_todos(7,56))"
   ]
  },
  {
   "cell_type": "markdown",
   "id": "87bd7fb6",
   "metadata": {},
   "source": [
    "Este operador es utilizado con frecuencia en la definición de las funciones de Python. Considere la ayuda de la función range():"
   ]
  },
  {
   "cell_type": "code",
   "execution_count": null,
   "id": "6443d786",
   "metadata": {},
   "outputs": [],
   "source": [
    "range?"
   ]
  },
  {
   "cell_type": "markdown",
   "id": "ca271b37",
   "metadata": {},
   "source": [
    "Los argumentos estan especificados como `*args` Recuerde: si necesita expresar un número indefinido de parámetros de entrada, utilice `*args` y considere `args` como una tupla en el interior de la función."
   ]
  },
  {
   "cell_type": "markdown",
   "id": "45ecf7d6",
   "metadata": {},
   "source": [
    "### Funciones: de más a menos\n",
    "Pensar en funciones es la diferencia entre aproximarse a un problema de programación con un plan de acción que se va resolviendo de lo más fácil a lo más difícil, en lugar de ir avanzando a ciegas. Para esto se debe de considerar atacar siempre un problema de más a menos y no al reves, como suele suceder en quienes inician con la programación. Por ejemplo, considere el siguiente problema: Escriba un script que pida al usuario el número máximo a evaluar para listar una secuencia de primos:\n",
    "\n",
    "    Ingrese el numero máximo a evaluar: 15\n",
    "    \n",
    "    1. 2\n",
    "    2. 3\n",
    "    3. 5\n",
    "    4. 7\n",
    "    5. 11\n",
    "    6. 13\n",
    "    \n",
    "¿Por donde empezaría a resolver este problema? Seguramente considera iniciar con cómo saber si un número es primo o no para insertar esto en una estructura de lazo condicionado para imprimir los resultados. Esto significa que tendrá varios problemas al mismo tiempo.\n",
    "\n",
    "Por otro lado puede considerar escribír una función que retorne una lista de N números primos por lo que debe de considerar cuando un número es primo...\n",
    "\n",
    "Sin embargo, si considera solucionar el problema desde arriba hacia abajo el razonamiento del desarollo lo ira guiando a la solución final.\n",
    "\n",
    "Considere resolver esto desde más a menos: es decir, de la información que ya tiene, definiendo funciones pero sin resolverlas, solo considerando _que funcionarán en el futuro_. Entonces, tendrémos el siguiente script:\n",
    "\n",
    "    n = int(input(\"Ingrese el numero maximo a buscar: \"))\n",
    "    l_primos = lista_primos(n)\n",
    "\n",
    "    for idx, num in enumerate(l_primos):\n",
    "        print(\"{}. {}\".format(idx, num))\n",
    "        \n",
    "Este script resuelve el problema, *siempre y cuando la función `lista_primos(n)` haga lo que se espera que haga*, es decir, retornar una lista con los *n* números primos. Entonces, necesitamos ahora resolver un solo problema: ¿cómo obtener una lista con los números primos?\n",
    "\n",
    "    def lista_primos(n):\n",
    "        out = []\n",
    "        for num in range(0, n+1):\n",
    "            if es_primo(num):\n",
    "                out.append(num)\n",
    "\n",
    "        return out\n",
    "        \n",
    "O mejor aun, como una lista por comprehensión:\n",
    "\n",
    "    def lista_primos(n);\n",
    "        return [num for num in range(0, n+1) if es_primo(num)]\n",
    "        \n",
    "Nuevamente, esta función retornará una lista con un número de valores primos especificado con el parámetro de entrada `num`, _siempre y cuando la función `es_primo(n)` haga lo que se espera que haga_, es decir, indicarnos con un valor True o False si `n` es un número primo. Entonces, necesitamos ahora resolver un solo problema nuevamente: ¿cómo saber si un número es primo o no? Resuelva esta función para resolver el script:"
   ]
  },
  {
   "cell_type": "code",
   "execution_count": null,
   "id": "3389583e",
   "metadata": {},
   "outputs": [],
   "source": [
    "#programa principal (main()):\n",
    "\n",
    "n = int(input(\"Ingrese el numero maximo a buscar: \"))\n",
    "\n",
    "l_primos = lista_primos(n)\n",
    "\n",
    "for idx, num in enumerate(l_primos):\n",
    "    print(\"{}. {}\".format(idx+1, num))"
   ]
  },
  {
   "cell_type": "markdown",
   "id": "8349a418",
   "metadata": {},
   "source": [
    "Si se ejecuta primero la celda de arriba, saldrá una excepción de nombre porque la función *lista_primos* aun no está definida. Por loque ahora se procedera a definirla:"
   ]
  },
  {
   "cell_type": "code",
   "execution_count": null,
   "id": "dd3e6476",
   "metadata": {},
   "outputs": [],
   "source": [
    "#version 1:\n",
    "# def lista_primos(n):\n",
    "#     out = []\n",
    "#     for num in range(0, n+1):\n",
    "#         if es_primo(num):\n",
    "#             out.append(num)\n",
    "#     return out"
   ]
  },
  {
   "cell_type": "code",
   "execution_count": null,
   "id": "314ffe4a",
   "metadata": {},
   "outputs": [],
   "source": [
    "#version 2:  lista por comprehension\n",
    "def lista_primos(n):\n",
    "    out = [num for num in range(0, n+1) if es_primo(num)]\n",
    "    return out"
   ]
  },
  {
   "cell_type": "code",
   "execution_count": null,
   "id": "a16733fd",
   "metadata": {},
   "outputs": [],
   "source": [
    "lista_primos(5)"
   ]
  },
  {
   "cell_type": "markdown",
   "id": "bb9e1c55",
   "metadata": {},
   "source": [
    "Si se invoca a la función *lista_primos* saldrá también excepción de nombre porque la función *es_primo* aun no está definida. Procedemos ahora a definirla:"
   ]
  },
  {
   "cell_type": "code",
   "execution_count": null,
   "id": "ee3fd242",
   "metadata": {},
   "outputs": [],
   "source": [
    "def es_primo(n):\n",
    "    if n==0 or n==1:\n",
    "        return False\n",
    "    else:\n",
    "        for i in range(2,n):\n",
    "            if n%i==0:\n",
    "                return False\n",
    "\n",
    "        return True"
   ]
  },
  {
   "cell_type": "code",
   "execution_count": null,
   "id": "90d47282",
   "metadata": {},
   "outputs": [],
   "source": [
    "es_primo(1)"
   ]
  },
  {
   "cell_type": "markdown",
   "id": "5c204c72",
   "metadata": {},
   "source": [
    "Listo, ahora que todas las funciones están definidas, ya se podrá ejecutar al programa principal colocado celdas arriba"
   ]
  },
  {
   "cell_type": "markdown",
   "id": "eb05c0a5",
   "metadata": {},
   "source": [
    "## Funciones anónimas: Lambda functions\n",
    "Python tiene una característica especial: se pueden asignar funciones a una variable. Considere el siguiente ejemplo:"
   ]
  },
  {
   "cell_type": "code",
   "execution_count": null,
   "id": "de0b54b1",
   "metadata": {},
   "outputs": [],
   "source": [
    "def por_tres(n):\n",
    "    return 3*n\n",
    "\n",
    "print(por_tres(6))"
   ]
  },
  {
   "cell_type": "markdown",
   "id": "5fc43a6c",
   "metadata": {},
   "source": [
    "Ahora, asigne a una variable la función por_tres:"
   ]
  },
  {
   "cell_type": "code",
   "execution_count": null,
   "id": "244c4279",
   "metadata": {},
   "outputs": [],
   "source": [
    "triplicar = por_tres"
   ]
  },
  {
   "cell_type": "markdown",
   "id": "7763df01",
   "metadata": {},
   "source": [
    "¿De que tipo será esta variable?"
   ]
  },
  {
   "cell_type": "code",
   "execution_count": null,
   "id": "37dd2a71",
   "metadata": {},
   "outputs": [],
   "source": [
    "print(type(triplicar))"
   ]
  },
  {
   "cell_type": "markdown",
   "id": "f131e5e6",
   "metadata": {},
   "source": [
    "Esto quiere decir que la variable *triplicar* ahora es una función: una versión o alias de la versión original *por_tres*. Por lo tanto, puede utilizarse como la función original:"
   ]
  },
  {
   "cell_type": "code",
   "execution_count": null,
   "id": "dfb83989",
   "metadata": {},
   "outputs": [],
   "source": [
    "print(triplicar(5))"
   ]
  },
  {
   "cell_type": "markdown",
   "id": "934bbaa4",
   "metadata": {},
   "source": [
    "Esto es importante: _la variable `triplicar` tiene el contenido de la función `por_tres`_. Por lo tanto, no es necesario pasarle el nombre de la función sino solo el contenido de la función. Es esta la razon por la que existen las *funciones anónimas*: funciones que no tienen un nombre específico que luego serán asignadas a una variable, ya que lo que importa es su contenido y no su nombre.\n",
    "\n",
    "Una función anónima tiene el nombre genérico de `lambda` y se especifican los parámetros de entrada inmediatamente despues. Por ejemplo, el ejemplo anterior se puede volver a hacer de la siguiente forma:"
   ]
  },
  {
   "cell_type": "code",
   "execution_count": null,
   "id": "71b1d580",
   "metadata": {},
   "outputs": [],
   "source": [
    "triplicar = lambda x:3*x   #se asigna el contenido o regla \n",
    "                           #de correspondencia de la función\n",
    "print(triplicar(4))"
   ]
  },
  {
   "cell_type": "markdown",
   "id": "cdedb2d1",
   "metadata": {},
   "source": [
    "La instrucción `lambda x: 3 * x` es equivalente a la definición de la función `por_tres`. Compare ambas y observe las similitudes entre una y otra. Una función anónima puede tener varios parametros de entrada."
   ]
  },
  {
   "cell_type": "code",
   "execution_count": null,
   "id": "e6705ce4",
   "metadata": {},
   "outputs": [],
   "source": [
    "sumar = lambda x,y:x+y\n",
    "print(sumar(4,5))"
   ]
  },
  {
   "cell_type": "code",
   "execution_count": null,
   "id": "33fe1868",
   "metadata": {},
   "outputs": [],
   "source": [
    "#otro ejemplo:\n",
    "f = lambda x: x**2 + 4\n",
    "print(\"2**2 + 4 =\",f(2))"
   ]
  },
  {
   "cell_type": "markdown",
   "id": "0ab3a3a1",
   "metadata": {},
   "source": [
    "Esto es equivalente a escribir:\n",
    "\n",
    "    def f(x):\n",
    "        return x**2 + 4\n",
    "\n",
    "En general:\n",
    "\n",
    "    def g(arg1, arg2, arg3, ...):\n",
    "        return operacion\n",
    "\n",
    "Se puede escribir como:\n",
    "\n",
    "    g = lambda arg1, arg2, arg3,...: operacion\n"
   ]
  },
  {
   "cell_type": "markdown",
   "id": "d1bee472",
   "metadata": {},
   "source": [
    "Las funciones anónimas (llamadas funciones lambda) suelen ser funciones sencillas de una sola línea por lo que escribir una función lambda es más sencillo que definir una función completa. Su uso típico es en combinación con los BIFs `map` y `filter`."
   ]
  },
  {
   "cell_type": "markdown",
   "id": "4ddff529",
   "metadata": {},
   "source": [
    "### map\n",
    "La función `map` permite afectar por una operación a todos los valores de una lista. Por ejemplo, considere que tiene una lista de valores que quiere afectar por una operación, como duplicar el valor de cada elemento."
   ]
  },
  {
   "cell_type": "code",
   "execution_count": null,
   "id": "995a22ab",
   "metadata": {
    "scrolled": true
   },
   "outputs": [],
   "source": [
    "lista = [1,2,3,4,5]\n",
    "\n",
    "for i in range(len(lista)):\n",
    "    lista[i]=lista[i]*2\n",
    "    \n",
    "print(lista)"
   ]
  },
  {
   "cell_type": "markdown",
   "id": "3aa9f68d",
   "metadata": {},
   "source": [
    "Esto mismo se puede realizar con la función `map` que tiene la siguiente descripción:\n",
    "\n",
    "    map(func, list)\n",
    "    \n",
    "donde `func` será una función que realiza alguna operación y `list` será la lista cuyos elementos serán afectados por esta operación. La función `map` retorna una \"objeto mapa\" que contendrá las operaciones a realizar a cada uno de los elementos, por lo que si se requiere tener nuevamente una lista con los valores actualizados por la operación, hay que convertir ese mapa en una lista.\n",
    "\n",
    "Por lo tanto, el ejemplo anterior se puede resolver con la siguiente instrucción:"
   ]
  },
  {
   "cell_type": "code",
   "execution_count": null,
   "id": "053f5e00",
   "metadata": {},
   "outputs": [],
   "source": [
    "lista = [1,2,3,4,5]\n",
    "lista = list(map(lambda x:2*x,lista))\n",
    "print(lista)"
   ]
  },
  {
   "cell_type": "markdown",
   "id": "6673985e",
   "metadata": {},
   "source": [
    "El mapeo tambien se puede usar con una función con nombre. Por ejemplo la función *es_primo* creada celdas arriba."
   ]
  },
  {
   "cell_type": "code",
   "execution_count": null,
   "id": "eb2326f0",
   "metadata": {},
   "outputs": [],
   "source": [
    "numeros = [5, 11, 45, 60, 13, 56, 21, 7, 18, 33, 23]\n",
    "\n",
    "primos = list(map(es_primo,numeros))\n",
    "print(primos)"
   ]
  },
  {
   "cell_type": "markdown",
   "id": "4193f3b3",
   "metadata": {},
   "source": [
    "Retomemos el caso de la función de conversión de grados utilizando la función *map*. Esta función permite modificar todos los elementos de una lista por una función de la forma:\n",
    "\n",
    "    map(funcion, lista)\n",
    "    \n",
    "En este caso, se utilizará la función lambda:\n",
    "\n",
    "     lambda C: (9.0/5) * C + 32\n",
    "\n",
    "Para que afecte a cada valor de la lista gradosC:"
   ]
  },
  {
   "cell_type": "code",
   "execution_count": null,
   "id": "d9562c8a",
   "metadata": {},
   "outputs": [],
   "source": [
    "# Se crea una lista de grados centigrados entre 0 y 100 en pasos de 5\n",
    "gradosC = list(range(0,101,5))\n",
    "\n",
    "# Se crea una lista con sus equivalente de grados Fahrenheit sin recurrir a un lazo\n",
    "gradosF = list(map(lambda C: (9.0/5) * C + 32, gradosC))\n",
    "\n",
    "# Se imprimen los resultados\n",
    "for gC, gF in zip(gradosC, gradosF):\n",
    "    print(\"{:3}°C -> {:4.1f}F\".format(gC, gF))"
   ]
  },
  {
   "cell_type": "markdown",
   "id": "31c3d3c8",
   "metadata": {},
   "source": [
    "### filter\n",
    "La función `filter` permite filtrar los valores de una lista tomando una condición como elemento de exclusión. Por ejemplo, considere que tiene una lista de valores numéricos y desea conservar en la misma lista los valores que sean pares:"
   ]
  },
  {
   "cell_type": "code",
   "execution_count": null,
   "id": "8834eb86",
   "metadata": {},
   "outputs": [],
   "source": [
    "lista = [1,2,3,4,5,6,7,8,9,10]\n",
    "\n",
    "i=0\n",
    "while i<len(lista):\n",
    "    if lista[i]%2!=0:\n",
    "        lista.pop(i)\n",
    "    i+=1\n",
    "print(lista)"
   ]
  },
  {
   "cell_type": "markdown",
   "id": "4c9139b3",
   "metadata": {},
   "source": [
    "Esto mismo se puede realizar con la función `filter` que tiene la siguiente descripción:\n",
    "\n",
    "    filter(func, list)\n",
    "    \n",
    "donde `func` será una función que retornará un valor booleano y `list` será la lista cuyos elementos serán removidos si no cumplen con la condición de la función. La función `filter` retorna una \"objeto filter\" que contendrá una secuencia de True y False según cumplan o no la condición, por lo que si se requiere tener la lista de valores que cumplen con la condición, hay que convertír este filtro a una lista.\n",
    "\n",
    "Por lo tanto, el ejemplo anterior se puede resolver con la siguiente instrucción:"
   ]
  },
  {
   "cell_type": "code",
   "execution_count": null,
   "id": "c6066b9e",
   "metadata": {},
   "outputs": [],
   "source": [
    "lista = [1,2,3,4,5,6,7,8,9,10]\n",
    "\n",
    "lista = list(filter(lambda x:x%2==0,lista))\n",
    "print(lista)"
   ]
  },
  {
   "cell_type": "markdown",
   "id": "7aca8401",
   "metadata": {},
   "source": [
    "El filtraje tambien se puede usar con una función con nombre. Por ejemplo la función *es_primo* creada celdas arriba."
   ]
  },
  {
   "cell_type": "code",
   "execution_count": null,
   "id": "b02590f2",
   "metadata": {},
   "outputs": [],
   "source": [
    "numeros = [5, 11, 45, 60, 13, 56, 21, 7, 18, 33, 23]\n",
    "\n",
    "primos = list(filter(es_primo,numeros))\n",
    "print(primos)"
   ]
  },
  {
   "cell_type": "markdown",
   "id": "9f717c93",
   "metadata": {},
   "source": [
    "Las funciones *lambda* en combinación con las funciones *map* y *filter*, eliminan lazos e instrucciones condicionales, haciendo que el código sea mas *\"Pythonico\"*"
   ]
  },
  {
   "cell_type": "markdown",
   "id": "d271b4dc",
   "metadata": {},
   "source": [
    "### Variables locales y globales"
   ]
  },
  {
   "cell_type": "markdown",
   "id": "ddeb7404",
   "metadata": {},
   "source": [
    "Cuando se define una función se especifican operaciones que utilizan variables que solo tienen existencia en el interior de la función. Esto significa que las variables de una función tienen *alcance local*. Por ejemplo:"
   ]
  },
  {
   "cell_type": "code",
   "execution_count": null,
   "id": "5d936888",
   "metadata": {},
   "outputs": [],
   "source": [
    "nombre = \"Elvio\"\n",
    "\n",
    "def cambia_nombre():\n",
    "    nombre = \"Elsa\"\n",
    "\n",
    "cambia_nombre()"
   ]
  },
  {
   "cell_type": "markdown",
   "id": "3beaff72",
   "metadata": {},
   "source": [
    "Si llama a la función `cambia_nombre()` (note que no tiene argumentos o parametros de entrada), ¿cual será el valor de la variable `nombre`?"
   ]
  },
  {
   "cell_type": "code",
   "execution_count": null,
   "id": "13dc89a6",
   "metadata": {},
   "outputs": [],
   "source": [
    "print(nombre)"
   ]
  },
  {
   "cell_type": "markdown",
   "id": "d981e31a",
   "metadata": {},
   "source": [
    "La variable `nombre` con el valor \"Elvio\" esta fuera de la función; la variable `nombre` con el valor \"Elsa\" esta dentro de la función y tiene alcance local, es decir, que solo existe en el interior de la función. Cuando la función termina, la variable local `nombre` deja de existír.\n",
    "\n",
    "Note otra cosa: la función no tiene la instrucción `return`. Cuando esto sucede, Python ejecutará automáticamente la instrucción `return None`.\n",
    "\n",
    "Se puede modificar el alcance de una variable con la palabra reservada `global`. Esto hace que una variable este disponible tanto dentro como fuera de una función."
   ]
  },
  {
   "cell_type": "code",
   "execution_count": null,
   "id": "ce691f93",
   "metadata": {},
   "outputs": [],
   "source": [
    "nombre = \"Elvio\"\n",
    "\n",
    "def cambia_nombre():\n",
    "    global nombre\n",
    "    nombre = \"Elsa\"\n",
    "\n",
    "cambia_nombre()\n",
    "\n",
    "print(nombre)"
   ]
  },
  {
   "cell_type": "code",
   "execution_count": null,
   "id": "076ac7b0",
   "metadata": {},
   "outputs": [],
   "source": [
    "#otro ejemplo:\n",
    "\n",
    "x = 11\n",
    "\n",
    "def calculaOperacion():\n",
    "    x=3    #x es una variable local de la función\n",
    "    x = x + 5\n",
    "    print(x)\n",
    "\n",
    "    \n",
    "calculaOperacion()  #cuando termine la ejecución de la función \n",
    "                    #su vble. local x se destruye\n",
    "\n",
    "print(x) #aca se reconoce a la vble x creada en la primera línea"
   ]
  },
  {
   "cell_type": "code",
   "execution_count": null,
   "id": "f1e0f9ad",
   "metadata": {},
   "outputs": [],
   "source": [
    "#otro ejemplo:\n",
    "\n",
    "def calculaOperacion():\n",
    "    z=3   #z es una variable local de la función\n",
    "    return z*3\n",
    "\n",
    "c = calculaOperacion()\n",
    "print(c)\n",
    "print(z) #error porque z no existe fuera de la función"
   ]
  },
  {
   "cell_type": "markdown",
   "id": "8b3f0106",
   "metadata": {},
   "source": [
    "### La regla LEGB: Local, Enclosing, Global, Built-In\n",
    "La definicion de \"alcance\" de una variable en Python se resume con la regla LEGB.\n",
    "\n",
    "- Primero, se utiliza una variable dentro del ámbito local\n",
    "- Luego, se utiliza una variable que esté dentro de un bloque al que pertenece la instrucción\n",
    "- Luego, se utiliza una variable en el script de forma global\n",
    "- Al final, se busca en los BIFs de Python.\n",
    "\n",
    "Considere el siguiente ejemplo:"
   ]
  },
  {
   "cell_type": "code",
   "execution_count": null,
   "id": "d60ace5b",
   "metadata": {},
   "outputs": [],
   "source": [
    "var = \"var global\"\n",
    "\n",
    "def fun_externa():\n",
    "    var = \"var externa\"   # (2) Comente esta linea\n",
    "    \n",
    "    def fun_interna():\n",
    "        var = \"var interna\"   # (1) Comente esta linea\n",
    "        print(var)\n",
    "    \n",
    "    fun_interna()\n",
    "    print(var)\n",
    "    \n",
    "fun_externa()"
   ]
  },
  {
   "cell_type": "markdown",
   "id": "97cff907",
   "metadata": {},
   "source": [
    "Puede ver que si ejecuta el script anterior se mostrará que ambas funciones imprimen sus variables locales.\n",
    "\n",
    "Si se comenta la línea (1) la funcion `fun_interna` imprime una variable que ya no esta definida, por lo que busca la variable que este dentro del bloque donde se encuentra y por lo tanto imprimirá \"var_externa\" dos veces.\n",
    "\n",
    "Si comenta a su vez la línea (2) tanto la función `fun_interna` como `fun_externa` ya no tienen variables locales, por lo que utilizarán la variable del script que es la variable global, es decir se mostrará dos veces la impresión \"var_global\".\n",
    "\n",
    "¿Qué pasará si solo comenta la línea (2)? Tiene sentido el resultado?\n",
    "\n",
    "Los BIFs de Python son las funciones de Python definidas en la biblioteca estandar. Estas setán agrupadas en una librería llamada `builtins`:"
   ]
  },
  {
   "cell_type": "code",
   "execution_count": null,
   "id": "5c45f0ec",
   "metadata": {
    "scrolled": false
   },
   "outputs": [],
   "source": [
    "import builtins\n",
    "\n",
    "dir(builtins)"
   ]
  },
  {
   "cell_type": "markdown",
   "id": "37b638a0",
   "metadata": {},
   "source": [
    "Puede reconocer en esta lista funciones como `print`, `sum`, `len`, `min`, `max`, etc. Estas __no__ pueden ser utilizadas como nombre de variables o funciones ya que son parte de la regla de alcance de una variable. Por ejemplo:"
   ]
  },
  {
   "cell_type": "code",
   "execution_count": null,
   "id": "1fcac2ec",
   "metadata": {},
   "outputs": [],
   "source": [
    "def min():\n",
    "    pass\n",
    "\n",
    "lista = [12, 15, 26, 72, 33]\n",
    "print(min(lista))"
   ]
  },
  {
   "cell_type": "markdown",
   "id": "febe1b59",
   "metadata": {},
   "source": [
    "Al interntar mostrar el valor mínimo de una lista, el error nos indica que \"min no tiene argumentos y le hemos pasado uno\". Esto indica que estamos intentando llamar a la función \"min\" que hemos escrito y no al BIF `min`. Con esta acción ya \"deshabilitamos la función `min` (intente borrar o comentar la función \"min\". No funcionará). Debemos eliminar la definición de nuestra función \"min\" para que Python pueda volver a reconocer el BIF `min`:"
   ]
  },
  {
   "cell_type": "code",
   "execution_count": null,
   "id": "86274ebf",
   "metadata": {},
   "outputs": [],
   "source": [
    "del(min)"
   ]
  },
  {
   "cell_type": "code",
   "execution_count": null,
   "id": "76472a81",
   "metadata": {},
   "outputs": [],
   "source": [
    "lista = [12, 15, 26, 72, 33]\n",
    "print(min(lista))"
   ]
  },
  {
   "cell_type": "markdown",
   "id": "5620dc92",
   "metadata": {},
   "source": [
    "Asi que hay que mantenerse alejado de las palabras reservadas de Python y los BIF tanto para el nombre de las variables como para el nombre de las funciones. El editor de codigo ayuda en este proceso pues a ambas les asigna un color específico (en este caso, el verde) para distinguirlas."
   ]
  },
  {
   "cell_type": "markdown",
   "id": "9fdf879a",
   "metadata": {},
   "source": [
    "Ideas clave:\n",
    "\n",
    "* Las funciones son scripts autocontenidos que pueden tomar datos de entrada para retornar datos de salida\n",
    "* La programación estructurada toma un proyecto y lo separa en sus partes constituyentes, independientes entre si.\n",
    "* Utilizar funciones en un script sigue la estrategia \"divide y vencerás\" para resolver problemas complejos\n",
    "\n",
    "Informacion:\n",
    "* https://devcode.la/tutoriales/funciones-en-python/\n",
    "* https://book.pythontips.com/en/latest/map_filter.html\n",
    "* https://www.w3schools.com/python/python_functions.asp\n",
    "\n",
    "---"
   ]
  },
  {
   "cell_type": "code",
   "execution_count": null,
   "id": "0b120af1",
   "metadata": {},
   "outputs": [],
   "source": []
  }
 ],
 "metadata": {
  "kernelspec": {
   "display_name": "Python 3 (ipykernel)",
   "language": "python",
   "name": "python3"
  },
  "language_info": {
   "codemirror_mode": {
    "name": "ipython",
    "version": 3
   },
   "file_extension": ".py",
   "mimetype": "text/x-python",
   "name": "python",
   "nbconvert_exporter": "python",
   "pygments_lexer": "ipython3",
   "version": "3.9.7"
  }
 },
 "nbformat": 4,
 "nbformat_minor": 5
}
