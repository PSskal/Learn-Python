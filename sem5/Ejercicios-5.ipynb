{
 "cells": [
  {
   "cell_type": "markdown",
   "metadata": {},
   "source": [
    "# Hoja de Ejercicios 5"
   ]
  },
  {
   "cell_type": "markdown",
   "metadata": {},
   "source": [
    "### ** Ejercicio 1**\n",
    "Esciba un programa que pida al usuario que ingrese una frase y retorne un estadistica de numero de vocales que tiene la frase:\n",
    "\n",
    "Ejemplo de ejecución:\n",
    "\n",
    "    Ingrese una frase: Este verano ha habido mucho sol\n",
    "    \n",
    "    A : 3\n",
    "    E: 3\n",
    "    I: 1\n",
    "    O: 3\n",
    "    U: 1"
   ]
  },
  {
   "cell_type": "code",
   "execution_count": null,
   "metadata": {},
   "outputs": [],
   "source": [
    "#escriba su programa aquí:\n",
    "\n"
   ]
  },
  {
   "cell_type": "markdown",
   "metadata": {},
   "source": [
    "### **Ejercicio 2**\n",
    "Escriba una funcion que invierta una cadena. Utilice esta funcion en un programa que pida al usuario una frase y retorne la frase invetida:\n",
    "\n",
    "    Ingrese una frase: Se lee de izquierda a derecha\n",
    "    Frase invertida: ahcered a adreiuqzi ed eel eS"
   ]
  },
  {
   "cell_type": "code",
   "execution_count": null,
   "metadata": {},
   "outputs": [],
   "source": [
    "def invierte_texto(texto):\n",
    "    pass  #quite el pass y escriba el programa de la función\n",
    "   \n",
    "\n",
    "\n",
    "#######################################\n",
    "texto = input(\"Ingrese una frase: \")\n",
    "print(\"Frase invertida:\", invierte_texto(texto))"
   ]
  },
  {
   "cell_type": "markdown",
   "metadata": {},
   "source": [
    "### **Ejercicio 3**\n",
    "Escriba una funcion que evalue si una frase es palindroma (es decir, si se puede leer igual de derecha o izquierda que en sentido inverso). Utilice esta funcion en un programa que pida al usuario una frase y diga si es palíndroma o no.\n",
    "\n",
    "Hay muchos ejemplos de frases palindromas (ver este [link] (https://es.wikipedia.org/wiki/Pal%C3%ADndromo))"
   ]
  },
  {
   "cell_type": "code",
   "execution_count": null,
   "metadata": {},
   "outputs": [],
   "source": [
    "def es_palindromo(texto):\n",
    "    pass  #quite el pass y escriba el programa de la función\n",
    "\n",
    "\n",
    "############################################################\n",
    "texto = input(\"Ingrese una palabra o texto: \")\n",
    "if es_palindromo():\n",
    "    print(\"El texto o palabra ingresada es palindromo\")\n",
    "    print(\"Invertido: \", invierte_texto(texto))\n",
    "else:\n",
    "    print(\"El texto ingresado no es palindromo\")"
   ]
  },
  {
   "cell_type": "markdown",
   "metadata": {},
   "source": [
    "### **Ejercicio 4**\n",
    "Escriba una funcion que cuente cuentas palabras estan contenidas en una frase ingresada por un usuario. Utilice esta funcion en un programa que pida un texto e indique cuantas palabras tiene."
   ]
  },
  {
   "cell_type": "code",
   "execution_count": null,
   "metadata": {},
   "outputs": [],
   "source": [
    "def num_palabras(texto):\n",
    "    pass #quite el pass y escriba el programa de la función\n",
    " \n",
    "\n",
    "################################################################\n",
    "frase = input(\"Ingrese un texto: \")\n",
    "print(\"El texto contiene\", num_palabras(frase), \"palabras\")"
   ]
  },
  {
   "cell_type": "markdown",
   "metadata": {},
   "source": [
    "### **Ejercicio 5**\n",
    "Escriba un programa que pida al usuario su direccion de correo electronico. Debe de validar que el correo electronico sea correcto (nombre@dominio):\n",
    "* Debe contener el caracter \"@\"\n",
    "* Sin embargo, el caracter \"@\" no puede ser el primero ni el último\n",
    "* Debe de contener por lo menos un \".\" entre el caracter \"@\" y el final de la direccion de correo (el dominio)\n",
    "* Aunque el caracter \".\" no puede ser el inicial ni el final\n",
    "* Ademas, no puede contener puntos consecutivos (\"..\" o \"...\")\n",
    "* Solo puede contener letras en ingles\n",
    "* La dirección de correo no puede contener espacios en blanco\n",
    "\n",
    "¡Son muchas validaciones! Vaya implementandolas en una funcion y vaya agregando validaciones mientras va avanzando con las pruebas hasta tener una funcion completa. (Puede ver mas detalles del estadar RFC 5322 [en este link](https://en.wikipedia.org/wiki/Email_address)) "
   ]
  },
  {
   "cell_type": "code",
   "execution_count": null,
   "metadata": {},
   "outputs": [],
   "source": [
    "def valida_email(email):\n",
    "    '''\n",
    "    Funcion que valida si una cadena que contiene una direccion de correo electronico\n",
    "    tiene el formato correcto\n",
    "    '''\n",
    "    pass #quite el pass y escriba el programa de la función\n",
    "\n",
    "\n",
    "##############################################\n",
    "entrada_valida = False\n",
    "\n",
    "while not entrada_valida:\n",
    "    email = input(\"Ingrese su correo electronico: \")\n",
    "    if valida_email:\n",
    "        entrada_valida = True\n",
    "    else:\n",
    "        print(\"El formato de la direccion de correo no es valido. Intene nuevamente\\n\")"
   ]
  }
 ],
 "metadata": {
  "kernelspec": {
   "display_name": "Python 3 (ipykernel)",
   "language": "python",
   "name": "python3"
  },
  "language_info": {
   "codemirror_mode": {
    "name": "ipython",
    "version": 3
   },
   "file_extension": ".py",
   "mimetype": "text/x-python",
   "name": "python",
   "nbconvert_exporter": "python",
   "pygments_lexer": "ipython3",
   "version": "3.9.7"
  }
 },
 "nbformat": 4,
 "nbformat_minor": 2
}
