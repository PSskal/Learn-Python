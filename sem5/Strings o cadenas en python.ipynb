{
 "cells": [
  {
   "cell_type": "markdown",
   "metadata": {},
   "source": [
    "# Strings o cadenas en Python\n",
    "\n",
    "<div style=\"text-align: right\">Autor: Luis A. Muñoz - 2021 </div>"
   ]
  },
  {
   "cell_type": "markdown",
   "metadata": {},
   "source": [
    "Un string o cadena es una secuencia de caracteres (aunque esta secuencia tenga un solo caracter o cero caracteres, como una cadena vacia \"\") la cual puede ser especificada utilizando comillas dobles, simples o inclusive triple comilla.\n",
    "\n",
    "Un string también es un contenedor o una colección como lo son las listas y tuplas, pero que solo puede almacenar caracteres"
   ]
  },
  {
   "cell_type": "code",
   "execution_count": 1,
   "metadata": {},
   "outputs": [
    {
     "name": "stdout",
     "output_type": "stream",
     "text": [
      "Soy un string\n",
      "Tambien soy un string\n",
      "Y yo tambien soy      \n",
      "      un string\n",
      "Y pos supuesto \n",
      "    yo tambien\n",
      "g\n",
      "\n",
      "<class 'str'>\n"
     ]
    }
   ],
   "source": [
    "#creando strings (cadenas):\n",
    "\n",
    "cad1 = \"Soy un string\"\n",
    "cad2 = 'Tambien soy un string'\n",
    "cad3 = \"\"\"Y yo tambien soy      \n",
    "      un string\"\"\"\n",
    "cad4 = '''Y pos supuesto \n",
    "    yo tambien'''  \n",
    "cad5 = 'g'  #cadena de un solo caracter (no existe tipo char)\n",
    "cad6 = '' #cadena vacía (0 caracteres)\n",
    "\n",
    "print(cad1)\n",
    "print(cad2)\n",
    "print(cad3)\n",
    "print(cad4)\n",
    "print(cad5)\n",
    "print(cad6)\n",
    "print(type(cad6)) #observando el tipo de una de las cadenas"
   ]
  },
  {
   "cell_type": "markdown",
   "metadata": {},
   "source": [
    "Recuerde que No existe diferencia entre utilizar \"\" o '' aunque si en los casos de triple comilla, ya que aqui se define un bloque string con formato incluido. Por ejemplo:"
   ]
  },
  {
   "cell_type": "code",
   "execution_count": 6,
   "metadata": {},
   "outputs": [
    {
     "name": "stdout",
     "output_type": "stream",
     "text": [
      "Esto se imprimira en una linea\n",
      "y esto en la segunda linea\n"
     ]
    }
   ],
   "source": [
    "print(\"\"\"Esto se imprimira en una linea\n",
    "y esto en la segunda linea\"\"\")"
   ]
  },
  {
   "cell_type": "markdown",
   "metadata": {},
   "source": [
    "Ojo: Esto, con una sola comilla, generará un error:"
   ]
  },
  {
   "cell_type": "code",
   "execution_count": 6,
   "metadata": {},
   "outputs": [
    {
     "ename": "SyntaxError",
     "evalue": "EOL while scanning string literal (<ipython-input-6-bb7e29c1dd87>, line 1)",
     "output_type": "error",
     "traceback": [
      "\u001b[1;36m  File \u001b[1;32m\"<ipython-input-6-bb7e29c1dd87>\"\u001b[1;36m, line \u001b[1;32m1\u001b[0m\n\u001b[1;33m    print(\"Y yo tambien soy\u001b[0m\n\u001b[1;37m                                 ^\u001b[0m\n\u001b[1;31mSyntaxError\u001b[0m\u001b[1;31m:\u001b[0m EOL while scanning string literal\n"
     ]
    }
   ],
   "source": [
    "print(\"Y yo tambien soy      \n",
    "      un string\")  "
   ]
  },
  {
   "cell_type": "markdown",
   "metadata": {},
   "source": [
    "Aunque se puede utilizar el caracter de escape \\ para indicar que la instrucción continúa en la línea de abajo, pero la impresión se mantiene en la misma línea porque no existe un caracter de escape de nueva línea (como \\n)."
   ]
  },
  {
   "cell_type": "code",
   "execution_count": 7,
   "metadata": {},
   "outputs": [
    {
     "name": "stdout",
     "output_type": "stream",
     "text": [
      "Esto se imprimirá en una linea y esto también\n"
     ]
    }
   ],
   "source": [
    "print(\"Esto se imprimirá en una linea \\\n",
    "y esto también\")"
   ]
  },
  {
   "cell_type": "markdown",
   "metadata": {},
   "source": [
    "### Indexación en cadenas:"
   ]
  },
  {
   "cell_type": "markdown",
   "metadata": {},
   "source": [
    "Las cadenas son tipos de datos que son indexables, es decir que al igual que las tuplas y listas, soportan índices e index slicing. Revise las siguientes instrucciones y evalúe los resultados obtenidos:"
   ]
  },
  {
   "cell_type": "code",
   "execution_count": 4,
   "metadata": {},
   "outputs": [
    {
     "name": "stdout",
     "output_type": "stream",
     "text": [
      "Las cadenas en Python son facil de entender\n",
      "Primera letra: a\n",
      "Ultima letra: r\n",
      "Lenguaje de programacion: Python\n",
      "Ultima palabra: entender\n",
      "Primera palabra: La\n"
     ]
    }
   ],
   "source": [
    "#ejemplos:\n",
    "\n",
    "texto = \"Las cadenas en Python son facil de entender\"\n",
    "print(texto)\n",
    "\n",
    "# Puedo obtener la primea letra de la cadena\n",
    "print(\"Primera letra:\", texto[1])\n",
    "\n",
    "# O puedo obtener la ultima letra\n",
    "print(\"Ultima letra:\", texto[-1])\n",
    "\n",
    "# O puedo obtener un extracto de la cadena\n",
    "print(\"Lenguaje de programacion:\", texto[15:21])\n",
    "\n",
    "# Y no es necesario especificar el final si es hasta el final de la cadena\n",
    "print(\"Ultima palabra:\", texto[-8:])\n",
    "\n",
    "# Y asi tampoco especificar el inicio si es desde es desde el inicio de la cadena\n",
    "print(\"Primera palabra:\",texto[:2])"
   ]
  },
  {
   "cell_type": "code",
   "execution_count": 5,
   "metadata": {},
   "outputs": [
    {
     "name": "stdout",
     "output_type": "stream",
     "text": [
      "S\n",
      "a\n",
      "Soy un tex\n",
      "S  x  ua\n"
     ]
    }
   ],
   "source": [
    "#otros ejemplos:\n",
    "\n",
    "texto = \"Soy un texto de prueba\"\n",
    "\n",
    "print(texto[0])\n",
    "print(texto[-1])\n",
    "print(texto[:10])\n",
    "print(texto[::3])"
   ]
  },
  {
   "cell_type": "markdown",
   "metadata": {},
   "source": [
    "### ¿Las cadenas son mutables o inmutables?"
   ]
  },
  {
   "cell_type": "markdown",
   "metadata": {},
   "source": [
    "Una característica importante a considerar es que los string __son inmutables__: "
   ]
  },
  {
   "cell_type": "code",
   "execution_count": 2,
   "metadata": {},
   "outputs": [
    {
     "ename": "NameError",
     "evalue": "name 'texto' is not defined",
     "output_type": "error",
     "traceback": [
      "\u001b[1;31m---------------------------------------------------------------------------\u001b[0m",
      "\u001b[1;31mNameError\u001b[0m                                 Traceback (most recent call last)",
      "\u001b[1;32m~\\AppData\\Local\\Temp/ipykernel_1972/3073257373.py\u001b[0m in \u001b[0;36m<module>\u001b[1;34m\u001b[0m\n\u001b[1;32m----> 1\u001b[1;33m \u001b[0mtexto\u001b[0m\u001b[1;33m[\u001b[0m\u001b[1;36m0\u001b[0m\u001b[1;33m]\u001b[0m \u001b[1;33m=\u001b[0m \u001b[1;34m's'\u001b[0m\u001b[1;33m\u001b[0m\u001b[1;33m\u001b[0m\u001b[0m\n\u001b[0m",
      "\u001b[1;31mNameError\u001b[0m: name 'texto' is not defined"
     ]
    }
   ],
   "source": [
    "texto[0] = 's'"
   ]
  },
  {
   "cell_type": "markdown",
   "metadata": {},
   "source": [
    "El error que arroja el intérprete de Python es el mismo que se obtenía al intentar asignar un valor a un elemento de una tupla: este objeto no soporta asignación de items."
   ]
  },
  {
   "cell_type": "markdown",
   "metadata": {},
   "source": [
    "### Iterabilidad de una cadena"
   ]
  },
  {
   "cell_type": "markdown",
   "metadata": {},
   "source": [
    "Por otro lado, un string es un *iterable*, es decir que puede formar parte de un lazo `for` y por lo tanto; en cada iteración retornará cada uno de sus caracteres (incluyendo los espacios en blanco: también son caracteres)."
   ]
  },
  {
   "cell_type": "code",
   "execution_count": 3,
   "metadata": {},
   "outputs": [
    {
     "name": "stdout",
     "output_type": "stream",
     "text": [
      "S\n",
      "o\n",
      "y\n",
      " \n",
      "u\n",
      "n\n",
      " \n",
      "t\n",
      "e\n",
      "x\n",
      "t\n",
      "o\n",
      " \n",
      "d\n",
      "e\n",
      " \n",
      "p\n",
      "r\n",
      "u\n",
      "e\n",
      "b\n",
      "a\n"
     ]
    }
   ],
   "source": [
    "texto = \"Soy un texto de prueba\"\n",
    "\n",
    "for char in texto:\n",
    "    print(char)"
   ]
  },
  {
   "cell_type": "code",
   "execution_count": 60,
   "metadata": {},
   "outputs": [
    {
     "name": "stdout",
     "output_type": "stream",
     "text": [
      "P\n",
      "Y\n",
      "T\n",
      "H\n",
      "O\n",
      "N\n"
     ]
    }
   ],
   "source": [
    "#otro ejemplo:\n",
    "\n",
    "for  car in \"PYTHON\":\n",
    "    print(car)"
   ]
  },
  {
   "cell_type": "markdown",
   "metadata": {},
   "source": [
    "### Operaciones y funciones útiles con strings"
   ]
  },
  {
   "cell_type": "markdown",
   "metadata": {},
   "source": [
    "Los strings soportan los operadores `+` y `*`:"
   ]
  },
  {
   "cell_type": "markdown",
   "metadata": {},
   "source": [
    "El operador + permite concatenar 2 o mas strings dando como resultado otro string"
   ]
  },
  {
   "cell_type": "code",
   "execution_count": 6,
   "metadata": {},
   "outputs": [
    {
     "name": "stdout",
     "output_type": "stream",
     "text": [
      "Perú-Chile-Brasil\n"
     ]
    }
   ],
   "source": [
    "cad1 = \"Perú\"\n",
    "cad2 = \"Chile-Brasil\"\n",
    "cad3 = cad1 + \"-\" + cad2\n",
    "print(cad3)"
   ]
  },
  {
   "cell_type": "code",
   "execution_count": 11,
   "metadata": {},
   "outputs": [
    {
     "name": "stdout",
     "output_type": "stream",
     "text": [
      "gracias por estudiar python, un lenguaje interesante\n"
     ]
    }
   ],
   "source": [
    "# Puedo actualizar una cadena:\n",
    "texto = \"\"\n",
    "texto+=\"gracias por estudiar python\"\n",
    "texto+=\", un lenguaje interesante\"\n",
    "print(texto)"
   ]
  },
  {
   "cell_type": "markdown",
   "metadata": {},
   "source": [
    "El operador * permite concatenar un string consigo mismo tantas veces lo indique el factor entero, formándose un nuevo string con el resultado"
   ]
  },
  {
   "cell_type": "code",
   "execution_count": 1,
   "metadata": {},
   "outputs": [
    {
     "name": "stdout",
     "output_type": "stream",
     "text": [
      "Arriba Perú Arriba Perú Arriba Perú Arriba Perú Arriba Perú \n"
     ]
    }
   ],
   "source": [
    "#ejemplo:\n",
    "\n",
    "cad = \"Arriba Perú \"\n",
    "res = cad*5\n",
    "print(res)"
   ]
  },
  {
   "cell_type": "code",
   "execution_count": 15,
   "metadata": {},
   "outputs": [
    {
     "name": "stdout",
     "output_type": "stream",
     "text": [
      "Python es genial en cambio C++ puede ser ZZZzzz...\n"
     ]
    }
   ],
   "source": [
    "#un ejemplo combinado:\n",
    "\n",
    "texto = \"Python es genial en cambio C++ puede ser \" + \"Z\" * 3 + \"z\" * 3 + \".\" * 3\n",
    "print(texto)"
   ]
  },
  {
   "cell_type": "markdown",
   "metadata": {},
   "source": [
    "### Algunas funciones BIF importantes para cadenas:"
   ]
  },
  {
   "cell_type": "markdown",
   "metadata": {},
   "source": [
    "La función `len()` permite conocer el número de caracteres de un string (de forma semejante al número de elementos de una tupla/lista). "
   ]
  },
  {
   "cell_type": "code",
   "execution_count": 24,
   "metadata": {},
   "outputs": [
    {
     "name": "stdout",
     "output_type": "stream",
     "text": [
      "21\n"
     ]
    }
   ],
   "source": [
    "#ejemplo:\n",
    "tam=len(\"Hola Mundo soy Python\") #ojo, cuenta tambien los espacios\n",
    "print(tam) "
   ]
  },
  {
   "cell_type": "markdown",
   "metadata": {},
   "source": [
    "Otro ejemplo: Se puede subrayar un texto de forma interactiva:"
   ]
  },
  {
   "cell_type": "code",
   "execution_count": 115,
   "metadata": {},
   "outputs": [
    {
     "name": "stdout",
     "output_type": "stream",
     "text": [
      "Mensaje a Subrayar\n",
      "==================\n"
     ]
    }
   ],
   "source": [
    "titulo = \"Mensaje a Subrayar\"\n",
    "print(titulo)\n",
    "print(\"=\"*len(titulo))"
   ]
  },
  {
   "cell_type": "markdown",
   "metadata": {},
   "source": [
    "La función *sorted()* retorna una lista con los caracteres de la cadena enviada como argumento, pero ordenados alfabéticamente"
   ]
  },
  {
   "cell_type": "code",
   "execution_count": 17,
   "metadata": {},
   "outputs": [
    {
     "data": {
      "text/plain": [
       "[' ', 'H', 'J', 'a', 'a', 'l', 'n', 'o', 'u']"
      ]
     },
     "execution_count": 17,
     "metadata": {},
     "output_type": "execute_result"
    }
   ],
   "source": [
    "sorted(\"Hola Juan\")"
   ]
  },
  {
   "cell_type": "markdown",
   "metadata": {},
   "source": [
    "En el ejemplo anterior, dado que en la cadena enviada no todos los caracteres son letras y ademas\n",
    "no todas las letras son solo minúsculas o máyusculas se hace un ordenamiento por grupos"
   ]
  },
  {
   "cell_type": "markdown",
   "metadata": {},
   "source": [
    "También se puede usar la función *enumerate* para cadenas:"
   ]
  },
  {
   "cell_type": "code",
   "execution_count": 57,
   "metadata": {},
   "outputs": [
    {
     "name": "stdout",
     "output_type": "stream",
     "text": [
      "0 P\n",
      "1 y\n",
      "2 t\n",
      "3 h\n",
      "4 o\n",
      "5 n\n"
     ]
    }
   ],
   "source": [
    "for indice,car in enumerate(\"Python\"):\n",
    "    print(indice,car)"
   ]
  },
  {
   "cell_type": "markdown",
   "metadata": {},
   "source": [
    "También se puede usar la función *zip* para cadenas:"
   ]
  },
  {
   "cell_type": "code",
   "execution_count": 59,
   "metadata": {},
   "outputs": [
    {
     "name": "stdout",
     "output_type": "stream",
     "text": [
      "P 0\n",
      "y 1\n",
      "t 2\n",
      "h 3\n",
      "o 4\n"
     ]
    }
   ],
   "source": [
    "for c1,c2 in zip(\"Python\",\"01234\"):\n",
    "    print(c1,c2)"
   ]
  },
  {
   "cell_type": "markdown",
   "metadata": {},
   "source": [
    "### Importante saber:"
   ]
  },
  {
   "cell_type": "markdown",
   "metadata": {},
   "source": [
    "Los caracteres son almacenados en un sistema informático como valores enteros que representan un número binario de 8 bits cada uno (1 byte), dichos caracteres están especificados en la codificación ASCII. Sin embargo, no solo en el mundo existe el idioma español y el inglés, existe el chino, ruso, árabe, etc. por lo que hay una codificación mas amplia que el ASCII llamada Unicode, de forma tal que hay caracteres de 1 byte y otros de hasta 4 bytes. El estándar UTF-8 permite representar caracteres usando la codificación Unicode y es el estándar utilizado por Python."
   ]
  },
  {
   "cell_type": "markdown",
   "metadata": {},
   "source": [
    "### Otras funciones BIF interesantes:"
   ]
  },
  {
   "cell_type": "markdown",
   "metadata": {},
   "source": [
    "Para conocer el código Unicode de un caracter se recurre a la funcion `ord()`, y para conocer el caracter al que le corresponde un código Unicode se utiliza `chr()`:"
   ]
  },
  {
   "cell_type": "code",
   "execution_count": 20,
   "metadata": {},
   "outputs": [
    {
     "name": "stdout",
     "output_type": "stream",
     "text": [
      "A =  65\n",
      "65 =  A\n",
      "# =  35\n",
      "35 =  #\n"
     ]
    }
   ],
   "source": [
    "#ejemplos:\n",
    "\n",
    "print(\"A = \",ord('A'))\n",
    "print(\"65 = \",chr(65))\n",
    "print(\"# = \",ord('#'))\n",
    "print(\"35 = \",chr(35))"
   ]
  },
  {
   "cell_type": "code",
   "execution_count": 21,
   "metadata": {},
   "outputs": [
    {
     "name": "stdout",
     "output_type": "stream",
     "text": [
      "3000 =  ஸ\n"
     ]
    }
   ],
   "source": [
    "#Pero ahora puedo conocer algún otro caracter fuera del sistema ASCII\n",
    "print(\"3000 = \",chr(3000))"
   ]
  },
  {
   "cell_type": "markdown",
   "metadata": {},
   "source": [
    "### uso de la instrucción `in`"
   ]
  },
  {
   "cell_type": "markdown",
   "metadata": {},
   "source": [
    "Se sabe que la instrucción `in` permite evaluar si un dato pertenece o no \n",
    "a un conjunto de datos, por lo que también se puede usar con strings."
   ]
  },
  {
   "cell_type": "code",
   "execution_count": 26,
   "metadata": {},
   "outputs": [
    {
     "name": "stdout",
     "output_type": "stream",
     "text": [
      "'a' es una vocal minúscula? True\n",
      "'B' es una vocal minúscula? False\n",
      "'ou' esta en la cadena vocales? True\n",
      "'uo' esta en la cadena vocales? False\n"
     ]
    }
   ],
   "source": [
    "#Ejemplo:\n",
    "\n",
    "vocales = \"aeiou\"\n",
    "\n",
    "print(\"'a' es una vocal minúscula?\",'a' in vocales)\n",
    "print(\"'B' es una vocal minúscula?\",'B' in vocales)\n",
    "print(\"'ou' esta en la cadena vocales?\",'ou' in vocales)\n",
    "print(\"'uo' esta en la cadena vocales?\",'uo' in vocales)"
   ]
  },
  {
   "cell_type": "markdown",
   "metadata": {},
   "source": [
    "## Métodos de un str\n",
    "La lista de métodos de un string es bastante amplia:"
   ]
  },
  {
   "cell_type": "code",
   "execution_count": 26,
   "metadata": {},
   "outputs": [
    {
     "data": {
      "text/plain": [
       "['__add__',\n",
       " '__class__',\n",
       " '__contains__',\n",
       " '__delattr__',\n",
       " '__dir__',\n",
       " '__doc__',\n",
       " '__eq__',\n",
       " '__format__',\n",
       " '__ge__',\n",
       " '__getattribute__',\n",
       " '__getitem__',\n",
       " '__getnewargs__',\n",
       " '__gt__',\n",
       " '__hash__',\n",
       " '__init__',\n",
       " '__init_subclass__',\n",
       " '__iter__',\n",
       " '__le__',\n",
       " '__len__',\n",
       " '__lt__',\n",
       " '__mod__',\n",
       " '__mul__',\n",
       " '__ne__',\n",
       " '__new__',\n",
       " '__reduce__',\n",
       " '__reduce_ex__',\n",
       " '__repr__',\n",
       " '__rmod__',\n",
       " '__rmul__',\n",
       " '__setattr__',\n",
       " '__sizeof__',\n",
       " '__str__',\n",
       " '__subclasshook__',\n",
       " 'capitalize',\n",
       " 'casefold',\n",
       " 'center',\n",
       " 'count',\n",
       " 'encode',\n",
       " 'endswith',\n",
       " 'expandtabs',\n",
       " 'find',\n",
       " 'format',\n",
       " 'format_map',\n",
       " 'index',\n",
       " 'isalnum',\n",
       " 'isalpha',\n",
       " 'isascii',\n",
       " 'isdecimal',\n",
       " 'isdigit',\n",
       " 'isidentifier',\n",
       " 'islower',\n",
       " 'isnumeric',\n",
       " 'isprintable',\n",
       " 'isspace',\n",
       " 'istitle',\n",
       " 'isupper',\n",
       " 'join',\n",
       " 'ljust',\n",
       " 'lower',\n",
       " 'lstrip',\n",
       " 'maketrans',\n",
       " 'partition',\n",
       " 'replace',\n",
       " 'rfind',\n",
       " 'rindex',\n",
       " 'rjust',\n",
       " 'rpartition',\n",
       " 'rsplit',\n",
       " 'rstrip',\n",
       " 'split',\n",
       " 'splitlines',\n",
       " 'startswith',\n",
       " 'strip',\n",
       " 'swapcase',\n",
       " 'title',\n",
       " 'translate',\n",
       " 'upper',\n",
       " 'zfill']"
      ]
     },
     "execution_count": 26,
     "metadata": {},
     "output_type": "execute_result"
    }
   ],
   "source": [
    "dir(str)"
   ]
  },
  {
   "cell_type": "markdown",
   "metadata": {},
   "source": [
    "Como se puede observar, ¡un objeto string tiene muchos métodos disponibles! Algunos ya los hemos estado utilizando (como *split* y *format*)"
   ]
  },
  {
   "cell_type": "markdown",
   "metadata": {},
   "source": [
    "**Importante**\n",
    "\n",
    "Dado que un string es inmutable, entonces muchos de los métodos retornan cadenas nuevas con el resultado de sus aplicaciones; es decir no modifican la cadena original (no como en las listas, en donde se modificaba la lista misma)"
   ]
  },
  {
   "cell_type": "markdown",
   "metadata": {},
   "source": [
    "Si desea \"simular\" que una cadena a la cual se le aplica un método, cambie su contenido, debemos aplicar una actualización, osea utilizar este esquema:\n",
    "\n",
    "                        cad = cad.método()"
   ]
  },
  {
   "cell_type": "markdown",
   "metadata": {},
   "source": [
    "####  Vamos a revisar los métodos de uso más común y separarlos por categorías. "
   ]
  },
  {
   "cell_type": "markdown",
   "metadata": {},
   "source": [
    "Métodos que eliminan caracteres de \"cabeza\" y \"cola\" (ubicados al principio y/o al final) de un string:\n",
    "\n",
    "    * str.strip(arg)   : Elimina caracteres al inicio y al final del \n",
    "                         string str. Los caracteres a eliminar son \n",
    "                         especificados en el string arg.\n",
    "                         \n",
    "    * str.lstrip(arg)  : Elimina caracteres al inicio del string str\n",
    "                         (osea a la izquierda. \"l\":left). Los caracteres a\n",
    "                         eliminar son especificados en el string arg.\n",
    "                         \n",
    "    * str.rstrip(arg)  : Elimina caracteres al final del string str\n",
    "                         (osea a la derecha. \"r\":right). Los caracteres a\n",
    "                         eliminar son especificados en el string arg.  "
   ]
  },
  {
   "cell_type": "code",
   "execution_count": 49,
   "metadata": {},
   "outputs": [
    {
     "name": "stdout",
     "output_type": "stream",
     "text": [
      "|%%%%%%%Programar######|\n",
      "|Programar|\n",
      "\n",
      "|%%%%%%%Programar######|\n",
      "|Programar######|\n",
      "\n",
      "|%%%%%%%Programar######|\n",
      "|%%%%%%%Programar|\n"
     ]
    }
   ],
   "source": [
    "#Ejemplo:\n",
    "\n",
    "cad1 = \"%%%%%%%Programar######\"  #texto original\n",
    "print(\"|{}|\".format(cad1))\n",
    "cad1 = cad1.strip(\"%#\")  #cad1 no tiene caracteres % al inicio y\n",
    "                         #tampoco caracteres # al final\n",
    "print(\"|{}|\".format(cad1))\n",
    "print()\n",
    "\n",
    "cad2 = \"%%%%%%%Programar######\"  #texto original\n",
    "print(\"|{}|\".format(cad2))\n",
    "cad2 = cad2.lstrip(\"%\")  #cad2 no tiene caracteres % al inicio \n",
    "print(\"|{}|\".format(cad2))\n",
    "print()\n",
    "\n",
    "cad3 = \"%%%%%%%Programar######\"  #texto original\n",
    "print(\"|{}|\".format(cad3))\n",
    "cad3 = cad3.rstrip(\"#\")  #cad3 no tiene caracteres # al final\n",
    "print(\"|{}|\".format(cad3))"
   ]
  },
  {
   "cell_type": "markdown",
   "metadata": {},
   "source": [
    "Como estos métodos retornan cadenas nuevas podemos usar *print* para imprimir los resultados:"
   ]
  },
  {
   "cell_type": "code",
   "execution_count": 19,
   "metadata": {},
   "outputs": [
    {
     "name": "stdout",
     "output_type": "stream",
     "text": [
      "banana\n"
     ]
    }
   ],
   "source": [
    "#Ejemplo:\n",
    "\n",
    "print(\",,,,,rrttgg.....banana.....rrr\".strip(\",.grt\"))"
   ]
  },
  {
   "cell_type": "markdown",
   "metadata": {},
   "source": [
    "Estos métodos cuando se usan sin argumento eliminaran todo caracter que no es visible en una impresión: espacios en blanco, \\n,\\t, etc. ya sea al inicio y/o al final del string según sea el caso."
   ]
  },
  {
   "cell_type": "code",
   "execution_count": 25,
   "metadata": {},
   "outputs": [
    {
     "name": "stdout",
     "output_type": "stream",
     "text": [
      "|           este es un texto       |\n",
      "|este es un texto|\n",
      "|este es un texto       |\n",
      "|           este es un texto|\n"
     ]
    }
   ],
   "source": [
    "#ejemplos:\n",
    "\n",
    "texto = \"           este es un texto       \"\n",
    "\n",
    "print(\"|{}|\".format(texto))  #texto original\n",
    "print(\"|{}|\".format(texto.strip())) #no tiene espacios en blanco antes ni despues\n",
    "print(\"|{}|\".format(texto.lstrip())) #l: left (no tiene espacios en blanco antes)\n",
    "print(\"|{}|\".format(texto.rstrip())) #r: right (no tiene espacios en blanco despues) "
   ]
  },
  {
   "cell_type": "code",
   "execution_count": 36,
   "metadata": {},
   "outputs": [
    {
     "name": "stdout",
     "output_type": "stream",
     "text": [
      "Al final de este mensaje hay un caracter de nueva linea....\n",
      "Este es un texto de prueba\n"
     ]
    }
   ],
   "source": [
    "#otros ejemplos:\n",
    "\n",
    "#eliminando el caracter \\n ubicado al final del texto\n",
    "print(\"Al final de este mensaje hay un caracter de nueva linea\\n\".strip(),end='')\n",
    "print(\"....\")\n",
    "\n",
    "#eliminando los \\n al inicio y los \\t, \\n y espacios al final del texto\n",
    "print(\"\\n\\n\\n\\tEste es un texto de prueba\\t\\t  \\t\\n\".strip())"
   ]
  },
  {
   "cell_type": "markdown",
   "metadata": {},
   "source": [
    "Al ser un string un contenedor como lo son las listas y tuplas también se puede utilizar por ejemplo, al método **index** para buscar la primera ocurrencia de una cadena en otra cadena."
   ]
  },
  {
   "cell_type": "code",
   "execution_count": 37,
   "metadata": {},
   "outputs": [
    {
     "name": "stdout",
     "output_type": "stream",
     "text": [
      "El primer espacio en blanco esta en la posicion 0\n",
      "El segundo espacio en blanco esta en la posicion 12\n",
      "La palabra 'Python' inicia en la posicion 48\n"
     ]
    }
   ],
   "source": [
    "#ejemplos:\n",
    "\n",
    "texto = \" Aprendiendo a utilizar métodos para cadenas en Python\"\n",
    "\n",
    "print(\"El primer espacio en blanco esta en la posicion\", texto.index(' '))\n",
    "print(\"El segundo espacio en blanco esta en la posicion\", texto.index(' ',11))\n",
    "print(\"La palabra 'Python' inicia en la posicion\", texto.index('Python'))"
   ]
  },
  {
   "cell_type": "markdown",
   "metadata": {},
   "source": [
    "Métodos que modifican los caracteres de un `str` según estén en MAYUSCULAS o minúsculas:\n",
    "    \n",
    "    * str.capitalize()      : Capitaliza un str, es decir, convierte su\n",
    "                              primer caracter (en caso sea letra) en\n",
    "                              mayúscula y las demas letras en minúscula      \n",
    "                              \n",
    "    * str.title()           : Convierte un str en un \"titulo\", es decir, la\n",
    "                              primer letra encontrada en cada palabra pasa\n",
    "                              a mayúscula y las demas letras a minúsculas.\n",
    "                              \n",
    "    * str.upper()           : Convierte todas las letras de un str en \n",
    "                              MAYUSCULAS\n",
    "                              \n",
    "    * str.lower()           : Convierte todas las letras de un str en \n",
    "                              minúsculas\n",
    "                              \n",
    "    * str.swapcase()        : Intercambia las letras MAYUSCULAS por \n",
    "                              minúsculas y viceversa en un string.\n",
    "                              \n",
    "Como estos métodos retornan cadenas nuevas podemos usar *print* para imprimir los resultados."
   ]
  },
  {
   "cell_type": "code",
   "execution_count": 6,
   "metadata": {},
   "outputs": [
    {
     "name": "stdout",
     "output_type": "stream",
     "text": [
      "Todo correo electrónico termina con @dominio\n",
      "TODO CORREO ELECTRÓNICO TERMINA CON @DOMINIO\n",
      "todo correo electrónico termina con @dominio\n",
      "Todo Correo Electrónico Termina Con @Dominio\n",
      "TODO CorrEO ELECTRÓNICO TERmINA CON @DOMINIO\n"
     ]
    }
   ],
   "source": [
    "#ejemplos:\n",
    "texto = \"todo cORReo electrónico terMina con @dominio\"\n",
    "\n",
    "print(texto.capitalize())\n",
    "print(texto.upper())\n",
    "print(texto.lower())\n",
    "print(texto.title())\n",
    "print(texto.swapcase())"
   ]
  },
  {
   "cell_type": "markdown",
   "metadata": {},
   "source": [
    "Como los métodos de un `str` retornan un nuevo `str`, se pueden encadenar en secuencia con otros métodos que tambíen retornan un nuevo `str`. "
   ]
  },
  {
   "cell_type": "code",
   "execution_count": 63,
   "metadata": {},
   "outputs": [
    {
     "name": "stdout",
     "output_type": "stream",
     "text": [
      "Este es un texto de prueba\n",
      "ESTE ES UN TEXTO DE PRUEBA\n",
      "este es un texto de prueba\n",
      "Este Es Un Texto De Prueba\n",
      "eSTE eS uN tEXTO dE pRUEBA\n"
     ]
    }
   ],
   "source": [
    "#ejemplos:\n",
    "\n",
    "texto = \"        este es un texto de prueba    \"\n",
    "print(texto.strip().capitalize())\n",
    "print(texto.strip().upper())\n",
    "print(texto.strip().lower())\n",
    "print(texto.strip().title())\n",
    "print(texto.strip().title().swapcase())"
   ]
  },
  {
   "cell_type": "markdown",
   "metadata": {},
   "source": [
    "Por ejemplo en la instrucción *texto.strip().capitalize()*  primero se eliminan los espacios en blanco al principio y al final del texto y luego se capitaliza el `str` resultante."
   ]
  },
  {
   "cell_type": "markdown",
   "metadata": {},
   "source": [
    "Métodos que cuentan ocurrencias dentro de un `str` o reemplazan su contenido según un criterio de búsqueda:\n",
    "\n",
    "    * str.count(cad)           : Cuenta el número de veces que el string\n",
    "                                 cad esta en el string str\n",
    "                                       \n",
    "    * str.replace(cad1,cad2)   : Todas las ocurrencias del string cad1 \n",
    "                                 encontradas en el string str, son \n",
    "                                 reemplazadas por el string cad2\n",
    "                                       \n",
    "    * str.find(cad)      : Busca la primera ocurrencia del string cad en el\n",
    "                           string str, retornando el índice de str donde se\n",
    "                           encuentre el caracter inicial de cad\n",
    "                                       \n",
    "    * str.rfind(cad)   : Busca de derecha a izquierda la primera ocurrencia\n",
    "                         del string cad en el string str, retornando el \n",
    "                         indice de str donde se encuentre el caracter\n",
    "                         inicial de cad "
   ]
  },
  {
   "cell_type": "code",
   "execution_count": 54,
   "metadata": {},
   "outputs": [
    {
     "name": "stdout",
     "output_type": "stream",
     "text": [
      "tres tristes tigres comen trigo\n",
      "\n",
      "Cuantas 't' hay en la frase anterior? 5\n",
      "Cuantas 'r' hay en la frase anterior? 4\n",
      "Cuantas 'tr' hay en la frase anterior? 3\n",
      "\n",
      "En que indice se encuentra la palabra 'tigres': 13\n"
     ]
    }
   ],
   "source": [
    "#ejemplo:\n",
    "\n",
    "texto = \"tres tristes tigres comen trigo\"\n",
    "print(texto); print()\n",
    "\n",
    "# Este trabalenguas es dificil por la cantidad de \"t\"s, \"r\"s y a combinacion de las dos en la frase\n",
    "print(\"Cuantas 't' hay en la frase anterior?\", texto.count('t'))\n",
    "print(\"Cuantas 'r' hay en la frase anterior?\", texto.count('r'))\n",
    "print(\"Cuantas 'tr' hay en la frase anterior?\", texto.count('tr'))\n",
    "\n",
    "print()\n",
    "print(\"En que indice se encuentra la palabra 'tigres':\", texto.find('tigres'))"
   ]
  },
  {
   "cell_type": "code",
   "execution_count": 55,
   "metadata": {},
   "outputs": [
    {
     "name": "stdout",
     "output_type": "stream",
     "text": [
      "lo que no te mata te hace mas fuerte\n",
      "\n",
      "lo que no te mata te hara mas fuerte\n"
     ]
    }
   ],
   "source": [
    "#otro ejemplo:\n",
    "\n",
    "texto = \"lo que no te mata te hace mas fuerte\"\n",
    "print(texto); print()\n",
    "\n",
    "# Podemos reemplazar parte de una cadena por otra\n",
    "print(texto.replace(\"hace\", \"hara\"))"
   ]
  },
  {
   "cell_type": "code",
   "execution_count": 53,
   "metadata": {},
   "outputs": [
    {
     "name": "stdout",
     "output_type": "stream",
     "text": [
      "2\n",
      "este no es un texto de prueba\n",
      "0\n",
      "5\n"
     ]
    }
   ],
   "source": [
    "#otros ejemplos:\n",
    "\n",
    "texto = \"este es un texto de prueba\"\n",
    "\n",
    "print(texto.count(\"es\"))\n",
    "print(texto.replace(\"es \",\"no es \"))\n",
    "print(texto.find(\"es\"))\n",
    "print(texto.rfind(\"es\")) #¿Entiende porque se obtiene el 5 como resultado?"
   ]
  },
  {
   "cell_type": "markdown",
   "metadata": {},
   "source": [
    "Tenemos un método que ya es conocido: *split*, pero esta vez vamos a formalizarlo:\n",
    "\n",
    "    * str.split(arg)   : Separa un string en substrings retornando una \n",
    "                         lista con los substrings resultantes. El string\n",
    "                         separador es especificado en arg                "
   ]
  },
  {
   "cell_type": "code",
   "execution_count": 20,
   "metadata": {},
   "outputs": [
    {
     "name": "stdout",
     "output_type": "stream",
     "text": [
      "['Juan', 'Alberto', 'Maite', 'Luis']\n",
      "['Solo ', ' que nada ', '']\n"
     ]
    }
   ],
   "source": [
    "#ejemplos:\n",
    "l1 = \"Juan--Alberto--Maite--Luis\".split(\"--\")\n",
    "print(l1)\n",
    "\n",
    "l2 = \"Solo se que nada se\".split(\"se\")\n",
    "print(l2)"
   ]
  },
  {
   "cell_type": "markdown",
   "metadata": {
    "scrolled": true
   },
   "source": [
    "El método *split* sin argumento, indica que el string separador será toda secuencia de caracteres que no es visible en una impresión: los caracteres de espacios en blanco, \\n, \\t, etc."
   ]
  },
  {
   "cell_type": "code",
   "execution_count": 50,
   "metadata": {},
   "outputs": [
    {
     "name": "stdout",
     "output_type": "stream",
     "text": [
      "['una', 'golondrina', 'no', 'hace', 'verano']\n",
      "['Este', 'es', 'un', 'texto', 'de', 'prueba']\n"
     ]
    }
   ],
   "source": [
    "#ejemplos:\n",
    "\n",
    "l_palabras = \"una   golondrina   no     hace    verano\".split()\n",
    "print(l_palabras)\n",
    "\n",
    "l3 = \"Este es\\n\\nun texto\\t\\t\\t\\tde    prueba\".split()\n",
    "print(l3)"
   ]
  },
  {
   "cell_type": "markdown",
   "metadata": {},
   "source": [
    "El proceso inverso a lo que hace el método *split* se puede realizar con el método *join*:\n",
    "\n",
    "    * cad.join(lista)  : Retorna un string con los substrings de la lista,\n",
    "                         unidos por el string cad"
   ]
  },
  {
   "cell_type": "code",
   "execution_count": 24,
   "metadata": {
    "scrolled": true
   },
   "outputs": [
    {
     "name": "stdout",
     "output_type": "stream",
     "text": [
      "una golondrina no hace verano\n",
      "Perú---Chile---Brasil\n"
     ]
    }
   ],
   "source": [
    "#ejemplos :\n",
    "l_palabras = \"una golondrina no hace verano\".split()\n",
    "print(\" \".join(l_palabras))\n",
    "\n",
    "cad = \"---\".join([\"Perú\",\"Chile\",\"Brasil\"])\n",
    "print(cad)"
   ]
  },
  {
   "cell_type": "markdown",
   "metadata": {},
   "source": [
    "Otros métodos son aquellos que evaluan un string dependiendo de un criterio, retornando valor booleano (True o False)\n",
    "\n",
    "    * str.isspace()    : Retorna True si el string str esta compuesto solo \n",
    "                         de caracteres no visibles en una impresión: \n",
    "                         espacios en blanco, \\n, \\t, etc.\n",
    "    \n",
    "    * str.isupper()    : Retorna True si todas las letras del string str\n",
    "                         son MAYUSCULAS\n",
    "                         \n",
    "    * str.islower()    : Retorna True si todas las letras del string str\n",
    "                         son minúsculas\n",
    "                         \n",
    "    * str.isdigit()    : Retorna True si todos los caracteres del string\n",
    "                         str son dígitos\n",
    "    \n",
    "    * str.isalpha()    : Retorna True si todos los caracteres del string\n",
    "                         str son letras \n",
    "                         \n",
    "    * str.isalnum()    : Retorna True si todos los caracteres del string\n",
    "                         str son letras o dígitos.\n",
    "                         \n",
    "    * str.isprintable(): Retorna True si todos los caracteres del string\n",
    "                         str son imprimibles (no son Tab \\t, Enter \\n, etc)"
   ]
  },
  {
   "cell_type": "code",
   "execution_count": 45,
   "metadata": {
    "scrolled": true
   },
   "outputs": [
    {
     "name": "stdout",
     "output_type": "stream",
     "text": [
      "True\n",
      "True\n",
      "False\n",
      "True\n"
     ]
    }
   ],
   "source": [
    "#Ejemplos:\n",
    "\n",
    "print(\"abcde\".isalpha())\n",
    "print(\"AbCdE\".isalpha())\n",
    "print(\"AbCdE3#\".isalpha())\n",
    "print(\"g\".isalpha())"
   ]
  },
  {
   "cell_type": "code",
   "execution_count": 46,
   "metadata": {},
   "outputs": [
    {
     "name": "stdout",
     "output_type": "stream",
     "text": [
      "True\n",
      "False\n",
      "False\n",
      "True\n"
     ]
    }
   ],
   "source": [
    "#Ejemplos:\n",
    "\n",
    "print(\"123\".isdigit())\n",
    "print(\"12SDD3\".isdigit())\n",
    "print(\"0.78\".isdigit())\n",
    "print(\"7\".isdigit())"
   ]
  },
  {
   "cell_type": "code",
   "execution_count": 48,
   "metadata": {},
   "outputs": [
    {
     "name": "stdout",
     "output_type": "stream",
     "text": [
      "True\n",
      "True\n",
      "False\n",
      "True\n"
     ]
    }
   ],
   "source": [
    "#Ejemplos:\n",
    "\n",
    "print(\"dina4ever\".isalnum())\n",
    "print(\"MAITe7ever\".isalnum())\n",
    "print(\"$%3ARt5\".isalnum())\n",
    "print(\"r\".isalnum())"
   ]
  },
  {
   "cell_type": "code",
   "execution_count": 124,
   "metadata": {},
   "outputs": [
    {
     "name": "stdout",
     "output_type": "stream",
     "text": [
      "False\n",
      "True\n",
      "True\n"
     ]
    }
   ],
   "source": [
    "print(\"Hola\\ntexto\".isprintable())\n",
    "print(\"r5#4@\".isprintable())\n",
    "print(\"&\".isprintable())"
   ]
  },
  {
   "cell_type": "code",
   "execution_count": 125,
   "metadata": {},
   "outputs": [
    {
     "name": "stdout",
     "output_type": "stream",
     "text": [
      "True\n",
      "False\n",
      "True\n",
      "True\n"
     ]
    }
   ],
   "source": [
    "print(\"HOLA\".isupper())\n",
    "print(\"HolAs\".isupper())\n",
    "print(\"CLUB-34\".isupper())\n",
    "print(\"A\".isupper())"
   ]
  },
  {
   "cell_type": "code",
   "execution_count": 126,
   "metadata": {},
   "outputs": [
    {
     "name": "stdout",
     "output_type": "stream",
     "text": [
      "True\n",
      "False\n",
      "True\n",
      "True\n"
     ]
    }
   ],
   "source": [
    "print(\"abcde\".islower())\n",
    "print(\"HolAs\".islower())\n",
    "print(\"club-34\".islower())\n",
    "print(\"x\".islower())"
   ]
  },
  {
   "cell_type": "code",
   "execution_count": 85,
   "metadata": {
    "scrolled": true
   },
   "outputs": [
    {
     "name": "stdout",
     "output_type": "stream",
     "text": [
      "True\n",
      "False\n",
      "True\n",
      "False\n",
      "True\n",
      "True\n"
     ]
    }
   ],
   "source": [
    "print(\"   \".isspace())\n",
    "print(\"   h   \".isspace())\n",
    "print(\"\\n\\n\\n\\n\\n\\n\".isspace())\n",
    "print(\"\\n\\nrrr\\n\\n\\n\".isspace())\n",
    "print(\" \".isspace())\n",
    "print(\"\\n\".isspace())"
   ]
  },
  {
   "cell_type": "markdown",
   "metadata": {},
   "source": [
    "### TIPS Importantes:"
   ]
  },
  {
   "cell_type": "markdown",
   "metadata": {},
   "source": [
    "Se puede juntar el concepto de listas por comprehensión junto a otro métodos vistos celdas arriba para formar una cadena:"
   ]
  },
  {
   "cell_type": "code",
   "execution_count": 65,
   "metadata": {},
   "outputs": [
    {
     "name": "stdout",
     "output_type": "stream",
     "text": [
      "19\n"
     ]
    }
   ],
   "source": [
    "#formando una cadena con todos los digitos de otra cadena\n",
    "l = [car  for car in \"covid-19\" if car.isdigit()]\n",
    "cad = ''.join(l)\n",
    "print(cad)"
   ]
  },
  {
   "cell_type": "markdown",
   "metadata": {},
   "source": [
    "Se puede juntar el concepto de mapeo y filtraje junto a otro métodos vistos celdas arriba para formar una cadena:"
   ]
  },
  {
   "cell_type": "code",
   "execution_count": 63,
   "metadata": {},
   "outputs": [
    {
     "name": "stdout",
     "output_type": "stream",
     "text": [
      "112121104116111110\n"
     ]
    }
   ],
   "source": [
    "#formando una cadena con los valores unicode de cada caracter de otra cadena:\n",
    "l = list(map(lambda x:str(ord(x)),\"pyhton\"))\n",
    "cad = ''.join(l)\n",
    "print(cad)"
   ]
  },
  {
   "cell_type": "code",
   "execution_count": 64,
   "metadata": {},
   "outputs": [
    {
     "name": "stdout",
     "output_type": "stream",
     "text": [
      "PPYTHON\n"
     ]
    }
   ],
   "source": [
    "#formando una cadena con las letras mayúsculas de otra cadena:\n",
    "\n",
    "l = list(filter(lambda x:x.isupper(),\"Programa en PYTHON\"))\n",
    "cad = ''.join(l)\n",
    "print(cad)"
   ]
  },
  {
   "cell_type": "markdown",
   "metadata": {},
   "source": [
    "Gracias a la función *ord* vista celdas arriba es que se permite manipular caracteres como si fueran numeros, lo que es muy útil para cifrar texto o para hacer modificaciones en una cadena. Por ejemplo el *cifrado Cesar*, donde cada letra es desplazada hacia la derecha (o la izquierda) un numero de espacios. Digamos que queremos construir un cifrador Cesar de despazamiento 5 a la derecha:"
   ]
  },
  {
   "cell_type": "code",
   "execution_count": 56,
   "metadata": {},
   "outputs": [
    {
     "name": "stdout",
     "output_type": "stream",
     "text": [
      "Mensaje: Este es un mensaje super secreto! Mandar el mensaje lineas abajo...\n",
      "Cifrado: Jxyj jx zs rjsxfoj xzujw xjhwjyt! Rfsifw jq rjsxfoj qnsjfx fgfot...\n"
     ]
    }
   ],
   "source": [
    "texto = \"Este es un mensaje super secreto! Mandar el mensaje lineas abajo...\"\n",
    "print(\"Mensaje:\", texto)\n",
    "\n",
    "# Se necesita desplazar todos los caracteres del texto cinco caracteres \n",
    "#a la derecha de forma que 'a' -> 'f', 'b' -> 'g', ..., 'z' -> 'e'\n",
    "texto_cifrado = ''\n",
    "for letra in texto:\n",
    "    # Si el caracter es una letra...\n",
    "    if letra.isalpha():\n",
    "        # Se desplaza este caracter 5 espacios a la derecha\n",
    "        code = ord(letra) + 5\n",
    "        # Y si son las letras \"v...z\" que se salen del alfabeto,\n",
    "        #hay que retornarlas a \"a...e\"\n",
    "        # Esto es: 26 caracteres mas abajo\n",
    "        if letra.isupper() and code > ord('Z'):\n",
    "            code -= 26\n",
    "        elif letra.lower() and code > ord('z'):\n",
    "            code -= 26\n",
    "        # Se concatena el texto cifrado\n",
    "        texto_cifrado += chr(code)\n",
    "    # De lo contrario, si es un numero, espacio en blanco o simbolo de puntuacion...\n",
    "    else:\n",
    "        # Se concatena el texto cifrado tal y como esta en el mensjae original\n",
    "        texto_cifrado += letra\n",
    "        \n",
    "print(\"Cifrado:\",texto_cifrado)"
   ]
  },
  {
   "cell_type": "markdown",
   "metadata": {},
   "source": [
    "¿Puede convertir este programa en una funcion? Por ejemplo **cifrado_cesar(cadena, despz)** donde *cadena* sera el agumento con el texto y *despz* el numero de letras a desplazar (sea positivo o negativo)."
   ]
  },
  {
   "cell_type": "markdown",
   "metadata": {},
   "source": [
    "Ideas clave:\n",
    "\n",
    "* Los strings representan cadenas de caracteres y son objetos inmutables\n",
    "* Los strings soportan indexación como las listas y tuplas.\n",
    "* Los caracteres en Python son datos codificados en utf-8 como valores enteros.\n",
    "* La manipulación de strings se realiza por medio de los métodos de la clase string\n",
    "\n",
    "Informacion:\n",
    "* https://www.programiz.com/python-programming/string\n",
    "\n",
    "---"
   ]
  }
 ],
 "metadata": {
  "kernelspec": {
   "display_name": "Python 3 (ipykernel)",
   "language": "python",
   "name": "python3"
  },
  "language_info": {
   "codemirror_mode": {
    "name": "ipython",
    "version": 3
   },
   "file_extension": ".py",
   "mimetype": "text/x-python",
   "name": "python",
   "nbconvert_exporter": "python",
   "pygments_lexer": "ipython3",
   "version": "3.9.7"
  }
 },
 "nbformat": 4,
 "nbformat_minor": 4
}
