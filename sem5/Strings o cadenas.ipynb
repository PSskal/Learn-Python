{
 "cells": [
  {
   "cell_type": "code",
   "execution_count": 1,
   "id": "96f69d4b",
   "metadata": {},
   "outputs": [
    {
     "name": "stdout",
     "output_type": "stream",
     "text": [
      "Esto es un string\n"
     ]
    }
   ],
   "source": [
    "#creando una cadena o string:\n",
    "cad = 'Esto es un string'\n",
    "print(cad)"
   ]
  },
  {
   "cell_type": "code",
   "execution_count": 5,
   "id": "d282b73e",
   "metadata": {},
   "outputs": [
    {
     "name": "stdout",
     "output_type": "stream",
     "text": [
      "E\n",
      "g\n",
      "Eosntn\n",
      "i st\n"
     ]
    }
   ],
   "source": [
    "#la cadena soporta indexación e index slicing:\n",
    "\n",
    "cad = 'Esto es un string'\n",
    "\n",
    "c = cad[0]\n",
    "print(c)\n",
    "\n",
    "print(cad[-1])\n",
    "\n",
    "subCad1 = cad[::3]\n",
    "print(subCad1)\n",
    "\n",
    "subCad2 = cad[-3::-4]\n",
    "print(subCad2)"
   ]
  },
  {
   "cell_type": "code",
   "execution_count": 9,
   "id": "e9615d23",
   "metadata": {},
   "outputs": [
    {
     "name": "stdout",
     "output_type": "stream",
     "text": [
      "Tamaño de la cadena:  17\n",
      "\n",
      "0:E\n",
      "1:s\n",
      "2:t\n",
      "3:o\n",
      "4: \n",
      "5:e\n",
      "6:s\n",
      "7: \n",
      "8:u\n",
      "9:n\n",
      "10: \n",
      "11:s\n",
      "12:t\n",
      "13:r\n",
      "14:i\n",
      "15:n\n",
      "16:g\n",
      "\n",
      "0:E\n",
      "1:s\n",
      "2:t\n",
      "3:o\n",
      "4: \n",
      "5:e\n",
      "6:s\n",
      "7: \n",
      "8:u\n",
      "9:n\n",
      "10: \n",
      "11:s\n",
      "12:t\n",
      "13:r\n",
      "14:i\n",
      "15:n\n",
      "16:g\n"
     ]
    }
   ],
   "source": [
    "#la función len y la función enumerate se puede usar para cadenas:\n",
    "\n",
    "cad = 'Esto es un string'\n",
    "print(\"Tamaño de la cadena: \",len(cad))\n",
    "\n",
    "print()\n",
    "#accediendo a los caracteres de la cadena a traves de sus índices:\n",
    "for indice in range(len(cad)):\n",
    "    print(\"{}:{}\".format(indice,cad[indice]))\n",
    "\n",
    "print()\n",
    "for indice,car in enumerate(cad):\n",
    "    print(\"{}:{}\".format(indice,car))"
   ]
  },
  {
   "cell_type": "code",
   "execution_count": 10,
   "id": "6664e5d2",
   "metadata": {},
   "outputs": [
    {
     "name": "stdout",
     "output_type": "stream",
     "text": [
      "a 1\n",
      "e 2\n",
      "i 3\n",
      "o 4\n",
      "u 5\n"
     ]
    }
   ],
   "source": [
    "#se puede usar la función zip para cadenas:\n",
    "\n",
    "cad1 = \"aeiou\"\n",
    "cad2 = \"12345\"\n",
    "\n",
    "for c1,c2 in zip(cad1,cad2):\n",
    "    print(c1,c2)"
   ]
  },
  {
   "cell_type": "code",
   "execution_count": 11,
   "id": "b0dd9e1b",
   "metadata": {},
   "outputs": [
    {
     "name": "stdout",
     "output_type": "stream",
     "text": [
      "E\n",
      "s\n",
      "t\n",
      "o\n",
      " \n",
      "e\n",
      "s\n",
      " \n",
      "u\n",
      "n\n",
      " \n",
      "s\n",
      "t\n",
      "r\n",
      "i\n",
      "n\n",
      "g\n"
     ]
    }
   ],
   "source": [
    "#una cadena es un objeto iterable:\n",
    "\n",
    "cad = 'Esto es un string'\n",
    "\n",
    "for car in cad:\n",
    "    print(car)"
   ]
  },
  {
   "cell_type": "code",
   "execution_count": 14,
   "id": "d7ee6f69",
   "metadata": {},
   "outputs": [
    {
     "name": "stdout",
     "output_type": "stream",
     "text": [
      "True\n",
      "False\n",
      "True\n"
     ]
    }
   ],
   "source": [
    "#el uso de la instrucción in para cadenas:\n",
    "\n",
    "cad = 'Esto es un string'\n",
    "\n",
    "print('Es' in cad)\n",
    "print('UN' in cad)\n",
    "print('s' in cad)"
   ]
  },
  {
   "cell_type": "code",
   "execution_count": 16,
   "id": "9e837a95",
   "metadata": {},
   "outputs": [
    {
     "name": "stdout",
     "output_type": "stream",
     "text": [
      "Perú Quatar 2022\n",
      "PerúPerúPerúPerúPerú\n"
     ]
    }
   ],
   "source": [
    "#se puede aplicar + y * en cadenas:\n",
    "\n",
    "cad1 = \"Perú\"\n",
    "cad2 = \"Quatar 2022\"\n",
    "\n",
    "cad3 = cad1 + \" \" + cad2   #concatenación\n",
    "print(cad3)\n",
    "\n",
    "cad4 = cad1*5\n",
    "print(cad4)"
   ]
  },
  {
   "cell_type": "code",
   "execution_count": 24,
   "id": "1e3599e6",
   "metadata": {},
   "outputs": [
    {
     "name": "stdout",
     "output_type": "stream",
     "text": [
      "65\n",
      "120\n",
      "64\n",
      "☺\n",
      "ݐ\n"
     ]
    }
   ],
   "source": [
    "#uso de las funciones BIF  ord()  y chr():\n",
    "\n",
    "print(ord('A'))\n",
    "print(ord('x'))\n",
    "print(ord('@'))\n",
    "\n",
    "print(chr(9786))\n",
    "print(chr(1872))"
   ]
  },
  {
   "cell_type": "code",
   "execution_count": 25,
   "id": "07c3673d",
   "metadata": {},
   "outputs": [
    {
     "ename": "TypeError",
     "evalue": "'str' object does not support item assignment",
     "output_type": "error",
     "traceback": [
      "\u001b[1;31m---------------------------------------------------------------------------\u001b[0m",
      "\u001b[1;31mTypeError\u001b[0m                                 Traceback (most recent call last)",
      "\u001b[1;32m~\\AppData\\Local\\Temp/ipykernel_12268/2072183647.py\u001b[0m in \u001b[0;36m<module>\u001b[1;34m\u001b[0m\n\u001b[0;32m      2\u001b[0m \u001b[1;33m\u001b[0m\u001b[0m\n\u001b[0;32m      3\u001b[0m \u001b[0mcad\u001b[0m \u001b[1;33m=\u001b[0m \u001b[1;34m\"Esto es string\"\u001b[0m\u001b[1;33m\u001b[0m\u001b[1;33m\u001b[0m\u001b[0m\n\u001b[1;32m----> 4\u001b[1;33m \u001b[0mcad\u001b[0m\u001b[1;33m[\u001b[0m\u001b[1;36m1\u001b[0m\u001b[1;33m]\u001b[0m \u001b[1;33m=\u001b[0m \u001b[1;34m\"F\"\u001b[0m\u001b[1;33m\u001b[0m\u001b[1;33m\u001b[0m\u001b[0m\n\u001b[0m",
      "\u001b[1;31mTypeError\u001b[0m: 'str' object does not support item assignment"
     ]
    }
   ],
   "source": [
    "#¿Una cadena es mutable o inmutable?\n",
    "\n",
    "cad = \"Esto es string\"\n",
    "cad[1] = \"F\"  #la cadena es inmutable"
   ]
  },
  {
   "cell_type": "code",
   "execution_count": 32,
   "id": "a4851d25",
   "metadata": {},
   "outputs": [
    {
     "name": "stdout",
     "output_type": "stream",
     "text": [
      "Ingrese una palabra: hajdajd\n",
      "Cadena formada: 10697100\n"
     ]
    }
   ],
   "source": [
    "#ejercicio 1: (versión 1)\n",
    "\n",
    "palabra = input(\"Ingrese una palabra: \")\n",
    "\n",
    "subCadena = palabra[2::2]\n",
    "\n",
    "cadFinal=\"\"\n",
    "for car in subCadena:\n",
    "    cadFinal+=str(ord(car))\n",
    "    \n",
    "print(\"Cadena formada:\",cadFinal)"
   ]
  },
  {
   "cell_type": "code",
   "execution_count": 33,
   "id": "70f7ed05",
   "metadata": {},
   "outputs": [
    {
     "data": {
      "text/plain": [
       "['__add__',\n",
       " '__class__',\n",
       " '__contains__',\n",
       " '__delattr__',\n",
       " '__dir__',\n",
       " '__doc__',\n",
       " '__eq__',\n",
       " '__format__',\n",
       " '__ge__',\n",
       " '__getattribute__',\n",
       " '__getitem__',\n",
       " '__getnewargs__',\n",
       " '__gt__',\n",
       " '__hash__',\n",
       " '__init__',\n",
       " '__init_subclass__',\n",
       " '__iter__',\n",
       " '__le__',\n",
       " '__len__',\n",
       " '__lt__',\n",
       " '__mod__',\n",
       " '__mul__',\n",
       " '__ne__',\n",
       " '__new__',\n",
       " '__reduce__',\n",
       " '__reduce_ex__',\n",
       " '__repr__',\n",
       " '__rmod__',\n",
       " '__rmul__',\n",
       " '__setattr__',\n",
       " '__sizeof__',\n",
       " '__str__',\n",
       " '__subclasshook__',\n",
       " 'capitalize',\n",
       " 'casefold',\n",
       " 'center',\n",
       " 'count',\n",
       " 'encode',\n",
       " 'endswith',\n",
       " 'expandtabs',\n",
       " 'find',\n",
       " 'format',\n",
       " 'format_map',\n",
       " 'index',\n",
       " 'isalnum',\n",
       " 'isalpha',\n",
       " 'isascii',\n",
       " 'isdecimal',\n",
       " 'isdigit',\n",
       " 'isidentifier',\n",
       " 'islower',\n",
       " 'isnumeric',\n",
       " 'isprintable',\n",
       " 'isspace',\n",
       " 'istitle',\n",
       " 'isupper',\n",
       " 'join',\n",
       " 'ljust',\n",
       " 'lower',\n",
       " 'lstrip',\n",
       " 'maketrans',\n",
       " 'partition',\n",
       " 'removeprefix',\n",
       " 'removesuffix',\n",
       " 'replace',\n",
       " 'rfind',\n",
       " 'rindex',\n",
       " 'rjust',\n",
       " 'rpartition',\n",
       " 'rsplit',\n",
       " 'rstrip',\n",
       " 'split',\n",
       " 'splitlines',\n",
       " 'startswith',\n",
       " 'strip',\n",
       " 'swapcase',\n",
       " 'title',\n",
       " 'translate',\n",
       " 'upper',\n",
       " 'zfill']"
      ]
     },
     "execution_count": 33,
     "metadata": {},
     "output_type": "execute_result"
    }
   ],
   "source": [
    "#métodos para un str:\n",
    "dir(str)"
   ]
  },
  {
   "cell_type": "code",
   "execution_count": 35,
   "id": "5b7c859e",
   "metadata": {},
   "outputs": [
    {
     "name": "stdout",
     "output_type": "stream",
     "text": [
      "|#####texto de prueba%%%%%|\n",
      "|texto de prueba|\n"
     ]
    }
   ],
   "source": [
    "#uso del método strip:\n",
    "\n",
    "cad = \"#####texto de prueba%%%%%\"\n",
    "print(\"|{}|\".format(cad))\n",
    "cad = cad.strip(\"#%\")\n",
    "print(\"|{}|\".format(cad))"
   ]
  },
  {
   "cell_type": "code",
   "execution_count": 36,
   "id": "989ab081",
   "metadata": {},
   "outputs": [
    {
     "name": "stdout",
     "output_type": "stream",
     "text": [
      "|      texto de prueba     |\n",
      "|texto de prueba|\n"
     ]
    }
   ],
   "source": [
    "cad = \"      texto de prueba     \"\n",
    "print(\"|{}|\".format(cad))\n",
    "cad = cad.strip()\n",
    "print(\"|{}|\".format(cad))"
   ]
  },
  {
   "cell_type": "code",
   "execution_count": 37,
   "id": "b0fe8877",
   "metadata": {},
   "outputs": [
    {
     "name": "stdout",
     "output_type": "stream",
     "text": [
      "ESTO ES UN TEXTO DE PRUEBA\n"
     ]
    }
   ],
   "source": [
    "#uso del método upper:\n",
    "\n",
    "cad = \"Esto es un texto de prueba\"\n",
    "cad = cad.upper()\n",
    "print(cad)"
   ]
  },
  {
   "cell_type": "code",
   "execution_count": 39,
   "id": "7cb07d45",
   "metadata": {},
   "outputs": [
    {
     "name": "stdout",
     "output_type": "stream",
     "text": [
      "pandemia covid-19\n"
     ]
    }
   ],
   "source": [
    "#uso del método lower:\n",
    "\n",
    "cad = \"Pandemia COVID-19\"\n",
    "cad=cad.lower()\n",
    "print(cad)"
   ]
  },
  {
   "cell_type": "code",
   "execution_count": 41,
   "id": "183694de",
   "metadata": {},
   "outputs": [
    {
     "name": "stdout",
     "output_type": "stream",
     "text": [
      "Este Es Un Título Número 01-T\n"
     ]
    }
   ],
   "source": [
    "#uso del método title:\n",
    "\n",
    "cad = \"Este es un título número 01-t\"\n",
    "cad = cad.title()\n",
    "print(cad)"
   ]
  },
  {
   "cell_type": "code",
   "execution_count": 42,
   "id": "1e563523",
   "metadata": {},
   "outputs": [
    {
     "name": "stdout",
     "output_type": "stream",
     "text": [
      "pandemia covid-19\n"
     ]
    }
   ],
   "source": [
    "#TIP: puedo encadenar instrucciones:\n",
    "\n",
    "cad = \"#####Pandemia COVID-19%%%%%%%\"\n",
    "\n",
    "#primero se \"despoja\" a cada de los caracteres # y % y luego\n",
    "#a la cadena resultante se la convierte a minúsculas\n",
    "cad = cad.strip(\"#%\").lower() \n",
    "print(cad)"
   ]
  },
  {
   "cell_type": "code",
   "execution_count": 45,
   "id": "7453e24b",
   "metadata": {},
   "outputs": [
    {
     "name": "stdout",
     "output_type": "stream",
     "text": [
      "5\n",
      "17\n"
     ]
    },
    {
     "ename": "ValueError",
     "evalue": "substring not found",
     "output_type": "error",
     "traceback": [
      "\u001b[1;31m---------------------------------------------------------------------------\u001b[0m",
      "\u001b[1;31mValueError\u001b[0m                                Traceback (most recent call last)",
      "\u001b[1;32m~\\AppData\\Local\\Temp/ipykernel_12268/2745707972.py\u001b[0m in \u001b[0;36m<module>\u001b[1;34m\u001b[0m\n\u001b[0;32m      6\u001b[0m \u001b[0mprint\u001b[0m\u001b[1;33m(\u001b[0m\u001b[0mcad\u001b[0m\u001b[1;33m.\u001b[0m\u001b[0mindex\u001b[0m\u001b[1;33m(\u001b[0m\u001b[1;34m\"se\"\u001b[0m\u001b[1;33m,\u001b[0m\u001b[0mp\u001b[0m\u001b[1;33m+\u001b[0m\u001b[1;36m1\u001b[0m\u001b[1;33m)\u001b[0m\u001b[1;33m)\u001b[0m\u001b[1;33m\u001b[0m\u001b[1;33m\u001b[0m\u001b[0m\n\u001b[0;32m      7\u001b[0m \u001b[1;33m\u001b[0m\u001b[0m\n\u001b[1;32m----> 8\u001b[1;33m \u001b[0mprint\u001b[0m\u001b[1;33m(\u001b[0m\u001b[0mcad\u001b[0m\u001b[1;33m.\u001b[0m\u001b[0mindex\u001b[0m\u001b[1;33m(\u001b[0m\u001b[1;34m\"SE\"\u001b[0m\u001b[1;33m)\u001b[0m\u001b[1;33m)\u001b[0m\u001b[1;33m\u001b[0m\u001b[1;33m\u001b[0m\u001b[0m\n\u001b[0m",
      "\u001b[1;31mValueError\u001b[0m: substring not found"
     ]
    }
   ],
   "source": [
    "#uso del método index para buscar la primera ocurrencia en una cadena:\n",
    "cad = \"Solo se que nada se\"\n",
    "p = cad.index(\"se\")\n",
    "print(p)\n",
    "\n",
    "print(cad.index(\"se\",p+1))\n",
    "\n",
    "print(cad.index(\"SE\"))"
   ]
  },
  {
   "cell_type": "code",
   "execution_count": 47,
   "id": "85737e32",
   "metadata": {},
   "outputs": [
    {
     "name": "stdout",
     "output_type": "stream",
     "text": [
      "Lima---Ica---Arequipa---Loreto\n",
      "Lima Ica Arequipa Loreto\n"
     ]
    }
   ],
   "source": [
    "#uso del método join para forma una cadena a partir de una lista:\n",
    "\n",
    "lista = [\"Lima\", \"Ica\", \"Arequipa\", \"Loreto\"]\n",
    "\n",
    "cad = \"---\".join(lista)\n",
    "print(cad)\n",
    "\n",
    "print(\" \".join(lista))"
   ]
  },
  {
   "cell_type": "code",
   "execution_count": 49,
   "id": "e0a18eac",
   "metadata": {},
   "outputs": [
    {
     "name": "stdout",
     "output_type": "stream",
     "text": [
      "Ingrese una palabra: PSHFHSF\n",
      "Cadena formada: 727270\n"
     ]
    }
   ],
   "source": [
    "#ejercicio 1: (versión 2)\n",
    "\n",
    "palabra = input(\"Ingrese una palabra: \")\n",
    "\n",
    "subCadena = palabra[2::2]\n",
    "\n",
    "l = list(map(lambda x:str(ord(x)),subCadena))\n",
    "cadFinal = ''.join(l)\n",
    "\n",
    "#cadFinal = ''.join(list(map(lambda x:str(ord(x)),subCadena)))\n",
    "\n",
    "print(\"Cadena formada:\",cadFinal)"
   ]
  },
  {
   "cell_type": "code",
   "execution_count": 53,
   "id": "8d402d72",
   "metadata": {},
   "outputs": [
    {
     "name": "stdout",
     "output_type": "stream",
     "text": [
      "Ingrese una frase: programación de computadoras en python\n",
      "Su acrónimo es: PDCEP\n"
     ]
    }
   ],
   "source": [
    "#ejercicio 2:\n",
    "\n",
    "#programa principal:\n",
    "\n",
    "frase = input(\"Ingrese una frase: \")\n",
    "\n",
    "acronimo = generaAcronimo(frase)\n",
    "\n",
    "print(\"Su acrónimo es:\",acronimo)"
   ]
  },
  {
   "cell_type": "code",
   "execution_count": 50,
   "id": "dee988b9",
   "metadata": {},
   "outputs": [],
   "source": [
    "def generaAcronimo(cad):   \n",
    "    lpalabras = cad.split()    \n",
    "    letras = list(map(lambda x:x[0].upper(),lpalabras))\n",
    "    cadA = ''.join(letras)\n",
    "    return cadA    "
   ]
  },
  {
   "cell_type": "code",
   "execution_count": 52,
   "id": "24342ee4",
   "metadata": {},
   "outputs": [
    {
     "data": {
      "text/plain": [
       "'UPDCA'"
      ]
     },
     "execution_count": 52,
     "metadata": {},
     "output_type": "execute_result"
    }
   ],
   "source": [
    "#comprobando la función:\n",
    "generaAcronimo(\"Universidad Peruana de ciencias aplicadas\")"
   ]
  },
  {
   "cell_type": "code",
   "execution_count": 57,
   "id": "e759d7bc",
   "metadata": {},
   "outputs": [
    {
     "name": "stdout",
     "output_type": "stream",
     "text": [
      "2\n",
      "Solo SE que nada SE\n"
     ]
    }
   ],
   "source": [
    "#usando otros métodos : count y replace\n",
    "\n",
    "cad = \"Solo se que nada se\"\n",
    "print(cad.count(\"se\"))\n",
    "\n",
    "cad = cad.replace(\"se\",\"SE\")\n",
    "print(cad)"
   ]
  },
  {
   "cell_type": "code",
   "execution_count": 59,
   "id": "feed069a",
   "metadata": {},
   "outputs": [
    {
     "name": "stdout",
     "output_type": "stream",
     "text": [
      "17\n",
      "-1\n"
     ]
    }
   ],
   "source": [
    "#uso del método find para buscar la primera ocurrencia en una cadena\n",
    "\n",
    "cad = \"Solo se que nada se\"\n",
    "p = cad.find(\"se\")\n",
    "\n",
    "print(cad.find(\"se\",p+1))\n",
    "\n",
    "print(cad.find(\"Hola\"))"
   ]
  },
  {
   "cell_type": "code",
   "execution_count": 63,
   "id": "219e5359",
   "metadata": {},
   "outputs": [
    {
     "data": {
      "text/plain": [
       "True"
      ]
     },
     "execution_count": 63,
     "metadata": {},
     "output_type": "execute_result"
    }
   ],
   "source": [
    "#uso de los métodos que evaluan un string (retornan un bool)\n",
    "\n",
    "cad1 = \"AMERICA-02\"\n",
    "print(cad1.isupper()) #todas las letras de cad1 son mayúsculas\n",
    "\n",
    "cad2 = \"AMEriCA-02\"\n",
    "cad2.isupper() #todas las letras de cad2 son mayúsculas"
   ]
  },
  {
   "cell_type": "code",
   "execution_count": 65,
   "id": "0939d012",
   "metadata": {},
   "outputs": [
    {
     "name": "stdout",
     "output_type": "stream",
     "text": [
      "True\n",
      "False\n"
     ]
    }
   ],
   "source": [
    "cad1 = \"PERÚ\"\n",
    "print(cad1.isalpha())  #todos los caracteres de cad1 son letras\n",
    "\n",
    "cad2 = \"PERÚ-2022\"\n",
    "print(cad2.isalpha())  #todos los caracteres de cad2 son letras"
   ]
  },
  {
   "cell_type": "code",
   "execution_count": 99,
   "id": "816af0ee",
   "metadata": {},
   "outputs": [
    {
     "name": "stdout",
     "output_type": "stream",
     "text": [
      "True\n",
      "False\n"
     ]
    }
   ],
   "source": [
    "cad1 = \"python-2022\"\n",
    "print(cad1.isprintable())  #todos los caracteres de cad1 son imprimibles\n",
    "\n",
    "cad2 = \"Hola\\n\\ncomo\\t\\testas     \" \n",
    "#todos los caracteres de cad1 son imprimibles\n",
    "print(cad2.isprintable())"
   ]
  },
  {
   "cell_type": "code",
   "execution_count": 69,
   "id": "62d9a258",
   "metadata": {},
   "outputs": [
    {
     "name": "stdout",
     "output_type": "stream",
     "text": [
      "['este', 'es', 'un', 'texto', 'de', 'prueba']\n",
      "Banana\n"
     ]
    }
   ],
   "source": [
    "#TIP: sobre los caracteres no imprimibles\n",
    "print(\"\\n\\neste es un texto\\t\\t\\tde prueba\\n\\n\".split())\n",
    "print(\"\\n\\n\\n  Banana\\t\\t\\t   \".strip())"
   ]
  },
  {
   "cell_type": "code",
   "execution_count": 92,
   "id": "435fbe87",
   "metadata": {},
   "outputs": [
    {
     "name": "stdout",
     "output_type": "stream",
     "text": [
      "Ingrese una clave: tet\n",
      "Clave no válida\n",
      "Ingrese una clave: 56fh\n",
      "Clave no válida\n",
      "Ingrese una clave: Alumno#45\n",
      "Clave válida\n"
     ]
    }
   ],
   "source": [
    "#ejercicio 3:\n",
    "\n",
    "#programa principal:\n",
    "\n",
    "while True:\n",
    "    clave = input(\"Ingrese una clave: \")\n",
    "\n",
    "    if validarClave(clave):\n",
    "        print(\"Clave válida\")\n",
    "        break\n",
    "    else:\n",
    "        print(\"Clave no válida\")     "
   ]
  },
  {
   "cell_type": "code",
   "execution_count": 100,
   "id": "49c3be03",
   "metadata": {},
   "outputs": [],
   "source": [
    "def validarClave(clave):    \n",
    "        #aplicar las otras condiciones:\n",
    "        tam = len(clave)\n",
    "        t1 = len(list(filter(lambda x:x.isupper(),clave)))\n",
    "        t2 = len(list(filter(lambda x:x.islower(),clave)))\n",
    "        t3 = len(list(filter(lambda x:issymbol(x),clave)))\n",
    "        t4 = len(list(filter(lambda x:x.isdigit(),clave)))\n",
    "        t5 = len(list(filter(lambda x:x.isspace(),clave)))\n",
    "        \n",
    "        return  all([tam>=8,t1>0,t2>0,t3>0,t4>0,t5==0])      "
   ]
  },
  {
   "cell_type": "code",
   "execution_count": 101,
   "id": "9b2431f3",
   "metadata": {},
   "outputs": [
    {
     "data": {
      "text/plain": [
       "True"
      ]
     },
     "execution_count": 101,
     "metadata": {},
     "output_type": "execute_result"
    }
   ],
   "source": [
    "#comprobando la función:\n",
    "validarClave(\"Alumno#45\")"
   ]
  },
  {
   "cell_type": "code",
   "execution_count": 102,
   "id": "eb262828",
   "metadata": {},
   "outputs": [],
   "source": [
    "def issymbol(car):  #@ # $ ? ! % &\n",
    "    return car in \"@#$?!%&\""
   ]
  },
  {
   "cell_type": "code",
   "execution_count": 103,
   "id": "fd9a49d7",
   "metadata": {},
   "outputs": [
    {
     "data": {
      "text/plain": [
       "False"
      ]
     },
     "execution_count": 103,
     "metadata": {},
     "output_type": "execute_result"
    }
   ],
   "source": [
    "#comprobación de la función:\n",
    "issymbol('5')"
   ]
  },
  {
   "cell_type": "code",
   "execution_count": 104,
   "id": "de46c66f",
   "metadata": {},
   "outputs": [
    {
     "data": {
      "text/plain": [
       "False"
      ]
     },
     "execution_count": 104,
     "metadata": {},
     "output_type": "execute_result"
    }
   ],
   "source": [
    "#all(): retorna True si todos los valores de L son True,\n",
    "#       caso contrario retorna False\n",
    "\n",
    "L = [5>3, 6==6, 3>1, 4==5]\n",
    "\n",
    "all(L)"
   ]
  },
  {
   "cell_type": "code",
   "execution_count": 105,
   "id": "a2974255",
   "metadata": {},
   "outputs": [
    {
     "name": "stdout",
     "output_type": "stream",
     "text": [
      "ú\n",
      "B\n"
     ]
    }
   ],
   "source": [
    "#Recordando la doble indexación:\n",
    "L = [\"Perú\", \"Chile\", \"Brasil\"]\n",
    "print(L[0][-1])\n",
    "print(L[-1][0])"
   ]
  }
 ],
 "metadata": {
  "kernelspec": {
   "display_name": "Python 3 (ipykernel)",
   "language": "python",
   "name": "python3"
  },
  "language_info": {
   "codemirror_mode": {
    "name": "ipython",
    "version": 3
   },
   "file_extension": ".py",
   "mimetype": "text/x-python",
   "name": "python",
   "nbconvert_exporter": "python",
   "pygments_lexer": "ipython3",
   "version": "3.9.7"
  }
 },
 "nbformat": 4,
 "nbformat_minor": 5
}
