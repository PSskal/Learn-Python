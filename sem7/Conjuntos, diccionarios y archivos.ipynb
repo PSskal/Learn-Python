{
 "cells": [
  {
   "cell_type": "code",
   "execution_count": 2,
   "id": "3678e097",
   "metadata": {},
   "outputs": [
    {
     "name": "stdout",
     "output_type": "stream",
     "text": [
      "{'Perú', 100, 4.5, 'Juan', 'A'}\n",
      "<class 'set'>\n",
      "{1100, 'peru', 54, 543}\n",
      "<class 'set'>\n"
     ]
    }
   ],
   "source": [
    "#creando un conjunto:\n",
    "\n",
    "conjunto = {100, 4.5, \"Perú\", \"A\", \"Juan\"}\n",
    "print(conjunto)\n",
    "print(type(conjunto))\n"
   ]
  },
  {
   "cell_type": "code",
   "execution_count": 2,
   "id": "f0625ba4",
   "metadata": {},
   "outputs": [
    {
     "ename": "TypeError",
     "evalue": "unhashable type: 'list'",
     "output_type": "error",
     "traceback": [
      "\u001b[1;31m---------------------------------------------------------------------------\u001b[0m",
      "\u001b[1;31mTypeError\u001b[0m                                 Traceback (most recent call last)",
      "\u001b[1;32m~\\AppData\\Local\\Temp/ipykernel_11120/1290493039.py\u001b[0m in \u001b[0;36m<module>\u001b[1;34m\u001b[0m\n\u001b[0;32m      1\u001b[0m \u001b[1;31m#un conjunto no puede almacenar listas:\u001b[0m\u001b[1;33m\u001b[0m\u001b[1;33m\u001b[0m\u001b[0m\n\u001b[1;32m----> 2\u001b[1;33m \u001b[0mconjunto\u001b[0m \u001b[1;33m=\u001b[0m \u001b[1;33m{\u001b[0m\u001b[1;36m100\u001b[0m\u001b[1;33m,\u001b[0m \u001b[1;36m4.5\u001b[0m\u001b[1;33m,\u001b[0m \u001b[1;34m\"Perú\"\u001b[0m\u001b[1;33m,\u001b[0m \u001b[1;34m\"A\"\u001b[0m\u001b[1;33m,\u001b[0m \u001b[1;34m\"Juan\"\u001b[0m\u001b[1;33m,\u001b[0m \u001b[1;33m[\u001b[0m\u001b[1;36m6\u001b[0m\u001b[1;33m,\u001b[0m\u001b[1;36m7\u001b[0m\u001b[1;33m,\u001b[0m\u001b[1;36m8\u001b[0m\u001b[1;33m]\u001b[0m\u001b[1;33m}\u001b[0m\u001b[1;33m\u001b[0m\u001b[1;33m\u001b[0m\u001b[0m\n\u001b[0m",
      "\u001b[1;31mTypeError\u001b[0m: unhashable type: 'list'"
     ]
    }
   ],
   "source": [
    "#un conjunto no puede almacenar listas:\n",
    "conjunto = {100, 4.5, \"Perú\", \"A\", \"Juan\", [6,7,8]}"
   ]
  },
  {
   "cell_type": "code",
   "execution_count": 3,
   "id": "694bb30e",
   "metadata": {},
   "outputs": [
    {
     "ename": "TypeError",
     "evalue": "'set' object is not subscriptable",
     "output_type": "error",
     "traceback": [
      "\u001b[1;31m---------------------------------------------------------------------------\u001b[0m",
      "\u001b[1;31mTypeError\u001b[0m                                 Traceback (most recent call last)",
      "\u001b[1;32m~\\AppData\\Local\\Temp/ipykernel_11120/1428667026.py\u001b[0m in \u001b[0;36m<module>\u001b[1;34m\u001b[0m\n\u001b[0;32m      2\u001b[0m \u001b[1;33m\u001b[0m\u001b[0m\n\u001b[0;32m      3\u001b[0m \u001b[0mconjunto\u001b[0m \u001b[1;33m=\u001b[0m \u001b[1;33m{\u001b[0m\u001b[1;36m100\u001b[0m\u001b[1;33m,\u001b[0m \u001b[1;36m4.5\u001b[0m\u001b[1;33m,\u001b[0m \u001b[1;34m\"Perú\"\u001b[0m\u001b[1;33m,\u001b[0m \u001b[1;34m\"A\"\u001b[0m\u001b[1;33m,\u001b[0m \u001b[1;34m\"Juan\"\u001b[0m\u001b[1;33m}\u001b[0m\u001b[1;33m\u001b[0m\u001b[1;33m\u001b[0m\u001b[0m\n\u001b[1;32m----> 4\u001b[1;33m \u001b[0mprint\u001b[0m\u001b[1;33m(\u001b[0m\u001b[0mconjunto\u001b[0m\u001b[1;33m[\u001b[0m\u001b[1;36m0\u001b[0m\u001b[1;33m]\u001b[0m\u001b[1;33m)\u001b[0m\u001b[1;33m\u001b[0m\u001b[1;33m\u001b[0m\u001b[0m\n\u001b[0m",
      "\u001b[1;31mTypeError\u001b[0m: 'set' object is not subscriptable"
     ]
    }
   ],
   "source": [
    "#los elementos de un conjunto no estan indexados:\n",
    "\n",
    "conjunto = {100, 4.5, \"Perú\", \"A\", \"Juan\"}\n",
    "print(conjunto[0])"
   ]
  },
  {
   "cell_type": "code",
   "execution_count": 4,
   "id": "e4a5d159",
   "metadata": {},
   "outputs": [
    {
     "ename": "TypeError",
     "evalue": "'set' object does not support item assignment",
     "output_type": "error",
     "traceback": [
      "\u001b[1;31m---------------------------------------------------------------------------\u001b[0m",
      "\u001b[1;31mTypeError\u001b[0m                                 Traceback (most recent call last)",
      "\u001b[1;32m~\\AppData\\Local\\Temp/ipykernel_11120/2811120910.py\u001b[0m in \u001b[0;36m<module>\u001b[1;34m\u001b[0m\n\u001b[0;32m      2\u001b[0m \u001b[1;33m\u001b[0m\u001b[0m\n\u001b[0;32m      3\u001b[0m \u001b[0mconjunto\u001b[0m \u001b[1;33m=\u001b[0m \u001b[1;33m{\u001b[0m\u001b[1;36m100\u001b[0m\u001b[1;33m,\u001b[0m \u001b[1;36m4.5\u001b[0m\u001b[1;33m,\u001b[0m \u001b[1;34m\"Perú\"\u001b[0m\u001b[1;33m,\u001b[0m \u001b[1;34m\"A\"\u001b[0m\u001b[1;33m,\u001b[0m \u001b[1;34m\"Juan\"\u001b[0m\u001b[1;33m}\u001b[0m\u001b[1;33m\u001b[0m\u001b[1;33m\u001b[0m\u001b[0m\n\u001b[1;32m----> 4\u001b[1;33m \u001b[0mconjunto\u001b[0m\u001b[1;33m[\u001b[0m\u001b[1;36m1\u001b[0m\u001b[1;33m]\u001b[0m \u001b[1;33m=\u001b[0m \u001b[1;34m\"Brasil\"\u001b[0m\u001b[1;33m\u001b[0m\u001b[1;33m\u001b[0m\u001b[0m\n\u001b[0m",
      "\u001b[1;31mTypeError\u001b[0m: 'set' object does not support item assignment"
     ]
    }
   ],
   "source": [
    "#los elementos de un conjunto no se pueden modificar:\n",
    "\n",
    "conjunto = {100, 4.5, \"Perú\", \"A\", \"Juan\"}\n",
    "conjunto[1] = \"Brasil\""
   ]
  },
  {
   "cell_type": "code",
   "execution_count": 4,
   "id": "dca87992",
   "metadata": {},
   "outputs": [
    {
     "name": "stdout",
     "output_type": "stream",
     "text": [
      "{'Perú', 100, 4.5, 'Juan', 'A'}\n",
      "{1, 2, 3, 4, 33, 11, 22}\n"
     ]
    }
   ],
   "source": [
    "#un conjunto no permite el almacenamiento de datos repetidos:\n",
    "\n",
    "conjunto = {100, 4.5, \"Perú\", 100, \"A\", \"Juan\", 100, \"Perú\"}\n",
    "\n",
    "print(conjunto)\n",
    "\n",
    "list1=[1,1,1,11,1,3,22,2,2,2,2,4,33,3,]\n",
    "\n",
    "list1=set(list1)\n",
    "\n",
    "print(list1)"
   ]
  },
  {
   "cell_type": "code",
   "execution_count": 7,
   "id": "b7bcdaf0",
   "metadata": {},
   "outputs": [
    {
     "name": "stdout",
     "output_type": "stream",
     "text": [
      "{36, 5, 13, 16, 26, 28}\n"
     ]
    }
   ],
   "source": [
    "#ejemplo aplicativo:\n",
    "\n",
    "from random import randint\n",
    "\n",
    "bolillas = set() #creando un conjunto vacío\n",
    "\n",
    "while True:\n",
    "    bol = randint(1,36)\n",
    "    bolillas.add(bol)\n",
    "    if len(bolillas)==6:\n",
    "        break\n",
    "        \n",
    "print(bolillas)  #este conjunto lo puedes convertir a otro contenedor"
   ]
  },
  {
   "cell_type": "code",
   "execution_count": 9,
   "id": "8afcda64",
   "metadata": {},
   "outputs": [
    {
     "name": "stdout",
     "output_type": "stream",
     "text": [
      "{4, 5, 7, 13, 400, 19, 30}\n",
      "[4, 5, 7, 13, 400, 19, 30]\n"
     ]
    }
   ],
   "source": [
    "#otro ejemplo:\n",
    "\n",
    "L = [400, 19, 30, 30, 13, 19, 30, 5, 4, 7, 30]\n",
    "\n",
    "#descartando los elemento repetidos de la lista:\n",
    "c = set(L)\n",
    "print(c)\n",
    "L = list(c)\n",
    "print(L)"
   ]
  },
  {
   "cell_type": "code",
   "execution_count": 10,
   "id": "b0c162f5",
   "metadata": {},
   "outputs": [
    {
     "name": "stdout",
     "output_type": "stream",
     "text": [
      "Perú\n",
      "100\n",
      "4.5\n",
      "Juan\n",
      "A\n"
     ]
    }
   ],
   "source": [
    "#un conjunto es un objeto iterable:\n",
    "\n",
    "conjunto = {100, 4.5, \"Perú\", 100, \"A\", \"Juan\", 100, \"Perú\"}\n",
    "\n",
    "for el in conjunto:\n",
    "    print(el)"
   ]
  },
  {
   "cell_type": "code",
   "execution_count": 12,
   "id": "9ff5aeed",
   "metadata": {},
   "outputs": [
    {
     "name": "stdout",
     "output_type": "stream",
     "text": [
      "{50, 20, 40, 10, 60, 30}\n",
      "{1, 2, 3, 4, 5, 6}\n"
     ]
    }
   ],
   "source": [
    "#se puede crear un conjunto de solo números\n",
    "\n",
    "numeros1 = {10, 20, 30, 40, 50, 60}\n",
    "print(numeros1)\n",
    "\n",
    "numeros2 = {1, 2, 3, 4, 5, 6}\n",
    "print(numeros2)"
   ]
  },
  {
   "cell_type": "code",
   "execution_count": 15,
   "id": "c655bc02",
   "metadata": {},
   "outputs": [
    {
     "name": "stdout",
     "output_type": "stream",
     "text": [
      "{'a', 'r', 'e', 't', 'g', 'f', 'w'}\n",
      "{'a', 'r'}\n",
      "{'g', 't'}\n"
     ]
    }
   ],
   "source": [
    "#se pueden aplicar operaciones entre conjuntos:\n",
    "\n",
    "c1 = {'a', 'g', 't', 'r'}\n",
    "c2 = {'f', 'a', 'r', 'e', 'w'}\n",
    "\n",
    "c3 = c1 | c2  #union\n",
    "print(c3)\n",
    "\n",
    "c4 = c1 & c2 #intersección\n",
    "print(c4)\n",
    "\n",
    "c5 = c1 - c2 #diferencia\n",
    "print(c5)"
   ]
  },
  {
   "cell_type": "code",
   "execution_count": 17,
   "id": "5df79d52",
   "metadata": {},
   "outputs": [
    {
     "name": "stdout",
     "output_type": "stream",
     "text": [
      "{'Juan': 43, 'Luis': 23, 'María': 18, 'Laura': 34}\n",
      "<class 'dict'>\n"
     ]
    }
   ],
   "source": [
    "#creando un diccionario:\n",
    "\n",
    "d = {\"Juan\":43, \"Luis\":23, \"María\":18, \"Laura\":34}\n",
    "print(d)\n",
    "print(type(d))\n",
    "\n",
    "#las llaves del diccionario creado son: \"Juan\",\"Luis\",\"María\",\"Laura\"\n",
    "#los valores del diccionario creado son: 43, 23, 18, 34"
   ]
  },
  {
   "cell_type": "code",
   "execution_count": 19,
   "id": "433cada2",
   "metadata": {},
   "outputs": [
    {
     "name": "stdout",
     "output_type": "stream",
     "text": [
      "{1: 'lunes', 2: 'martes', 3: 'miercoles', 4: 'jueves', 5: 'viernes'}\n",
      "{'juan': [13.5, 18, 5], 'luis': [20, 10], 'maria': [9.5, 11.5]}\n"
     ]
    }
   ],
   "source": [
    "#los valores pueden ser de cualquier tipo, pero las llaves solo pueden\n",
    "#ser numeros, textos, tuplas, pero no listas u otros conjuntos o diccionarios:\n",
    "\n",
    "dias = {1:\"lunes\", 2:\"martes\", 3:\"miercoles\", 4:\"jueves\", 5:\"viernes\"}\n",
    "print(dias)\n",
    "\n",
    "data = {\"juan\":[13.5,18,5], \"luis\":[20, 10], \"maria\":[9.5, 11.5]}\n",
    "print(data)"
   ]
  },
  {
   "cell_type": "code",
   "execution_count": 20,
   "id": "4640ebaf",
   "metadata": {},
   "outputs": [
    {
     "name": "stdout",
     "output_type": "stream",
     "text": [
      "{'juan': 80, 'richard': 40, 'laura': 40}\n"
     ]
    }
   ],
   "source": [
    "#las llaves en un diccionario no se puden repetir pero los valores si:\n",
    "\n",
    "datos = {\"juan\":43, \"richard\":40, \"juan\":80, \"laura\":40}\n",
    "print(datos)"
   ]
  },
  {
   "cell_type": "code",
   "execution_count": 26,
   "id": "a95147dd",
   "metadata": {},
   "outputs": [
    {
     "name": "stdout",
     "output_type": "stream",
     "text": [
      "juan\n",
      "43\n",
      "00456748\n"
     ]
    }
   ],
   "source": [
    "#en un diccionario los elementos no están indexados como en otros \n",
    "#contenedores (listas, tuplas , cadenas)\n",
    "\n",
    "persona = {\"nombre\":\"juan\", \"edad\":43, \"DNI\":\"00456748\"}\n",
    "\n",
    "#las llaves se comportan como índices\n",
    "print(persona[\"nombre\"])\n",
    "print(persona[\"edad\"])\n",
    "print(persona[\"DNI\"])\n",
    "\n",
    "#saldría error si es que se desea acceder a una llave que no existe:\n",
    "#print(persona[\"email\"])\n",
    "#print(persona[0])"
   ]
  },
  {
   "cell_type": "code",
   "execution_count": 27,
   "id": "bb9535ae",
   "metadata": {},
   "outputs": [
    {
     "name": "stdout",
     "output_type": "stream",
     "text": [
      "{'nombre': 'juan', 'edad': 43, 'DNI': '95684003'}\n"
     ]
    }
   ],
   "source": [
    "#atraves de las llaves puedo modificar sus valores asociados:\n",
    "#(los valores de un diccionario son mutables)\n",
    "\n",
    "persona = {\"nombre\":\"juan\", \"edad\":43, \"DNI\":\"00456748\"}\n",
    "\n",
    "persona[\"DNI\"] = \"95684003\"\n",
    "print(persona)\n",
    "\n",
    "#OJO: las llaves son inmutables"
   ]
  },
  {
   "cell_type": "code",
   "execution_count": 28,
   "id": "26b39203",
   "metadata": {},
   "outputs": [
    {
     "name": "stdout",
     "output_type": "stream",
     "text": [
      "{'nombre': 'juan', 'edad': 43, 'DNI': '00456748', 'email': 'juan@hotmail.com'}\n"
     ]
    }
   ],
   "source": [
    "#tambien se pueden agregar elementos a un diccionario:\n",
    "\n",
    "persona = {\"nombre\":\"juan\", \"edad\":43, \"DNI\":\"00456748\"}\n",
    "\n",
    "persona[\"email\"] = \"juan@hotmail.com\"\n",
    "print(persona)"
   ]
  },
  {
   "cell_type": "code",
   "execution_count": 29,
   "id": "7f949f11",
   "metadata": {},
   "outputs": [
    {
     "name": "stdout",
     "output_type": "stream",
     "text": [
      "3\n"
     ]
    }
   ],
   "source": [
    "#la funcion bif len() funciona para diccionario\n",
    "persona = {\"nombre\":\"juan\", \"edad\":43, \"DNI\":\"00456748\"}\n",
    "print(len(persona))"
   ]
  },
  {
   "cell_type": "code",
   "execution_count": 32,
   "id": "27b5250d",
   "metadata": {},
   "outputs": [
    {
     "name": "stdout",
     "output_type": "stream",
     "text": [
      "nombre\n",
      "edad\n",
      "DNI\n",
      "\n",
      "nombre : juan\n",
      "edad : 43\n",
      "DNI : 00456748\n"
     ]
    }
   ],
   "source": [
    "#el diccionario es un objeto iterable:\n",
    "persona = {\"nombre\":\"juan\", \"edad\":43, \"DNI\":\"00456748\"}\n",
    "\n",
    "#se iteran las llaves:\n",
    "for k in persona:\n",
    "    print(k)\n",
    "    \n",
    "print()\n",
    "for k in persona:\n",
    "    print(k,\":\",persona[k])"
   ]
  },
  {
   "cell_type": "code",
   "execution_count": 35,
   "id": "c835a387",
   "metadata": {},
   "outputs": [
    {
     "name": "stdout",
     "output_type": "stream",
     "text": [
      "True\n",
      "False\n"
     ]
    }
   ],
   "source": [
    "#la instrucción in funciona para diccionarios:\n",
    "persona = {\"nombre\":\"juan\", \"edad\":43, \"DNI\":\"00456748\"}\n",
    "\n",
    "print(\"nombre\" in persona)\n",
    "print(\"juan\" in persona)"
   ]
  },
  {
   "cell_type": "code",
   "execution_count": 36,
   "id": "b106db3c",
   "metadata": {},
   "outputs": [
    {
     "name": "stdout",
     "output_type": "stream",
     "text": [
      "nombre:juan\n",
      "edad:43\n",
      "DNI:00456748\n",
      "talla:1.66\n"
     ]
    }
   ],
   "source": [
    "#uso del método items():\n",
    "\n",
    "persona = {\"nombre\":\"juan\", \"edad\":43, \"DNI\":\"00456748\", \"talla\":1.66}\n",
    "\n",
    "for k,v in persona.items():\n",
    "    print(\"{}:{}\".format(k,v))"
   ]
  },
  {
   "cell_type": "code",
   "execution_count": 41,
   "id": "60618839",
   "metadata": {},
   "outputs": [
    {
     "name": "stdout",
     "output_type": "stream",
     "text": [
      "juan :\n",
      "  13.50   18.50   10.50 \n",
      "\n",
      "luis :\n",
      "  20.00   10.00   11.00 \n",
      "\n",
      "maria :\n",
      "  19.50   9.50   10.00 \n",
      "\n",
      "carmen :\n",
      "  15.50   16.00   12.50 \n",
      "\n"
     ]
    }
   ],
   "source": [
    "#ejemplo:\n",
    "\n",
    "notas = {\"juan\":[13.5, 18.5, 10.5], \"luis\":[20, 10, 11], \n",
    "         \"maria\":[19.5, 9.5, 10], \"carmen\":[15.5, 16, 12.5]}\n",
    "\n",
    "for nomb,nota in notas.items():\n",
    "    print(nomb,\":\")\n",
    "    for n in nota:\n",
    "        print(\"  {:.2f}\".format(n),end=' ')\n",
    "    print(\"\\n\")"
   ]
  },
  {
   "cell_type": "code",
   "execution_count": 2,
   "id": "9081baed",
   "metadata": {},
   "outputs": [
    {
     "name": "stdout",
     "output_type": "stream",
     "text": [
      "ingrese nombre: juan\n",
      "ingrese edad: 56\n",
      "ingrese nombre: juan\n",
      "ingrese edad: 34\n",
      "ingrese nombre: maria\n",
      "ingrese edad: 29\n",
      "ingrese nombre: luis\n",
      "ingrese edad: 58\n",
      "{'juan': 34, 'maria': 29, 'luis': 58}\n"
     ]
    }
   ],
   "source": [
    "#ejemplo (agregando datos a un diccionario vacío):\n",
    "\n",
    "data = {} #diccionario vacío\n",
    "\n",
    "while True:\n",
    "    nomb = input(\"ingrese nombre: \")\n",
    "    edad = int(input(\"ingrese edad: \"))\n",
    "    data[nomb]=edad   \n",
    "    if len(data)==3:\n",
    "        break\n",
    "    \n",
    "print(data)"
   ]
  },
  {
   "cell_type": "code",
   "execution_count": 7,
   "id": "3ffdbf32",
   "metadata": {},
   "outputs": [
    {
     "name": "stdout",
     "output_type": "stream",
     "text": [
      "Python es un lenguaje práctico e interesante pero que\n",
      "necesita de organización y actitud para entender su filosofía\n",
      "y su razón de ser.\n",
      "La programación en cualquier parte del mundo y en cualquier\n",
      "lenguaje se \"Aprende Haciendo\".\n",
      "Saber programar para un profesional de ingeniería tecnológica\n",
      "es de suma importancia.\n",
      "\n",
      "cantidad de espacios en blanco:  42\n"
     ]
    }
   ],
   "source": [
    "#Lectura y escritura de archivos:\n",
    "\n",
    "#abriendo un archivo de texto en modo lectura solamente:\n",
    "\n",
    "file = open(\"informacion.txt\",encoding=\"utf-8\")\n",
    "\n",
    "#en la cadena data se almacena toda la secuencia de caracteres\n",
    "#del archivo (incluso espacios, saltos de linea, tabuladores,etc..)\n",
    "data = file.read()\n",
    "print(data)\n",
    "print(\"\\ncantidad de espacios en blanco: \",data.count(\" \"))\n",
    "\n",
    "#cerrar el archivo:\n",
    "file.close()"
   ]
  },
  {
   "cell_type": "code",
   "execution_count": 8,
   "id": "b833a203",
   "metadata": {},
   "outputs": [
    {
     "name": "stdout",
     "output_type": "stream",
     "text": [
      "Python es un lenguaje práctico e interesante pero que\n",
      "necesita de organización y actitud para entender su filosofía\n",
      "y su razón de ser.\n",
      "La programación en cualquier parte del mundo y en cualquier\n",
      "lenguaje se \"Aprende Haciendo\".\n",
      "Saber programar para un profesional de ingeniería tecnológica\n",
      "es de suma importancia.\n",
      "\n",
      "cantidad de espacios en blanco:  42\n"
     ]
    }
   ],
   "source": [
    "#usando el context manager : with\n",
    "\n",
    "with open(\"informacion.txt\",encoding=\"utf-8\") as file:\n",
    "    \n",
    "    data = file.read()\n",
    "    print(data)\n",
    "    print(\"\\ncantidad de espacios en blanco: \",data.count(\" \"))\n",
    "    \n",
    "    #al termina la ejecución del bloque, el archivo se cierra\n",
    "    #(ya no se debe usar file.close())"
   ]
  },
  {
   "cell_type": "code",
   "execution_count": 15,
   "id": "8afe52bc",
   "metadata": {},
   "outputs": [
    {
     "name": "stdout",
     "output_type": "stream",
     "text": [
      "\n",
      "Línea: 1\n",
      "Python es un lenguaje práctico e interesante pero que\n",
      "cantidad de palabras:  9\n",
      "\n",
      "Línea: 2\n",
      "necesita de organización y actitud para entender su filosofía\n",
      "cantidad de palabras:  9\n",
      "\n",
      "Línea: 3\n",
      "y su razón de ser.\n",
      "cantidad de palabras:  5\n",
      "\n",
      "Línea: 4\n",
      "La programación en cualquier parte del mundo y en cualquier\n",
      "cantidad de palabras:  10\n",
      "\n",
      "Línea: 5\n",
      "lenguaje se \"Aprende Haciendo\".\n",
      "cantidad de palabras:  4\n",
      "\n",
      "Línea: 6\n",
      "Saber programar para un profesional de ingeniería tecnológica\n",
      "cantidad de palabras:  8\n",
      "\n",
      "Línea: 7\n",
      "es de suma importancia.cantidad de palabras:  4\n"
     ]
    }
   ],
   "source": [
    "#uso del método readline():\n",
    "\n",
    "#cuenta las palabras por línea:\n",
    "with open(\"informacion.txt\",encoding=\"utf-8\") as file:\n",
    "    i=1\n",
    "    while True:\n",
    "        line = file.readline() #se accede a una linea de texto\n",
    "        if line:\n",
    "            print(\"\\nLínea:\",i)\n",
    "            print(line,end='')\n",
    "            print(\"cantidad de palabras: \",len(line.split()))\n",
    "            i+=1\n",
    "        else:\n",
    "            break"
   ]
  },
  {
   "cell_type": "code",
   "execution_count": 17,
   "id": "d2494608",
   "metadata": {},
   "outputs": [
    {
     "name": "stdout",
     "output_type": "stream",
     "text": [
      "Pythonesunlenguajeprácticoeinteresanteperoque\n",
      "necesitadeorganizaciónyactitudparaentendersufilosofía\n",
      "ysurazóndeser.\n",
      "Laprogramaciónencualquierpartedelmundoyencualquier\n",
      "lenguajese\"AprendeHaciendo\".\n",
      "Saberprogramarparaunprofesionaldeingenieríatecnológica\n",
      "esdesumaimportancia."
     ]
    }
   ],
   "source": [
    "#uso del método readlines():\n",
    "\n",
    "with open(\"informacion.txt\",encoding=\"utf-8\") as file:\n",
    "    \n",
    "      #lineas es una lista que contiene todas las lineas de \n",
    "      #texto de un archivo.\n",
    "      lineas = file.readlines()\n",
    "    \n",
    "      for linea in lineas:\n",
    "            print(linea.replace(' ',\"\"),end='')"
   ]
  },
  {
   "cell_type": "code",
   "execution_count": 21,
   "id": "7bce930a",
   "metadata": {},
   "outputs": [
    {
     "name": "stdout",
     "output_type": "stream",
     "text": [
      "Python es un lenguaje práctico e interesante pero que\n",
      "\n",
      "Tope\n",
      "\n",
      "Python es un lenguaje práctico e interesante pero que\n",
      "Tope\n"
     ]
    }
   ],
   "source": [
    "#TIP:\n",
    "\n",
    "linea = \"Python es un lenguaje práctico e interesante pero que\\n\"\n",
    "print(linea)\n",
    "print(\"Tope\")\n",
    "linea = linea.strip()  #permite borrar el ultimo salto de línea\n",
    "print()\n",
    "print(linea)\n",
    "print(\"Tope\")"
   ]
  },
  {
   "cell_type": "code",
   "execution_count": 22,
   "id": "427144d5",
   "metadata": {},
   "outputs": [
    {
     "name": "stdout",
     "output_type": "stream",
     "text": [
      "Python es un lenguaje práctico e interesante pero que\n",
      "necesita de organización y actitud para entender su filosofía\n",
      "y su razón de ser.\n",
      "La programación en cualquier parte del mundo y en cualquier\n",
      "lenguaje se \"Aprende Haciendo\".\n",
      "Saber programar para un profesional de ingeniería tecnológica\n",
      "es de suma importancia."
     ]
    }
   ],
   "source": [
    "#uso del puntero o cursor como objeto iterable:\n",
    "\n",
    "with open(\"informacion.txt\",encoding=\"utf-8\") as file: \n",
    "       #en cada iteración linea va recibiendo cada\n",
    "       #linea de texto del archivo\n",
    "       for linea in file:\n",
    "            print(linea,end='')"
   ]
  },
  {
   "cell_type": "code",
   "execution_count": 25,
   "id": "a6cadad9",
   "metadata": {},
   "outputs": [],
   "source": [
    "#para escribir en un archivo de texto primero hay que abrirlo\n",
    "#en el modo escritura y luego se puede usar el metodo write()\n",
    "\n",
    "data = {\"Juan\":43, \"Richard\":40, \"Carmen\":48, \"Laura\":76}\n",
    "\n",
    "with open(\"datos.txt\",mode=\"w\",encoding=\"utf-8\") as file: \n",
    "     \n",
    "        for nomb,edad in data.items():\n",
    "            file.write(\"{}-->{}\\n\".format(nomb,edad))"
   ]
  },
  {
   "cell_type": "code",
   "execution_count": 30,
   "id": "c4a0e50c",
   "metadata": {},
   "outputs": [
    {
     "name": "stdout",
     "output_type": "stream",
     "text": [
      "juan,43\n",
      "maría,35\n",
      "luis,23\n",
      "richard,18\n",
      "laura,72\n",
      "carlos,22\n"
     ]
    }
   ],
   "source": [
    "#lectura de un archivo csv usando el módulo csv de python\n",
    "\n",
    "import csv\n",
    "\n",
    "with open(\"data.txt\",encoding=\"utf-8\") as file: \n",
    "    #crea el objeto lector (cursor o puntero)\n",
    "    reader = csv.reader(file)\n",
    "    \n",
    "    #obvia la lectura del encabezado\n",
    "    next(reader)\n",
    "\n",
    "    #en cada iteración, linea es una lista\n",
    "    for linea in reader:\n",
    "        print(\"{},{}\".format(linea[0],linea[1]))"
   ]
  },
  {
   "cell_type": "code",
   "execution_count": 37,
   "id": "3250910c",
   "metadata": {},
   "outputs": [],
   "source": [
    "#usando el módulo csv vamos a crear un archivo csv:\n",
    "\n",
    "import csv\n",
    "\n",
    "data = {\"Juan\":43, \"María\":40, \"Carmen\":48, \"Laura\":76}\n",
    "\n",
    "with open(\"edades.csv\",mode=\"w\",newline='') as file:\n",
    "    #crea el objeto escritor (cursor o puntero)\n",
    "    writer = csv.writer(file,delimiter=\";\")\n",
    "    \n",
    "    #escribiendo el encabezado:\n",
    "    writer.writerow([\"nombre\",\"edad\"])\n",
    "    \n",
    "    for nomb,edad in data.items():\n",
    "        writer.writerow([nomb,edad])"
   ]
  },
  {
   "cell_type": "code",
   "execution_count": 38,
   "id": "d5780a57",
   "metadata": {},
   "outputs": [
    {
     "name": "stdout",
     "output_type": "stream",
     "text": [
      "Brasil,42\n",
      "Argentina,39\n",
      "Uruguay,28\n",
      "Ecuador,26\n",
      "Perú,24\n"
     ]
    }
   ],
   "source": [
    "#leer un archivo csv creado a partir de un excel:\n",
    "\n",
    "import csv\n",
    "\n",
    "with open(\"paises.csv\",encoding=\"utf-8\") as file:\n",
    "    \n",
    "    reader = csv.reader(file,delimiter=\";\")\n",
    "    \n",
    "    next(reader)\n",
    "    \n",
    "    for linea in reader:\n",
    "        print(\"{},{}\".format(linea[0],linea[1]))"
   ]
  }
 ],
 "metadata": {
  "kernelspec": {
   "display_name": "Python 3 (ipykernel)",
   "language": "python",
   "name": "python3"
  },
  "language_info": {
   "codemirror_mode": {
    "name": "ipython",
    "version": 3
   },
   "file_extension": ".py",
   "mimetype": "text/x-python",
   "name": "python",
   "nbconvert_exporter": "python",
   "pygments_lexer": "ipython3",
   "version": "3.9.12"
  }
 },
 "nbformat": 4,
 "nbformat_minor": 5
}
