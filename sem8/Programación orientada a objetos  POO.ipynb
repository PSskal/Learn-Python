{
 "cells": [
  {
   "cell_type": "code",
   "execution_count": null,
   "id": "49e3c0b0",
   "metadata": {},
   "outputs": [],
   "source": [
    "#python es un lenguaje orientado a objetos:\n",
    "#\"Para python todo es objeto y clase\""
   ]
  },
  {
   "cell_type": "code",
   "execution_count": 2,
   "id": "f492df96",
   "metadata": {},
   "outputs": [
    {
     "name": "stdout",
     "output_type": "stream",
     "text": [
      "<class 'int'>\n"
     ]
    },
    {
     "data": {
      "text/plain": [
       "True"
      ]
     },
     "execution_count": 2,
     "metadata": {},
     "output_type": "execute_result"
    }
   ],
   "source": [
    "num = 4 \n",
    "print(type(num))\n",
    "#se crea el objeto num de la clase int\n",
    "\n",
    "#el objeto num es una instancia de la clase int\n",
    "isinstance(num,int)"
   ]
  },
  {
   "cell_type": "code",
   "execution_count": 4,
   "id": "0e1e8a21",
   "metadata": {},
   "outputs": [
    {
     "name": "stdout",
     "output_type": "stream",
     "text": [
      "<class 'str'>\n"
     ]
    },
    {
     "data": {
      "text/plain": [
       "'HELLO'"
      ]
     },
     "execution_count": 4,
     "metadata": {},
     "output_type": "execute_result"
    }
   ],
   "source": [
    "cad = \"Hello\"\n",
    "print(type(cad))\n",
    "#se crea el objeto cad de la clase str\n",
    "\n",
    "#el objeto aplica una accion (llama a un metodo)\n",
    "cad.upper()"
   ]
  },
  {
   "cell_type": "code",
   "execution_count": 7,
   "id": "974a56a6",
   "metadata": {},
   "outputs": [
    {
     "name": "stdout",
     "output_type": "stream",
     "text": [
      "<class 'list'>\n",
      "[5, 7, 8, 7]\n",
      "[5, 100, 7, 8, 7]\n"
     ]
    }
   ],
   "source": [
    "l = [5, 7, 8]\n",
    "print(type(l))\n",
    "#se crea el objeto l de la clase list\n",
    "\n",
    "#el objeto aplica una accion (llama a un metodo)\n",
    "l.append(7)\n",
    "print(l)\n",
    "\n",
    "l.insert(1,100)\n",
    "print(l)"
   ]
  },
  {
   "cell_type": "code",
   "execution_count": 8,
   "id": "63a2d688",
   "metadata": {},
   "outputs": [
    {
     "name": "stdout",
     "output_type": "stream",
     "text": [
      "<__main__.People object at 0x000002C063CE50D0>\n",
      "tampoco\n"
     ]
    }
   ],
   "source": [
    "#creando nuestra primera clase en Python:\n",
    "\n",
    "class People:\n",
    "    \n",
    "    def __init__(self):\n",
    "        \n",
    "        self.direccion=\"no se\"\n",
    "        self.name=\"tampoco\"\n",
    "        self.number=\" \"\n",
    "        \n",
    "p2=People()\n",
    "print(p2)\n",
    "print(p2.name)"
   ]
  },
  {
   "cell_type": "code",
   "execution_count": 3,
   "id": "58e79f19",
   "metadata": {},
   "outputs": [
    {
     "name": "stdout",
     "output_type": "stream",
     "text": [
      "<__main__.Hombre object at 0x000002C062AAD790>\n",
      "<class '__main__.Hombre'>\n"
     ]
    }
   ],
   "source": [
    "class Hombre:\n",
    "    pass\n",
    "\n",
    "H1=Hombre()\n",
    "print(H1)\n",
    "print(type(H1))\n"
   ]
  },
  {
   "cell_type": "code",
   "execution_count": 12,
   "id": "13041a30",
   "metadata": {},
   "outputs": [
    {
     "name": "stdout",
     "output_type": "stream",
     "text": [
      "<class '__main__.Persona'>\n",
      "<__main__.Persona object at 0x000001A1096ECB80>\n"
     ]
    }
   ],
   "source": [
    "#instanciando un objeto de la clase Persona:\n",
    "p1 = Persona()\n",
    "print(type(p1))\n",
    "print(p1)"
   ]
  },
  {
   "cell_type": "code",
   "execution_count": 13,
   "id": "cb998f43",
   "metadata": {},
   "outputs": [
    {
     "name": "stdout",
     "output_type": "stream",
     "text": [
      "<class '__main__.Persona'>\n",
      "<__main__.Persona object at 0x000001A1096ECE20>\n"
     ]
    }
   ],
   "source": [
    "#instanciando otro objeto de la clase Persona:\n",
    "p2 = Persona()\n",
    "print(type(p2))\n",
    "print(p2)"
   ]
  },
  {
   "cell_type": "code",
   "execution_count": 16,
   "id": "4b245113",
   "metadata": {},
   "outputs": [],
   "source": [
    "class Persona:\n",
    "    \n",
    "    #sobrecargando al método constructor __init__:\n",
    "    def __init__(self):\n",
    "        #atributos públicos\n",
    "        self.nombre=\"NN\"\n",
    "        self.telefono=\"000-000-000\"\n",
    "        self.email=\" \""
   ]
  },
  {
   "cell_type": "code",
   "execution_count": 20,
   "id": "14760458",
   "metadata": {},
   "outputs": [
    {
     "name": "stdout",
     "output_type": "stream",
     "text": [
      "<__main__.Persona object at 0x000001A1096EC670>\n",
      "NN\n",
      "000-000-000\n",
      " \n"
     ]
    }
   ],
   "source": [
    "#instanciando un objeto de la clase Persona:\n",
    "p1 = Persona()\n",
    "print(p1)\n",
    "print(p1.nombre)\n",
    "print(p1.telefono)\n",
    "print(p1.email)"
   ]
  },
  {
   "cell_type": "code",
   "execution_count": 21,
   "id": "b6871999",
   "metadata": {},
   "outputs": [
    {
     "data": {
      "text/plain": [
       "<__main__.Persona at 0x1a1096ec670>"
      ]
     },
     "execution_count": 21,
     "metadata": {},
     "output_type": "execute_result"
    }
   ],
   "source": [
    "p1"
   ]
  },
  {
   "cell_type": "code",
   "execution_count": 29,
   "id": "d90bcb56",
   "metadata": {},
   "outputs": [],
   "source": [
    "class Persona:\n",
    "    \n",
    "    #sobrecargando al método constructor __init__:\n",
    "    def __init__(self):\n",
    "        self.nombre=\"NN\"\n",
    "        self.telefono=\"000-000-000\"\n",
    "        self.email=\" \"\n",
    "                \n",
    "    #sobrecargando al método de representación  __repr__:\n",
    "    def __repr__(self):\n",
    "        return \"Persona[nombre:{}, telefono:{}, email:{}]\".format(self.nombre, self.telefono, self.email)"
   ]
  },
  {
   "cell_type": "code",
   "execution_count": 30,
   "id": "fbbdaddb",
   "metadata": {},
   "outputs": [
    {
     "name": "stdout",
     "output_type": "stream",
     "text": [
      "Persona[nombre:NN, telefono:000-000-000, email: ]\n"
     ]
    }
   ],
   "source": [
    "p1 = Persona()\n",
    "print(p1)"
   ]
  },
  {
   "cell_type": "code",
   "execution_count": 34,
   "id": "3e04fde0",
   "metadata": {},
   "outputs": [
    {
     "ename": "TypeError",
     "evalue": "El nombre debe ser str",
     "output_type": "error",
     "traceback": [
      "\u001b[1;31m---------------------------------------------------------------------------\u001b[0m",
      "\u001b[1;31mTypeError\u001b[0m                                 Traceback (most recent call last)",
      "Input \u001b[1;32mIn [34]\u001b[0m, in \u001b[0;36m<cell line: 25>\u001b[1;34m()\u001b[0m\n\u001b[0;32m     21\u001b[0m         \u001b[38;5;28;01melse\u001b[39;00m:\n\u001b[0;32m     22\u001b[0m             \u001b[38;5;66;03m#generar una excepción de typeError\u001b[39;00m\n\u001b[0;32m     23\u001b[0m             \u001b[38;5;28;01mraise\u001b[39;00m \u001b[38;5;167;01mTypeError\u001b[39;00m(\u001b[38;5;124m\"\u001b[39m\u001b[38;5;124mEl nombre debe ser str\u001b[39m\u001b[38;5;124m\"\u001b[39m)\n\u001b[1;32m---> 25\u001b[0m p0\u001b[38;5;241m=\u001b[39m\u001b[43mPeople\u001b[49m\u001b[43m(\u001b[49m\u001b[38;5;124;43m\"\u001b[39;49m\u001b[38;5;124;43mloca\u001b[39;49m\u001b[38;5;124;43m\"\u001b[39;49m\u001b[43m,\u001b[49m\u001b[38;5;241;43m21\u001b[39;49m\u001b[43m,\u001b[49m\u001b[38;5;124;43m\"\u001b[39;49m\u001b[38;5;124;43mcomo que se\u001b[39;49m\u001b[38;5;124;43m\"\u001b[39;49m\u001b[43m)\u001b[49m\n\u001b[0;32m     27\u001b[0m \u001b[38;5;28mprint\u001b[39m(p0)\n",
      "Input \u001b[1;32mIn [34]\u001b[0m, in \u001b[0;36mPeople.__init__\u001b[1;34m(self, direccion, name, number)\u001b[0m\n\u001b[0;32m      3\u001b[0m \u001b[38;5;28;01mdef\u001b[39;00m \u001b[38;5;21m__init__\u001b[39m(\u001b[38;5;28mself\u001b[39m, direccion\u001b[38;5;241m=\u001b[39m\u001b[38;5;124m\"\u001b[39m\u001b[38;5;124mno se\u001b[39m\u001b[38;5;124m\"\u001b[39m, name\u001b[38;5;241m=\u001b[39m\u001b[38;5;124m\"\u001b[39m\u001b[38;5;124mtampoco\u001b[39m\u001b[38;5;124m\"\u001b[39m, number\u001b[38;5;241m=\u001b[39m\u001b[38;5;124m\"\u001b[39m\u001b[38;5;124m \u001b[39m\u001b[38;5;124m\"\u001b[39m):\n\u001b[0;32m      5\u001b[0m     \u001b[38;5;28mself\u001b[39m\u001b[38;5;241m.\u001b[39mdireccion\u001b[38;5;241m=\u001b[39mdireccion\n\u001b[1;32m----> 6\u001b[0m     \u001b[38;5;28mself\u001b[39m\u001b[38;5;241m.\u001b[39mname\u001b[38;5;241m=\u001b[39mname\n\u001b[0;32m      7\u001b[0m     \u001b[38;5;28mself\u001b[39m\u001b[38;5;241m.\u001b[39mnumber\u001b[38;5;241m=\u001b[39mnumber\n",
      "Input \u001b[1;32mIn [34]\u001b[0m, in \u001b[0;36mPeople.name\u001b[1;34m(self, val)\u001b[0m\n\u001b[0;32m     20\u001b[0m     \u001b[38;5;28mself\u001b[39m\u001b[38;5;241m.\u001b[39m__name \u001b[38;5;241m=\u001b[39m val\n\u001b[0;32m     21\u001b[0m \u001b[38;5;28;01melse\u001b[39;00m:\n\u001b[0;32m     22\u001b[0m     \u001b[38;5;66;03m#generar una excepción de typeError\u001b[39;00m\n\u001b[1;32m---> 23\u001b[0m     \u001b[38;5;28;01mraise\u001b[39;00m \u001b[38;5;167;01mTypeError\u001b[39;00m(\u001b[38;5;124m\"\u001b[39m\u001b[38;5;124mEl nombre debe ser str\u001b[39m\u001b[38;5;124m\"\u001b[39m)\n",
      "\u001b[1;31mTypeError\u001b[0m: El nombre debe ser str"
     ]
    }
   ],
   "source": [
    "class People:\n",
    "    \n",
    "    def __init__(self, direccion=\"no se\", name=\"tampoco\", number=\" \"):\n",
    "        \n",
    "        self.direccion=direccion\n",
    "        self.name=name\n",
    "        self.number=number\n",
    "    def __repr__(self):\n",
    "        return \"Peolpe[direccion: {}, name: {}, number: {}]\".format(self.direccion,self.name,self.number)\n",
    "        \n",
    "    \n",
    "    @property\n",
    "    \n",
    "    def name(self):\n",
    "        return self.__name\n",
    "    \n",
    "    @name.setter #simular al setter (setter decorado)\n",
    "    def name(self,val):\n",
    "        if isinstance(val,str):\n",
    "            self.__name = val\n",
    "        else:\n",
    "            #generar una excepción de typeError\n",
    "            raise TypeError(\"El nombre debe ser str\")\n",
    "    \n",
    "p0=People(\"loca\",21,\"como que se\")\n",
    "\n",
    "print(p0)   \n"
   ]
  },
  {
   "cell_type": "code",
   "execution_count": 33,
   "id": "1d58aaae",
   "metadata": {},
   "outputs": [
    {
     "name": "stdout",
     "output_type": "stream",
     "text": [
      "Persona[nombre:NN, telefono:000-000-000, email: ]\n",
      "Persona[nombre:juan, telefono:999-345-678, email:juan@hotmail]\n"
     ]
    }
   ],
   "source": [
    "p1 = Persona()\n",
    "print(p1)\n",
    "\n",
    "#invocando a los atributos para asignarles valor\n",
    "p1.nombre = \"juan\"\n",
    "p1.telefono = \"999-345-678\"\n",
    "p1.email = \"juan@hotmail\"\n",
    "print(p1)"
   ]
  },
  {
   "cell_type": "code",
   "execution_count": 34,
   "id": "8f0113f1",
   "metadata": {},
   "outputs": [
    {
     "name": "stdout",
     "output_type": "stream",
     "text": [
      "Persona[nombre:NN, telefono:000-000-000, email: ]\n",
      "Persona[nombre:45.6, telefono:000-000-000, email: ]\n"
     ]
    }
   ],
   "source": [
    "p1 = Persona()\n",
    "print(p1)\n",
    "p1.nombre = 45.6\n",
    "print(p1)"
   ]
  },
  {
   "cell_type": "code",
   "execution_count": 98,
   "id": "45b4cfd2",
   "metadata": {},
   "outputs": [],
   "source": [
    "class Persona:\n",
    "    \n",
    "    #agregando argumentos de entrada al __init__:\n",
    "    def __init__(self,nombre=\"NN\",telefono=\"000-000-000\",email=\" \"):\n",
    "        self.nombre=nombre\n",
    "        self.telefono=telefono\n",
    "        self.email=email\n",
    "                \n",
    "    def __repr__(self):\n",
    "        return \"Persona[nombre:{}, telefono:{}, email:{}]\".format(self.nombre, self.telefono, self.email)"
   ]
  },
  {
   "cell_type": "code",
   "execution_count": 37,
   "id": "79200b5d",
   "metadata": {},
   "outputs": [
    {
     "name": "stdout",
     "output_type": "stream",
     "text": [
      "Persona[nombre:NN, telefono:000-000-000, email: ]\n"
     ]
    }
   ],
   "source": [
    "p1 = Persona()\n",
    "print(p1)"
   ]
  },
  {
   "cell_type": "code",
   "execution_count": 38,
   "id": "d7202af8",
   "metadata": {},
   "outputs": [
    {
     "name": "stdout",
     "output_type": "stream",
     "text": [
      "Persona[nombre:juan, telefono:999-555-666, email:juan@hotmail]\n"
     ]
    }
   ],
   "source": [
    "p1 = Persona(\"juan\",\"999-555-666\",\"juan@hotmail\")\n",
    "print(p1)"
   ]
  },
  {
   "cell_type": "code",
   "execution_count": 26,
   "id": "b42dfefb",
   "metadata": {},
   "outputs": [],
   "source": [
    "#agregar decoradores:\n",
    "\n",
    "class Persona:\n",
    "    \n",
    "    def __init__(self,nombre=\"NN\",telefono=\"000-000-000\",email=\" \"):\n",
    "        self.nombre=nombre\n",
    "        self.telefono=telefono\n",
    "        self.email=email\n",
    "                \n",
    "    def __repr__(self):\n",
    "        return \"Persona[nombre:{}, telefono:{}, email:{}]\".format(self.nombre, self.telefono, self.email)\n",
    "    \n",
    "    @property        #simular al getter (getter decorado)\n",
    "    def nombre(self):\n",
    "        return self.__nombre\n",
    "    \n",
    "    @nombre.setter #simular al setter (setter decorado)\n",
    "    def nombre(self,val):\n",
    "        if isinstance(val,str):\n",
    "            self.__nombre = val\n",
    "        else:\n",
    "            #generar una excepción de typeError\n",
    "            raise TypeError(\"El nombre debe ser str\")\n",
    "            \n",
    "            \n",
    "    @property        #simular al getter (getter decorado)\n",
    "    def telefono(self):\n",
    "        return self.__telefono\n",
    "    \n",
    "    @telefono.setter #simular al setter (setter decorado)\n",
    "    def telefono(self,val):\n",
    "        if isinstance(val,str):\n",
    "            self.__telefono = val\n",
    "        else:\n",
    "            #generar una excepción de typeError\n",
    "            raise TypeError(\"El telefono debe ser str\")\n",
    "            \n",
    "    @property        #simular al getter (getter decorado)\n",
    "    def email(self):\n",
    "        return self.__email\n",
    "    \n",
    "    @email.setter #simular al setter (setter decorado)\n",
    "    def email(self,val):\n",
    "        if isinstance(val,str):\n",
    "            self.__email = val\n",
    "        else:\n",
    "            #generar una excepción de typeError\n",
    "            raise TypeError(\"El email debe ser str\")"
   ]
  },
  {
   "cell_type": "code",
   "execution_count": 76,
   "id": "36a992bc",
   "metadata": {},
   "outputs": [
    {
     "data": {
      "text/plain": [
       "['__class__',\n",
       " '__delattr__',\n",
       " '__dict__',\n",
       " '__dir__',\n",
       " '__doc__',\n",
       " '__eq__',\n",
       " '__format__',\n",
       " '__ge__',\n",
       " '__getattribute__',\n",
       " '__gt__',\n",
       " '__hash__',\n",
       " '__init__',\n",
       " '__init_subclass__',\n",
       " '__le__',\n",
       " '__lt__',\n",
       " '__module__',\n",
       " '__ne__',\n",
       " '__new__',\n",
       " '__reduce__',\n",
       " '__reduce_ex__',\n",
       " '__repr__',\n",
       " '__setattr__',\n",
       " '__sizeof__',\n",
       " '__str__',\n",
       " '__subclasshook__',\n",
       " '__weakref__',\n",
       " 'email',\n",
       " 'nombre',\n",
       " 'telefono']"
      ]
     },
     "execution_count": 76,
     "metadata": {},
     "output_type": "execute_result"
    }
   ],
   "source": [
    "dir(Persona)"
   ]
  },
  {
   "cell_type": "code",
   "execution_count": 28,
   "id": "94463025",
   "metadata": {},
   "outputs": [
    {
     "ename": "TypeError",
     "evalue": "El nombre debe ser str",
     "output_type": "error",
     "traceback": [
      "\u001b[1;31m---------------------------------------------------------------------------\u001b[0m",
      "\u001b[1;31mTypeError\u001b[0m                                 Traceback (most recent call last)",
      "Input \u001b[1;32mIn [28]\u001b[0m, in \u001b[0;36m<cell line: 1>\u001b[1;34m()\u001b[0m\n\u001b[1;32m----> 1\u001b[0m p1 \u001b[38;5;241m=\u001b[39m \u001b[43mPersona\u001b[49m\u001b[43m(\u001b[49m\u001b[38;5;241;43m32\u001b[39;49m\u001b[43m,\u001b[49m\u001b[38;5;124;43m\"\u001b[39;49m\u001b[38;5;124;43m777-555-777\u001b[39;49m\u001b[38;5;124;43m\"\u001b[39;49m\u001b[43m,\u001b[49m\u001b[38;5;124;43m\"\u001b[39;49m\u001b[38;5;124;43mjuan@hotmail.com\u001b[39;49m\u001b[38;5;124;43m\"\u001b[39;49m\u001b[43m)\u001b[49m\n\u001b[0;32m      2\u001b[0m \u001b[38;5;28mprint\u001b[39m(p1)\n",
      "Input \u001b[1;32mIn [26]\u001b[0m, in \u001b[0;36mPersona.__init__\u001b[1;34m(self, nombre, telefono, email)\u001b[0m\n\u001b[0;32m      5\u001b[0m \u001b[38;5;28;01mdef\u001b[39;00m \u001b[38;5;21m__init__\u001b[39m(\u001b[38;5;28mself\u001b[39m,nombre\u001b[38;5;241m=\u001b[39m\u001b[38;5;124m\"\u001b[39m\u001b[38;5;124mNN\u001b[39m\u001b[38;5;124m\"\u001b[39m,telefono\u001b[38;5;241m=\u001b[39m\u001b[38;5;124m\"\u001b[39m\u001b[38;5;124m000-000-000\u001b[39m\u001b[38;5;124m\"\u001b[39m,email\u001b[38;5;241m=\u001b[39m\u001b[38;5;124m\"\u001b[39m\u001b[38;5;124m \u001b[39m\u001b[38;5;124m\"\u001b[39m):\n\u001b[1;32m----> 6\u001b[0m     \u001b[38;5;28mself\u001b[39m\u001b[38;5;241m.\u001b[39mnombre\u001b[38;5;241m=\u001b[39mnombre\n\u001b[0;32m      7\u001b[0m     \u001b[38;5;28mself\u001b[39m\u001b[38;5;241m.\u001b[39mtelefono\u001b[38;5;241m=\u001b[39mtelefono\n\u001b[0;32m      8\u001b[0m     \u001b[38;5;28mself\u001b[39m\u001b[38;5;241m.\u001b[39memail\u001b[38;5;241m=\u001b[39memail\n",
      "Input \u001b[1;32mIn [26]\u001b[0m, in \u001b[0;36mPersona.nombre\u001b[1;34m(self, val)\u001b[0m\n\u001b[0;32m     20\u001b[0m     \u001b[38;5;28mself\u001b[39m\u001b[38;5;241m.\u001b[39m__nombre \u001b[38;5;241m=\u001b[39m val\n\u001b[0;32m     21\u001b[0m \u001b[38;5;28;01melse\u001b[39;00m:\n\u001b[0;32m     22\u001b[0m     \u001b[38;5;66;03m#generar una excepción de typeError\u001b[39;00m\n\u001b[1;32m---> 23\u001b[0m     \u001b[38;5;28;01mraise\u001b[39;00m \u001b[38;5;167;01mTypeError\u001b[39;00m(\u001b[38;5;124m\"\u001b[39m\u001b[38;5;124mEl nombre debe ser str\u001b[39m\u001b[38;5;124m\"\u001b[39m)\n",
      "\u001b[1;31mTypeError\u001b[0m: El nombre debe ser str"
     ]
    }
   ],
   "source": [
    "p1 = Persona(32,\"777-555-777\",\"juan@hotmail.com\")\n",
    "print(p1)"
   ]
  },
  {
   "cell_type": "code",
   "execution_count": 51,
   "id": "c7aaf4c8",
   "metadata": {},
   "outputs": [
    {
     "ename": "TypeError",
     "evalue": "El telefono debe ser str",
     "output_type": "error",
     "traceback": [
      "\u001b[1;31m---------------------------------------------------------------------------\u001b[0m",
      "\u001b[1;31mTypeError\u001b[0m                                 Traceback (most recent call last)",
      "\u001b[1;32m~\\AppData\\Local\\Temp/ipykernel_12828/1482215013.py\u001b[0m in \u001b[0;36m<module>\u001b[1;34m\u001b[0m\n\u001b[1;32m----> 1\u001b[1;33m \u001b[0mp1\u001b[0m \u001b[1;33m=\u001b[0m \u001b[0mPersona\u001b[0m\u001b[1;33m(\u001b[0m\u001b[1;34m\"juan\"\u001b[0m\u001b[1;33m,\u001b[0m\u001b[1;36m230\u001b[0m\u001b[1;33m,\u001b[0m\u001b[1;34m\"juan@hotmail.com\"\u001b[0m\u001b[1;33m)\u001b[0m\u001b[1;33m\u001b[0m\u001b[1;33m\u001b[0m\u001b[0m\n\u001b[0m\u001b[0;32m      2\u001b[0m \u001b[0mprint\u001b[0m\u001b[1;33m(\u001b[0m\u001b[0mp1\u001b[0m\u001b[1;33m)\u001b[0m\u001b[1;33m\u001b[0m\u001b[1;33m\u001b[0m\u001b[0m\n",
      "\u001b[1;32m~\\AppData\\Local\\Temp/ipykernel_12828/2566618404.py\u001b[0m in \u001b[0;36m__init__\u001b[1;34m(self, nombre, telefono, email)\u001b[0m\n\u001b[0;32m      6\u001b[0m     \u001b[1;32mdef\u001b[0m \u001b[0m__init__\u001b[0m\u001b[1;33m(\u001b[0m\u001b[0mself\u001b[0m\u001b[1;33m,\u001b[0m\u001b[0mnombre\u001b[0m\u001b[1;33m=\u001b[0m\u001b[1;34m\"NN\"\u001b[0m\u001b[1;33m,\u001b[0m\u001b[0mtelefono\u001b[0m\u001b[1;33m=\u001b[0m\u001b[1;34m\"000-000-000\"\u001b[0m\u001b[1;33m,\u001b[0m\u001b[0memail\u001b[0m\u001b[1;33m=\u001b[0m\u001b[1;34m\" \"\u001b[0m\u001b[1;33m)\u001b[0m\u001b[1;33m:\u001b[0m\u001b[1;33m\u001b[0m\u001b[1;33m\u001b[0m\u001b[0m\n\u001b[0;32m      7\u001b[0m         \u001b[0mself\u001b[0m\u001b[1;33m.\u001b[0m\u001b[0mnombre\u001b[0m\u001b[1;33m=\u001b[0m\u001b[0mnombre\u001b[0m\u001b[1;33m\u001b[0m\u001b[1;33m\u001b[0m\u001b[0m\n\u001b[1;32m----> 8\u001b[1;33m         \u001b[0mself\u001b[0m\u001b[1;33m.\u001b[0m\u001b[0mtelefono\u001b[0m\u001b[1;33m=\u001b[0m\u001b[0mtelefono\u001b[0m\u001b[1;33m\u001b[0m\u001b[1;33m\u001b[0m\u001b[0m\n\u001b[0m\u001b[0;32m      9\u001b[0m         \u001b[0mself\u001b[0m\u001b[1;33m.\u001b[0m\u001b[0memail\u001b[0m\u001b[1;33m=\u001b[0m\u001b[0memail\u001b[0m\u001b[1;33m\u001b[0m\u001b[1;33m\u001b[0m\u001b[0m\n\u001b[0;32m     10\u001b[0m \u001b[1;33m\u001b[0m\u001b[0m\n",
      "\u001b[1;32m~\\AppData\\Local\\Temp/ipykernel_12828/2566618404.py\u001b[0m in \u001b[0;36mtelefono\u001b[1;34m(self, val)\u001b[0m\n\u001b[0;32m     37\u001b[0m         \u001b[1;32melse\u001b[0m\u001b[1;33m:\u001b[0m\u001b[1;33m\u001b[0m\u001b[1;33m\u001b[0m\u001b[0m\n\u001b[0;32m     38\u001b[0m             \u001b[1;31m#generar una excepción de typeError\u001b[0m\u001b[1;33m\u001b[0m\u001b[1;33m\u001b[0m\u001b[0m\n\u001b[1;32m---> 39\u001b[1;33m             \u001b[1;32mraise\u001b[0m \u001b[0mTypeError\u001b[0m\u001b[1;33m(\u001b[0m\u001b[1;34m\"El telefono debe ser str\"\u001b[0m\u001b[1;33m)\u001b[0m\u001b[1;33m\u001b[0m\u001b[1;33m\u001b[0m\u001b[0m\n\u001b[0m\u001b[0;32m     40\u001b[0m \u001b[1;33m\u001b[0m\u001b[0m\n\u001b[0;32m     41\u001b[0m     \u001b[1;33m@\u001b[0m\u001b[0mproperty\u001b[0m        \u001b[1;31m#simular al getter (getter decorado)\u001b[0m\u001b[1;33m\u001b[0m\u001b[1;33m\u001b[0m\u001b[0m\n",
      "\u001b[1;31mTypeError\u001b[0m: El telefono debe ser str"
     ]
    }
   ],
   "source": [
    "p1 = Persona(\"juan\",230,\"juan@hotmail.com\")\n",
    "print(p1)"
   ]
  },
  {
   "cell_type": "code",
   "execution_count": 49,
   "id": "c643cdc4",
   "metadata": {},
   "outputs": [
    {
     "ename": "TypeError",
     "evalue": "El email debe ser str",
     "output_type": "error",
     "traceback": [
      "\u001b[1;31m---------------------------------------------------------------------------\u001b[0m",
      "\u001b[1;31mTypeError\u001b[0m                                 Traceback (most recent call last)",
      "\u001b[1;32m~\\AppData\\Local\\Temp/ipykernel_12828/3424990198.py\u001b[0m in \u001b[0;36m<module>\u001b[1;34m\u001b[0m\n\u001b[1;32m----> 1\u001b[1;33m \u001b[0mp1\u001b[0m \u001b[1;33m=\u001b[0m \u001b[0mPersona\u001b[0m\u001b[1;33m(\u001b[0m\u001b[1;34m\"juan\"\u001b[0m\u001b[1;33m,\u001b[0m\u001b[1;34m\"666-444-555\"\u001b[0m\u001b[1;33m,\u001b[0m\u001b[1;33m[\u001b[0m\u001b[1;36m5\u001b[0m\u001b[1;33m,\u001b[0m\u001b[1;36m6\u001b[0m\u001b[1;33m,\u001b[0m\u001b[1;36m7\u001b[0m\u001b[1;33m]\u001b[0m\u001b[1;33m)\u001b[0m\u001b[1;33m\u001b[0m\u001b[1;33m\u001b[0m\u001b[0m\n\u001b[0m\u001b[0;32m      2\u001b[0m \u001b[0mprint\u001b[0m\u001b[1;33m(\u001b[0m\u001b[0mp1\u001b[0m\u001b[1;33m)\u001b[0m\u001b[1;33m\u001b[0m\u001b[1;33m\u001b[0m\u001b[0m\n",
      "\u001b[1;32m~\\AppData\\Local\\Temp/ipykernel_12828/2566618404.py\u001b[0m in \u001b[0;36m__init__\u001b[1;34m(self, nombre, telefono, email)\u001b[0m\n\u001b[0;32m      7\u001b[0m         \u001b[0mself\u001b[0m\u001b[1;33m.\u001b[0m\u001b[0mnombre\u001b[0m\u001b[1;33m=\u001b[0m\u001b[0mnombre\u001b[0m\u001b[1;33m\u001b[0m\u001b[1;33m\u001b[0m\u001b[0m\n\u001b[0;32m      8\u001b[0m         \u001b[0mself\u001b[0m\u001b[1;33m.\u001b[0m\u001b[0mtelefono\u001b[0m\u001b[1;33m=\u001b[0m\u001b[0mtelefono\u001b[0m\u001b[1;33m\u001b[0m\u001b[1;33m\u001b[0m\u001b[0m\n\u001b[1;32m----> 9\u001b[1;33m         \u001b[0mself\u001b[0m\u001b[1;33m.\u001b[0m\u001b[0memail\u001b[0m\u001b[1;33m=\u001b[0m\u001b[0memail\u001b[0m\u001b[1;33m\u001b[0m\u001b[1;33m\u001b[0m\u001b[0m\n\u001b[0m\u001b[0;32m     10\u001b[0m \u001b[1;33m\u001b[0m\u001b[0m\n\u001b[0;32m     11\u001b[0m     \u001b[1;31m#sobrecargando al método de representación  __repr__:\u001b[0m\u001b[1;33m\u001b[0m\u001b[1;33m\u001b[0m\u001b[0m\n",
      "\u001b[1;32m~\\AppData\\Local\\Temp/ipykernel_12828/2566618404.py\u001b[0m in \u001b[0;36memail\u001b[1;34m(self, val)\u001b[0m\n\u001b[0;32m     49\u001b[0m         \u001b[1;32melse\u001b[0m\u001b[1;33m:\u001b[0m\u001b[1;33m\u001b[0m\u001b[1;33m\u001b[0m\u001b[0m\n\u001b[0;32m     50\u001b[0m             \u001b[1;31m#generar una excepción de typeError\u001b[0m\u001b[1;33m\u001b[0m\u001b[1;33m\u001b[0m\u001b[0m\n\u001b[1;32m---> 51\u001b[1;33m             \u001b[1;32mraise\u001b[0m \u001b[0mTypeError\u001b[0m\u001b[1;33m(\u001b[0m\u001b[1;34m\"El email debe ser str\"\u001b[0m\u001b[1;33m)\u001b[0m\u001b[1;33m\u001b[0m\u001b[1;33m\u001b[0m\u001b[0m\n\u001b[0m",
      "\u001b[1;31mTypeError\u001b[0m: El email debe ser str"
     ]
    }
   ],
   "source": [
    "p1 = Persona(\"juan\",\"666-444-555\",[5,6,7])\n",
    "print(p1)"
   ]
  },
  {
   "cell_type": "code",
   "execution_count": 53,
   "id": "3c463539",
   "metadata": {},
   "outputs": [
    {
     "name": "stdout",
     "output_type": "stream",
     "text": [
      "Persona[nombre:juan, telefono:555-777-567, email:juan@hotmail.com]\n"
     ]
    },
    {
     "ename": "TypeError",
     "evalue": "El nombre debe ser str",
     "output_type": "error",
     "traceback": [
      "\u001b[1;31m---------------------------------------------------------------------------\u001b[0m",
      "\u001b[1;31mTypeError\u001b[0m                                 Traceback (most recent call last)",
      "\u001b[1;32m~\\AppData\\Local\\Temp/ipykernel_12828/310044863.py\u001b[0m in \u001b[0;36m<module>\u001b[1;34m\u001b[0m\n\u001b[0;32m      1\u001b[0m \u001b[0mp1\u001b[0m \u001b[1;33m=\u001b[0m \u001b[0mPersona\u001b[0m\u001b[1;33m(\u001b[0m\u001b[1;34m\"juan\"\u001b[0m\u001b[1;33m,\u001b[0m\u001b[1;34m\"555-777-567\"\u001b[0m\u001b[1;33m,\u001b[0m\u001b[1;34m\"juan@hotmail.com\"\u001b[0m\u001b[1;33m)\u001b[0m\u001b[1;33m\u001b[0m\u001b[1;33m\u001b[0m\u001b[0m\n\u001b[0;32m      2\u001b[0m \u001b[0mprint\u001b[0m\u001b[1;33m(\u001b[0m\u001b[0mp1\u001b[0m\u001b[1;33m)\u001b[0m\u001b[1;33m\u001b[0m\u001b[1;33m\u001b[0m\u001b[0m\n\u001b[1;32m----> 3\u001b[1;33m \u001b[0mp1\u001b[0m\u001b[1;33m.\u001b[0m\u001b[0mnombre\u001b[0m \u001b[1;33m=\u001b[0m \u001b[1;36m345\u001b[0m\u001b[1;33m\u001b[0m\u001b[1;33m\u001b[0m\u001b[0m\n\u001b[0m",
      "\u001b[1;32m~\\AppData\\Local\\Temp/ipykernel_12828/2566618404.py\u001b[0m in \u001b[0;36mnombre\u001b[1;34m(self, val)\u001b[0m\n\u001b[0;32m     24\u001b[0m         \u001b[1;32melse\u001b[0m\u001b[1;33m:\u001b[0m\u001b[1;33m\u001b[0m\u001b[1;33m\u001b[0m\u001b[0m\n\u001b[0;32m     25\u001b[0m             \u001b[1;31m#generar una excepción de typeError\u001b[0m\u001b[1;33m\u001b[0m\u001b[1;33m\u001b[0m\u001b[0m\n\u001b[1;32m---> 26\u001b[1;33m             \u001b[1;32mraise\u001b[0m \u001b[0mTypeError\u001b[0m\u001b[1;33m(\u001b[0m\u001b[1;34m\"El nombre debe ser str\"\u001b[0m\u001b[1;33m)\u001b[0m\u001b[1;33m\u001b[0m\u001b[1;33m\u001b[0m\u001b[0m\n\u001b[0m\u001b[0;32m     27\u001b[0m \u001b[1;33m\u001b[0m\u001b[0m\n\u001b[0;32m     28\u001b[0m \u001b[1;33m\u001b[0m\u001b[0m\n",
      "\u001b[1;31mTypeError\u001b[0m: El nombre debe ser str"
     ]
    }
   ],
   "source": [
    "p1 = Persona(\"juan\",\"555-777-567\",\"juan@hotmail.com\")\n",
    "print(p1)\n",
    "p1.nombre = 345"
   ]
  },
  {
   "cell_type": "code",
   "execution_count": 54,
   "id": "e3a2d155",
   "metadata": {},
   "outputs": [
    {
     "name": "stdout",
     "output_type": "stream",
     "text": [
      "Persona[nombre:juan, telefono:555-777-567, email:juan@hotmail.com]\n"
     ]
    },
    {
     "data": {
      "text/plain": [
       "'carlos'"
      ]
     },
     "execution_count": 54,
     "metadata": {},
     "output_type": "execute_result"
    }
   ],
   "source": [
    "p1 = Persona(\"juan\",\"555-777-567\",\"juan@hotmail.com\")\n",
    "print(p1)\n",
    "p1.nombre = \"carlos\"\n",
    "p1.nombre"
   ]
  },
  {
   "cell_type": "code",
   "execution_count": 55,
   "id": "b2e16b77",
   "metadata": {},
   "outputs": [
    {
     "name": "stdout",
     "output_type": "stream",
     "text": [
      "carlos\n"
     ]
    }
   ],
   "source": [
    "print(p1.nombre)"
   ]
  },
  {
   "cell_type": "code",
   "execution_count": 101,
   "id": "649ecec4",
   "metadata": {},
   "outputs": [],
   "source": [
    "#usando otros métodos mágicos\n",
    "\n",
    "class Resistencia:\n",
    "    \n",
    "    def __init__(self,valor=0):\n",
    "        self.valor = valor\n",
    "    \n",
    "    def __repr__(self):\n",
    "        return \"Resistencia[valor={:.2f} ohmios]\".format(self.valor)\n",
    "    \n",
    "    #sobrecargando al método mágico __add__:\n",
    "    def __add__(self,other):\n",
    "        return Resistencia(valor = self.valor + other.valor)\n",
    "    \n",
    "    #sobrecargando al método mágico __floordiv__:\n",
    "    def __floordiv__(self,other):\n",
    "        req = (1/self.valor + 1/other.valor)**-1\n",
    "        return Resistencia(valor=req)"
   ]
  },
  {
   "cell_type": "code",
   "execution_count": 79,
   "id": "840c1617",
   "metadata": {},
   "outputs": [
    {
     "name": "stdout",
     "output_type": "stream",
     "text": [
      "Resistencia[valor=1000.00 ohmios]\n",
      "Resistencia[valor=100.00 ohmios]\n",
      "Resistencia[valor=330.00 ohmios]\n",
      "Resistencia[valor=1430.00 ohmios]\n"
     ]
    }
   ],
   "source": [
    "r1 = Resistencia(1000)\n",
    "print(r1)\n",
    "\n",
    "r2 = Resistencia(100)\n",
    "print(r2)\n",
    "\n",
    "r3 = Resistencia(330)\n",
    "print(r3)\n",
    "\n",
    "r4 = r1 + r2 + r3  #calcular resistencia en serie\n",
    "print(r4)"
   ]
  },
  {
   "cell_type": "code",
   "execution_count": 74,
   "id": "b3aa56a5",
   "metadata": {},
   "outputs": [
    {
     "name": "stdout",
     "output_type": "stream",
     "text": [
      "Resistencia[valor=1000.00 ohmios]\n",
      "Resistencia[valor=100.00 ohmios]\n",
      "Resistencia[valor=90.91 ohmios]\n"
     ]
    }
   ],
   "source": [
    "r1 = Resistencia(1000)\n",
    "print(r1)\n",
    "\n",
    "r2 = Resistencia(100)\n",
    "print(r2)\n",
    "\n",
    "r3 = r1//r2 #calcular la resistencia en paralelo\n",
    "print(r3)"
   ]
  },
  {
   "cell_type": "code",
   "execution_count": 91,
   "id": "f563b451",
   "metadata": {},
   "outputs": [],
   "source": [
    "#creando la clase Circulo\n",
    "\n",
    "from math import pi\n",
    "\n",
    "class Circulo:\n",
    "    \n",
    "    def __init__(self,radio=1.0):\n",
    "        self.radio = radio\n",
    "    \n",
    "    def __repr__(self):\n",
    "        return \"Circulo[Radio={:.3f}]\".format(self.radio)\n",
    "    \n",
    "    \n",
    "    @property\n",
    "    def radio(self):\n",
    "        return self.__radio\n",
    "    \n",
    "    \n",
    "    @radio.setter\n",
    "    def radio(self,val):\n",
    "        if isinstance(val,float) or isinstance(val,int):\n",
    "            if val>0:\n",
    "                self.__radio = val\n",
    "            else:\n",
    "                raise ValueError(\"El radio debe ser positivo\")\n",
    "        else:\n",
    "            raise TypeError(\"El radio debe ser int o float\")\n",
    "            \n",
    "    def calcularArea(self):\n",
    "        return pi*self.radio**2\n",
    "    \n",
    "    def calcularPerimetro(self):\n",
    "        return 2*pi*self.radio"
   ]
  },
  {
   "cell_type": "code",
   "execution_count": 86,
   "id": "2df0ae73",
   "metadata": {},
   "outputs": [
    {
     "name": "stdout",
     "output_type": "stream",
     "text": [
      "Circulo[Radio=1.000]\n",
      "Circulo[Radio=10.500]\n",
      "10.5\n"
     ]
    }
   ],
   "source": [
    "c1 = Circulo()\n",
    "print(c1)\n",
    "c1.radio = 10.5\n",
    "print(c1)\n",
    "print(c1.radio)"
   ]
  },
  {
   "cell_type": "code",
   "execution_count": 90,
   "id": "dc13e06f",
   "metadata": {},
   "outputs": [
    {
     "name": "stdout",
     "output_type": "stream",
     "text": [
      "Circulo[Radio=12.400]\n"
     ]
    },
    {
     "ename": "TypeError",
     "evalue": "El radio debe ser int o float",
     "output_type": "error",
     "traceback": [
      "\u001b[1;31m---------------------------------------------------------------------------\u001b[0m",
      "\u001b[1;31mTypeError\u001b[0m                                 Traceback (most recent call last)",
      "\u001b[1;32m~\\AppData\\Local\\Temp/ipykernel_12828/4050198819.py\u001b[0m in \u001b[0;36m<module>\u001b[1;34m\u001b[0m\n\u001b[0;32m      1\u001b[0m \u001b[0mc2\u001b[0m \u001b[1;33m=\u001b[0m \u001b[0mCirculo\u001b[0m\u001b[1;33m(\u001b[0m\u001b[0mradio\u001b[0m\u001b[1;33m=\u001b[0m\u001b[1;36m12.4\u001b[0m\u001b[1;33m)\u001b[0m\u001b[1;33m\u001b[0m\u001b[1;33m\u001b[0m\u001b[0m\n\u001b[0;32m      2\u001b[0m \u001b[0mprint\u001b[0m\u001b[1;33m(\u001b[0m\u001b[0mc2\u001b[0m\u001b[1;33m)\u001b[0m\u001b[1;33m\u001b[0m\u001b[1;33m\u001b[0m\u001b[0m\n\u001b[1;32m----> 3\u001b[1;33m \u001b[0mc2\u001b[0m\u001b[1;33m.\u001b[0m\u001b[0mradio\u001b[0m \u001b[1;33m=\u001b[0m \u001b[1;34m\"UPC\"\u001b[0m\u001b[1;33m\u001b[0m\u001b[1;33m\u001b[0m\u001b[0m\n\u001b[0m",
      "\u001b[1;32m~\\AppData\\Local\\Temp/ipykernel_12828/3865940827.py\u001b[0m in \u001b[0;36mradio\u001b[1;34m(self, val)\u001b[0m\n\u001b[0;32m     21\u001b[0m                 \u001b[1;32mraise\u001b[0m \u001b[0mValueError\u001b[0m\u001b[1;33m(\u001b[0m\u001b[1;34m\"El radio debe ser positivo\"\u001b[0m\u001b[1;33m)\u001b[0m\u001b[1;33m\u001b[0m\u001b[1;33m\u001b[0m\u001b[0m\n\u001b[0;32m     22\u001b[0m         \u001b[1;32melse\u001b[0m\u001b[1;33m:\u001b[0m\u001b[1;33m\u001b[0m\u001b[1;33m\u001b[0m\u001b[0m\n\u001b[1;32m---> 23\u001b[1;33m             \u001b[1;32mraise\u001b[0m \u001b[0mTypeError\u001b[0m\u001b[1;33m(\u001b[0m\u001b[1;34m\"El radio debe ser int o float\"\u001b[0m\u001b[1;33m)\u001b[0m\u001b[1;33m\u001b[0m\u001b[1;33m\u001b[0m\u001b[0m\n\u001b[0m",
      "\u001b[1;31mTypeError\u001b[0m: El radio debe ser int o float"
     ]
    }
   ],
   "source": [
    "c2 = Circulo(radio=12.4)\n",
    "print(c2)\n",
    "c2.radio = \"UPC\""
   ]
  },
  {
   "cell_type": "code",
   "execution_count": 95,
   "id": "74ba1e1f",
   "metadata": {},
   "outputs": [
    {
     "name": "stdout",
     "output_type": "stream",
     "text": [
      "Circulo[Radio=2.500]\n",
      "Area: 19.634954084936208\n",
      "Perímetro: 15.707963267948966\n"
     ]
    }
   ],
   "source": [
    "c3 = Circulo(radio=2.5)\n",
    "print(c3)\n",
    "print(\"Area:\",c3.calcularArea())\n",
    "print(\"Perímetro:\",c3.calcularPerimetro())"
   ]
  },
  {
   "cell_type": "code",
   "execution_count": 96,
   "id": "3955b623",
   "metadata": {},
   "outputs": [
    {
     "data": {
      "text/plain": [
       "['__class__',\n",
       " '__delattr__',\n",
       " '__dict__',\n",
       " '__dir__',\n",
       " '__doc__',\n",
       " '__eq__',\n",
       " '__format__',\n",
       " '__ge__',\n",
       " '__getattribute__',\n",
       " '__gt__',\n",
       " '__hash__',\n",
       " '__init__',\n",
       " '__init_subclass__',\n",
       " '__le__',\n",
       " '__lt__',\n",
       " '__module__',\n",
       " '__ne__',\n",
       " '__new__',\n",
       " '__reduce__',\n",
       " '__reduce_ex__',\n",
       " '__repr__',\n",
       " '__setattr__',\n",
       " '__sizeof__',\n",
       " '__str__',\n",
       " '__subclasshook__',\n",
       " '__weakref__',\n",
       " 'calcularArea',\n",
       " 'calcularPerimetro',\n",
       " 'radio']"
      ]
     },
     "execution_count": 96,
     "metadata": {},
     "output_type": "execute_result"
    }
   ],
   "source": [
    "dir(Circulo)"
   ]
  },
  {
   "cell_type": "code",
   "execution_count": null,
   "id": "7080adaa",
   "metadata": {},
   "outputs": [],
   "source": []
  }
 ],
 "metadata": {
  "kernelspec": {
   "display_name": "Python 3 (ipykernel)",
   "language": "python",
   "name": "python3"
  },
  "language_info": {
   "codemirror_mode": {
    "name": "ipython",
    "version": 3
   },
   "file_extension": ".py",
   "mimetype": "text/x-python",
   "name": "python",
   "nbconvert_exporter": "python",
   "pygments_lexer": "ipython3",
   "version": "3.9.12"
  }
 },
 "nbformat": 4,
 "nbformat_minor": 5
}
