{
 "cells": [
  {
   "cell_type": "markdown",
   "metadata": {},
   "source": [
    "# Programación Orientada a Objetos (POO)\n",
    "<img src=\"https://cdn.educba.com/academy/wp-content/uploads/2019/01/is-python-object-oriented.jpg\" alt=\"car_her\" width=\"500\"/>\n",
    "\n",
    "<div style=\"text-align: right\">Autor: Luis A. Muñoz - 2020 </div>"
   ]
  },
  {
   "cell_type": "markdown",
   "metadata": {},
   "source": [
    "La programación orientada a objetos (OOP, por sus siglas en inglés) es un [*paradigma de programación*](https://es.wikipedia.org/wiki/Lenguaje_de_programaci%C3%B3n#Paradigma_de_programaci%C3%B3n), es decir, una metodología de programación que permite modelar un objeto del mundo real en base a código. En este paradigma, los datos y el procesamiento se encuentran integrados en una sola unidad llamada \"objeto\"."
   ]
  },
  {
   "cell_type": "markdown",
   "metadata": {},
   "source": [
    "## Objeto\n",
    "¿Cómo definiría un \"objeto\"? ¿Una cosa? ¿Algo que está allí? \n",
    "\n",
    "En programación se define a un objeto como:\n",
    "\n",
    "* Algo que tiene un conjunto de propiedades o características\n",
    "* Algo que puede realizar distintas acciones\n",
    "\n",
    "Por ejemplo, un lápiz es un objeto. ¿Qué propiedades le puede asignar a un lápiz (lo que se puede expresar como \"un objeto lápiz\")? ¿Qué acciones puede realizar con un objeto lápiz?"
   ]
  },
  {
   "cell_type": "markdown",
   "metadata": {},
   "source": [
    "### Ejercicio: Anote las propiedades de un objeto lápiz\n",
    "* Color\n",
    "* Tipo\n",
    "* Punta\n",
    "* Peso\n",
    "* Longitud\n",
    "* Posicion x\n",
    "* Posicion y"
   ]
  },
  {
   "cell_type": "markdown",
   "metadata": {},
   "source": [
    "### Ejercicio: Anote las acciones de un objeto lapiz\n",
    "* Mover plano\n",
    "* Subir\n",
    "* Bajar\n"
   ]
  },
  {
   "cell_type": "markdown",
   "metadata": {},
   "source": [
    "Existe una terminología muy específica en la OOP:\n",
    "\n",
    "* Las propiedades o características de un objeto se denominan **Atributos**   o **Campos**\n",
    "* Las acciones que puede aplicar un objeto se denominan **Métodos**  \n",
    "\n",
    "  Es por ello que, para que un objeto aplique una acción se utiliza la \n",
    "  sintáxis `obj.metodo()`."
   ]
  },
  {
   "cell_type": "markdown",
   "metadata": {},
   "source": [
    "## Clase\n",
    "Una clase es un prototipo que define todos los atributos y métodos de un objeto. Es una plantilla que sirve para crear (es decir, \"instanciar\") un objeto futuro. Por ejemplo, se puede considerar una clase `Car` que defina todos los atributos de un automóvil (marca, modelo, motor, ruedas, color, etc.) asi como todas las acciones a realizar (acelerar, frenar, girar, etc.). \n",
    "\n",
    "<img src=\"https://upload.wikimedia.org/wikipedia/commons/thumb/9/98/CPT-OOP-objects_and_classes_-_attmeth.svg/2000px-CPT-OOP-objects_and_classes_-_attmeth.svg.png\" alt=\"car_obj\" width=\"400\"/>\n",
    "\n",
    "Los objetos instanciados a partir de la clase `Car` serán los objetos `Audi`, `Nissan` o `Volvo`, todos clase `Car`:\n",
    "\n",
    "<img src=\"https://pc-solucion.es/wp-content/uploads/2019/05/programacion-orientada-a-objetos.png\" alt=\"car_her\" width=\"600\"/>\n",
    "Entonces, un objeto integra los atributos y métodos definidos en la clase, en una sola entidad.\n",
    "\n",
    "Un objeto es una instancia (copia) de una clase."
   ]
  },
  {
   "cell_type": "markdown",
   "metadata": {},
   "source": [
    "### La personas también las podemos considerar como objetos:\n",
    "\n",
    "<img src=\"https://4.bp.blogspot.com/-g8bsFokE5vg/W5u1wBDpM-I/AAAAAAAAAfM/4bBw7z1Bn5sIs1Us2Rxy9zc5_iCK4wTQACLcBGAs/s1600/Objects.png\" alt=\"car_her\" width=\"400\"/>\n"
   ]
  },
  {
   "cell_type": "markdown",
   "metadata": {},
   "source": [
    "## Objetos en Python\n",
    "\n",
    "__...¡EN PYTHON TODO ES UN OBJETO!__\n",
    "\n",
    "Hemos venido trabajando con objetos desde el primer dia. Entonces, vamos a hacer la transición:\n",
    "\n",
    "    Variable -> Objeto\n",
    "    \n",
    "Por ejemplo cuando se escribe el siguiente código:\n",
    "\n",
    "    t = 'hola'\n",
    "    \n",
    "Se esta \"instanciando\" un \"objeto\" `t` de la clase `str`. Esto se puede verificar con la instrucción `isinstance`:"
   ]
  },
  {
   "cell_type": "code",
   "execution_count": 4,
   "metadata": {},
   "outputs": [
    {
     "name": "stdout",
     "output_type": "stream",
     "text": [
      "<class 'str'>\n",
      "True\n"
     ]
    }
   ],
   "source": [
    "t = \"hola\"\n",
    "print(type(t))\n",
    "print(isinstance(t,str))"
   ]
  },
  {
   "cell_type": "markdown",
   "metadata": {},
   "source": [
    "Es decir; *t* no es \"formalmente\" una variable que vale 'hola', es un objeto de la clase `str` con un atributo o campo de valor igual a 'hola' y que tiene algunos métodos (es decir, acciones sobre el objeto `t`), como por ejemplo, convertirlo en un texto en mayúsculas:"
   ]
  },
  {
   "cell_type": "code",
   "execution_count": 12,
   "metadata": {},
   "outputs": [
    {
     "data": {
      "text/plain": [
       "'HOLA'"
      ]
     },
     "execution_count": 12,
     "metadata": {},
     "output_type": "execute_result"
    }
   ],
   "source": [
    "t.upper()"
   ]
  },
  {
   "cell_type": "markdown",
   "metadata": {},
   "source": [
    " Es decir, el método `upper` se aplica sobre el objeto `t` y no es genérico (no sirve para convertir a mayúsculas un `str`; sirve para convertir a mayúsculas específicamente el objeto de la clase `str, t`). "
   ]
  },
  {
   "cell_type": "markdown",
   "metadata": {},
   "source": [
    "**Otro ejemplo:**\n",
    "\n",
    "Cuando se escribe la siguiente instrucción:\n",
    "\n",
    "    num = 4\n",
    "    \n",
    "lo que esta sucediendo es la creación de un *objeto* de tipo *int* (esta es la *clase* del objeto). En este caso se ha creado el objeto num y ha sido *instanciado* con el valor de 4 (esto es, se ha inicializado con el valor de 4). El valor numérico sería el atributo o campo del objeto num  y este objeto tiene la capacidad de aplicar acciones (métodos), como suma (+), resta (-), etc."
   ]
  },
  {
   "cell_type": "markdown",
   "metadata": {},
   "source": [
    "**Otro ejemplo de un objeto en Python es una lista:**\n",
    "\n",
    "    lista = [1, 2, 3, 4, 5]\n",
    "    \n",
    "Lo que aqui sucede es la creación del objeto lista de la clase list y se ha instanciado con una secuencia de valores. Internamente, una lista se inicializa de la siguiente manera:\n",
    "\n",
    "    lista = 1 -> 2 -> 3 -> 4 -> 5\n",
    "    \n",
    "Donde 1 es el primer valor de la lista, -> es un \"puntero\", un tipo de dato especial que almacena una dirección de memoria, direccion donde se aloja el número 2 (de alli el nombre puntero, porque apunta a un dato) y luego otro puntero que apunta al tercer elemento de la lista, etc.\n",
    "\n",
    "No es necesario conocer estos detalles internos del funcionamieto de una lista (pero, ¿ahora entiende porque cuando de hace _lista2 = lista1_ ambas no solo tienen los mismos valores, sino que además cuando se modifica un valor en una lista en la otra también se modifica?): estos detalles estan escondidos dentras de la definición del objeto. Como programador solo es necesario saber que hay que colocar numeros encerrados entre [] y separarlos por comas. Toda esta información esta *encapsulada* dentro de la definición de la clase *list*.\n",
    "\n",
    "Una vez establecido esto, se sabe que hay ciertas acciones que se pueden realizar con una lista, como:\n",
    "\n",
    "    lista.append(6)\n",
    "    lista.pop()\n",
    "    lista.reverse()\n",
    "    \n",
    "Estas son acciones que se ejecutan sobre el objeto *lista*: son los *métodos* disponibles para este objeto. Estos métodos son los que se observan cuando se hace:\n",
    "\n",
    "    dir(lista)"
   ]
  },
  {
   "cell_type": "markdown",
   "metadata": {},
   "source": [
    "Si se crean dos listas:\n",
    "\n",
    "    lista1 = [1, 2, 3, 4]\n",
    "    lista2 = [10, 20, 30, 40]\n",
    "    \n",
    "Lo que se tiene son dos *instancias* (objetos) diferentes de la misma clase *list*. Sin embargo, ambos comparten los mismos atributos y los mismos métodos."
   ]
  },
  {
   "cell_type": "markdown",
   "metadata": {},
   "source": [
    "### Creando una clase en Python:\n",
    "\n",
    "Primero, debemos aclarar el proceso de instanciamiento o la creación de un objeto. Para esto vamos a definir la forma más básica de una clase (por ejemplo la clase Persona):"
   ]
  },
  {
   "cell_type": "code",
   "execution_count": 2,
   "metadata": {},
   "outputs": [],
   "source": [
    "class Persona:\n",
    "    pass"
   ]
  },
  {
   "cell_type": "markdown",
   "metadata": {},
   "source": [
    "La palabra reservada `class` permite definir el nombre de una clase. Una vez definida la clase `Persona` podemos instanciar un objeto:"
   ]
  },
  {
   "cell_type": "code",
   "execution_count": 3,
   "metadata": {},
   "outputs": [],
   "source": [
    "persona1 = Persona()"
   ]
  },
  {
   "cell_type": "markdown",
   "metadata": {},
   "source": [
    "¡Ya esta! Ahora tenemos un objeto clase `Persona`:"
   ]
  },
  {
   "cell_type": "code",
   "execution_count": 4,
   "metadata": {},
   "outputs": [
    {
     "data": {
      "text/plain": [
       "__main__.Persona"
      ]
     },
     "execution_count": 4,
     "metadata": {},
     "output_type": "execute_result"
    }
   ],
   "source": [
    "type(persona1)"
   ]
  },
  {
   "cell_type": "markdown",
   "metadata": {},
   "source": [
    "Este objeto esta instanciado en una posición de memoría y si se instancia otro objeto `Persona` este será diferente al anterior:"
   ]
  },
  {
   "cell_type": "code",
   "execution_count": 5,
   "metadata": {},
   "outputs": [
    {
     "name": "stdout",
     "output_type": "stream",
     "text": [
      "<__main__.Persona object at 0x00000206B04F6580>\n",
      "<__main__.Persona object at 0x00000206B0478220>\n"
     ]
    }
   ],
   "source": [
    "persona2 = Persona()\n",
    "\n",
    "print(persona1)\n",
    "print(persona2)"
   ]
  },
  {
   "cell_type": "markdown",
   "metadata": {},
   "source": [
    "Asi que ahora podemos tener una \"lista de personas\":"
   ]
  },
  {
   "cell_type": "code",
   "execution_count": 6,
   "metadata": {},
   "outputs": [
    {
     "name": "stdout",
     "output_type": "stream",
     "text": [
      "[<__main__.Persona object at 0x00000206B04F6580>, <__main__.Persona object at 0x00000206B0478220>]\n"
     ]
    }
   ],
   "source": [
    "lista_personas = [persona1, persona2]\n",
    "print(lista_personas)"
   ]
  },
  {
   "cell_type": "markdown",
   "metadata": {},
   "source": [
    "### Contructor de una clase: __init__\n",
    "Al momento de instanciar un objeto a partir de una clase, se invoca a un método privado de una clase llamado \"constructor\". En el caso de Python, este método se llama `__init__`, asi **con doble-subrayado al principio y al final** (*double under*, o *dunder*). Estos métodos que inician con *dunder* se conocen con el esotérico nombre de \"métodos mágicos\" porque se invocan sin ser llamados explícitamente. Cuando se ejecuta el instanciamiento:\n",
    "\n",
    "    persona1 = Persona()\n",
    "    \n",
    "Realmente, se esta ejecutando la instrucción:\n",
    "\n",
    "    persona1 = Persona.__init__()"
   ]
  },
  {
   "cell_type": "code",
   "execution_count": 10,
   "metadata": {},
   "outputs": [],
   "source": [
    "class Persona:\n",
    "    def __init__(self):\n",
    "        self.nombre=\"NN\""
   ]
  },
  {
   "cell_type": "code",
   "execution_count": 11,
   "metadata": {
    "scrolled": true
   },
   "outputs": [
    {
     "name": "stdout",
     "output_type": "stream",
     "text": [
      "<__main__.Persona object at 0x00000206B050D6A0>\n"
     ]
    }
   ],
   "source": [
    "persona1 = Persona()\n",
    "print(persona1)"
   ]
  },
  {
   "cell_type": "markdown",
   "metadata": {},
   "source": [
    "Esta vez la clase persona tiene el método__init__ *sobrecargado*, esto es, editado con algun código. Para entender la definición de esta clase hay que entender el significado de *self*.\n",
    "\n",
    "Recuerde: una clase es una plantilla para el instanciamiento de un objeto *que será*: por ejemplo, la clase `Persona` es la plantilla para el instanciamiento de un objeto futuro, como `persona1`. Pero antes del instanciamiento de `persona1`, ¿cómo especifico el atributo \"nombre\" de esa \"futura persona\"? Se necesita alguna sintáxis que permita expresar algo así como: \"este es el nombre de *esta persona que será*\". Este es el significado de la palabra *self: una etiqueta que será reemplazada por el objeto futuro.\n",
    "\n",
    "Entonces `self.nombre` es el atributo \"nombre\" de lo que luego será `persona1`, por ejemplo."
   ]
  },
  {
   "cell_type": "markdown",
   "metadata": {},
   "source": [
    "### Representación de una clase:  __repr__\n",
    "Otro método mágico útil en la definición de una clase es `__repr__`. Este método se encarga de retornar un `str` que contenga una representación textual del objeto. Este método es invocado cuando se imprime un objeto y/o  cuando se invoca al objeto de forma directa."
   ]
  },
  {
   "cell_type": "code",
   "execution_count": 18,
   "metadata": {},
   "outputs": [],
   "source": [
    "class Persona:\n",
    "    def __init__(self):\n",
    "        self.nombre=\"NN\"\n",
    "        \n",
    "    def __repr__(self):\n",
    "        return \"Persona:[nombre:{}]\".format(self.nombre)"
   ]
  },
  {
   "cell_type": "code",
   "execution_count": 19,
   "metadata": {
    "scrolled": true
   },
   "outputs": [],
   "source": [
    "persona1 = Persona()"
   ]
  },
  {
   "cell_type": "code",
   "execution_count": 20,
   "metadata": {},
   "outputs": [
    {
     "name": "stdout",
     "output_type": "stream",
     "text": [
      "Persona:[nombre:NN]\n"
     ]
    }
   ],
   "source": [
    "print(persona1)"
   ]
  },
  {
   "cell_type": "code",
   "execution_count": 21,
   "metadata": {},
   "outputs": [
    {
     "data": {
      "text/plain": [
       "Persona:[nombre:NN]"
      ]
     },
     "execution_count": 21,
     "metadata": {},
     "output_type": "execute_result"
    }
   ],
   "source": [
    "persona1"
   ]
  },
  {
   "cell_type": "markdown",
   "metadata": {},
   "source": [
    "La idea clave detras de la aproximacion de Python a la OOP es que los atributos de una clase son públicos, no privados (como en otros lenguajes como C++ y Java). Por ejemplo, si en la clase Persona el atributo *nombre* fuese privado, sería necesario definir un *setter* para poder asignar un valor al atributo nombre, asi como un *getter* para obtener el valor actual del atributo nombre.\n",
    "\n",
    "    p1 = Persona()\n",
    "    p1.set_nombre('Alan')\n",
    "    p1.get_nombre()\n",
    "    \n",
    "Sin embargo, resulta redundante contar con *setters* y *getters* cuando se puede acceder directamente a los atributos para leer y editar su contenido.\n",
    "\n",
    "    p1 = Persona()\n",
    "    p1.nombre = 'Alan'\n",
    "    p1.nombre\n",
    "    \n",
    "De esta forma, podriamos asigar directamente el valor 'Alan' al atributo nombre del objeto p1 clase Persona y luego podriamos llamar directamente al atributo para ver su valor.\n",
    "\n",
    "Esta aproximacion obedece a la filosofia de Python de mantener el código sencillo y legible, sin perder las ventajas de la OOP."
   ]
  },
  {
   "cell_type": "markdown",
   "metadata": {},
   "source": [
    "### Integrando todo en la clase Persona\n",
    "Termine la clase Persona con los siguientes atributos de una persona:\n",
    "\n",
    "* nombre (str)\n",
    "* telefono (str)\n",
    "* email (str)"
   ]
  },
  {
   "cell_type": "code",
   "execution_count": 41,
   "metadata": {},
   "outputs": [],
   "source": [
    "#Definiendo completamente la clase Persona con todos los atributos públicos\n",
    "#necesarios.\n",
    "\n",
    "class Persona:\n",
    "    def __init__(self):\n",
    "        self.nombre=\"NN\"\n",
    "        self.telefono=\"000-000-000\"\n",
    "        self.email=\" \"\n",
    "           \n",
    "    def __repr__(self):\n",
    "        return \"Persona:[nombre:{},telefono:{},email:{}]\".format(\n",
    "                self.nombre,self.telefono,self.email)"
   ]
  },
  {
   "cell_type": "code",
   "execution_count": 25,
   "metadata": {
    "scrolled": true
   },
   "outputs": [
    {
     "name": "stdout",
     "output_type": "stream",
     "text": [
      "Persona:[nombre:NN,telefono:000-000-000,email: ]\n",
      "Juan\n",
      "955-678-333\n",
      "juan@hotmail.com\n",
      "Persona:[nombre:Juan,telefono:955-678-333,email:juan@hotmail.com]\n"
     ]
    }
   ],
   "source": [
    "#Instanciamiento de un objeto de la clase Persona:\n",
    "p1 = Persona()\n",
    "print(p1)\n",
    "p1.nombre= \"Juan\"\n",
    "p1.telefono = \"955-678-333\"\n",
    "p1.email = \"juan@hotmail.com\"\n",
    "print(p1.nombre)\n",
    "print(p1.telefono)\n",
    "print(p1.email)\n",
    "print(p1)"
   ]
  },
  {
   "cell_type": "markdown",
   "metadata": {},
   "source": [
    "Pero ahora, considere el siguiente código:"
   ]
  },
  {
   "cell_type": "code",
   "execution_count": 29,
   "metadata": {},
   "outputs": [
    {
     "name": "stdout",
     "output_type": "stream",
     "text": [
      "12345\n",
      "3.45\n",
      "[4, 5, 6]\n"
     ]
    }
   ],
   "source": [
    "p1.nombre = 12345\n",
    "print(p1.nombre)\n",
    "\n",
    "p1.telefono = 3.45\n",
    "print(p1.telefono)\n",
    "\n",
    "p1.email = [4,5,6]\n",
    "print(p1.email)"
   ]
  },
  {
   "cell_type": "markdown",
   "metadata": {},
   "source": [
    "Como se observa en el ejemplo anterior, no tenemos un control sobre el tipo de dato a asignar a los atributos"
   ]
  },
  {
   "cell_type": "markdown",
   "metadata": {},
   "source": [
    "Este control se logra utilizando una construccion especial en Python llamada *Decorador*. La definicion de un Decorador es la de ser una función que toma otra funcion y extiende su funcionalidad sin hacerlo de forma explicita (?). Si, suena confuso...\n",
    "\n",
    "El estudio de un decorador escapa al alcance de este tema, pero podemos aprender el método de como utilizar los decoradores para establecer el control sobre lo que se le pueda asignar a los atributos.\n",
    "\n",
    "Empecemos redefiniendo la clase de tal forma que se puedan pasar los atributos de esta como si fueran argumentos."
   ]
  },
  {
   "cell_type": "code",
   "execution_count": 30,
   "metadata": {},
   "outputs": [],
   "source": [
    "class Persona:\n",
    "    \n",
    "    def __init__(self,nombre='',telefono='',email=''):\n",
    "        self.nombre=nombre\n",
    "        self.telefono=telefono\n",
    "        self.email=email\n",
    "        \n",
    "    def __repr__(self):\n",
    "        return \"Persona[nombre={},telefono={},email={}]\".format(\n",
    "                self.nombre,self.telefono,self.email)    "
   ]
  },
  {
   "cell_type": "code",
   "execution_count": 31,
   "metadata": {},
   "outputs": [
    {
     "name": "stdout",
     "output_type": "stream",
     "text": [
      "Persona[nombre=Ana,telefono=987-555-345,email=ana4@yahoo.es]\n"
     ]
    }
   ],
   "source": [
    "p1 = Persona(\"Ana\",\"987-555-345\",\"ana4@yahoo.es\")\n",
    "print(p1)"
   ]
  },
  {
   "cell_type": "markdown",
   "metadata": {},
   "source": [
    "Ahora, vamos a agregarle los decoradores para el control de los atributos:"
   ]
  },
  {
   "cell_type": "code",
   "execution_count": 32,
   "metadata": {},
   "outputs": [],
   "source": [
    "class Persona:\n",
    "    \n",
    "    def __init__(self,nombre='',telefono='',email=''):\n",
    "        self.nombre=nombre\n",
    "        self.telefono=telefono\n",
    "        self.email=email\n",
    "        \n",
    "    def __repr__(self):\n",
    "        return \"Persona[nombre={},telefono={},email={}]\".format(\n",
    "                self.nombre,self.telefono,self.email)  \n",
    "    \n",
    "    @property   \n",
    "    def nombre(self):\n",
    "        return self.__nombre\n",
    "    \n",
    "    @property \n",
    "    def telefono(self):\n",
    "        return self.__telefono\n",
    "    \n",
    "    @property\n",
    "    def email(self):\n",
    "        return self.__email\n",
    "    \n",
    "    @nombre.setter   \n",
    "    def nombre(self,val):\n",
    "        if isinstance(val,str):\n",
    "            self.__nombre = val\n",
    "        else:\n",
    "            raise TypeError(\"El atributo 'nombre' debe ser 'str'\")\n",
    "            \n",
    "    @telefono.setter\n",
    "    def telefono(self,val):\n",
    "        if isinstance(val,str):\n",
    "            self.__telefono = val\n",
    "        else:\n",
    "            raise TypeError(\"El atributo 'telefono' debe ser 'str'\")\n",
    "            \n",
    "    @email.setter\n",
    "    def email(self,val):\n",
    "        if isinstance(val,str):\n",
    "            self.__email = val\n",
    "        else:\n",
    "            raise TypeError(\"El atributo 'email' debe ser 'str'\")"
   ]
  },
  {
   "cell_type": "markdown",
   "metadata": {},
   "source": [
    "Observe con cuidado el codigo anterior. Tenga en consideracion que `self.nombre` inicialmente era un atributo de la clase `Persona` que almacenaba el nombre de la persona, pero ahora hay dos métodos llamados nombre, por lo que esta vez la especificación `self.nombre` hace referencia a los metodos nombre. ¿Pero a cual?\n",
    "\n",
    "Dependera del decorador asociado. Los decoradores son esas lineas que tienen una \"@\" al inicio.\n",
    "\n",
    "* `@property` especifica que la siguiente funcion obtiene una propiedad asociada al nombre de la funcion, es decir la propiedad nombre. Es el getter de la propiedad nombre.\n",
    "* `@nombre.setter` especifica que la siguiente funcion es la que asigna un valor a la propiedad. Es el setter de la propiedad nombre.\n",
    "\n",
    "Note que ambas funciones utilizan la sintaxis privada de las atributos (self.__nombre). Esto significa que al momento de asignar y leer el atributo nombre de la clase Persona este es privado.\n",
    "\n",
    "Asi que, hay un conjunto de reglas que hay que seguir para escribir una clase en Python correctamente y sin errores:\n",
    "\n",
    "1. Definir la clase donde los atributos se designan de la forma self.nombreDelAtributo = valor, donde los valores se pasan como argumentos y todo se escribe con el formato publico.\n",
    "2. Se define una funcion con el nombreDelAtributo bajo el decorador @property. Esta funcion debe de realizar las acciones de un getter, con el atributo en formato privado (self.__nombreDelAtributo).\n",
    "3. Se define una funcion con el nombreDelAtributo bajo el decorador @nombreDelAtributo.setter. Esta funion debe de realizar las acciones de un setter, con el atributo en formato privado (self.__nombreDelAtributo). "
   ]
  },
  {
   "cell_type": "code",
   "execution_count": 33,
   "metadata": {},
   "outputs": [
    {
     "ename": "TypeError",
     "evalue": "El atributo 'email' debe ser 'str'",
     "output_type": "error",
     "traceback": [
      "\u001b[1;31m---------------------------------------------------------------------------\u001b[0m",
      "\u001b[1;31mTypeError\u001b[0m                                 Traceback (most recent call last)",
      "\u001b[1;32m~\\AppData\\Local\\Temp/ipykernel_7064/2812204607.py\u001b[0m in \u001b[0;36m<module>\u001b[1;34m\u001b[0m\n\u001b[0;32m      1\u001b[0m \u001b[1;31m#saldrá error en el email:\u001b[0m\u001b[1;33m\u001b[0m\u001b[1;33m\u001b[0m\u001b[0m\n\u001b[1;32m----> 2\u001b[1;33m \u001b[0mp1\u001b[0m \u001b[1;33m=\u001b[0m \u001b[0mPersona\u001b[0m\u001b[1;33m(\u001b[0m\u001b[1;34m\"juan\"\u001b[0m\u001b[1;33m,\u001b[0m\u001b[1;34m\"999-555-666\"\u001b[0m\u001b[1;33m,\u001b[0m\u001b[1;36m12.4\u001b[0m\u001b[1;33m)\u001b[0m\u001b[1;33m\u001b[0m\u001b[1;33m\u001b[0m\u001b[0m\n\u001b[0m",
      "\u001b[1;32m~\\AppData\\Local\\Temp/ipykernel_7064/3712241184.py\u001b[0m in \u001b[0;36m__init__\u001b[1;34m(self, nombre, telefono, email)\u001b[0m\n\u001b[0;32m      4\u001b[0m         \u001b[0mself\u001b[0m\u001b[1;33m.\u001b[0m\u001b[0mnombre\u001b[0m\u001b[1;33m=\u001b[0m\u001b[0mnombre\u001b[0m\u001b[1;33m\u001b[0m\u001b[1;33m\u001b[0m\u001b[0m\n\u001b[0;32m      5\u001b[0m         \u001b[0mself\u001b[0m\u001b[1;33m.\u001b[0m\u001b[0mtelefono\u001b[0m\u001b[1;33m=\u001b[0m\u001b[0mtelefono\u001b[0m\u001b[1;33m\u001b[0m\u001b[1;33m\u001b[0m\u001b[0m\n\u001b[1;32m----> 6\u001b[1;33m         \u001b[0mself\u001b[0m\u001b[1;33m.\u001b[0m\u001b[0memail\u001b[0m\u001b[1;33m=\u001b[0m\u001b[0memail\u001b[0m\u001b[1;33m\u001b[0m\u001b[1;33m\u001b[0m\u001b[0m\n\u001b[0m\u001b[0;32m      7\u001b[0m \u001b[1;33m\u001b[0m\u001b[0m\n\u001b[0;32m      8\u001b[0m     \u001b[1;32mdef\u001b[0m \u001b[0m__repr__\u001b[0m\u001b[1;33m(\u001b[0m\u001b[0mself\u001b[0m\u001b[1;33m)\u001b[0m\u001b[1;33m:\u001b[0m\u001b[1;33m\u001b[0m\u001b[1;33m\u001b[0m\u001b[0m\n",
      "\u001b[1;32m~\\AppData\\Local\\Temp/ipykernel_7064/3712241184.py\u001b[0m in \u001b[0;36memail\u001b[1;34m(self, val)\u001b[0m\n\u001b[0;32m     41\u001b[0m             \u001b[0mself\u001b[0m\u001b[1;33m.\u001b[0m\u001b[0m__email\u001b[0m \u001b[1;33m=\u001b[0m \u001b[0mval\u001b[0m\u001b[1;33m\u001b[0m\u001b[1;33m\u001b[0m\u001b[0m\n\u001b[0;32m     42\u001b[0m         \u001b[1;32melse\u001b[0m\u001b[1;33m:\u001b[0m\u001b[1;33m\u001b[0m\u001b[1;33m\u001b[0m\u001b[0m\n\u001b[1;32m---> 43\u001b[1;33m             \u001b[1;32mraise\u001b[0m \u001b[0mTypeError\u001b[0m\u001b[1;33m(\u001b[0m\u001b[1;34m\"El atributo 'email' debe ser 'str'\"\u001b[0m\u001b[1;33m)\u001b[0m\u001b[1;33m\u001b[0m\u001b[1;33m\u001b[0m\u001b[0m\n\u001b[0m",
      "\u001b[1;31mTypeError\u001b[0m: El atributo 'email' debe ser 'str'"
     ]
    }
   ],
   "source": [
    "#saldrá error en el email:\n",
    "p1 = Persona(\"juan\",\"999-555-666\",12.4)  "
   ]
  },
  {
   "cell_type": "code",
   "execution_count": 34,
   "metadata": {},
   "outputs": [
    {
     "ename": "TypeError",
     "evalue": "El atributo 'nombre' debe ser 'str'",
     "output_type": "error",
     "traceback": [
      "\u001b[1;31m---------------------------------------------------------------------------\u001b[0m",
      "\u001b[1;31mTypeError\u001b[0m                                 Traceback (most recent call last)",
      "\u001b[1;32m~\\AppData\\Local\\Temp/ipykernel_7064/641305685.py\u001b[0m in \u001b[0;36m<module>\u001b[1;34m\u001b[0m\n\u001b[0;32m      1\u001b[0m \u001b[0mp1\u001b[0m \u001b[1;33m=\u001b[0m \u001b[0mPersona\u001b[0m\u001b[1;33m(\u001b[0m\u001b[1;34m\"juan\"\u001b[0m\u001b[1;33m,\u001b[0m\u001b[1;34m\"456-890-456\"\u001b[0m\u001b[1;33m,\u001b[0m\u001b[1;34m\"juan@hotmail.com\"\u001b[0m\u001b[1;33m)\u001b[0m\u001b[1;33m\u001b[0m\u001b[1;33m\u001b[0m\u001b[0m\n\u001b[0;32m      2\u001b[0m \u001b[1;31m#saldrá error en el nombre\u001b[0m\u001b[1;33m\u001b[0m\u001b[1;33m\u001b[0m\u001b[0m\n\u001b[1;32m----> 3\u001b[1;33m \u001b[0mp1\u001b[0m\u001b[1;33m.\u001b[0m\u001b[0mnombre\u001b[0m \u001b[1;33m=\u001b[0m \u001b[1;36m12345\u001b[0m\u001b[1;33m\u001b[0m\u001b[1;33m\u001b[0m\u001b[0m\n\u001b[0m",
      "\u001b[1;32m~\\AppData\\Local\\Temp/ipykernel_7064/3712241184.py\u001b[0m in \u001b[0;36mnombre\u001b[1;34m(self, val)\u001b[0m\n\u001b[0;32m     27\u001b[0m             \u001b[0mself\u001b[0m\u001b[1;33m.\u001b[0m\u001b[0m__nombre\u001b[0m \u001b[1;33m=\u001b[0m \u001b[0mval\u001b[0m\u001b[1;33m\u001b[0m\u001b[1;33m\u001b[0m\u001b[0m\n\u001b[0;32m     28\u001b[0m         \u001b[1;32melse\u001b[0m\u001b[1;33m:\u001b[0m\u001b[1;33m\u001b[0m\u001b[1;33m\u001b[0m\u001b[0m\n\u001b[1;32m---> 29\u001b[1;33m             \u001b[1;32mraise\u001b[0m \u001b[0mTypeError\u001b[0m\u001b[1;33m(\u001b[0m\u001b[1;34m\"El atributo 'nombre' debe ser 'str'\"\u001b[0m\u001b[1;33m)\u001b[0m\u001b[1;33m\u001b[0m\u001b[1;33m\u001b[0m\u001b[0m\n\u001b[0m\u001b[0;32m     30\u001b[0m \u001b[1;33m\u001b[0m\u001b[0m\n\u001b[0;32m     31\u001b[0m     \u001b[1;33m@\u001b[0m\u001b[0mtelefono\u001b[0m\u001b[1;33m.\u001b[0m\u001b[0msetter\u001b[0m\u001b[1;33m\u001b[0m\u001b[1;33m\u001b[0m\u001b[0m\n",
      "\u001b[1;31mTypeError\u001b[0m: El atributo 'nombre' debe ser 'str'"
     ]
    }
   ],
   "source": [
    "p1 = Persona(\"juan\",\"456-890-456\",\"juan@hotmail.com\")  \n",
    "#saldrá error en el nombre\n",
    "p1.nombre = 12345"
   ]
  },
  {
   "cell_type": "code",
   "execution_count": 35,
   "metadata": {},
   "outputs": [
    {
     "name": "stdout",
     "output_type": "stream",
     "text": [
      "Persona[nombre=juan,telefono=456-890-456,email=juan@hotmail.com]\n",
      "juan\n"
     ]
    }
   ],
   "source": [
    "p1 = Persona(\"juan\",\"456-890-456\",\"juan@hotmail.com\")\n",
    "print(p1)\n",
    "print(p1.nombre)  "
   ]
  },
  {
   "cell_type": "markdown",
   "metadata": {},
   "source": [
    "## Más métodos mágicos\n",
    "Existen métodos mágicos adicionales que son los responsables de las operaciones aritméticas entre los objetos:\n",
    "\n",
    "* `__add__(self, other)` : +\n",
    "* `__sub__(self, other)` : -\n",
    "* `__mul__(self, other)` : *\n",
    "* `__div__(self, other)` : /\n",
    "* `__floordiv__(self, other)` : //\n",
    "\n",
    "O entre las operaciones de relación:\n",
    "\n",
    "* `__eq__(self, other)`: ==\n",
    "* `__ne__(self, other)`: !=\n",
    "* `__lt__(self, other)`: <\n",
    "* `__gt__(self, other)`: >\n",
    "* `__le__(self, other)`: <=\n",
    "* `__ge__(self, other)`: >=\n",
    "\n",
    "Y otros muchos mas ([en este enlace](https://rszalski.github.io/magicmethods/) hay una descripción mas completa de estos métodos especiales). Pero estos se pueden ver con detalle cuando se inspecciona un objeto. ¿Recuerda los métodos que iniciaban con `__` a momento de realizar la instrucción `dir()`? ¿Se pueden sumar dos objetos clase `set`? ¿Y dos `list`? ¿Y los `str`?"
   ]
  },
  {
   "cell_type": "code",
   "execution_count": 36,
   "metadata": {},
   "outputs": [
    {
     "data": {
      "text/plain": [
       "['__abs__',\n",
       " '__add__',\n",
       " '__and__',\n",
       " '__bool__',\n",
       " '__ceil__',\n",
       " '__class__',\n",
       " '__delattr__',\n",
       " '__dir__',\n",
       " '__divmod__',\n",
       " '__doc__',\n",
       " '__eq__',\n",
       " '__float__',\n",
       " '__floor__',\n",
       " '__floordiv__',\n",
       " '__format__',\n",
       " '__ge__',\n",
       " '__getattribute__',\n",
       " '__getnewargs__',\n",
       " '__gt__',\n",
       " '__hash__',\n",
       " '__index__',\n",
       " '__init__',\n",
       " '__init_subclass__',\n",
       " '__int__',\n",
       " '__invert__',\n",
       " '__le__',\n",
       " '__lshift__',\n",
       " '__lt__',\n",
       " '__mod__',\n",
       " '__mul__',\n",
       " '__ne__',\n",
       " '__neg__',\n",
       " '__new__',\n",
       " '__or__',\n",
       " '__pos__',\n",
       " '__pow__',\n",
       " '__radd__',\n",
       " '__rand__',\n",
       " '__rdivmod__',\n",
       " '__reduce__',\n",
       " '__reduce_ex__',\n",
       " '__repr__',\n",
       " '__rfloordiv__',\n",
       " '__rlshift__',\n",
       " '__rmod__',\n",
       " '__rmul__',\n",
       " '__ror__',\n",
       " '__round__',\n",
       " '__rpow__',\n",
       " '__rrshift__',\n",
       " '__rshift__',\n",
       " '__rsub__',\n",
       " '__rtruediv__',\n",
       " '__rxor__',\n",
       " '__setattr__',\n",
       " '__sizeof__',\n",
       " '__str__',\n",
       " '__sub__',\n",
       " '__subclasshook__',\n",
       " '__truediv__',\n",
       " '__trunc__',\n",
       " '__xor__',\n",
       " 'as_integer_ratio',\n",
       " 'bit_length',\n",
       " 'conjugate',\n",
       " 'denominator',\n",
       " 'from_bytes',\n",
       " 'imag',\n",
       " 'numerator',\n",
       " 'real',\n",
       " 'to_bytes']"
      ]
     },
     "execution_count": 36,
     "metadata": {},
     "output_type": "execute_result"
    }
   ],
   "source": [
    "#veamos los métodos de la clase int\n",
    "dir(int)"
   ]
  },
  {
   "cell_type": "code",
   "execution_count": 37,
   "metadata": {
    "scrolled": false
   },
   "outputs": [
    {
     "data": {
      "text/plain": [
       "['__add__',\n",
       " '__class__',\n",
       " '__contains__',\n",
       " '__delattr__',\n",
       " '__dir__',\n",
       " '__doc__',\n",
       " '__eq__',\n",
       " '__format__',\n",
       " '__ge__',\n",
       " '__getattribute__',\n",
       " '__getitem__',\n",
       " '__getnewargs__',\n",
       " '__gt__',\n",
       " '__hash__',\n",
       " '__init__',\n",
       " '__init_subclass__',\n",
       " '__iter__',\n",
       " '__le__',\n",
       " '__len__',\n",
       " '__lt__',\n",
       " '__mod__',\n",
       " '__mul__',\n",
       " '__ne__',\n",
       " '__new__',\n",
       " '__reduce__',\n",
       " '__reduce_ex__',\n",
       " '__repr__',\n",
       " '__rmod__',\n",
       " '__rmul__',\n",
       " '__setattr__',\n",
       " '__sizeof__',\n",
       " '__str__',\n",
       " '__subclasshook__',\n",
       " 'capitalize',\n",
       " 'casefold',\n",
       " 'center',\n",
       " 'count',\n",
       " 'encode',\n",
       " 'endswith',\n",
       " 'expandtabs',\n",
       " 'find',\n",
       " 'format',\n",
       " 'format_map',\n",
       " 'index',\n",
       " 'isalnum',\n",
       " 'isalpha',\n",
       " 'isascii',\n",
       " 'isdecimal',\n",
       " 'isdigit',\n",
       " 'isidentifier',\n",
       " 'islower',\n",
       " 'isnumeric',\n",
       " 'isprintable',\n",
       " 'isspace',\n",
       " 'istitle',\n",
       " 'isupper',\n",
       " 'join',\n",
       " 'ljust',\n",
       " 'lower',\n",
       " 'lstrip',\n",
       " 'maketrans',\n",
       " 'partition',\n",
       " 'removeprefix',\n",
       " 'removesuffix',\n",
       " 'replace',\n",
       " 'rfind',\n",
       " 'rindex',\n",
       " 'rjust',\n",
       " 'rpartition',\n",
       " 'rsplit',\n",
       " 'rstrip',\n",
       " 'split',\n",
       " 'splitlines',\n",
       " 'startswith',\n",
       " 'strip',\n",
       " 'swapcase',\n",
       " 'title',\n",
       " 'translate',\n",
       " 'upper',\n",
       " 'zfill']"
      ]
     },
     "execution_count": 37,
     "metadata": {},
     "output_type": "execute_result"
    }
   ],
   "source": [
    "#veamos los métodos de la clase str\n",
    "dir(str)"
   ]
  },
  {
   "cell_type": "code",
   "execution_count": 38,
   "metadata": {},
   "outputs": [
    {
     "data": {
      "text/plain": [
       "['__add__',\n",
       " '__class__',\n",
       " '__class_getitem__',\n",
       " '__contains__',\n",
       " '__delattr__',\n",
       " '__delitem__',\n",
       " '__dir__',\n",
       " '__doc__',\n",
       " '__eq__',\n",
       " '__format__',\n",
       " '__ge__',\n",
       " '__getattribute__',\n",
       " '__getitem__',\n",
       " '__gt__',\n",
       " '__hash__',\n",
       " '__iadd__',\n",
       " '__imul__',\n",
       " '__init__',\n",
       " '__init_subclass__',\n",
       " '__iter__',\n",
       " '__le__',\n",
       " '__len__',\n",
       " '__lt__',\n",
       " '__mul__',\n",
       " '__ne__',\n",
       " '__new__',\n",
       " '__reduce__',\n",
       " '__reduce_ex__',\n",
       " '__repr__',\n",
       " '__reversed__',\n",
       " '__rmul__',\n",
       " '__setattr__',\n",
       " '__setitem__',\n",
       " '__sizeof__',\n",
       " '__str__',\n",
       " '__subclasshook__',\n",
       " 'append',\n",
       " 'clear',\n",
       " 'copy',\n",
       " 'count',\n",
       " 'extend',\n",
       " 'index',\n",
       " 'insert',\n",
       " 'pop',\n",
       " 'remove',\n",
       " 'reverse',\n",
       " 'sort']"
      ]
     },
     "execution_count": 38,
     "metadata": {},
     "output_type": "execute_result"
    }
   ],
   "source": [
    "#veamos los métodos de la clase list:\n",
    "dir(list)"
   ]
  },
  {
   "cell_type": "markdown",
   "metadata": {},
   "source": [
    "Observara que uno de los primeros métodos disponibles en los tres casos es \"\\__add\\__\". Estos caracteres \"\\__\" al principio especifican que es un *método privado* (método mágico), es decir, una acción sobre la que no se tiene acceso directo sino a través de algun mecanismo. Esta función es la encargada de resolver la suma de enteros, listas y strings; y como se sabe, hacen cosas muy diferentes: en el caso de enteros se suman los valores y en el caso de listas y strings se concatenan los elementos de ambas listas en una sola. Esto es un ejemplo de *sobrecarga*, es decir, dos métodos son el mismo nombre que realizan diferentes acciones porque estan asociados a diferentes clases."
   ]
  },
  {
   "cell_type": "markdown",
   "metadata": {},
   "source": [
    "Con estas ideas, definamos la clase Resistencia:"
   ]
  },
  {
   "cell_type": "code",
   "execution_count": 42,
   "metadata": {},
   "outputs": [],
   "source": [
    "class Resistencia:\n",
    "    \n",
    "    def __init__(self,valor=1):\n",
    "        self.valor=valor\n",
    "                \n",
    "    def __add__(self,other):\n",
    "         return Resistencia(self.valor + other.valor)\n",
    "    \n",
    "    def __repr__(self):\n",
    "        return \"Resistencia: Val={:.4f} Ohms\".format(self.valor)\n",
    "    \n",
    "    def __floordiv__(self, other):\n",
    "        return Resistencia(self.valor*other.valor/(self.valor+other.valor))"
   ]
  },
  {
   "cell_type": "code",
   "execution_count": 43,
   "metadata": {},
   "outputs": [
    {
     "name": "stdout",
     "output_type": "stream",
     "text": [
      "Resistencia: Val=320.0000 Ohms\n",
      "Resistencia: Val=68.7500 Ohms\n",
      "Resistencia: Val=288.7500 Ohms\n"
     ]
    }
   ],
   "source": [
    "r1 = Resistencia(100)\n",
    "r2 = Resistencia(220)\n",
    "\n",
    "print(r1+r2)\n",
    "print(r1//r2)\n",
    "print(r1//r2 + r2)"
   ]
  },
  {
   "cell_type": "markdown",
   "metadata": {},
   "source": [
    "**Conclusión importante:**\n",
    "\n",
    "La ventaja de la OOP es la capacidad de encerrar en una estructura de código un conjunto de funciones que pueden reutilizarse sin tener en consideración como fueron implementadas. \n",
    "\n",
    "La mala noticia es que, por razones teóricas, la terminología que acompaña a la OOP es oscura y compleja. Las buenas noticias es que ya a estas alturas, todos saben manipular objetos..."
   ]
  },
  {
   "cell_type": "code",
   "execution_count": null,
   "metadata": {},
   "outputs": [],
   "source": []
  }
 ],
 "metadata": {
  "kernelspec": {
   "display_name": "Python 3 (ipykernel)",
   "language": "python",
   "name": "python3"
  },
  "language_info": {
   "codemirror_mode": {
    "name": "ipython",
    "version": 3
   },
   "file_extension": ".py",
   "mimetype": "text/x-python",
   "name": "python",
   "nbconvert_exporter": "python",
   "pygments_lexer": "ipython3",
   "version": "3.9.12"
  }
 },
 "nbformat": 4,
 "nbformat_minor": 4
}
